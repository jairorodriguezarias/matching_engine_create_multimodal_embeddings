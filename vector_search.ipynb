{
  "cells": [
    {
      "cell_type": "markdown",
      "metadata": {
        "id": "view-in-github",
        "colab_type": "text"
      },
      "source": [
        "<a href=\"https://colab.research.google.com/github/jairorodriguezarias/matching_engine_create_multimodal_embeddings/blob/main/vector_search.ipynb\" target=\"_parent\"><img src=\"https://colab.research.google.com/assets/colab-badge.svg\" alt=\"Open In Colab\"/></a>"
      ]
    },
    {
      "cell_type": "markdown",
      "source": [
        "# Installation"
      ],
      "metadata": {
        "id": "upQmZ5OrTGV-"
      }
    },
    {
      "cell_type": "code",
      "source": [
        "\n",
        "\n",
        "# Install the packages\n",
        "! pip3 install --upgrade google-cloud-aiplatform \\\n",
        "                         google-cloud-storage\n",
        "\n",
        "! pip install google-cloud-vision\n"
      ],
      "metadata": {
        "colab": {
          "base_uri": "https://localhost:8080/",
          "height": 1000
        },
        "id": "rAklwT9sS5yO",
        "outputId": "5d66409d-71e7-44f4-9396-08808526cb9a"
      },
      "execution_count": 1,
      "outputs": [
        {
          "output_type": "stream",
          "name": "stdout",
          "text": [
            "Collecting google-cloud-aiplatform\n",
            "  Downloading google_cloud_aiplatform-1.35.0-py2.py3-none-any.whl (3.1 MB)\n",
            "\u001b[?25l     \u001b[90m━━━━━━━━━━━━━━━━━━━━━━━━━━━━━━━━━━━━━━━━\u001b[0m \u001b[32m0.0/3.1 MB\u001b[0m \u001b[31m?\u001b[0m eta \u001b[36m-:--:--\u001b[0m\r\u001b[2K     \u001b[91m━━\u001b[0m\u001b[91m╸\u001b[0m\u001b[90m━━━━━━━━━━━━━━━━━━━━━━━━━━━━━━━━━━━━━\u001b[0m \u001b[32m0.2/3.1 MB\u001b[0m \u001b[31m5.9 MB/s\u001b[0m eta \u001b[36m0:00:01\u001b[0m\r\u001b[2K     \u001b[91m━━━━━━━━━━━━━━━━━━━━━━━━━\u001b[0m\u001b[90m╺\u001b[0m\u001b[90m━━━━━━━━━━━━━━\u001b[0m \u001b[32m1.9/3.1 MB\u001b[0m \u001b[31m28.0 MB/s\u001b[0m eta \u001b[36m0:00:01\u001b[0m\r\u001b[2K     \u001b[90m━━━━━━━━━━━━━━━━━━━━━━━━━━━━━━━━━━━━━━━━\u001b[0m \u001b[32m3.1/3.1 MB\u001b[0m \u001b[31m33.6 MB/s\u001b[0m eta \u001b[36m0:00:00\u001b[0m\n",
            "\u001b[?25hRequirement already satisfied: google-cloud-storage in /usr/local/lib/python3.10/dist-packages (2.8.0)\n",
            "Collecting google-cloud-storage\n",
            "  Downloading google_cloud_storage-2.12.0-py2.py3-none-any.whl (120 kB)\n",
            "\u001b[2K     \u001b[90m━━━━━━━━━━━━━━━━━━━━━━━━━━━━━━━━━━━━━━━━\u001b[0m \u001b[32m120.5/120.5 kB\u001b[0m \u001b[31m15.1 MB/s\u001b[0m eta \u001b[36m0:00:00\u001b[0m\n",
            "\u001b[?25hRequirement already satisfied: google-api-core[grpc]!=2.0.*,!=2.1.*,!=2.2.*,!=2.3.*,!=2.4.*,!=2.5.*,!=2.6.*,!=2.7.*,<3.0.0dev,>=1.32.0 in /usr/local/lib/python3.10/dist-packages (from google-cloud-aiplatform) (2.11.1)\n",
            "Requirement already satisfied: proto-plus<2.0.0dev,>=1.22.0 in /usr/local/lib/python3.10/dist-packages (from google-cloud-aiplatform) (1.22.3)\n",
            "Requirement already satisfied: protobuf!=3.20.0,!=3.20.1,!=4.21.0,!=4.21.1,!=4.21.2,!=4.21.3,!=4.21.4,!=4.21.5,<5.0.0dev,>=3.19.5 in /usr/local/lib/python3.10/dist-packages (from google-cloud-aiplatform) (3.20.3)\n",
            "Requirement already satisfied: packaging>=14.3 in /usr/local/lib/python3.10/dist-packages (from google-cloud-aiplatform) (23.2)\n",
            "Requirement already satisfied: google-cloud-bigquery<4.0.0dev,>=1.15.0 in /usr/local/lib/python3.10/dist-packages (from google-cloud-aiplatform) (3.10.0)\n",
            "Collecting google-cloud-resource-manager<3.0.0dev,>=1.3.3 (from google-cloud-aiplatform)\n",
            "  Downloading google_cloud_resource_manager-1.10.4-py2.py3-none-any.whl (320 kB)\n",
            "\u001b[2K     \u001b[90m━━━━━━━━━━━━━━━━━━━━━━━━━━━━━━━━━━━━━━━━\u001b[0m \u001b[32m321.0/321.0 kB\u001b[0m \u001b[31m27.5 MB/s\u001b[0m eta \u001b[36m0:00:00\u001b[0m\n",
            "\u001b[?25hRequirement already satisfied: shapely<3.0.0dev in /usr/local/lib/python3.10/dist-packages (from google-cloud-aiplatform) (2.0.1)\n",
            "Collecting google-auth<3.0dev,>=2.23.3 (from google-cloud-storage)\n",
            "  Downloading google_auth-2.23.3-py2.py3-none-any.whl (182 kB)\n",
            "\u001b[2K     \u001b[90m━━━━━━━━━━━━━━━━━━━━━━━━━━━━━━━━━━━━━━━━\u001b[0m \u001b[32m182.3/182.3 kB\u001b[0m \u001b[31m20.3 MB/s\u001b[0m eta \u001b[36m0:00:00\u001b[0m\n",
            "\u001b[?25hRequirement already satisfied: google-cloud-core<3.0dev,>=2.3.0 in /usr/local/lib/python3.10/dist-packages (from google-cloud-storage) (2.3.3)\n",
            "Requirement already satisfied: google-resumable-media>=2.6.0 in /usr/local/lib/python3.10/dist-packages (from google-cloud-storage) (2.6.0)\n",
            "Requirement already satisfied: requests<3.0.0dev,>=2.18.0 in /usr/local/lib/python3.10/dist-packages (from google-cloud-storage) (2.31.0)\n",
            "Requirement already satisfied: google-crc32c<2.0dev,>=1.0 in /usr/local/lib/python3.10/dist-packages (from google-cloud-storage) (1.5.0)\n",
            "Requirement already satisfied: googleapis-common-protos<2.0.dev0,>=1.56.2 in /usr/local/lib/python3.10/dist-packages (from google-api-core[grpc]!=2.0.*,!=2.1.*,!=2.2.*,!=2.3.*,!=2.4.*,!=2.5.*,!=2.6.*,!=2.7.*,<3.0.0dev,>=1.32.0->google-cloud-aiplatform) (1.60.0)\n",
            "Requirement already satisfied: grpcio<2.0dev,>=1.33.2 in /usr/local/lib/python3.10/dist-packages (from google-api-core[grpc]!=2.0.*,!=2.1.*,!=2.2.*,!=2.3.*,!=2.4.*,!=2.5.*,!=2.6.*,!=2.7.*,<3.0.0dev,>=1.32.0->google-cloud-aiplatform) (1.59.0)\n",
            "Requirement already satisfied: grpcio-status<2.0.dev0,>=1.33.2 in /usr/local/lib/python3.10/dist-packages (from google-api-core[grpc]!=2.0.*,!=2.1.*,!=2.2.*,!=2.3.*,!=2.4.*,!=2.5.*,!=2.6.*,!=2.7.*,<3.0.0dev,>=1.32.0->google-cloud-aiplatform) (1.48.2)\n",
            "Requirement already satisfied: cachetools<6.0,>=2.0.0 in /usr/local/lib/python3.10/dist-packages (from google-auth<3.0dev,>=2.23.3->google-cloud-storage) (5.3.1)\n",
            "Requirement already satisfied: pyasn1-modules>=0.2.1 in /usr/local/lib/python3.10/dist-packages (from google-auth<3.0dev,>=2.23.3->google-cloud-storage) (0.3.0)\n",
            "Requirement already satisfied: rsa<5,>=3.1.4 in /usr/local/lib/python3.10/dist-packages (from google-auth<3.0dev,>=2.23.3->google-cloud-storage) (4.9)\n",
            "Requirement already satisfied: python-dateutil<3.0dev,>=2.7.2 in /usr/local/lib/python3.10/dist-packages (from google-cloud-bigquery<4.0.0dev,>=1.15.0->google-cloud-aiplatform) (2.8.2)\n",
            "Requirement already satisfied: grpc-google-iam-v1<1.0.0dev,>=0.12.4 in /usr/local/lib/python3.10/dist-packages (from google-cloud-resource-manager<3.0.0dev,>=1.3.3->google-cloud-aiplatform) (0.12.6)\n",
            "Requirement already satisfied: charset-normalizer<4,>=2 in /usr/local/lib/python3.10/dist-packages (from requests<3.0.0dev,>=2.18.0->google-cloud-storage) (3.3.0)\n",
            "Requirement already satisfied: idna<4,>=2.5 in /usr/local/lib/python3.10/dist-packages (from requests<3.0.0dev,>=2.18.0->google-cloud-storage) (3.4)\n",
            "Requirement already satisfied: urllib3<3,>=1.21.1 in /usr/local/lib/python3.10/dist-packages (from requests<3.0.0dev,>=2.18.0->google-cloud-storage) (2.0.6)\n",
            "Requirement already satisfied: certifi>=2017.4.17 in /usr/local/lib/python3.10/dist-packages (from requests<3.0.0dev,>=2.18.0->google-cloud-storage) (2023.7.22)\n",
            "Requirement already satisfied: numpy>=1.14 in /usr/local/lib/python3.10/dist-packages (from shapely<3.0.0dev->google-cloud-aiplatform) (1.23.5)\n",
            "Requirement already satisfied: pyasn1<0.6.0,>=0.4.6 in /usr/local/lib/python3.10/dist-packages (from pyasn1-modules>=0.2.1->google-auth<3.0dev,>=2.23.3->google-cloud-storage) (0.5.0)\n",
            "Requirement already satisfied: six>=1.5 in /usr/local/lib/python3.10/dist-packages (from python-dateutil<3.0dev,>=2.7.2->google-cloud-bigquery<4.0.0dev,>=1.15.0->google-cloud-aiplatform) (1.16.0)\n",
            "Installing collected packages: google-auth, google-cloud-storage, google-cloud-resource-manager, google-cloud-aiplatform\n",
            "  Attempting uninstall: google-auth\n",
            "    Found existing installation: google-auth 2.17.3\n",
            "    Uninstalling google-auth-2.17.3:\n",
            "      Successfully uninstalled google-auth-2.17.3\n",
            "  Attempting uninstall: google-cloud-storage\n",
            "    Found existing installation: google-cloud-storage 2.8.0\n",
            "    Uninstalling google-cloud-storage-2.8.0:\n",
            "      Successfully uninstalled google-cloud-storage-2.8.0\n",
            "\u001b[31mERROR: pip's dependency resolver does not currently take into account all the packages that are installed. This behaviour is the source of the following dependency conflicts.\n",
            "google-colab 1.0.0 requires google-auth==2.17.3, but you have google-auth 2.23.3 which is incompatible.\u001b[0m\u001b[31m\n",
            "\u001b[0mSuccessfully installed google-auth-2.23.3 google-cloud-aiplatform-1.35.0 google-cloud-resource-manager-1.10.4 google-cloud-storage-2.12.0\n"
          ]
        },
        {
          "output_type": "display_data",
          "data": {
            "application/vnd.colab-display-data+json": {
              "pip_warning": {
                "packages": [
                  "google"
                ]
              }
            }
          },
          "metadata": {}
        },
        {
          "output_type": "stream",
          "name": "stdout",
          "text": [
            "Collecting google-cloud-vision\n",
            "  Downloading google_cloud_vision-3.4.4-py2.py3-none-any.whl (444 kB)\n",
            "\u001b[?25l     \u001b[90m━━━━━━━━━━━━━━━━━━━━━━━━━━━━━━━━━━━━━━━━\u001b[0m \u001b[32m0.0/444.0 kB\u001b[0m \u001b[31m?\u001b[0m eta \u001b[36m-:--:--\u001b[0m\r\u001b[2K     \u001b[91m━━━━━━━━━━━━━━━━━━━━━━━\u001b[0m\u001b[90m╺\u001b[0m\u001b[90m━━━━━━━━━━━━━━━━\u001b[0m \u001b[32m256.0/444.0 kB\u001b[0m \u001b[31m7.5 MB/s\u001b[0m eta \u001b[36m0:00:01\u001b[0m\r\u001b[2K     \u001b[90m━━━━━━━━━━━━━━━━━━━━━━━━━━━━━━━━━━━━━━━━\u001b[0m \u001b[32m444.0/444.0 kB\u001b[0m \u001b[31m8.8 MB/s\u001b[0m eta \u001b[36m0:00:00\u001b[0m\n",
            "\u001b[?25hRequirement already satisfied: google-api-core[grpc]!=2.0.*,!=2.1.*,!=2.10.*,!=2.2.*,!=2.3.*,!=2.4.*,!=2.5.*,!=2.6.*,!=2.7.*,!=2.8.*,!=2.9.*,<3.0.0dev,>=1.34.0 in /usr/local/lib/python3.10/dist-packages (from google-cloud-vision) (2.11.1)\n",
            "Requirement already satisfied: proto-plus<2.0.0dev,>=1.22.0 in /usr/local/lib/python3.10/dist-packages (from google-cloud-vision) (1.22.3)\n",
            "Requirement already satisfied: protobuf!=3.20.0,!=3.20.1,!=4.21.0,!=4.21.1,!=4.21.2,!=4.21.3,!=4.21.4,!=4.21.5,<5.0.0dev,>=3.19.5 in /usr/local/lib/python3.10/dist-packages (from google-cloud-vision) (3.20.3)\n",
            "Requirement already satisfied: googleapis-common-protos<2.0.dev0,>=1.56.2 in /usr/local/lib/python3.10/dist-packages (from google-api-core[grpc]!=2.0.*,!=2.1.*,!=2.10.*,!=2.2.*,!=2.3.*,!=2.4.*,!=2.5.*,!=2.6.*,!=2.7.*,!=2.8.*,!=2.9.*,<3.0.0dev,>=1.34.0->google-cloud-vision) (1.60.0)\n",
            "Requirement already satisfied: google-auth<3.0.dev0,>=2.14.1 in /usr/local/lib/python3.10/dist-packages (from google-api-core[grpc]!=2.0.*,!=2.1.*,!=2.10.*,!=2.2.*,!=2.3.*,!=2.4.*,!=2.5.*,!=2.6.*,!=2.7.*,!=2.8.*,!=2.9.*,<3.0.0dev,>=1.34.0->google-cloud-vision) (2.23.3)\n",
            "Requirement already satisfied: requests<3.0.0.dev0,>=2.18.0 in /usr/local/lib/python3.10/dist-packages (from google-api-core[grpc]!=2.0.*,!=2.1.*,!=2.10.*,!=2.2.*,!=2.3.*,!=2.4.*,!=2.5.*,!=2.6.*,!=2.7.*,!=2.8.*,!=2.9.*,<3.0.0dev,>=1.34.0->google-cloud-vision) (2.31.0)\n",
            "Requirement already satisfied: grpcio<2.0dev,>=1.33.2 in /usr/local/lib/python3.10/dist-packages (from google-api-core[grpc]!=2.0.*,!=2.1.*,!=2.10.*,!=2.2.*,!=2.3.*,!=2.4.*,!=2.5.*,!=2.6.*,!=2.7.*,!=2.8.*,!=2.9.*,<3.0.0dev,>=1.34.0->google-cloud-vision) (1.59.0)\n",
            "Requirement already satisfied: grpcio-status<2.0.dev0,>=1.33.2 in /usr/local/lib/python3.10/dist-packages (from google-api-core[grpc]!=2.0.*,!=2.1.*,!=2.10.*,!=2.2.*,!=2.3.*,!=2.4.*,!=2.5.*,!=2.6.*,!=2.7.*,!=2.8.*,!=2.9.*,<3.0.0dev,>=1.34.0->google-cloud-vision) (1.48.2)\n",
            "Requirement already satisfied: cachetools<6.0,>=2.0.0 in /usr/local/lib/python3.10/dist-packages (from google-auth<3.0.dev0,>=2.14.1->google-api-core[grpc]!=2.0.*,!=2.1.*,!=2.10.*,!=2.2.*,!=2.3.*,!=2.4.*,!=2.5.*,!=2.6.*,!=2.7.*,!=2.8.*,!=2.9.*,<3.0.0dev,>=1.34.0->google-cloud-vision) (5.3.1)\n",
            "Requirement already satisfied: pyasn1-modules>=0.2.1 in /usr/local/lib/python3.10/dist-packages (from google-auth<3.0.dev0,>=2.14.1->google-api-core[grpc]!=2.0.*,!=2.1.*,!=2.10.*,!=2.2.*,!=2.3.*,!=2.4.*,!=2.5.*,!=2.6.*,!=2.7.*,!=2.8.*,!=2.9.*,<3.0.0dev,>=1.34.0->google-cloud-vision) (0.3.0)\n",
            "Requirement already satisfied: rsa<5,>=3.1.4 in /usr/local/lib/python3.10/dist-packages (from google-auth<3.0.dev0,>=2.14.1->google-api-core[grpc]!=2.0.*,!=2.1.*,!=2.10.*,!=2.2.*,!=2.3.*,!=2.4.*,!=2.5.*,!=2.6.*,!=2.7.*,!=2.8.*,!=2.9.*,<3.0.0dev,>=1.34.0->google-cloud-vision) (4.9)\n",
            "Requirement already satisfied: charset-normalizer<4,>=2 in /usr/local/lib/python3.10/dist-packages (from requests<3.0.0.dev0,>=2.18.0->google-api-core[grpc]!=2.0.*,!=2.1.*,!=2.10.*,!=2.2.*,!=2.3.*,!=2.4.*,!=2.5.*,!=2.6.*,!=2.7.*,!=2.8.*,!=2.9.*,<3.0.0dev,>=1.34.0->google-cloud-vision) (3.3.0)\n",
            "Requirement already satisfied: idna<4,>=2.5 in /usr/local/lib/python3.10/dist-packages (from requests<3.0.0.dev0,>=2.18.0->google-api-core[grpc]!=2.0.*,!=2.1.*,!=2.10.*,!=2.2.*,!=2.3.*,!=2.4.*,!=2.5.*,!=2.6.*,!=2.7.*,!=2.8.*,!=2.9.*,<3.0.0dev,>=1.34.0->google-cloud-vision) (3.4)\n",
            "Requirement already satisfied: urllib3<3,>=1.21.1 in /usr/local/lib/python3.10/dist-packages (from requests<3.0.0.dev0,>=2.18.0->google-api-core[grpc]!=2.0.*,!=2.1.*,!=2.10.*,!=2.2.*,!=2.3.*,!=2.4.*,!=2.5.*,!=2.6.*,!=2.7.*,!=2.8.*,!=2.9.*,<3.0.0dev,>=1.34.0->google-cloud-vision) (2.0.6)\n",
            "Requirement already satisfied: certifi>=2017.4.17 in /usr/local/lib/python3.10/dist-packages (from requests<3.0.0.dev0,>=2.18.0->google-api-core[grpc]!=2.0.*,!=2.1.*,!=2.10.*,!=2.2.*,!=2.3.*,!=2.4.*,!=2.5.*,!=2.6.*,!=2.7.*,!=2.8.*,!=2.9.*,<3.0.0dev,>=1.34.0->google-cloud-vision) (2023.7.22)\n",
            "Requirement already satisfied: pyasn1<0.6.0,>=0.4.6 in /usr/local/lib/python3.10/dist-packages (from pyasn1-modules>=0.2.1->google-auth<3.0.dev0,>=2.14.1->google-api-core[grpc]!=2.0.*,!=2.1.*,!=2.10.*,!=2.2.*,!=2.3.*,!=2.4.*,!=2.5.*,!=2.6.*,!=2.7.*,!=2.8.*,!=2.9.*,<3.0.0dev,>=1.34.0->google-cloud-vision) (0.5.0)\n",
            "Installing collected packages: google-cloud-vision\n",
            "Successfully installed google-cloud-vision-3.4.4\n"
          ]
        },
        {
          "output_type": "display_data",
          "data": {
            "application/vnd.colab-display-data+json": {
              "pip_warning": {
                "packages": [
                  "google"
                ]
              }
            }
          },
          "metadata": {}
        }
      ]
    },
    {
      "cell_type": "code",
      "source": [
        "import IPython\n",
        "\n",
        "app = IPython.Application.instance()\n",
        "app.kernel.do_shutdown(True)"
      ],
      "metadata": {
        "colab": {
          "base_uri": "https://localhost:8080/"
        },
        "id": "7QWHVhNGTC6n",
        "outputId": "02ba461a-971c-4130-cebd-d277ef344a55"
      },
      "execution_count": 2,
      "outputs": [
        {
          "output_type": "execute_result",
          "data": {
            "text/plain": [
              "{'status': 'ok', 'restart': True}"
            ]
          },
          "metadata": {},
          "execution_count": 2
        }
      ]
    },
    {
      "cell_type": "markdown",
      "source": [
        "# Configuration\n"
      ],
      "metadata": {
        "id": "ulszS9g8TNP1"
      }
    },
    {
      "cell_type": "code",
      "source": [
        "from google.colab import auth\n",
        "auth.authenticate_user()"
      ],
      "metadata": {
        "id": "E4iJnO7pUyZz"
      },
      "execution_count": null,
      "outputs": []
    },
    {
      "cell_type": "code",
      "source": [
        "PROJECT_ID = \"genai-387907\"  # @param {type:\"string\"}\n",
        "\n",
        "# Set the project id\n",
        "! gcloud config set project {PROJECT_ID}"
      ],
      "metadata": {
        "colab": {
          "base_uri": "https://localhost:8080/"
        },
        "id": "oEYfcaI2TMip",
        "outputId": "f34a81ac-e0d9-4828-b17b-b9df736b6c6e"
      },
      "execution_count": 12,
      "outputs": [
        {
          "output_type": "stream",
          "name": "stdout",
          "text": [
            "Updated property [core/project].\n"
          ]
        }
      ]
    },
    {
      "cell_type": "code",
      "source": [
        "REGION = \"us-central1\"  # @param {type: \"string\"}"
      ],
      "metadata": {
        "id": "SmqW9GLsTSoU"
      },
      "execution_count": 13,
      "outputs": []
    },
    {
      "cell_type": "markdown",
      "source": [
        "Cloud Storage"
      ],
      "metadata": {
        "id": "j4dgKsttTdN9"
      }
    },
    {
      "cell_type": "code",
      "source": [
        "BUCKET_NAME = \"vector_store\""
      ],
      "metadata": {
        "id": "PUyGPu9eTc0a"
      },
      "execution_count": 14,
      "outputs": []
    },
    {
      "cell_type": "code",
      "source": [
        "BUCKET_URI = f\"gs://{BUCKET_NAME}-{PROJECT_ID}-unique\"  # @param {type:\"string\"}"
      ],
      "metadata": {
        "id": "Ucn5CDfHTgiD"
      },
      "execution_count": 15,
      "outputs": []
    },
    {
      "cell_type": "code",
      "source": [
        "# Only if your bucket doesn't exist\n",
        "# ! gsutil mb -l {REGION} -p {PROJECT_ID} {BUCKET_URI}"
      ],
      "metadata": {
        "id": "UEhuvQt6TkMI"
      },
      "execution_count": null,
      "outputs": []
    },
    {
      "cell_type": "code",
      "source": [
        "# Download the file from a given Google Cloud Storage bucket.\n",
        "!gsutil cp gs://vector_store-genai-387907-unique/images/* ./images"
      ],
      "metadata": {
        "id": "4ivcQzLZUUOF",
        "outputId": "29e36179-b7e2-475f-a97f-339a7ea57995",
        "colab": {
          "base_uri": "https://localhost:8080/"
        }
      },
      "execution_count": 34,
      "outputs": [
        {
          "output_type": "stream",
          "name": "stdout",
          "text": [
            "Copying gs://vector_store-genai-387907-unique/images/0478630300_1_1_1.jpg...\n",
            "Copying gs://vector_store-genai-387907-unique/images/0485561712_6_1_1.jpg...\n",
            "Copying gs://vector_store-genai-387907-unique/images/1165680701_1_1_1.jpg...\n",
            "/ [3 files][  1.9 MiB/  1.9 MiB]                                                \n",
            "==> NOTE: You are performing a sequence of gsutil operations that may\n",
            "run significantly faster if you instead use gsutil -m cp ... Please\n",
            "see the -m section under \"gsutil help options\" for further information\n",
            "about when gsutil -m can be advantageous.\n",
            "\n",
            "Copying gs://vector_store-genai-387907-unique/images/1880531802_6_1_1.jpg...\n",
            "Copying gs://vector_store-genai-387907-unique/images/2308012712_1_1_1.jpg...\n",
            "Copying gs://vector_store-genai-387907-unique/images/2727206620_1_1_1.jpg...\n",
            "Copying gs://vector_store-genai-387907-unique/images/4365304406_6_1_1.jpg...\n",
            "Copying gs://vector_store-genai-387907-unique/images/8370728704_1_1_1 (1).jpg...\n",
            "Copying gs://vector_store-genai-387907-unique/images/8370728704_1_1_1.jpg...\n",
            "- [9 files][  5.6 MiB/  5.6 MiB]                                                \n",
            "Operation completed over 9 objects/5.6 MiB.                                      \n"
          ]
        }
      ]
    },
    {
      "cell_type": "code",
      "source": [
        "image_directory = \"/content/images\""
      ],
      "metadata": {
        "id": "oCNaDfFRY8rO"
      },
      "execution_count": 35,
      "outputs": []
    },
    {
      "cell_type": "markdown",
      "source": [
        "# Cloud Vision Embeddings"
      ],
      "metadata": {
        "id": "9cwhtvKqYNrE"
      }
    },
    {
      "cell_type": "code",
      "source": [
        "import os"
      ],
      "metadata": {
        "id": "eznikGKUU3rz"
      },
      "execution_count": 3,
      "outputs": []
    },
    {
      "cell_type": "code",
      "source": [
        "image_names = ['0478630300_1_1_1.jpg', '0485561712_6_1_1.jpg', '1165680701_1_1_1.jpg']\n",
        "\n",
        "image_paths = [os.path.join(image_directory, image_name) for image_name in image_names]\n",
        "\n",
        "print(image_paths)"
      ],
      "metadata": {
        "colab": {
          "base_uri": "https://localhost:8080/"
        },
        "id": "E-27SYJ-aYlC",
        "outputId": "573ea467-f558-4c97-c132-0d65d387c61c"
      },
      "execution_count": 25,
      "outputs": [
        {
          "output_type": "stream",
          "name": "stdout",
          "text": [
            "['/content/images/0478630300_1_1_1.jpg', '/content/images/0485561712_6_1_1.jpg', '/content/images/1165680701_1_1_1.jpg']\n"
          ]
        }
      ]
    },
    {
      "cell_type": "markdown",
      "source": [
        "Perform rate-limited explicit image detection"
      ],
      "metadata": {
        "id": "WYnW0p37YDBb"
      }
    },
    {
      "cell_type": "code",
      "source": [
        "\n",
        "import time\n",
        "from concurrent.futures import ThreadPoolExecutor\n",
        "from typing import Optional\n",
        "\n",
        "import numpy as np\n",
        "from tqdm import tqdm\n",
        "\n",
        "# Create a rate limiter with a limit of 1800 requests per minute\n",
        "seconds_per_job = 1 / (1800 / 60)\n",
        "\n",
        "\n",
        "def process_image(image_path: str) -> Optional[bool]:\n",
        "    try:\n",
        "        annotation = detect_safe_search(image_path)\n",
        "\n",
        "        if annotation:\n",
        "            return convert_annotation_to_safety(safe_search_annotation=annotation)\n",
        "        else:\n",
        "            return None\n",
        "    except Exception:\n",
        "        return None\n",
        "\n",
        "\n",
        "# Process images using ThreadPool\n",
        "is_safe_values_cloud_vision = []\n",
        "with ThreadPoolExecutor() as executor:\n",
        "    futures = []\n",
        "    for img_url in tqdm(image_paths, total=len(image_paths), position=0):\n",
        "        futures.append(executor.submit(process_image, img_url))\n",
        "        time.sleep(seconds_per_job)\n",
        "\n",
        "    for future in futures:\n",
        "        is_safe_values_cloud_vision.append(future.result())\n",
        "\n",
        "# Set Nones to False\n",
        "is_safe_values_cloud_vision = [\n",
        "    is_safe or False for is_safe in is_safe_values_cloud_vision\n",
        "]\n",
        "\n",
        "# Print number of safe images found\n",
        "print(\n",
        "    f\"Safe images = {np.array(is_safe_values_cloud_vision).sum()} out of {len(is_safe_values_cloud_vision)} images\"\n",
        ")"
      ],
      "metadata": {
        "colab": {
          "base_uri": "https://localhost:8080/"
        },
        "id": "azK1wjb4YxzC",
        "outputId": "026d6d3c-f038-4985-94a5-572678288f2f"
      },
      "execution_count": 36,
      "outputs": [
        {
          "output_type": "stream",
          "name": "stderr",
          "text": [
            "100%|██████████| 3/3 [00:00<00:00, 29.25it/s]"
          ]
        },
        {
          "output_type": "stream",
          "name": "stdout",
          "text": [
            "Safe images = 0 out of 3 images\n"
          ]
        },
        {
          "output_type": "stream",
          "name": "stderr",
          "text": [
            "\n"
          ]
        }
      ]
    },
    {
      "cell_type": "markdown",
      "source": [
        "Defining encoding functions\n"
      ],
      "metadata": {
        "id": "l3ln-xRqa-PX"
      }
    },
    {
      "cell_type": "code",
      "source": [
        "import base64\n",
        "import time\n",
        "import typing\n",
        "\n",
        "from google.cloud import aiplatform\n",
        "from google.protobuf import struct_pb2\n",
        "\n",
        "\n",
        "class EmbeddingResponse(typing.NamedTuple):\n",
        "    text_embedding: typing.Sequence[float]\n",
        "    image_embedding: typing.Sequence[float]\n",
        "\n",
        "\n",
        "def load_image_bytes(image_uri: str) -> bytes:\n",
        "    \"\"\"Load image bytes from a remote or local URI.\"\"\"\n",
        "    image_bytes = None\n",
        "    if image_uri.startswith(\"http://\") or image_uri.startswith(\"https://\"):\n",
        "        response = requests.get(image_uri, stream=True)\n",
        "        if response.status_code == 200:\n",
        "            image_bytes = response.content\n",
        "    else:\n",
        "        image_bytes = open(image_uri, \"rb\").read()\n",
        "    return image_bytes\n",
        "\n",
        "\n",
        "class EmbeddingPredictionClient:\n",
        "    \"\"\"Wrapper around Prediction Service Client.\"\"\"\n",
        "\n",
        "    def __init__(\n",
        "        self,\n",
        "        project: str,\n",
        "        location: str = \"us-central1\",\n",
        "        api_regional_endpoint: str = \"us-central1-aiplatform.googleapis.com\",\n",
        "    ):\n",
        "        client_options = {\"api_endpoint\": api_regional_endpoint}\n",
        "        # Initialize client that will be used to create and send requests.\n",
        "        # This client only needs to be created once, and can be reused for multiple requests.\n",
        "        self.client = aiplatform.gapic.PredictionServiceClient(\n",
        "            client_options=client_options\n",
        "        )\n",
        "        self.location = location\n",
        "        self.project = project\n",
        "\n",
        "    def get_embedding(self, text: str = None, image_file: str = None):\n",
        "        if not text and not image_file:\n",
        "            raise ValueError(\"At least one of text or image_file must be specified.\")\n",
        "\n",
        "        # Load image file\n",
        "        image_bytes = None\n",
        "        if image_file:\n",
        "            image_bytes = load_image_bytes(image_file)\n",
        "\n",
        "        instance = struct_pb2.Struct()\n",
        "        if text:\n",
        "            instance.fields[\"text\"].string_value = text\n",
        "\n",
        "        if image_bytes:\n",
        "            encoded_content = base64.b64encode(image_bytes).decode(\"utf-8\")\n",
        "            image_struct = instance.fields[\"image\"].struct_value\n",
        "            image_struct.fields[\"bytesBase64Encoded\"].string_value = encoded_content\n",
        "\n",
        "        instances = [instance]\n",
        "        endpoint = (\n",
        "            f\"projects/{self.project}/locations/{self.location}\"\n",
        "            \"/publishers/google/models/multimodalembedding@001\"\n",
        "        )\n",
        "        response = self.client.predict(endpoint=endpoint, instances=instances)\n",
        "\n",
        "        text_embedding = None\n",
        "        if text:\n",
        "            text_emb_value = response.predictions[0][\"textEmbedding\"]\n",
        "            text_embedding = [v for v in text_emb_value]\n",
        "\n",
        "        image_embedding = None\n",
        "        if image_bytes:\n",
        "            image_emb_value = response.predictions[0][\"imageEmbedding\"]\n",
        "            image_embedding = [v for v in image_emb_value]\n",
        "\n",
        "        return EmbeddingResponse(\n",
        "            text_embedding=text_embedding, image_embedding=image_embedding\n",
        "        )"
      ],
      "metadata": {
        "id": "fNdneAlFa-A7"
      },
      "execution_count": 27,
      "outputs": []
    },
    {
      "cell_type": "markdown",
      "source": [
        "Create helper functions to process data in batches"
      ],
      "metadata": {
        "id": "kbgKo-oQbCI0"
      }
    },
    {
      "cell_type": "code",
      "source": [
        "import time\n",
        "from concurrent.futures import ThreadPoolExecutor\n",
        "from typing import Callable, Generator, List\n",
        "\n",
        "from tqdm.auto import tqdm\n",
        "\n",
        "\n",
        "def generate_batches(\n",
        "    inputs: List[str], batch_size: int\n",
        ") -> Generator[List[str], None, None]:\n",
        "    \"\"\"\n",
        "    Generator function that takes a list of strings and a batch size, and yields batches of the specified size.\n",
        "    \"\"\"\n",
        "\n",
        "    for i in range(0, len(inputs), batch_size):\n",
        "        yield inputs[i : i + batch_size]\n",
        "\n",
        "\n",
        "API_IMAGES_PER_SECOND = 2\n",
        "\n",
        "\n",
        "def encode_to_embeddings_chunked(\n",
        "    process_function: Callable[[List[str]], List[Optional[List[float]]]],\n",
        "    items: List[str],\n",
        "    batch_size: int = 1,\n",
        ") -> List[Optional[List[float]]]:\n",
        "    \"\"\"\n",
        "    Function that encodes a list of strings into embeddings using a process function.\n",
        "    It takes a list of strings and returns a list of optional lists of floats.\n",
        "    The data is processed in chunks to prevent out-of-memory errors.\n",
        "    \"\"\"\n",
        "\n",
        "    embeddings_list: List[Optional[List[float]]] = []\n",
        "\n",
        "    # Prepare the batches using a generator\n",
        "    batches = generate_batches(items, batch_size)\n",
        "\n",
        "    seconds_per_job = batch_size / API_IMAGES_PER_SECOND\n",
        "\n",
        "    with ThreadPoolExecutor() as executor:\n",
        "        futures = []\n",
        "        for batch in tqdm(batches, total=len(items) // batch_size, position=0):\n",
        "            futures.append(executor.submit(process_function, batch))\n",
        "            time.sleep(seconds_per_job)\n",
        "\n",
        "        for future in futures:\n",
        "            embeddings_list.extend(future.result())\n",
        "    return embeddings_list\n",
        ""
      ],
      "metadata": {
        "id": "BE1CP0LRbChz"
      },
      "execution_count": 28,
      "outputs": []
    },
    {
      "cell_type": "markdown",
      "source": [
        "Create functions that wrap embedding functions in try-except and retry logic."
      ],
      "metadata": {
        "id": "w1WiMUWobF1O"
      }
    },
    {
      "cell_type": "code",
      "source": [
        "import copy\n",
        "from typing import List, Optional\n",
        "\n",
        "import numpy as np\n",
        "import requests\n",
        "from tenacity import retry, stop_after_attempt\n",
        "\n",
        "client = EmbeddingPredictionClient(project=PROJECT_ID)\n",
        "\n",
        "\n",
        "# Use a retry handler in case of failure\n",
        "@retry(reraise=True, stop=stop_after_attempt(3))\n",
        "def encode_texts_to_embeddings_with_retry(text: List[str]) -> List[List[float]]:\n",
        "    assert len(text) == 1\n",
        "\n",
        "    try:\n",
        "        return [client.get_embedding(text=text[0], image_file=None).text_embedding]\n",
        "    except Exception:\n",
        "        raise RuntimeError(\"Error getting embedding.\")\n",
        "\n",
        "\n",
        "def encode_texts_to_embeddings(text: List[str]) -> List[Optional[List[float]]]:\n",
        "    try:\n",
        "        return encode_texts_to_embeddings_with_retry(text=text)\n",
        "    except Exception:\n",
        "        return [None for _ in range(len(text))]\n",
        "\n",
        "\n",
        "@retry(reraise=True, stop=stop_after_attempt(3))\n",
        "def encode_images_to_embeddings_with_retry(image_uris: List[str]) -> List[List[float]]:\n",
        "    assert len(image_uris) == 1\n",
        "\n",
        "    try:\n",
        "        return [\n",
        "            client.get_embedding(text=None, image_file=image_uris[0]).image_embedding\n",
        "        ]\n",
        "    except Exception as ex:\n",
        "        print(ex)\n",
        "        raise RuntimeError(\"Error getting embedding.\")\n",
        "\n",
        "\n",
        "def encode_images_to_embeddings(image_uris: List[str]) -> List[Optional[List[float]]]:\n",
        "    try:\n",
        "        return encode_images_to_embeddings_with_retry(image_uris=image_uris)\n",
        "    except Exception as ex:\n",
        "        print(ex)\n",
        "        return [None for _ in range(len(image_uris))]\n",
        ""
      ],
      "metadata": {
        "id": "85tQSlD9bGDP"
      },
      "execution_count": 29,
      "outputs": []
    },
    {
      "cell_type": "markdown",
      "source": [
        "Test the encoding function"
      ],
      "metadata": {
        "id": "Ylp55mBfbKml"
      }
    },
    {
      "cell_type": "code",
      "source": [
        "%%time\n",
        "# Encode a sample subset of images\n",
        "image_paths_filtered = list(image_paths)[:1000]\n",
        "image_embeddings = encode_to_embeddings_chunked(\n",
        "    process_function=encode_images_to_embeddings, items=image_paths_filtered\n",
        ")\n",
        "\n",
        "# Keep only non-None embeddings\n",
        "indexes_to_keep, image_embeddings = zip(\n",
        "    *[\n",
        "        (index, embedding)\n",
        "        for index, embedding in enumerate(image_embeddings)\n",
        "        if embedding is not None\n",
        "    ]\n",
        ")\n",
        "\n",
        "print(f\"Processed {len(indexes_to_keep)} embeddings successfully\")\n",
        ""
      ],
      "metadata": {
        "colab": {
          "base_uri": "https://localhost:8080/"
        },
        "id": "jZAOJNrLbMSu",
        "outputId": "a867691e-8acf-4360-ea42-6eef959e1a05"
      },
      "execution_count": 37,
      "outputs": [
        {
          "output_type": "stream",
          "name": "stderr",
          "text": [
            "100%|██████████| 3/3 [00:01<00:00,  1.99it/s]\n"
          ]
        },
        {
          "output_type": "stream",
          "name": "stdout",
          "text": [
            "Processed 3 embeddings successfully\n",
            "CPU times: user 65.1 ms, sys: 18.7 ms, total: 83.8 ms\n",
            "Wall time: 4.26 s\n"
          ]
        }
      ]
    },
    {
      "cell_type": "code",
      "source": [
        "import numpy as np\n",
        "\n",
        "\n",
        "def dot_product_distance(\n",
        "    text_embedding: np.ndarray, image_embeddings: np.ndarray\n",
        ") -> np.ndarray:\n",
        "    \"\"\"Compute dot-product distance between text and image embeddings by taking the dot product\"\"\"\n",
        "    return np.dot(text_embedding, image_embeddings.T)\n",
        ""
      ],
      "metadata": {
        "id": "LZUM6HtFbu92"
      },
      "execution_count": 38,
      "outputs": []
    },
    {
      "cell_type": "code",
      "source": [
        "import math\n",
        "from io import BytesIO\n",
        "\n",
        "import matplotlib.pyplot as plt\n",
        "from PIL import Image\n",
        "\n",
        "text_query = \"Birds in flight\"\n",
        "\n",
        "# Calculate text embedding of query\n",
        "text_embedding = encode_texts_to_embeddings(text=[text_query])[0]\n",
        "\n",
        "print(type(text_embedding))\n",
        "print(type(text_embedding[0]))\n",
        "\n",
        "print(type(image_embeddings))\n",
        "print(type(image_embeddings[0]))\n",
        "\n",
        "# Calculate distance\n",
        "distances = dot_product_distance(\n",
        "    text_embedding=np.array(text_embedding), image_embeddings=np.array(image_embeddings)\n",
        ")\n",
        "\n",
        "# Set the maximum number of images to display\n",
        "MAX_IMAGES = 20\n",
        "\n",
        "# Sort images and scores by descending order of scores and select the top max_images\n",
        "sorted_data = sorted(\n",
        "    zip(image_paths_filtered, distances), key=lambda x: x[1], reverse=True\n",
        ")[:MAX_IMAGES]\n",
        "\n",
        "# Calculate the number of rows and columns needed to display the images\n",
        "num_cols = 4\n",
        "num_rows = math.ceil(len(sorted_data) / num_cols)\n",
        "\n",
        "\n",
        "# Create a grid of subplots to display the images\n",
        "fig, axs = plt.subplots(nrows=num_rows, ncols=num_cols, figsize=(10, 12))\n",
        "\n",
        "# Loop through the top max_images images and display them in the subplots\n",
        "for i, (image_path, distance) in enumerate(sorted_data):\n",
        "    # Calculate the row and column index for the current image\n",
        "    row_idx = i // num_cols\n",
        "    col_idx = i % num_cols\n",
        "\n",
        "    # Check if image_path is a remote URL\n",
        "    if image_path.startswith(\"http://\") or image_path.startswith(\"https://\"):\n",
        "        response = requests.get(image_path)\n",
        "        image = Image.open(BytesIO(response.content))\n",
        "    else:\n",
        "        image = Image.open(image_path)\n",
        "\n",
        "    # Display the image in the current subplot\n",
        "    axs[row_idx, col_idx].imshow(image, cmap=\"gray\")\n",
        "\n",
        "    # Set the title of the subplot to the image index and score\n",
        "    axs[row_idx, col_idx].set_title(f\"Rank {i+1}, Distance = {distance:.2f}\")\n",
        "\n",
        "    # Remove ticks from the subplot\n",
        "    axs[row_idx, col_idx].set_xticks([])\n",
        "    axs[row_idx, col_idx].set_yticks([])\n",
        "\n",
        "# Adjust the spacing between subplots and display the plot\n",
        "plt.subplots_adjust(hspace=0.3, wspace=0.1)\n",
        "plt.show()"
      ],
      "metadata": {
        "colab": {
          "base_uri": "https://localhost:8080/",
          "height": 1000
        },
        "id": "Cad8G6nrbx8c",
        "outputId": "2c8ab1e4-4c21-4768-e34e-367f8053fb88"
      },
      "execution_count": 40,
      "outputs": [
        {
          "output_type": "stream",
          "name": "stdout",
          "text": [
            "<class 'list'>\n",
            "<class 'float'>\n",
            "<class 'tuple'>\n",
            "<class 'list'>\n"
          ]
        },
        {
          "output_type": "error",
          "ename": "IndexError",
          "evalue": "ignored",
          "traceback": [
            "\u001b[0;31m---------------------------------------------------------------------------\u001b[0m",
            "\u001b[0;31mIndexError\u001b[0m                                Traceback (most recent call last)",
            "\u001b[0;32m<ipython-input-40-35d2eb9551b4>\u001b[0m in \u001b[0;36m<cell line: 40>\u001b[0;34m()\u001b[0m\n\u001b[1;32m     51\u001b[0m \u001b[0;34m\u001b[0m\u001b[0m\n\u001b[1;32m     52\u001b[0m     \u001b[0;31m# Display the image in the current subplot\u001b[0m\u001b[0;34m\u001b[0m\u001b[0;34m\u001b[0m\u001b[0m\n\u001b[0;32m---> 53\u001b[0;31m     \u001b[0maxs\u001b[0m\u001b[0;34m[\u001b[0m\u001b[0mrow_idx\u001b[0m\u001b[0;34m,\u001b[0m \u001b[0mcol_idx\u001b[0m\u001b[0;34m]\u001b[0m\u001b[0;34m.\u001b[0m\u001b[0mimshow\u001b[0m\u001b[0;34m(\u001b[0m\u001b[0mimage\u001b[0m\u001b[0;34m,\u001b[0m \u001b[0mcmap\u001b[0m\u001b[0;34m=\u001b[0m\u001b[0;34m\"gray\"\u001b[0m\u001b[0;34m)\u001b[0m\u001b[0;34m\u001b[0m\u001b[0;34m\u001b[0m\u001b[0m\n\u001b[0m\u001b[1;32m     54\u001b[0m \u001b[0;34m\u001b[0m\u001b[0m\n\u001b[1;32m     55\u001b[0m     \u001b[0;31m# Set the title of the subplot to the image index and score\u001b[0m\u001b[0;34m\u001b[0m\u001b[0;34m\u001b[0m\u001b[0m\n",
            "\u001b[0;31mIndexError\u001b[0m: too many indices for array: array is 1-dimensional, but 2 were indexed"
          ]
        },
        {
          "output_type": "display_data",
          "data": {
            "text/plain": [
              "<Figure size 1000x1200 with 4 Axes>"
            ],
            "image/png": "[encoded data removed]"
          },
          "metadata": {}
        }
      ]
    },
    {
      "cell_type": "code",
      "source": [
        "DIMENSIONS = len(text_embedding)\n",
        "\n",
        "print(DIMENSIONS)"
      ],
      "metadata": {
        "colab": {
          "base_uri": "https://localhost:8080/"
        },
        "id": "n6x1hc9Vb2qx",
        "outputId": "4db2fba3-7119-417f-8aa2-2676dd563ac9"
      },
      "execution_count": 41,
      "outputs": [
        {
          "output_type": "stream",
          "name": "stdout",
          "text": [
            "1408\n"
          ]
        }
      ]
    },
    {
      "cell_type": "markdown",
      "source": [
        "Save the embedding in JSONL formt"
      ],
      "metadata": {
        "id": "TjgqsVjXb5KI"
      }
    },
    {
      "cell_type": "code",
      "source": [
        "import tempfile\n",
        "\n",
        "# Create temporary file to write embeddings to\n",
        "embeddings_file = tempfile.NamedTemporaryFile(suffix=\".json\", delete=False)\n",
        "\n",
        "embeddings_file.name"
      ],
      "metadata": {
        "colab": {
          "base_uri": "https://localhost:8080/",
          "height": 35
        },
        "id": "9J2u-tNob8dy",
        "outputId": "c7fa58a1-2a26-40fa-965c-308fa77ef96e"
      },
      "execution_count": 42,
      "outputs": [
        {
          "output_type": "execute_result",
          "data": {
            "text/plain": [
              "'/tmp/tmpi179zrvt.json'"
            ],
            "application/vnd.google.colaboratory.intrinsic+json": {
              "type": "string"
            }
          },
          "metadata": {},
          "execution_count": 42
        }
      ]
    },
    {
      "cell_type": "code",
      "source": [
        "import json\n",
        "\n",
        "BATCH_SIZE = 1000\n",
        "\n",
        "with open(embeddings_file.name, \"a\") as f:\n",
        "    for i in tqdm(range(0, len(image_names), BATCH_SIZE)):\n",
        "        image_names_chunk = image_names[i : i + BATCH_SIZE]\n",
        "        image_paths_chunk = image_paths[i : i + BATCH_SIZE]\n",
        "\n",
        "        embeddings = encode_to_embeddings_chunked(\n",
        "            process_function=encode_images_to_embeddings, items=image_paths_chunk\n",
        "        )\n",
        "\n",
        "        # Append to file\n",
        "        embeddings_formatted = [\n",
        "            json.dumps(\n",
        "                {\n",
        "                    \"id\": str(id),\n",
        "                    \"embedding\": [str(value) for value in embedding],\n",
        "                }\n",
        "            )\n",
        "            + \"\\n\"\n",
        "            for id, embedding in zip(image_names_chunk, embeddings)\n",
        "            if embedding is not None\n",
        "        ]\n",
        "        f.writelines(embeddings_formatted)"
      ],
      "metadata": {
        "colab": {
          "base_uri": "https://localhost:8080/"
        },
        "id": "LdSClEFvcEI_",
        "outputId": "402e1f6d-4f75-43e5-c49a-82144b1f2002"
      },
      "execution_count": 43,
      "outputs": [
        {
          "output_type": "stream",
          "name": "stderr",
          "text": [
            "100%|██████████| 3/3 [00:01<00:00,  1.99it/s]\n",
            "100%|██████████| 1/1 [00:04<00:00,  4.06s/it]\n"
          ]
        }
      ]
    },
    {
      "cell_type": "markdown",
      "source": [
        "Upload the training data to Cloud Storage"
      ],
      "metadata": {
        "id": "hTUtcxFIcI4k"
      }
    },
    {
      "cell_type": "code",
      "source": [
        "UNIQUE_FOLDER_NAME = \"embeddings_folder_unique\"\n",
        "EMBEDDINGS_INITIAL_URI = f\"{BUCKET_URI}/{UNIQUE_FOLDER_NAME}/\"\n",
        "! gsutil cp {embeddings_file.name} {EMBEDDINGS_INITIAL_URI}"
      ],
      "metadata": {
        "colab": {
          "base_uri": "https://localhost:8080/"
        },
        "id": "e2o2aqoAcIYd",
        "outputId": "862c0792-21cf-44ce-e062-dd90ad09a367"
      },
      "execution_count": 44,
      "outputs": [
        {
          "output_type": "stream",
          "name": "stdout",
          "text": [
            "Copying file:///tmp/tmpi179zrvt.json [Content-Type=application/json]...\n",
            "-\n",
            "Operation completed over 1 objects/68.9 KiB.                                     \n"
          ]
        }
      ]
    }
  ],
  "metadata": {
    "colab": {
      "name": "Welcome To Colaboratory",
      "provenance": [],
      "include_colab_link": true
    },
    "kernelspec": {
      "display_name": "Python 3",
      "name": "python3"
    }
  },
  "nbformat": 4,
  "nbformat_minor": 0
}