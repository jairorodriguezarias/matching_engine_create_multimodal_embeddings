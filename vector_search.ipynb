{
  "cells": [
    {
      "cell_type": "markdown",
      "metadata": {
        "id": "view-in-github",
        "colab_type": "text"
      },
      "source": [
        "<a href=\"https://colab.research.google.com/github/jairorodriguezarias/matching_engine_create_multimodal_embeddings/blob/main/vector_search.ipynb\" target=\"_parent\"><img src=\"https://colab.research.google.com/assets/colab-badge.svg\" alt=\"Open In Colab\"/></a>"
      ]
    },
    {
      "cell_type": "markdown",
      "source": [
        "# Installation"
      ],
      "metadata": {
        "id": "upQmZ5OrTGV-"
      }
    },
    {
      "cell_type": "code",
      "source": [
        "\n",
        "\n",
        "# Install the packages\n",
        "! pip3 install --upgrade google-cloud-aiplatform \\\n",
        "                         google-cloud-storage\n",
        "\n",
        "! pip install google-cloud-vision\n"
      ],
      "metadata": {
        "colab": {
          "base_uri": "https://localhost:8080/",
          "height": 0
        },
        "id": "rAklwT9sS5yO",
        "outputId": "9e253c3d-af6d-40ba-da5a-3cbe30b2a05b"
      },
      "execution_count": 1,
      "outputs": [
        {
          "output_type": "stream",
          "name": "stdout",
          "text": [
            "Collecting google-cloud-aiplatform\n",
            "  Downloading google_cloud_aiplatform-1.35.0-py2.py3-none-any.whl (3.1 MB)\n",
            "\u001b[2K     \u001b[90m━━━━━━━━━━━━━━━━━━━━━━━━━━━━━━━━━━━━━━━━\u001b[0m \u001b[32m3.1/3.1 MB\u001b[0m \u001b[31m18.9 MB/s\u001b[0m eta \u001b[36m0:00:00\u001b[0m\n",
            "\u001b[?25hRequirement already satisfied: google-cloud-storage in /usr/local/lib/python3.10/dist-packages (2.8.0)\n",
            "Collecting google-cloud-storage\n",
            "  Downloading google_cloud_storage-2.12.0-py2.py3-none-any.whl (120 kB)\n",
            "\u001b[2K     \u001b[90m━━━━━━━━━━━━━━━━━━━━━━━━━━━━━━━━━━━━━━━━\u001b[0m \u001b[32m120.5/120.5 kB\u001b[0m \u001b[31m18.9 MB/s\u001b[0m eta \u001b[36m0:00:00\u001b[0m\n",
            "\u001b[?25hRequirement already satisfied: google-api-core[grpc]!=2.0.*,!=2.1.*,!=2.2.*,!=2.3.*,!=2.4.*,!=2.5.*,!=2.6.*,!=2.7.*,<3.0.0dev,>=1.32.0 in /usr/local/lib/python3.10/dist-packages (from google-cloud-aiplatform) (2.11.1)\n",
            "Requirement already satisfied: proto-plus<2.0.0dev,>=1.22.0 in /usr/local/lib/python3.10/dist-packages (from google-cloud-aiplatform) (1.22.3)\n",
            "Requirement already satisfied: protobuf!=3.20.0,!=3.20.1,!=4.21.0,!=4.21.1,!=4.21.2,!=4.21.3,!=4.21.4,!=4.21.5,<5.0.0dev,>=3.19.5 in /usr/local/lib/python3.10/dist-packages (from google-cloud-aiplatform) (3.20.3)\n",
            "Requirement already satisfied: packaging>=14.3 in /usr/local/lib/python3.10/dist-packages (from google-cloud-aiplatform) (23.2)\n",
            "Requirement already satisfied: google-cloud-bigquery<4.0.0dev,>=1.15.0 in /usr/local/lib/python3.10/dist-packages (from google-cloud-aiplatform) (3.10.0)\n",
            "Collecting google-cloud-resource-manager<3.0.0dev,>=1.3.3 (from google-cloud-aiplatform)\n",
            "  Downloading google_cloud_resource_manager-1.10.4-py2.py3-none-any.whl (320 kB)\n",
            "\u001b[2K     \u001b[90m━━━━━━━━━━━━━━━━━━━━━━━━━━━━━━━━━━━━━━━━\u001b[0m \u001b[32m321.0/321.0 kB\u001b[0m \u001b[31m27.2 MB/s\u001b[0m eta \u001b[36m0:00:00\u001b[0m\n",
            "\u001b[?25hRequirement already satisfied: shapely<3.0.0dev in /usr/local/lib/python3.10/dist-packages (from google-cloud-aiplatform) (2.0.1)\n",
            "Collecting google-auth<3.0dev,>=2.23.3 (from google-cloud-storage)\n",
            "  Downloading google_auth-2.23.3-py2.py3-none-any.whl (182 kB)\n",
            "\u001b[2K     \u001b[90m━━━━━━━━━━━━━━━━━━━━━━━━━━━━━━━━━━━━━━━━\u001b[0m \u001b[32m182.3/182.3 kB\u001b[0m \u001b[31m28.3 MB/s\u001b[0m eta \u001b[36m0:00:00\u001b[0m\n",
            "\u001b[?25hRequirement already satisfied: google-cloud-core<3.0dev,>=2.3.0 in /usr/local/lib/python3.10/dist-packages (from google-cloud-storage) (2.3.3)\n",
            "Requirement already satisfied: google-resumable-media>=2.6.0 in /usr/local/lib/python3.10/dist-packages (from google-cloud-storage) (2.6.0)\n",
            "Requirement already satisfied: requests<3.0.0dev,>=2.18.0 in /usr/local/lib/python3.10/dist-packages (from google-cloud-storage) (2.31.0)\n",
            "Requirement already satisfied: google-crc32c<2.0dev,>=1.0 in /usr/local/lib/python3.10/dist-packages (from google-cloud-storage) (1.5.0)\n",
            "Requirement already satisfied: googleapis-common-protos<2.0.dev0,>=1.56.2 in /usr/local/lib/python3.10/dist-packages (from google-api-core[grpc]!=2.0.*,!=2.1.*,!=2.2.*,!=2.3.*,!=2.4.*,!=2.5.*,!=2.6.*,!=2.7.*,<3.0.0dev,>=1.32.0->google-cloud-aiplatform) (1.60.0)\n",
            "Requirement already satisfied: grpcio<2.0dev,>=1.33.2 in /usr/local/lib/python3.10/dist-packages (from google-api-core[grpc]!=2.0.*,!=2.1.*,!=2.2.*,!=2.3.*,!=2.4.*,!=2.5.*,!=2.6.*,!=2.7.*,<3.0.0dev,>=1.32.0->google-cloud-aiplatform) (1.59.0)\n",
            "Requirement already satisfied: grpcio-status<2.0.dev0,>=1.33.2 in /usr/local/lib/python3.10/dist-packages (from google-api-core[grpc]!=2.0.*,!=2.1.*,!=2.2.*,!=2.3.*,!=2.4.*,!=2.5.*,!=2.6.*,!=2.7.*,<3.0.0dev,>=1.32.0->google-cloud-aiplatform) (1.48.2)\n",
            "Requirement already satisfied: cachetools<6.0,>=2.0.0 in /usr/local/lib/python3.10/dist-packages (from google-auth<3.0dev,>=2.23.3->google-cloud-storage) (5.3.1)\n",
            "Requirement already satisfied: pyasn1-modules>=0.2.1 in /usr/local/lib/python3.10/dist-packages (from google-auth<3.0dev,>=2.23.3->google-cloud-storage) (0.3.0)\n",
            "Requirement already satisfied: rsa<5,>=3.1.4 in /usr/local/lib/python3.10/dist-packages (from google-auth<3.0dev,>=2.23.3->google-cloud-storage) (4.9)\n",
            "Requirement already satisfied: python-dateutil<3.0dev,>=2.7.2 in /usr/local/lib/python3.10/dist-packages (from google-cloud-bigquery<4.0.0dev,>=1.15.0->google-cloud-aiplatform) (2.8.2)\n",
            "Requirement already satisfied: grpc-google-iam-v1<1.0.0dev,>=0.12.4 in /usr/local/lib/python3.10/dist-packages (from google-cloud-resource-manager<3.0.0dev,>=1.3.3->google-cloud-aiplatform) (0.12.6)\n",
            "Requirement already satisfied: charset-normalizer<4,>=2 in /usr/local/lib/python3.10/dist-packages (from requests<3.0.0dev,>=2.18.0->google-cloud-storage) (3.3.0)\n",
            "Requirement already satisfied: idna<4,>=2.5 in /usr/local/lib/python3.10/dist-packages (from requests<3.0.0dev,>=2.18.0->google-cloud-storage) (3.4)\n",
            "Requirement already satisfied: urllib3<3,>=1.21.1 in /usr/local/lib/python3.10/dist-packages (from requests<3.0.0dev,>=2.18.0->google-cloud-storage) (2.0.6)\n",
            "Requirement already satisfied: certifi>=2017.4.17 in /usr/local/lib/python3.10/dist-packages (from requests<3.0.0dev,>=2.18.0->google-cloud-storage) (2023.7.22)\n",
            "Requirement already satisfied: numpy>=1.14 in /usr/local/lib/python3.10/dist-packages (from shapely<3.0.0dev->google-cloud-aiplatform) (1.23.5)\n",
            "Requirement already satisfied: pyasn1<0.6.0,>=0.4.6 in /usr/local/lib/python3.10/dist-packages (from pyasn1-modules>=0.2.1->google-auth<3.0dev,>=2.23.3->google-cloud-storage) (0.5.0)\n",
            "Requirement already satisfied: six>=1.5 in /usr/local/lib/python3.10/dist-packages (from python-dateutil<3.0dev,>=2.7.2->google-cloud-bigquery<4.0.0dev,>=1.15.0->google-cloud-aiplatform) (1.16.0)\n",
            "Installing collected packages: google-auth, google-cloud-storage, google-cloud-resource-manager, google-cloud-aiplatform\n",
            "  Attempting uninstall: google-auth\n",
            "    Found existing installation: google-auth 2.17.3\n",
            "    Uninstalling google-auth-2.17.3:\n",
            "      Successfully uninstalled google-auth-2.17.3\n",
            "  Attempting uninstall: google-cloud-storage\n",
            "    Found existing installation: google-cloud-storage 2.8.0\n",
            "    Uninstalling google-cloud-storage-2.8.0:\n",
            "      Successfully uninstalled google-cloud-storage-2.8.0\n",
            "\u001b[31mERROR: pip's dependency resolver does not currently take into account all the packages that are installed. This behaviour is the source of the following dependency conflicts.\n",
            "llmx 0.0.15a0 requires cohere, which is not installed.\n",
            "llmx 0.0.15a0 requires openai, which is not installed.\n",
            "llmx 0.0.15a0 requires tiktoken, which is not installed.\n",
            "google-colab 1.0.0 requires google-auth==2.17.3, but you have google-auth 2.23.3 which is incompatible.\u001b[0m\u001b[31m\n",
            "\u001b[0mSuccessfully installed google-auth-2.23.3 google-cloud-aiplatform-1.35.0 google-cloud-resource-manager-1.10.4 google-cloud-storage-2.12.0\n"
          ]
        },
        {
          "output_type": "display_data",
          "data": {
            "application/vnd.colab-display-data+json": {
              "pip_warning": {
                "packages": [
                  "google"
                ]
              }
            }
          },
          "metadata": {}
        },
        {
          "output_type": "stream",
          "name": "stdout",
          "text": [
            "Collecting google-cloud-vision\n",
            "  Downloading google_cloud_vision-3.4.4-py2.py3-none-any.whl (444 kB)\n",
            "\u001b[2K     \u001b[90m━━━━━━━━━━━━━━━━━━━━━━━━━━━━━━━━━━━━━━━━\u001b[0m \u001b[32m444.0/444.0 kB\u001b[0m \u001b[31m5.3 MB/s\u001b[0m eta \u001b[36m0:00:00\u001b[0m\n",
            "\u001b[?25hRequirement already satisfied: google-api-core[grpc]!=2.0.*,!=2.1.*,!=2.10.*,!=2.2.*,!=2.3.*,!=2.4.*,!=2.5.*,!=2.6.*,!=2.7.*,!=2.8.*,!=2.9.*,<3.0.0dev,>=1.34.0 in /usr/local/lib/python3.10/dist-packages (from google-cloud-vision) (2.11.1)\n",
            "Requirement already satisfied: proto-plus<2.0.0dev,>=1.22.0 in /usr/local/lib/python3.10/dist-packages (from google-cloud-vision) (1.22.3)\n",
            "Requirement already satisfied: protobuf!=3.20.0,!=3.20.1,!=4.21.0,!=4.21.1,!=4.21.2,!=4.21.3,!=4.21.4,!=4.21.5,<5.0.0dev,>=3.19.5 in /usr/local/lib/python3.10/dist-packages (from google-cloud-vision) (3.20.3)\n",
            "Requirement already satisfied: googleapis-common-protos<2.0.dev0,>=1.56.2 in /usr/local/lib/python3.10/dist-packages (from google-api-core[grpc]!=2.0.*,!=2.1.*,!=2.10.*,!=2.2.*,!=2.3.*,!=2.4.*,!=2.5.*,!=2.6.*,!=2.7.*,!=2.8.*,!=2.9.*,<3.0.0dev,>=1.34.0->google-cloud-vision) (1.60.0)\n",
            "Requirement already satisfied: google-auth<3.0.dev0,>=2.14.1 in /usr/local/lib/python3.10/dist-packages (from google-api-core[grpc]!=2.0.*,!=2.1.*,!=2.10.*,!=2.2.*,!=2.3.*,!=2.4.*,!=2.5.*,!=2.6.*,!=2.7.*,!=2.8.*,!=2.9.*,<3.0.0dev,>=1.34.0->google-cloud-vision) (2.23.3)\n",
            "Requirement already satisfied: requests<3.0.0.dev0,>=2.18.0 in /usr/local/lib/python3.10/dist-packages (from google-api-core[grpc]!=2.0.*,!=2.1.*,!=2.10.*,!=2.2.*,!=2.3.*,!=2.4.*,!=2.5.*,!=2.6.*,!=2.7.*,!=2.8.*,!=2.9.*,<3.0.0dev,>=1.34.0->google-cloud-vision) (2.31.0)\n",
            "Requirement already satisfied: grpcio<2.0dev,>=1.33.2 in /usr/local/lib/python3.10/dist-packages (from google-api-core[grpc]!=2.0.*,!=2.1.*,!=2.10.*,!=2.2.*,!=2.3.*,!=2.4.*,!=2.5.*,!=2.6.*,!=2.7.*,!=2.8.*,!=2.9.*,<3.0.0dev,>=1.34.0->google-cloud-vision) (1.59.0)\n",
            "Requirement already satisfied: grpcio-status<2.0.dev0,>=1.33.2 in /usr/local/lib/python3.10/dist-packages (from google-api-core[grpc]!=2.0.*,!=2.1.*,!=2.10.*,!=2.2.*,!=2.3.*,!=2.4.*,!=2.5.*,!=2.6.*,!=2.7.*,!=2.8.*,!=2.9.*,<3.0.0dev,>=1.34.0->google-cloud-vision) (1.48.2)\n",
            "Requirement already satisfied: cachetools<6.0,>=2.0.0 in /usr/local/lib/python3.10/dist-packages (from google-auth<3.0.dev0,>=2.14.1->google-api-core[grpc]!=2.0.*,!=2.1.*,!=2.10.*,!=2.2.*,!=2.3.*,!=2.4.*,!=2.5.*,!=2.6.*,!=2.7.*,!=2.8.*,!=2.9.*,<3.0.0dev,>=1.34.0->google-cloud-vision) (5.3.1)\n",
            "Requirement already satisfied: pyasn1-modules>=0.2.1 in /usr/local/lib/python3.10/dist-packages (from google-auth<3.0.dev0,>=2.14.1->google-api-core[grpc]!=2.0.*,!=2.1.*,!=2.10.*,!=2.2.*,!=2.3.*,!=2.4.*,!=2.5.*,!=2.6.*,!=2.7.*,!=2.8.*,!=2.9.*,<3.0.0dev,>=1.34.0->google-cloud-vision) (0.3.0)\n",
            "Requirement already satisfied: rsa<5,>=3.1.4 in /usr/local/lib/python3.10/dist-packages (from google-auth<3.0.dev0,>=2.14.1->google-api-core[grpc]!=2.0.*,!=2.1.*,!=2.10.*,!=2.2.*,!=2.3.*,!=2.4.*,!=2.5.*,!=2.6.*,!=2.7.*,!=2.8.*,!=2.9.*,<3.0.0dev,>=1.34.0->google-cloud-vision) (4.9)\n",
            "Requirement already satisfied: charset-normalizer<4,>=2 in /usr/local/lib/python3.10/dist-packages (from requests<3.0.0.dev0,>=2.18.0->google-api-core[grpc]!=2.0.*,!=2.1.*,!=2.10.*,!=2.2.*,!=2.3.*,!=2.4.*,!=2.5.*,!=2.6.*,!=2.7.*,!=2.8.*,!=2.9.*,<3.0.0dev,>=1.34.0->google-cloud-vision) (3.3.0)\n",
            "Requirement already satisfied: idna<4,>=2.5 in /usr/local/lib/python3.10/dist-packages (from requests<3.0.0.dev0,>=2.18.0->google-api-core[grpc]!=2.0.*,!=2.1.*,!=2.10.*,!=2.2.*,!=2.3.*,!=2.4.*,!=2.5.*,!=2.6.*,!=2.7.*,!=2.8.*,!=2.9.*,<3.0.0dev,>=1.34.0->google-cloud-vision) (3.4)\n",
            "Requirement already satisfied: urllib3<3,>=1.21.1 in /usr/local/lib/python3.10/dist-packages (from requests<3.0.0.dev0,>=2.18.0->google-api-core[grpc]!=2.0.*,!=2.1.*,!=2.10.*,!=2.2.*,!=2.3.*,!=2.4.*,!=2.5.*,!=2.6.*,!=2.7.*,!=2.8.*,!=2.9.*,<3.0.0dev,>=1.34.0->google-cloud-vision) (2.0.6)\n",
            "Requirement already satisfied: certifi>=2017.4.17 in /usr/local/lib/python3.10/dist-packages (from requests<3.0.0.dev0,>=2.18.0->google-api-core[grpc]!=2.0.*,!=2.1.*,!=2.10.*,!=2.2.*,!=2.3.*,!=2.4.*,!=2.5.*,!=2.6.*,!=2.7.*,!=2.8.*,!=2.9.*,<3.0.0dev,>=1.34.0->google-cloud-vision) (2023.7.22)\n",
            "Requirement already satisfied: pyasn1<0.6.0,>=0.4.6 in /usr/local/lib/python3.10/dist-packages (from pyasn1-modules>=0.2.1->google-auth<3.0.dev0,>=2.14.1->google-api-core[grpc]!=2.0.*,!=2.1.*,!=2.10.*,!=2.2.*,!=2.3.*,!=2.4.*,!=2.5.*,!=2.6.*,!=2.7.*,!=2.8.*,!=2.9.*,<3.0.0dev,>=1.34.0->google-cloud-vision) (0.5.0)\n",
            "Installing collected packages: google-cloud-vision\n",
            "Successfully installed google-cloud-vision-3.4.4\n"
          ]
        },
        {
          "output_type": "display_data",
          "data": {
            "application/vnd.colab-display-data+json": {
              "pip_warning": {
                "packages": [
                  "google"
                ]
              }
            }
          },
          "metadata": {}
        }
      ]
    },
    {
      "cell_type": "code",
      "source": [
        "import IPython\n",
        "\n",
        "app = IPython.Application.instance()\n",
        "app.kernel.do_shutdown(True)"
      ],
      "metadata": {
        "colab": {
          "base_uri": "https://localhost:8080/"
        },
        "id": "7QWHVhNGTC6n",
        "outputId": "6bc0c58e-5d53-4338-c9d9-8afbb62d4545"
      },
      "execution_count": 2,
      "outputs": [
        {
          "output_type": "execute_result",
          "data": {
            "text/plain": [
              "{'status': 'ok', 'restart': True}"
            ]
          },
          "metadata": {},
          "execution_count": 2
        }
      ]
    },
    {
      "cell_type": "markdown",
      "source": [
        "# Configuration\n"
      ],
      "metadata": {
        "id": "ulszS9g8TNP1"
      }
    },
    {
      "cell_type": "code",
      "source": [
        "from google.colab import auth\n",
        "auth.authenticate_user()"
      ],
      "metadata": {
        "id": "E4iJnO7pUyZz"
      },
      "execution_count": 3,
      "outputs": []
    },
    {
      "cell_type": "code",
      "source": [
        "PROJECT_ID = \"genai-387907\"  # @param {type:\"string\"}\n",
        "\n",
        "# Set the project id\n",
        "! gcloud config set project {PROJECT_ID}"
      ],
      "metadata": {
        "colab": {
          "base_uri": "https://localhost:8080/"
        },
        "id": "oEYfcaI2TMip",
        "outputId": "5e053f46-cd9f-4d4b-cbe5-9ef9f1f7fc2e"
      },
      "execution_count": 3,
      "outputs": [
        {
          "output_type": "stream",
          "name": "stdout",
          "text": [
            "Updated property [core/project].\n"
          ]
        }
      ]
    },
    {
      "cell_type": "code",
      "source": [
        "REGION = \"us-central1\"  # @param {type: \"string\"}"
      ],
      "metadata": {
        "id": "SmqW9GLsTSoU"
      },
      "execution_count": 2,
      "outputs": []
    },
    {
      "cell_type": "markdown",
      "source": [
        "Cloud Storage"
      ],
      "metadata": {
        "id": "j4dgKsttTdN9"
      }
    },
    {
      "cell_type": "code",
      "source": [
        "BUCKET_NAME = \"vector_store\""
      ],
      "metadata": {
        "id": "PUyGPu9eTc0a"
      },
      "execution_count": 1,
      "outputs": []
    },
    {
      "cell_type": "code",
      "source": [
        "BUCKET_URI = f\"gs://{BUCKET_NAME}-{PROJECT_ID}-unique\"  # @param {type:\"string\"}"
      ],
      "metadata": {
        "id": "Ucn5CDfHTgiD"
      },
      "execution_count": 23,
      "outputs": []
    },
    {
      "cell_type": "code",
      "source": [
        "# Only if your bucket doesn't exist\n",
        "# ! gsutil mb -l {REGION} -p {PROJECT_ID} {BUCKET_URI}"
      ],
      "metadata": {
        "id": "UEhuvQt6TkMI"
      },
      "execution_count": 8,
      "outputs": []
    },
    {
      "cell_type": "code",
      "source": [
        "# Download the file from a given Google Cloud Storage bucket.\n",
        "!gsutil cp gs://vector_store-genai-387907-images/* ./images"
      ],
      "metadata": {
        "id": "4ivcQzLZUUOF",
        "outputId": "5888df61-dbdf-4c92-9475-b9b24dfe898c",
        "colab": {
          "base_uri": "https://localhost:8080/"
        }
      },
      "execution_count": 35,
      "outputs": [
        {
          "output_type": "stream",
          "name": "stdout",
          "text": [
            "Copying gs://vector_store-genai-387907-images/0000000112_2_1_1.jpg...\n",
            "Copying gs://vector_store-genai-387907-images/0077307081_6_1_1.jpg...\n",
            "Copying gs://vector_store-genai-387907-images/0085454807_1_1_1.jpg...\n",
            "Copying gs://vector_store-genai-387907-images/0264474302_1_1_1.jpg...\n",
            "| [4 files][  1.9 MiB/  1.9 MiB]                                                \n",
            "==> NOTE: You are performing a sequence of gsutil operations that may\n",
            "run significantly faster if you instead use gsutil -m cp ... Please\n",
            "see the -m section under \"gsutil help options\" for further information\n",
            "about when gsutil -m can be advantageous.\n",
            "\n",
            "Copying gs://vector_store-genai-387907-images/0310009999_1_1_1.jpg...\n",
            "Copying gs://vector_store-genai-387907-images/0310274999_6_1_1.jpg...\n",
            "Copying gs://vector_store-genai-387907-images/0387157052_1_1_1.jpg...\n",
            "Copying gs://vector_store-genai-387907-images/0475691990_6_1_1.jpg...\n",
            "Copying gs://vector_store-genai-387907-images/0478630300_1_1_1.jpg...\n",
            "Copying gs://vector_store-genai-387907-images/0485561712_6_1_1.jpg...\n",
            "Copying gs://vector_store-genai-387907-images/0518059711_1_1_1.jpg...\n",
            "Copying gs://vector_store-genai-387907-images/0653786630_6_1_1.jpg...\n",
            "Copying gs://vector_store-genai-387907-images/0722792400_6_1_1.jpg...\n",
            "Copying gs://vector_store-genai-387907-images/0840235515_2_3_1.jpg...\n",
            "Copying gs://vector_store-genai-387907-images/0843334775_1_1_1.jpg...\n",
            "Copying gs://vector_store-genai-387907-images/1165680701_1_1_1.jpg...\n",
            "Copying gs://vector_store-genai-387907-images/1165719800_6_1_1.jpg...\n",
            "Copying gs://vector_store-genai-387907-images/1386552700_6_1_1.jpg...\n",
            "Copying gs://vector_store-genai-387907-images/1538403401_6_1_1.jpg...\n",
            "Copying gs://vector_store-genai-387907-images/1608360800_1_1_1.jpg...\n",
            "Copying gs://vector_store-genai-387907-images/1716345611_6_1_1.jpg...\n",
            "Copying gs://vector_store-genai-387907-images/1856360808_1_1_1.jpg...\n",
            "Copying gs://vector_store-genai-387907-images/1856381303_1_1_1.jpg...\n",
            "Copying gs://vector_store-genai-387907-images/1880531802_6_1_1.jpg...\n",
            "Copying gs://vector_store-genai-387907-images/1880566401_6_1_1.jpg...\n",
            "Copying gs://vector_store-genai-387907-images/1880676800_6_1_1.jpg...\n",
            "Copying gs://vector_store-genai-387907-images/2108220800_6_1_1.jpg...\n",
            "Copying gs://vector_store-genai-387907-images/2298651800_1_1_1.jpg...\n",
            "Copying gs://vector_store-genai-387907-images/2301000002_1_1_1.jpg...\n",
            "Copying gs://vector_store-genai-387907-images/2308012712_1_1_1.jpg...\n",
            "Copying gs://vector_store-genai-387907-images/2341120800_6_1_1.jpg...\n",
            "Copying gs://vector_store-genai-387907-images/2420220040_6_1_1.jpg...\n",
            "Copying gs://vector_store-genai-387907-images/2460220800_6_1_1.jpg...\n",
            "Copying gs://vector_store-genai-387907-images/2582510800_6_1_1.jpg...\n",
            "Copying gs://vector_store-genai-387907-images/2632304700_6_1_1.jpg...\n",
            "Copying gs://vector_store-genai-387907-images/2675706615_6_1_1.jpg...\n",
            "Copying gs://vector_store-genai-387907-images/2712220400_6_1_1.jpg...\n",
            "Copying gs://vector_store-genai-387907-images/2727206620_1_1_1.jpg...\n",
            "Copying gs://vector_store-genai-387907-images/2823305500_6_1_1.jpg...\n",
            "Copying gs://vector_store-genai-387907-images/2888300800_6_1_1.jpg...\n",
            "Copying gs://vector_store-genai-387907-images/2893108704_1_1_1.jpg...\n",
            "Copying gs://vector_store-genai-387907-images/3336109807_6_1_1.jpg...\n",
            "Copying gs://vector_store-genai-387907-images/3336237611_6_1_1.jpg...\n",
            "Copying gs://vector_store-genai-387907-images/3338189515_6_1_1.jpg...\n",
            "Copying gs://vector_store-genai-387907-images/3625220133_6_1_1.jpg...\n",
            "Copying gs://vector_store-genai-387907-images/3625220805_6_1_1.jpg...\n",
            "Copying gs://vector_store-genai-387907-images/3771748800_6_1_1.jpg...\n",
            "Copying gs://vector_store-genai-387907-images/3854669400_6_1_1.jpg...\n",
            "Copying gs://vector_store-genai-387907-images/3897152080_1_1_1.jpg...\n",
            "Copying gs://vector_store-genai-387907-images/3905931250_1_1_1.jpg...\n",
            "Copying gs://vector_store-genai-387907-images/3918601717_6_1_1.jpg...\n",
            "Copying gs://vector_store-genai-387907-images/3991101712_1_1_1.jpg...\n",
            "Copying gs://vector_store-genai-387907-images/3991126800_1_1_1.jpg...\n",
            "Copying gs://vector_store-genai-387907-images/3992333629_6_1_1.jpg...\n",
            "Copying gs://vector_store-genai-387907-images/4087760800_6_1_1.jpg...\n",
            "Copying gs://vector_store-genai-387907-images/4090303832_6_1_1.jpg...\n",
            "Copying gs://vector_store-genai-387907-images/4161300712_6_1_1.jpg...\n",
            "Copying gs://vector_store-genai-387907-images/4174813250_1_1_1.jpg...\n",
            "Copying gs://vector_store-genai-387907-images/4174838670_1_1_1.jpg...\n",
            "Copying gs://vector_store-genai-387907-images/4365304406_6_1_1.jpg...\n",
            "Copying gs://vector_store-genai-387907-images/4369001800_1_1_1.jpg...\n",
            "Copying gs://vector_store-genai-387907-images/4391503800_1_1_1.jpg...\n",
            "Copying gs://vector_store-genai-387907-images/4424355712_6_1_1.jpg...\n",
            "Copying gs://vector_store-genai-387907-images/4548234303_1_1_1.jpg...\n",
            "Copying gs://vector_store-genai-387907-images/4770451800_1_1_1.jpg...\n",
            "Copying gs://vector_store-genai-387907-images/4786269330_1_1_1.jpg...\n",
            "Copying gs://vector_store-genai-387907-images/4786289251_1_1_1.jpg...\n",
            "Copying gs://vector_store-genai-387907-images/4805553712_6_1_1.jpg...\n",
            "Copying gs://vector_store-genai-387907-images/4805767700_6_1_1.jpg...\n",
            "Copying gs://vector_store-genai-387907-images/5039370117_1_1_1 (1).jpg...\n",
            "Copying gs://vector_store-genai-387907-images/5039370117_1_1_1.jpg...\n",
            "Copying gs://vector_store-genai-387907-images/5048610400_6_1_1.jpg...\n",
            "Copying gs://vector_store-genai-387907-images/5048702500_6_1_1.jpg...\n",
            "Copying gs://vector_store-genai-387907-images/5070503800_6_1_1.jpg...\n",
            "Copying gs://vector_store-genai-387907-images/5070646800_1_1_1.jpg...\n",
            "Copying gs://vector_store-genai-387907-images/5372302070_6_1_1.jpg...\n",
            "Copying gs://vector_store-genai-387907-images/5388700400_6_1_1.jpg...\n",
            "Copying gs://vector_store-genai-387907-images/5418110202_6_1_1.jpg...\n",
            "Copying gs://vector_store-genai-387907-images/5420210800_6_1_1.jpg...\n",
            "Copying gs://vector_store-genai-387907-images/5536126806_1_1_1.jpg...\n",
            "Copying gs://vector_store-genai-387907-images/5536562712_6_1_1.jpg...\n",
            "Copying gs://vector_store-genai-387907-images/5643532250_6_1_1.jpg...\n",
            "Copying gs://vector_store-genai-387907-images/5886779620_6_1_1.jpg...\n",
            "Copying gs://vector_store-genai-387907-images/6029230604_6_1_1.jpg...\n",
            "Copying gs://vector_store-genai-387907-images/6061548959_6_1_1.jpg...\n",
            "Copying gs://vector_store-genai-387907-images/6149230107_6_1_1.jpg...\n",
            "Copying gs://vector_store-genai-387907-images/6164179427_1_1_1.jpg...\n",
            "Copying gs://vector_store-genai-387907-images/6224396251_6_1_1 (1).jpg...\n",
            "Copying gs://vector_store-genai-387907-images/6224396251_6_1_1.jpg...\n",
            "Copying gs://vector_store-genai-387907-images/6224628633_6_1_1.jpg...\n",
            "Copying gs://vector_store-genai-387907-images/6330011330_6_1_1.jpg...\n",
            "Copying gs://vector_store-genai-387907-images/6688209800_1_1_1.jpg...\n",
            "Copying gs://vector_store-genai-387907-images/6739230400_6_1_1.jpg...\n",
            "Copying gs://vector_store-genai-387907-images/6771095800_1_1_1.jpg...\n",
            "Copying gs://vector_store-genai-387907-images/6861389800_6_1_1.jpg...\n",
            "Copying gs://vector_store-genai-387907-images/6873111832_1_1_1.jpg...\n",
            "Copying gs://vector_store-genai-387907-images/6917764806_6_1_1.jpg...\n",
            "Copying gs://vector_store-genai-387907-images/6985453250_6_1_1.jpg...\n",
            "Copying gs://vector_store-genai-387907-images/7775588404_1_1_1.jpg...\n",
            "Copying gs://vector_store-genai-387907-images/8041709620_1_1_1.jpg...\n",
            "Copying gs://vector_store-genai-387907-images/8156463330_1_1_1.jpg...\n",
            "Copying gs://vector_store-genai-387907-images/8162786942_1_1_1.jpg...\n",
            "Copying gs://vector_store-genai-387907-images/8281469251_6_1_1.jpg...\n",
            "Copying gs://vector_store-genai-387907-images/8370728704_1_1_1.jpg...\n",
            "Copying gs://vector_store-genai-387907-images/8432361307_1_1_1.jpg...\n",
            "Copying gs://vector_store-genai-387907-images/8491300704_6_1_1.jpg...\n",
            "Copying gs://vector_store-genai-387907-images/8563717403_1_1_1.jpg...\n",
            "Copying gs://vector_store-genai-387907-images/8574349250_6_1_1.jpg...\n",
            "Copying gs://vector_store-genai-387907-images/8574661800_6_1_1.jpg...\n",
            "Copying gs://vector_store-genai-387907-images/8686244485_1_1_1.jpg...\n",
            "Copying gs://vector_store-genai-387907-images/8851018520_1_1_1.jpg...\n",
            "Copying gs://vector_store-genai-387907-images/9000000101_1_1_1.jpg...\n",
            "Copying gs://vector_store-genai-387907-images/9621640933_6_1_1.jpg...\n",
            "Copying gs://vector_store-genai-387907-images/9878166330_1_1_1.jpg...\n",
            "Copying gs://vector_store-genai-387907-images/9878177800_1_1_1.jpg...\n",
            "Copying gs://vector_store-genai-387907-images/9929222712_1_1_1.jpg...\n",
            "- [116 files][ 42.0 MiB/ 42.0 MiB]  675.9 KiB/s                                 \n",
            "==> NOTE: You are performing a sequence of gsutil operations that may\n",
            "run significantly faster if you instead use gsutil -m cp ... Please\n",
            "see the -m section under \"gsutil help options\" for further information\n",
            "about when gsutil -m can be advantageous.\n",
            "\n",
            "\n",
            "Operation completed over 116 objects/42.0 MiB.                                   \n"
          ]
        }
      ]
    },
    {
      "cell_type": "code",
      "source": [
        "image_directory = \"/content\""
      ],
      "metadata": {
        "id": "oCNaDfFRY8rO"
      },
      "execution_count": 81,
      "outputs": []
    },
    {
      "cell_type": "markdown",
      "source": [
        "# Cloud Vision Embeddings"
      ],
      "metadata": {
        "id": "9cwhtvKqYNrE"
      }
    },
    {
      "cell_type": "code",
      "source": [
        "import os"
      ],
      "metadata": {
        "id": "eznikGKUU3rz"
      },
      "execution_count": 69,
      "outputs": []
    },
    {
      "cell_type": "code",
      "source": [
        "import glob\n",
        "image_names = glob.glob('images/*.jpg')"
      ],
      "metadata": {
        "id": "EBrWkH9yqcuq"
      },
      "execution_count": 50,
      "outputs": []
    },
    {
      "cell_type": "code",
      "source": [
        "image_names = ['0478630300_1_1_1.jpg', '0485561712_6_1_1.jpg', '1165680701_1_1_1.jpg']\n",
        "\n",
        "image_paths = [os.path.join(image_directory, image_name) for image_name in image_names]\n",
        "\n",
        "print(image_paths)"
      ],
      "metadata": {
        "colab": {
          "base_uri": "https://localhost:8080/"
        },
        "id": "E-27SYJ-aYlC",
        "outputId": "4d7a5371-83d6-479c-b226-3753080913af"
      },
      "execution_count": 82,
      "outputs": [
        {
          "output_type": "stream",
          "name": "stdout",
          "text": [
            "['/content/images/0478630300_1_1_1.jpg', '/content/images/0485561712_6_1_1.jpg', '/content/images/1165680701_1_1_1.jpg']\n"
          ]
        }
      ]
    },
    {
      "cell_type": "markdown",
      "source": [
        "Perform rate-limited explicit image detection"
      ],
      "metadata": {
        "id": "WYnW0p37YDBb"
      }
    },
    {
      "cell_type": "code",
      "source": [
        "\n",
        "import time\n",
        "from concurrent.futures import ThreadPoolExecutor\n",
        "from typing import Optional\n",
        "\n",
        "import numpy as np\n",
        "from tqdm import tqdm\n",
        "\n",
        "# Create a rate limiter with a limit of 1800 requests per minute\n",
        "seconds_per_job = 1 / (1800 / 60)\n",
        "\n",
        "\n",
        "def process_image(image_path: str) -> Optional[bool]:\n",
        "    try:\n",
        "        annotation = detect_safe_search(image_path)\n",
        "\n",
        "        if annotation:\n",
        "            return convert_annotation_to_safety(safe_search_annotation=annotation)\n",
        "        else:\n",
        "            return None\n",
        "    except Exception:\n",
        "        return None\n",
        "\n",
        "\n",
        "# Process images using ThreadPool\n",
        "is_safe_values_cloud_vision = []\n",
        "with ThreadPoolExecutor() as executor:\n",
        "    futures = []\n",
        "    for img_url in tqdm(image_paths, total=len(image_paths), position=0):\n",
        "        futures.append(executor.submit(process_image, img_url))\n",
        "        time.sleep(seconds_per_job)\n",
        "\n",
        "    for future in futures:\n",
        "        is_safe_values_cloud_vision.append(future.result())\n",
        "\n",
        "# Set Nones to False\n",
        "is_safe_values_cloud_vision = [\n",
        "    is_safe or False for is_safe in is_safe_values_cloud_vision\n",
        "]\n",
        "\n",
        "# Print number of safe images found\n",
        "print(\n",
        "    f\"Safe images = {np.array(is_safe_values_cloud_vision).sum()} out of {len(is_safe_values_cloud_vision)} images\"\n",
        ")"
      ],
      "metadata": {
        "colab": {
          "base_uri": "https://localhost:8080/"
        },
        "id": "azK1wjb4YxzC",
        "outputId": "91b97d3a-0e09-4c5c-a33d-a5976326e864"
      },
      "execution_count": 83,
      "outputs": [
        {
          "output_type": "stream",
          "name": "stderr",
          "text": [
            "100%|██████████| 3/3 [00:00<00:00, 28.16it/s]"
          ]
        },
        {
          "output_type": "stream",
          "name": "stdout",
          "text": [
            "Safe images = 0 out of 3 images\n"
          ]
        },
        {
          "output_type": "stream",
          "name": "stderr",
          "text": [
            "\n"
          ]
        }
      ]
    },
    {
      "cell_type": "markdown",
      "source": [
        "Defining encoding functions\n"
      ],
      "metadata": {
        "id": "l3ln-xRqa-PX"
      }
    },
    {
      "cell_type": "code",
      "source": [
        "import base64\n",
        "import time\n",
        "import typing\n",
        "\n",
        "from google.cloud import aiplatform\n",
        "from google.protobuf import struct_pb2\n",
        "\n",
        "\n",
        "class EmbeddingResponse(typing.NamedTuple):\n",
        "    text_embedding: typing.Sequence[float]\n",
        "    image_embedding: typing.Sequence[float]\n",
        "\n",
        "\n",
        "def load_image_bytes(image_uri: str) -> bytes:\n",
        "    \"\"\"Load image bytes from a remote or local URI.\"\"\"\n",
        "    image_bytes = None\n",
        "    if image_uri.startswith(\"http://\") or image_uri.startswith(\"https://\"):\n",
        "        response = requests.get(image_uri, stream=True)\n",
        "        if response.status_code == 200:\n",
        "            image_bytes = response.content\n",
        "    else:\n",
        "        image_bytes = open(image_uri, \"rb\").read()\n",
        "    return image_bytes\n",
        "\n",
        "\n",
        "class EmbeddingPredictionClient:\n",
        "    \"\"\"Wrapper around Prediction Service Client.\"\"\"\n",
        "\n",
        "    def __init__(\n",
        "        self,\n",
        "        project: str,\n",
        "        location: str = \"us-central1\",\n",
        "        api_regional_endpoint: str = \"us-central1-aiplatform.googleapis.com\",\n",
        "    ):\n",
        "        client_options = {\"api_endpoint\": api_regional_endpoint}\n",
        "        # Initialize client that will be used to create and send requests.\n",
        "        # This client only needs to be created once, and can be reused for multiple requests.\n",
        "        self.client = aiplatform.gapic.PredictionServiceClient(\n",
        "            client_options=client_options\n",
        "        )\n",
        "        self.location = location\n",
        "        self.project = project\n",
        "\n",
        "    def get_embedding(self, text: str = None, image_file: str = None):\n",
        "        if not text and not image_file:\n",
        "            raise ValueError(\"At least one of text or image_file must be specified.\")\n",
        "\n",
        "        # Load image file\n",
        "        image_bytes = None\n",
        "        if image_file:\n",
        "            image_bytes = load_image_bytes(image_file)\n",
        "\n",
        "        instance = struct_pb2.Struct()\n",
        "        if text:\n",
        "            instance.fields[\"text\"].string_value = text\n",
        "\n",
        "        if image_bytes:\n",
        "            encoded_content = base64.b64encode(image_bytes).decode(\"utf-8\")\n",
        "            image_struct = instance.fields[\"image\"].struct_value\n",
        "            image_struct.fields[\"bytesBase64Encoded\"].string_value = encoded_content\n",
        "\n",
        "        instances = [instance]\n",
        "        endpoint = (\n",
        "            f\"projects/{self.project}/locations/{self.location}\"\n",
        "            \"/publishers/google/models/multimodalembedding@001\"\n",
        "        )\n",
        "        response = self.client.predict(endpoint=endpoint, instances=instances)\n",
        "\n",
        "        text_embedding = None\n",
        "        if text:\n",
        "            text_emb_value = response.predictions[0][\"textEmbedding\"]\n",
        "            text_embedding = [v for v in text_emb_value]\n",
        "\n",
        "        image_embedding = None\n",
        "        if image_bytes:\n",
        "            image_emb_value = response.predictions[0][\"imageEmbedding\"]\n",
        "            image_embedding = [v for v in image_emb_value]\n",
        "\n",
        "        return EmbeddingResponse(\n",
        "            text_embedding=text_embedding, image_embedding=image_embedding\n",
        "        )"
      ],
      "metadata": {
        "id": "fNdneAlFa-A7"
      },
      "execution_count": 84,
      "outputs": []
    },
    {
      "cell_type": "markdown",
      "source": [
        "Create helper functions to process data in batches"
      ],
      "metadata": {
        "id": "kbgKo-oQbCI0"
      }
    },
    {
      "cell_type": "code",
      "source": [
        "import time\n",
        "from concurrent.futures import ThreadPoolExecutor\n",
        "from typing import Callable, Generator, List\n",
        "\n",
        "from tqdm.auto import tqdm\n",
        "\n",
        "\n",
        "def generate_batches(\n",
        "    inputs: List[str], batch_size: int\n",
        ") -> Generator[List[str], None, None]:\n",
        "    \"\"\"\n",
        "    Generator function that takes a list of strings and a batch size, and yields batches of the specified size.\n",
        "    \"\"\"\n",
        "\n",
        "    for i in range(0, len(inputs), batch_size):\n",
        "        yield inputs[i : i + batch_size]\n",
        "\n",
        "\n",
        "API_IMAGES_PER_SECOND = 2\n",
        "\n",
        "\n",
        "def encode_to_embeddings_chunked(\n",
        "    process_function: Callable[[List[str]], List[Optional[List[float]]]],\n",
        "    items: List[str],\n",
        "    batch_size: int = 1,\n",
        ") -> List[Optional[List[float]]]:\n",
        "    \"\"\"\n",
        "    Function that encodes a list of strings into embeddings using a process function.\n",
        "    It takes a list of strings and returns a list of optional lists of floats.\n",
        "    The data is processed in chunks to prevent out-of-memory errors.\n",
        "    \"\"\"\n",
        "\n",
        "    embeddings_list: List[Optional[List[float]]] = []\n",
        "\n",
        "    # Prepare the batches using a generator\n",
        "    batches = generate_batches(items, batch_size)\n",
        "\n",
        "    seconds_per_job = batch_size / API_IMAGES_PER_SECOND\n",
        "\n",
        "    with ThreadPoolExecutor() as executor:\n",
        "        futures = []\n",
        "        for batch in tqdm(batches, total=len(items) // batch_size, position=0):\n",
        "            futures.append(executor.submit(process_function, batch))\n",
        "            time.sleep(seconds_per_job)\n",
        "\n",
        "        for future in futures:\n",
        "            embeddings_list.extend(future.result())\n",
        "    return embeddings_list\n",
        ""
      ],
      "metadata": {
        "id": "BE1CP0LRbChz"
      },
      "execution_count": 85,
      "outputs": []
    },
    {
      "cell_type": "markdown",
      "source": [
        "Create functions that wrap embedding functions in try-except and retry logic."
      ],
      "metadata": {
        "id": "w1WiMUWobF1O"
      }
    },
    {
      "cell_type": "code",
      "source": [
        "import copy\n",
        "from typing import List, Optional\n",
        "\n",
        "import numpy as np\n",
        "import requests\n",
        "from tenacity import retry, stop_after_attempt\n",
        "\n",
        "client = EmbeddingPredictionClient(project=PROJECT_ID)\n",
        "\n",
        "\n",
        "# Use a retry handler in case of failure\n",
        "@retry(reraise=True, stop=stop_after_attempt(3))\n",
        "def encode_texts_to_embeddings_with_retry(text: List[str]) -> List[List[float]]:\n",
        "    assert len(text) == 1\n",
        "\n",
        "    try:\n",
        "        return [client.get_embedding(text=text[0], image_file=None).text_embedding]\n",
        "    except Exception:\n",
        "        raise RuntimeError(\"Error getting embedding.\")\n",
        "\n",
        "\n",
        "def encode_texts_to_embeddings(text: List[str]) -> List[Optional[List[float]]]:\n",
        "    try:\n",
        "        return encode_texts_to_embeddings_with_retry(text=text)\n",
        "    except Exception:\n",
        "        return [None for _ in range(len(text))]\n",
        "\n",
        "\n",
        "@retry(reraise=True, stop=stop_after_attempt(3))\n",
        "def encode_images_to_embeddings_with_retry(image_uris: List[str]) -> List[List[float]]:\n",
        "    assert len(image_uris) == 1\n",
        "\n",
        "    try:\n",
        "        return [\n",
        "            client.get_embedding(text=None, image_file=image_uris[0]).image_embedding\n",
        "        ]\n",
        "    except Exception as ex:\n",
        "        print(ex)\n",
        "        raise RuntimeError(\"Error getting embedding.\")\n",
        "\n",
        "\n",
        "def encode_images_to_embeddings(image_uris: List[str]) -> List[Optional[List[float]]]:\n",
        "    try:\n",
        "        return encode_images_to_embeddings_with_retry(image_uris=image_uris)\n",
        "    except Exception as ex:\n",
        "        print(ex)\n",
        "        return [None for _ in range(len(image_uris))]\n",
        ""
      ],
      "metadata": {
        "id": "85tQSlD9bGDP"
      },
      "execution_count": 86,
      "outputs": []
    },
    {
      "cell_type": "markdown",
      "source": [
        "Test the encoding function"
      ],
      "metadata": {
        "id": "Ylp55mBfbKml"
      }
    },
    {
      "cell_type": "code",
      "source": [
        "%%time\n",
        "# Encode a sample subset of images\n",
        "image_paths_filtered = list(image_paths)[:1000]\n",
        "image_embeddings = encode_to_embeddings_chunked(\n",
        "    process_function=encode_images_to_embeddings, items=image_paths_filtered\n",
        ")\n",
        "\n",
        "# Keep only non-None embeddings\n",
        "indexes_to_keep, image_embeddings = zip(\n",
        "    *[\n",
        "        (index, embedding)\n",
        "        for index, embedding in enumerate(image_embeddings)\n",
        "        if embedding is not None\n",
        "    ]\n",
        ")\n",
        "\n",
        "print(f\"Processed {len(indexes_to_keep)} embeddings successfully\")\n",
        ""
      ],
      "metadata": {
        "colab": {
          "base_uri": "https://localhost:8080/",
          "height": 101,
          "referenced_widgets": [
            "a6aac4e208a1469f96639fefe2863a0d",
            "204b73bf8d7041ff9f53cad501fc91a3",
            "58b177e15de54bf9a91116543d08a8cd",
            "099a5b51bc0b488a800c4cbd6f9b9670",
            "5555c15b378e4f0288d740ca968f1cad",
            "fabc19f4cd4c4a2f97f69bf69b2c8e2b",
            "87d2bf32a70f41b5a0882348e5f2c84d",
            "79da890d73b2461fa748b1a18eb9c27e",
            "36a1a78ebc2743d4850cdd686a015611",
            "ee43e37b232b4066a9dc24d82a963b5b",
            "a89c68cfadaf4675aeb2a15f2e64aef4"
          ]
        },
        "id": "jZAOJNrLbMSu",
        "outputId": "86dc34cf-2cf4-4d25-e3a6-55ada2479a7f"
      },
      "execution_count": 87,
      "outputs": [
        {
          "output_type": "display_data",
          "data": {
            "text/plain": [
              "  0%|          | 0/3 [00:00<?, ?it/s]"
            ],
            "application/vnd.jupyter.widget-view+json": {
              "version_major": 2,
              "version_minor": 0,
              "model_id": "a6aac4e208a1469f96639fefe2863a0d"
            }
          },
          "metadata": {}
        },
        {
          "output_type": "stream",
          "name": "stdout",
          "text": [
            "Processed 3 embeddings successfully\n",
            "CPU times: user 117 ms, sys: 12.3 ms, total: 129 ms\n",
            "Wall time: 5.65 s\n"
          ]
        }
      ]
    },
    {
      "cell_type": "code",
      "source": [
        "import numpy as np\n",
        "\n",
        "\n",
        "def dot_product_distance(\n",
        "    text_embedding: np.ndarray, image_embeddings: np.ndarray\n",
        ") -> np.ndarray:\n",
        "    \"\"\"Compute dot-product distance between text and image embeddings by taking the dot product\"\"\"\n",
        "    return np.dot(text_embedding, image_embeddings.T)\n",
        ""
      ],
      "metadata": {
        "id": "LZUM6HtFbu92"
      },
      "execution_count": 88,
      "outputs": []
    },
    {
      "cell_type": "code",
      "source": [
        "import math\n",
        "from io import BytesIO\n",
        "\n",
        "import matplotlib.pyplot as plt\n",
        "from PIL import Image\n",
        "\n",
        "text_query = \"jacket blue\"\n",
        "\n",
        "# Calculate text embedding of query\n",
        "text_embedding = encode_texts_to_embeddings(text=[text_query])[0]\n",
        "\n",
        "print(type(text_embedding))\n",
        "print(type(text_embedding[0]))\n",
        "\n",
        "print(type(image_embeddings))\n",
        "print(type(image_embeddings[0]))\n",
        "\n",
        "# Calculate distance\n",
        "distances = dot_product_distance(\n",
        "    text_embedding=np.array(text_embedding), image_embeddings=np.array(image_embeddings)\n",
        ")\n",
        "\n",
        "# Set the maximum number of images to display\n",
        "MAX_IMAGES = 20\n",
        "\n",
        "# Sort images and scores by descending order of scores and select the top max_images\n",
        "sorted_data = sorted(\n",
        "    zip(image_paths_filtered, distances), key=lambda x: x[1], reverse=True\n",
        ")[:MAX_IMAGES]\n",
        "\n",
        "# Calculate the number of rows and columns needed to display the images\n",
        "num_cols = 4\n",
        "num_rows = math.ceil(len(sorted_data) / num_cols)\n",
        "\n",
        "\n",
        "# Create a grid of subplots to display the images\n",
        "fig, axs = plt.subplots(nrows=num_rows, ncols=num_cols, figsize=(10, 12))\n",
        "\n",
        "# Loop through the top max_images images and display them in the subplots\n",
        "for i, (image_path, distance) in enumerate(sorted_data):\n",
        "    # Calculate the row and column index for the current image\n",
        "    row_idx = i // num_cols\n",
        "    col_idx = i % num_cols\n",
        "\n",
        "    # Check if image_path is a remote URL\n",
        "    if image_path.startswith(\"http://\") or image_path.startswith(\"https://\"):\n",
        "        response = requests.get(image_path)\n",
        "        image = Image.open(BytesIO(response.content))\n",
        "    else:\n",
        "        image = Image.open(image_path)\n",
        "\n",
        "    # Display the image in the current subplot\n",
        "    axs[row_idx, col_idx].imshow(image, cmap=\"gray\")\n",
        "\n",
        "    # Set the title of the subplot to the image index and score\n",
        "    axs[row_idx, col_idx].set_title(f\"Rank {i+1}, Distance = {distance:.2f}\")\n",
        "\n",
        "    # Remove ticks from the subplot\n",
        "    axs[row_idx, col_idx].set_xticks([])\n",
        "    axs[row_idx, col_idx].set_yticks([])\n",
        "\n",
        "# Adjust the spacing between subplots and display the plot\n",
        "plt.subplots_adjust(hspace=0.3, wspace=0.1)\n",
        "plt.show()"
      ],
      "metadata": {
        "colab": {
          "base_uri": "https://localhost:8080/",
          "height": 1000
        },
        "id": "Cad8G6nrbx8c",
        "outputId": "4e9caf0b-f8cf-4445-b0c1-51f0cdb89962"
      },
      "execution_count": 89,
      "outputs": [
        {
          "output_type": "stream",
          "name": "stdout",
          "text": [
            "<class 'list'>\n",
            "<class 'float'>\n",
            "<class 'tuple'>\n",
            "<class 'list'>\n"
          ]
        },
        {
          "output_type": "error",
          "ename": "IndexError",
          "evalue": "ignored",
          "traceback": [
            "\u001b[0;31m---------------------------------------------------------------------------\u001b[0m",
            "\u001b[0;31mIndexError\u001b[0m                                Traceback (most recent call last)",
            "\u001b[0;32m<ipython-input-89-d0cbf1889910>\u001b[0m in \u001b[0;36m<cell line: 40>\u001b[0;34m()\u001b[0m\n\u001b[1;32m     51\u001b[0m \u001b[0;34m\u001b[0m\u001b[0m\n\u001b[1;32m     52\u001b[0m     \u001b[0;31m# Display the image in the current subplot\u001b[0m\u001b[0;34m\u001b[0m\u001b[0;34m\u001b[0m\u001b[0m\n\u001b[0;32m---> 53\u001b[0;31m     \u001b[0maxs\u001b[0m\u001b[0;34m[\u001b[0m\u001b[0mrow_idx\u001b[0m\u001b[0;34m,\u001b[0m \u001b[0mcol_idx\u001b[0m\u001b[0;34m]\u001b[0m\u001b[0;34m.\u001b[0m\u001b[0mimshow\u001b[0m\u001b[0;34m(\u001b[0m\u001b[0mimage\u001b[0m\u001b[0;34m,\u001b[0m \u001b[0mcmap\u001b[0m\u001b[0;34m=\u001b[0m\u001b[0;34m\"gray\"\u001b[0m\u001b[0;34m)\u001b[0m\u001b[0;34m\u001b[0m\u001b[0;34m\u001b[0m\u001b[0m\n\u001b[0m\u001b[1;32m     54\u001b[0m \u001b[0;34m\u001b[0m\u001b[0m\n\u001b[1;32m     55\u001b[0m     \u001b[0;31m# Set the title of the subplot to the image index and score\u001b[0m\u001b[0;34m\u001b[0m\u001b[0;34m\u001b[0m\u001b[0m\n",
            "\u001b[0;31mIndexError\u001b[0m: too many indices for array: array is 1-dimensional, but 2 were indexed"
          ]
        },
        {
          "output_type": "display_data",
          "data": {
            "text/plain": [
              "<Figure size 1000x1200 with 4 Axes>"
            ],
            "image/png": "[encoded data removed]"
          },
          "metadata": {}
        }
      ]
    },
    {
      "cell_type": "code",
      "source": [
        "DIMENSIONS = len(text_embedding)\n",
        "\n",
        "print(DIMENSIONS)"
      ],
      "metadata": {
        "colab": {
          "base_uri": "https://localhost:8080/"
        },
        "id": "n6x1hc9Vb2qx",
        "outputId": "e87de200-8d51-44a9-8850-7a31769d54fe"
      },
      "execution_count": 90,
      "outputs": [
        {
          "output_type": "stream",
          "name": "stdout",
          "text": [
            "1408\n"
          ]
        }
      ]
    },
    {
      "cell_type": "markdown",
      "source": [
        "Save the embedding in JSONL formt"
      ],
      "metadata": {
        "id": "TjgqsVjXb5KI"
      }
    },
    {
      "cell_type": "code",
      "source": [
        "import tempfile\n",
        "\n",
        "# Create temporary file to write embeddings to\n",
        "embeddings_file = tempfile.NamedTemporaryFile(suffix=\".json\", delete=False)\n",
        "\n",
        "embeddings_file.name"
      ],
      "metadata": {
        "colab": {
          "base_uri": "https://localhost:8080/",
          "height": 35
        },
        "id": "9J2u-tNob8dy",
        "outputId": "523de454-518c-4372-da33-af6f60be4cae"
      },
      "execution_count": 91,
      "outputs": [
        {
          "output_type": "execute_result",
          "data": {
            "text/plain": [
              "'/tmp/tmp14z9oui2.json'"
            ],
            "application/vnd.google.colaboratory.intrinsic+json": {
              "type": "string"
            }
          },
          "metadata": {},
          "execution_count": 91
        }
      ]
    },
    {
      "cell_type": "code",
      "source": [
        "import json\n",
        "import random\n",
        "\n",
        "BATCH_SIZE = 1000\n",
        "\n",
        "\n",
        "mylist = [\"even\", \"odd\"]\n",
        "\n",
        "\n",
        "with open(embeddings_file.name, \"a\") as f:\n",
        "    for i in tqdm(range(0, len(image_names), BATCH_SIZE)):\n",
        "        image_names_chunk = image_names[i : i + BATCH_SIZE]\n",
        "        image_paths_chunk = image_paths[i : i + BATCH_SIZE]\n",
        "\n",
        "        embeddings = encode_to_embeddings_chunked(\n",
        "            process_function=encode_images_to_embeddings, items=image_paths_chunk\n",
        "        )\n",
        "\n",
        "        # Append to file\n",
        "        embeddings_formatted = [\n",
        "            json.dumps(\n",
        "                {\n",
        "                    \"id\": str(id),\n",
        "                    \"embedding\": [str(value) for value in embedding],\n",
        "                    \"restricts\": [\n",
        "                        {\n",
        "                           \"namespace\": \"class\",\n",
        "                           \"allow_list\": [\"even\"],\n",
        "                       }\n",
        "                ],\n",
        "            }\n",
        "        )\n",
        "            + \"\\n\"\n",
        "            for id, embedding in zip(image_names_chunk, embeddings)\n",
        "            if embedding is not None\n",
        "        ]\n",
        "        print(embeddings_formatted)\n",
        "        f.writelines(embeddings_formatted)\n",
        ""
      ],
      "metadata": {
        "colab": {
          "base_uri": "https://localhost:8080/",
          "height": 118,
          "referenced_widgets": [
            "55c6ee3234db43f5bb46357db6d7fa39",
            "7d9d38e2d6f9470a9fccf7d4ba8d33ef",
            "9a3fbe566bf94a589d6fc1b6f9ec09a1",
            "64776d839502457ab583dd5f1766feca",
            "1318d9f9111841c18220ebfa6ee70a4d",
            "5e60e881fca54491ab44b9b124a41cec",
            "49558f851a144534b3a7b7ef7a016ba0",
            "0daf4810620940928c8b7cbbdcea2e48",
            "b2a6b4cb2a7445028674ca7a5511ae01",
            "840339a4b5b34ede806bc5d7aa36bdf7",
            "c696bdce502f4c00adb9ae3eb4a8d0d9",
            "1d0d891f8bb94d85b60eefa436a28c65",
            "762ed5344fb34a9fbb88fbf83057ae6f",
            "05ffbda0cc1442dbb8f83d3a9225b3eb",
            "30a08027d7234134996a1307f620fdee",
            "d619fd03407a460382470541bf61b604",
            "8dc307a770d94b9f8567be955c8fbee3",
            "a40e5eb592a64e3f9b439399529365b2",
            "e17d1da9f31b4154bf53580868fa0394",
            "1cadb5d061fc47b8a41149d27cd52724",
            "5b2ded43b09a4eed9ee70bc306c6f8eb",
            "4e889122da0a4cb5b4bc8805925aec4c"
          ]
        },
        "id": "LdSClEFvcEI_",
        "outputId": "9975eb2c-0be0-48ad-b988-80e4f78c5dab"
      },
      "execution_count": 93,
      "outputs": [
        {
          "output_type": "display_data",
          "data": {
            "text/plain": [
              "  0%|          | 0/1 [00:00<?, ?it/s]"
            ],
            "application/vnd.jupyter.widget-view+json": {
              "version_major": 2,
              "version_minor": 0,
              "model_id": "55c6ee3234db43f5bb46357db6d7fa39"
            }
          },
          "metadata": {}
        },
        {
          "output_type": "display_data",
          "data": {
            "text/plain": [
              "  0%|          | 0/3 [00:00<?, ?it/s]"
            ],
            "application/vnd.jupyter.widget-view+json": {
              "version_major": 2,
              "version_minor": 0,
              "model_id": "1d0d891f8bb94d85b60eefa436a28c65"
            }
          },
          "metadata": {}
        },
        {
          "output_type": "stream",
          "name": "stdout",
          "text": [
            "['{\"id\": \"0478630300_1_1_1.jpg\", \"embedding\": [\"0.00939756911\", \"0.00320645771\", \"0.0214965269\", \"0.0266298\", \"0.000151261178\", \"0.0073139742\", \"0.0142244771\", \"-0.0125017986\", \"0.00957495347\", \"-0.0314796045\", \"0.00197654497\", \"0.0111591471\", \"0.00598162459\", \"0.0629659668\", \"0.0120008625\", \"0.0320993625\", \"0.0123042054\", \"-0.0192182586\", \"-0.00782296\", \"-0.00696261413\", \"0.0750428289\", \"0.0213214234\", \"0.0203709751\", \"0.0280104689\", \"0.012508681\", \"-0.00622135075\", \"-0.00934535824\", \"0.0157345124\", \"-0.0220804308\", \"-0.0309167095\", \"0.0483772568\", \"-0.0109938318\", \"0.00226435182\", \"-0.0154890316\", \"0.0465738028\", \"-0.0320551358\", \"-0.0237035565\", \"-0.0233519338\", \"-0.0198739655\", \"0.00969293807\", \"0.0153850885\", \"-0.00121066789\", \"0.0261063445\", \"-0.00498569384\", \"-0.0060426658\", \"0.00181902375\", \"-0.0241659321\", \"-0.00102737453\", \"0.00752839539\", \"-0.0345868394\", \"-0.000926388835\", \"-0.00606835913\", \"-0.00922203\", \"0.0265253112\", \"0.00889573433\", \"-0.0173124652\", \"-0.0135560045\", \"0.0364154875\", \"-0.022418322\", \"-0.0109606432\", \"-0.0417673737\", \"0.00996584166\", \"0.0124634355\", \"-0.011017465\", \"-0.0367254056\", \"-0.00801083446\", \"-0.0148065267\", \"0.0232777148\", \"0.0185566\", \"0.0231888033\", \"-0.00598166743\", \"0.00500597851\", \"-0.00508830231\", \"0.0174956806\", \"0.056975361\", \"0.0332386084\", \"-0.0187192634\", \"0.00944302604\", \"0.0460964032\", \"0.0127252815\", \"0.0070287222\", \"0.0440087318\", \"0.0210963655\", \"0.0041629537\", \"-0.0128111541\", \"0.0193798169\", \"0.020050507\", \"-0.0235433262\", \"0.00479611335\", \"-0.000965339714\", \"0.0194310527\", \"-0.0150688402\", \"-0.0233735442\", \"-0.197253034\", \"-0.026392322\", \"-0.0154631697\", \"-0.0206196699\", \"-0.00397845\", \"-0.015980266\", \"0.0459675081\", \"6.76262e-05\", \"0.0402570516\", \"-0.0486058928\", \"0.00236097584\", \"0.0190303568\", \"-0.0113214822\", \"-0.0138985924\", \"0.0403757244\", \"-0.00911833439\", \"0.050535392\", \"-0.0150980409\", \"0.0438148938\", \"-0.00531255594\", \"0.0203696359\", \"0.0206925869\", \"-0.0173253641\", \"0.00530550163\", \"0.00938524865\", \"-0.021641532\", \"-0.0138309747\", \"0.0164715126\", \"0.00616529444\", \"0.0151643194\", \"-0.0016604485\", \"-0.00275982567\", \"-0.0693236738\", \"0.0208186898\", \"-0.0217765365\", \"0.0258681457\", \"0.00294349599\", \"-0.0121078119\", \"0.0106494762\", \"-0.0082824342\", \"0.00555247301\", \"-0.0346242152\", \"-0.0643661097\", \"0.0287439432\", \"-0.037666332\", \"0.0300663356\", \"-0.0365923904\", \"0.0167589188\", \"-0.0159358196\", \"-0.0363236517\", \"0.0619049296\", \"0.0413313732\", \"-0.00578508712\", \"0.0363884792\", \"-0.0372808576\", \"-0.00919197593\", \"0.0215057284\", \"0.0210898668\", \"-0.0126695959\", \"0.00695489\", \"-0.052410841\", \"-0.039846424\", \"-0.0417938195\", \"0.0132204238\", \"-0.0355582125\", \"0.0255853012\", \"0.00772293657\", \"-0.0319962204\", \"0.00440219603\", \"0.00307732029\", \"-0.0180593543\", \"-0.0132109625\", \"0.011524464\", \"0.000969461689\", \"-0.0068010306\", \"0.00691276137\", \"-0.0159553587\", \"-0.0118768187\", \"0.0135924211\", \"-0.0191193633\", \"0.0139285186\", \"0.0174285788\", \"-0.0132122543\", \"-0.0100308638\", \"-0.00799145922\", \"0.0106016695\", \"-0.0182861388\", \"-0.0293166302\", \"0.0168193243\", \"-0.0178046245\", \"0.00235349685\", \"-0.0334095173\", \"0.00543677714\", \"0.00608462794\", \"-0.0197162256\", \"0.0159987863\", \"0.0574985407\", \"-0.0203405824\", \"-0.0127234431\", \"-0.00151416752\", \"0.00632816833\", \"0.0262271427\", \"0.0674814731\", \"0.0150976162\", \"-0.0159545336\", \"-0.00726184109\", \"0.0032391767\", \"-0.0250070225\", \"-0.0246472489\", \"0.000348286791\", \"-0.04032759\", \"0.0310744215\", \"0.0358729511\", \"-0.0577393621\", \"0.016344633\", \"0.0326812305\", \"-0.0400486365\", \"0.0163624976\", \"0.00529003236\", \"0.0241392106\", \"0.0490107462\", \"0.0275369305\", \"-0.0172014125\", \"-0.018633401\", \"-0.0328937769\", \"-0.0619267486\", \"-0.0233261399\", \"-0.00380997453\", \"-0.00256195269\", \"0.0319069251\", \"-0.0285517666\", \"-0.0162065346\", \"-0.0328960679\", \"0.00593631202\", \"-0.0230353568\", \"-0.0330967084\", \"0.00872768275\", \"0.0131608136\", \"-0.017347265\", \"0.0274753012\", \"0.0265351851\", \"-0.0178125966\", \"-0.00681996858\", \"-0.0016616045\", \"-0.00712281233\", \"-0.0527611189\", \"0.0028424717\", \"-0.00171349745\", \"-0.0103313411\", \"0.016742453\", \"0.0302520841\", \"0.00822857488\", \"-0.00114105607\", \"-0.0156107228\", \"-0.0114097288\", \"0.0030380059\", \"0.0214681793\", \"0.0134559041\", \"0.000142937832\", \"-0.0223101098\", \"0.0225833319\", \"-0.0303951018\", \"0.00251169014\", \"-0.0218544286\", \"-0.0034401759\", \"0.0328268223\", \"-0.00475782435\", \"-0.0350522473\", \"-0.00376257766\", \"-0.0256436579\", \"0.00832843\", \"0.0027967745\", \"0.012264112\", \"0.0359469615\", \"0.00531191705\", \"0.0332894623\", \"-0.0115461722\", \"-0.00268512731\", \"0.0270942561\", \"-0.0388561077\", \"0.0058775153\", \"0.0124425665\", \"0.0264448896\", \"0.0254059564\", \"-0.00258099218\", \"0.0152177894\", \"0.0521736778\", \"-0.0246586055\", \"0.00749347964\", \"-0.0234248564\", \"0.0336789\", \"0.00941188727\", \"0.0116143757\", \"-0.168311596\", \"-0.00600572815\", \"0.0111962408\", \"-0.0429326966\", \"0.0294154622\", \"0.0141294617\", \"-0.00357660209\", \"-0.0167433266\", \"-0.00976600312\", \"0.042451486\", \"0.0298252571\", \"-0.0161407664\", \"-0.0262596235\", \"0.00972222071\", \"0.00285763037\", \"0.0419017524\", \"0.0289220922\", \"0.0130530214\", \"-0.0144158388\", \"-0.0222905353\", \"-0.0144426897\", \"-0.0334895141\", \"-0.00674625393\", \"0.0129759302\", \"-0.0274141617\", \"0.021099\", \"0.0282812454\", \"0.000701013254\", \"-0.00683026155\", \"-0.0120815923\", \"0.0197285675\", \"0.0204990152\", \"0.0234122053\", \"0.00406393548\", \"-0.0342915133\", \"-0.00456408085\", \"-0.00458468543\", \"-0.0355043672\", \"0.0159511436\", \"0.023914706\", \"0.0182457641\", \"0.0145678073\", \"-0.00272320351\", \"-0.000802185\", \"0.029520601\", \"-0.0427308\", \"0.013666993\", \"-0.0169694368\", \"-0.0500646047\", \"-0.0130445622\", \"-0.00897118263\", \"0.00852702092\", \"-0.025125742\", \"-0.0353952497\", \"0.0524724908\", \"-0.0129732657\", \"0.00017957094\", \"0.00886458624\", \"-0.0103208805\", \"0.035270568\", \"-0.00433988497\", \"-0.00330192898\", \"-0.00761183957\", \"-0.00597531209\", \"-0.027306933\", \"0.0310813189\", \"0.00512071699\", \"-0.00235651596\", \"-0.0531642325\", \"-0.00249611167\", \"-0.0247118492\", \"-0.00892834645\", \"0.00688979682\", \"-0.00336136715\", \"0.0236199796\", \"-0.0308622513\", \"0.0613689907\", \"0.00582525693\", \"0.00932215713\", \"-0.0490346365\", \"-0.0335039571\", \"-0.0105190249\", \"-0.0825974345\", \"-0.00615956774\", \"-0.0296159014\", \"-0.0127416495\", \"0.0302792471\", \"0.0234556831\", \"0.00472416077\", \"-0.0478941761\", \"-0.0278301388\", \"0.00286514265\", \"0.0205682125\", \"0.00510937\", \"0.00634908\", \"0.010183556\", \"-0.00597787648\", \"-0.00232488662\", \"-0.0276759155\", \"0.0480558239\", \"0.0265073981\", \"-0.0274966955\", \"-0.0541088209\", \"-0.00564462831\", \"-0.0263871681\", \"0.00695133349\", \"0.0111470716\", \"-0.0266688336\", \"-0.00994216651\", \"-0.030656442\", \"-0.0199823268\", \"0.022251673\", \"0.032997109\", \"-0.039936468\", \"-0.017402444\", \"0.00353341573\", \"0.040339116\", \"0.00184665562\", \"-0.0148555469\", \"-0.00812482834\", \"-0.00281746034\", \"-0.0454219133\", \"-0.0322980396\", \"0.00513265422\", \"-0.00261943531\", \"-0.0203064941\", \"-0.0352992378\", \"0.0316085666\", \"0.00813671853\", \"-0.0120439753\", \"-0.00823948\", \"-0.027814148\", \"0.00332828541\", \"0.0285209697\", \"-0.0100314626\", \"0.0171888452\", \"-0.0228960142\", \"-0.000444743375\", \"0.0329433568\", \"-0.0402365699\", \"0.00323295384\", \"-0.0365491137\", \"-0.00612174\", \"-0.00327954441\", \"-0.0106177954\", \"-0.041866228\", \"-0.0486266352\", \"-0.0121847531\", \"-0.00990590174\", \"-0.0109883342\", \"0.0166391842\", \"0.0115788812\", \"-0.0158096645\", \"-0.0175091065\", \"0.00792015623\", \"0.0121947071\", \"-0.0278627425\", \"0.013853\", \"-0.0194210317\", \"-0.0320879184\", \"0.012206587\", \"0.03491503\", \"0.0191761795\", \"0.0420987718\", \"0.00834893\", \"-0.00489887\", \"0.000227637371\", \"-0.0276436917\", \"0.0137226982\", \"-0.00416299514\", \"0.00291451253\", \"-0.0145637505\", \"-0.00828644354\", \"0.032955084\", \"0.0278013442\", \"-0.0098751476\", \"-0.0089891972\", \"0.00380851515\", \"0.025467379\", \"-0.0111283707\", \"-0.00723640481\", \"-0.0207652505\", \"0.00434160372\", \"-0.00382424402\", \"0.00153121527\", \"-0.00805151276\", \"-0.0288549326\", \"-0.0314039402\", \"-0.0115529699\", \"-0.00634384947\", \"0.0144380005\", \"0.0202767979\", \"0.00767318206\", \"-0.00946627371\", \"-0.0143377092\", \"-0.0273027979\", \"-0.00773019576\", \"0.0109262029\", \"-0.0330291241\", \"-0.0210954584\", \"0.0358493552\", \"-0.0273672044\", \"0.0545876\", \"0.0195274986\", \"0.00223735184\", \"-0.0123703983\", \"0.0279606227\", \"-0.0525112525\", \"-0.0165692158\", \"-0.0125071183\", \"-0.0200822875\", \"0.0420044251\", \"-0.0290343761\", \"0.0100734737\", \"-0.0225679055\", \"0.0197685\", \"-0.0371454358\", \"-0.0142695382\", \"0.0230007805\", \"-0.000745377794\", \"-0.0462690555\", \"0.02936217\", \"0.0179516152\", \"-0.0108752446\", \"-0.00535052875\", \"0.0410137586\", \"0.0226000883\", \"0.0396752805\", \"-0.000442683289\", \"0.0358510315\", \"0.0128399422\", \"-0.0125450632\", \"0.0146028083\", \"0.0169749204\", \"-0.00686901901\", \"-0.0181921963\", \"-0.0126086865\", \"-0.0473163128\", \"-0.0194394458\", \"0.0115183499\", \"0.0164445397\", \"-0.0241576172\", \"-0.0335246101\", \"0.00541091384\", \"-0.00957949273\", \"-0.00401608879\", \"-0.028305741\", \"0.0147562427\", \"0.0181586295\", \"-0.0473899432\", \"-0.028807858\", \"-0.0431260131\", \"-0.00504763378\", \"0.0292139165\", \"0.0332574099\", \"-0.0154004497\", \"-0.012062707\", \"0.00311111659\", \"-0.043232806\", \"-0.000679232471\", \"0.0171143245\", \"-0.000509640609\", \"0.0445017032\", \"0.0198987573\", \"-0.0194461849\", \"-0.00453861058\", \"0.00545526342\", \"0.00506018195\", \"0.0137898987\", \"-0.0116000529\", \"0.0231303237\", \"-0.021880364\", \"-0.0133416727\", \"-0.0313731842\", \"0.0250243\", \"-0.0285051987\", \"0.00111938524\", \"-0.00733711943\", \"0.00656958809\", \"0.0199966747\", \"-0.032601919\", \"0.0129573951\", \"-0.0279427022\", \"-0.0129698571\", \"-0.0332732126\", \"-0.0407581553\", \"-0.0260497704\", \"-0.0104981195\", \"-0.0113841807\", \"-0.0289245099\", \"-0.0160209034\", \"0.00167812605\", \"-0.0141398627\", \"0.0132509628\", \"0.0496412031\", \"0.039832335\", \"-0.00562626217\", \"0.0240644962\", \"-0.0563983694\", \"-0.0148310699\", \"-0.00782301743\", \"0.000594450627\", \"-0.0479525104\", \"0.00766884\", \"0.0140468515\", \"0.0319913477\", \"0.0230721086\", \"-0.0152836181\", \"-0.0272548776\", \"0.00487189088\", \"-0.0111015122\", \"-0.00881463289\", \"-0.0388004109\", \"-0.012970875\", \"-0.00132129702\", \"0.00556380441\", \"-0.0286678299\", \"-0.00633993559\", \"-0.0144893304\", \"0.0241853949\", \"-0.0165474974\", \"-0.0293291621\", \"-0.0175286923\", \"-0.0210463647\", \"0.0251176693\", \"0.0307914224\", \"-0.0233997554\", \"0.0255807843\", \"-0.0446761176\", \"0.0332533754\", \"0.00728384452\", \"-0.00886807777\", \"0.0120814256\", \"0.00682324031\", \"0.0221327748\", \"-0.00668632751\", \"0.00884788204\", \"-0.00425013667\", \"-0.0084044151\", \"-0.0138785318\", \"-0.0139145236\", \"0.018461436\", \"0.0541504286\", \"0.0136379478\", \"-0.0397862606\", \"-0.0438265763\", \"0.0021664775\", \"0.0192642026\", \"0.0529808141\", \"0.00305401627\", \"-0.0106811021\", \"0.00577559276\", \"-0.000199224363\", \"0.0358426683\", \"-0.00905817933\", \"0.0287922509\", \"-0.012914462\", \"-0.00785445236\", \"0.000768990489\", \"-0.0320537426\", \"-0.0245744418\", \"-0.014589835\", \"0.012444173\", \"0.00504609\", \"0.0371319205\", \"-0.0208535288\", \"-0.000613504322\", \"-0.00170470914\", \"-0.00903101359\", \"0.0102942623\", \"-0.00516425213\", \"-0.0334587693\", \"-0.0353690237\", \"0.0223852638\", \"-0.12403547\", \"0.00150888087\", \"0.0538401939\", \"0.0199113656\", \"-0.00414932426\", \"0.0145789534\", \"0.00408522505\", \"0.000993962516\", \"-0.0409845635\", \"0.0118454313\", \"-0.00862134714\", \"0.0458870865\", \"-0.114614889\", \"0.0216610134\", \"-0.0112015577\", \"-0.000357511017\", \"-0.000662090781\", \"-0.0161509048\", \"-0.0111622922\", \"0.0309187416\", \"-0.01039996\", \"-0.0144280605\", \"-0.0520377941\", \"0.000402007776\", \"0.00683096\", \"-0.0134046338\", \"0.00507197902\", \"0.0347713493\", \"-0.014422439\", \"-0.0051786867\", \"-0.0386497229\", \"0.00272503635\", \"0.0308402926\", \"0.0305926949\", \"0.0111972764\", \"0.0202510729\", \"0.0351987034\", \"-0.0295838732\", \"0.0246411599\", \"-0.026804341\", \"0.0192857347\", \"0.00312667689\", \"0.00166732282\", \"-0.040530704\", \"0.0180896875\", \"0.00451381784\", \"0.0125538399\", \"0.0107140029\", \"0.0221200269\", \"-0.0501681902\", \"-0.0167051181\", \"0.0265729241\", \"-0.0323374718\", \"-0.00548779359\", \"0.0335359611\", \"0.0160618\", \"-0.0214122739\", \"0.0192992743\", \"-0.0230457038\", \"-0.00194111234\", \"-0.0431731306\", \"-0.0138219343\", \"-0.0354439355\", \"-0.0448254384\", \"0.0259211753\", \"-0.0218284633\", \"0.0233356766\", \"-0.0133175915\", \"0.030837\", \"-0.0237878524\", \"0.0080550909\", \"0.0191860441\", \"0.0186695121\", \"0.00222171913\", \"-0.0194576383\", \"-0.0459188521\", \"0.000347279827\", \"0.0197500139\", \"-0.00587785104\", \"0.0324157253\", \"-0.0502063558\", \"-0.00234571029\", \"-0.00351965614\", \"0.00422519771\", \"0.0049504363\", \"0.00564091187\", \"-0.0353513397\", \"0.00361656118\", \"-0.129228786\", \"-0.0114006866\", \"0.0247168206\", \"-0.0145489732\", \"0.0267401785\", \"-0.0459040776\", \"0.00511999056\", \"-0.0185347442\", \"-0.0118430117\", \"0.016204929\", \"-0.00882834289\", \"-0.0292247552\", \"0.000735370326\", \"0.00255694892\", \"-0.0155844493\", \"0.00336197647\", \"0.00219498482\", \"-0.0272509176\", \"0.0292832293\", \"0.0143973259\", \"-0.059336938\", \"-0.0177358128\", \"-0.00967207458\", \"-0.0398256406\", \"0.00956808776\", \"0.0212052278\", \"-0.0252612\", \"-0.0359834805\", \"0.0280126259\", \"-0.00505019398\", \"-0.0386882238\", \"-0.0117762983\", \"0.0130495606\", \"-0.0198126361\", \"0.0393631458\", \"0.011923003\", \"-0.0516789556\", \"0.00265994738\", \"-0.028339047\", \"-0.00640844321\", \"-0.0310459826\", \"0.00958884507\", \"-0.00521885185\", \"-0.0132627813\", \"-0.0423327833\", \"0.0209019687\", \"0.0182006955\", \"0.0309767\", \"-0.0123496549\", \"0.0158091281\", \"-0.0144576738\", \"-0.0257853698\", \"0.0428235866\", \"0.0431714766\", \"0.0255272128\", \"0.00479660137\", \"0.0237394627\", \"-0.0312358495\", \"0.00193210959\", \"-0.0178152584\", \"0.0273229592\", \"0.0140715633\", \"0.0150835281\", \"0.0212307964\", \"0.0406873934\", \"-0.0040616258\", \"-0.0716754869\", \"0.014065532\", \"0.0253547914\", \"-0.0408616364\", \"-0.0469140746\", \"-0.0156926475\", \"0.0139652826\", \"0.0204333737\", \"0.0330245495\", \"0.0334188\", \"0.0420405\", \"-0.0136256684\", \"0.0166357271\", \"-0.00827551167\", \"-0.00587550551\", \"-0.0241299365\", \"0.0125101972\", \"-0.0180895645\", \"0.0200292189\", \"0.0101790531\", \"-0.00292219105\", \"-0.000778943882\", \"0.000169250619\", \"0.0290980395\", \"-0.0119330287\", \"-0.00756358262\", \"0.00470147748\", \"-0.0113853095\", \"-0.00343532697\", \"0.0276230685\", \"0.0161236878\", \"-0.00390948728\", \"-0.0250559971\", \"-0.056522198\", \"-0.0145481909\", \"-0.0150471264\", \"-0.0330811515\", \"-0.0072524203\", \"-0.000298638421\", \"0.00924621336\", \"-0.0389561951\", \"-0.00545445411\", \"0.0114419963\", \"-0.0134654036\", \"-0.0206636339\", \"0.00208266336\", \"-0.043105118\", \"-0.0262797363\", \"-0.00245448668\", \"0.00696904864\", \"0.0210773442\", \"-0.0166961197\", \"0.0117773293\", \"0.00290681352\", \"-0.0289962478\", \"-0.0116305985\", \"0.0166458283\", \"0.0400295034\", \"-0.00158245256\", \"-0.0261692274\", \"0.0251116268\", \"0.0578530729\", \"-0.05360163\", \"-0.0127408793\", \"0.00199035974\", \"0.00398811279\", \"0.0152043253\", \"0.00880026631\", \"-0.0180441234\", \"-0.00492202211\", \"0.0407869481\", \"-0.0159217659\", \"0.0141105289\", \"0.0144705307\", \"0.000855673628\", \"0.0212766919\", \"0.0035597661\", \"-0.0172042158\", \"0.0411589518\", \"0.00215956056\", \"-0.00149809115\", \"0.000831518613\", \"0.0082470635\", \"-0.0097596366\", \"0.00513560046\", \"0.0589807928\", \"0.0151502984\", \"-0.0224580429\", \"0.004353269\", \"-0.0102580618\", \"0.00442768633\", \"0.0323334\", \"0.0219022\", \"-0.0120443255\", \"0.0043565128\", \"0.0125705758\", \"0.00125207799\", \"0.0822152272\", \"-0.0340299532\", \"-0.00393033307\", \"-0.0109641198\", \"-0.0483952463\", \"0.0184565708\", \"-0.0211777929\", \"0.00824412424\", \"-0.00560905971\", \"0.00975950155\", \"0.00359482924\", \"0.0276621785\", \"0.0194053203\", \"0.0185645\", \"0.0302227065\", \"-0.0115355859\", \"0.014185803\", \"-0.0222874209\", \"-0.00956011\", \"0.00904436596\", \"0.000386215368\", \"0.0414895378\", \"0.0205047429\", \"0.0177020989\", \"-0.000707868661\", \"-0.0640518293\", \"-0.010037886\", \"0.0272648223\", \"0.0341212\", \"-0.0417530164\", \"-0.00626236154\", \"0.0109662656\", \"-0.0829769671\", \"-0.0184950978\", \"0.016296288\", \"-0.00965853687\", \"-0.0259199608\", \"-0.00497674337\", \"0.040321447\", \"-0.0291090179\", \"-0.0231319591\", \"-0.00472442433\", \"0.00367944199\", \"0.00453973236\", \"0.0106502352\", \"0.00978954695\", \"0.00907196943\", \"0.00288552931\", \"-0.0245467406\", \"0.0491994433\", \"-0.0102031818\", \"0.0568411089\", \"0.0633376688\", \"0.0356827565\", \"-0.02240327\", \"0.0221826825\", \"-0.00361662568\", \"-0.0307430588\", \"-0.0247641411\", \"0.0223088395\", \"-0.00379763753\", \"0.00169961399\", \"-0.0181437545\", \"-0.0061643552\", \"0.0133310938\", \"-0.00647381833\", \"-0.00158179528\", \"0.00444472581\", \"-0.0102900304\", \"-0.0382881463\", \"-0.0279643144\", \"0.0183960721\", \"0.00667002611\", \"-0.00692950934\", \"-0.00919643324\", \"-0.0448072925\", \"-0.0267214887\", \"-0.0507595427\", \"-0.038557183\", \"-0.0177309606\", \"-0.00027061344\", \"-0.0231769066\", \"-0.0497056805\", \"-0.020798916\", \"-0.0560818352\", \"0.00822373945\", \"0.0293851793\", \"-0.0252342243\", \"0.013211851\", \"0.0195705015\", \"0.009010043\", \"0.0191727448\", \"-0.0184041783\", \"0.0642797276\", \"0.0197752677\", \"-0.00415734621\", \"-0.0512368493\", \"0.00830053445\", \"-0.0592661612\", \"-0.0224218201\", \"-0.00532401446\", \"0.0177275818\", \"0.0208724383\", \"-0.00637693657\", \"-0.0216508284\", \"-0.0384316556\", \"0.0391218103\", \"0.00433142157\", \"0.0144617967\", \"0.00723240292\", \"-0.012791764\", \"0.00654611085\", \"0.00525889685\", \"0.000137362018\", \"0.0226412676\", \"-0.0324471518\", \"-0.00453719031\", \"0.00295906165\", \"-0.0310314726\", \"0.0353494398\", \"-0.0259207878\", \"-0.0232706163\", \"-0.0523465276\", \"0.00406222185\", \"0.0140445735\", \"-0.010810866\", \"0.012462344\", \"0.0190421529\", \"-0.0562821142\", \"-0.00413354067\", \"0.0105561176\", \"0.0111476118\", \"0.0387905501\", \"0.0247472879\", \"0.019353088\", \"-0.0191602055\", \"0.00603508251\", \"0.044390887\", \"0.0224707108\", \"0.00784136634\", \"-0.0101612825\", \"-0.0156269129\", \"-0.00384529377\", \"0.0249009673\", \"-0.0158406738\", \"-0.0253734421\", \"0.024831593\", \"0.0218060985\", \"-0.0536739156\", \"-0.025449194\", \"-0.0051632449\", \"0.019865673\", \"-0.010762983\", \"0.0189371891\", \"0.0187519472\", \"0.0545223616\", \"-0.0070027709\", \"0.0106510445\", \"-0.0151330279\", \"-0.0258398037\", \"-0.00547898235\", \"-0.028567072\", \"-0.0109072383\", \"-0.0368390605\", \"0.0536893271\", \"0.00250295713\", \"-0.0166794769\", \"0.00977924559\", \"0.00621878915\", \"0.0154553959\", \"0.0193386786\", \"0.0107690534\", \"-0.0307109654\", \"0.0477201752\", \"-0.0135984393\", \"-0.0380272865\", \"-0.0236019455\", \"-0.00853865873\", \"-0.0135367047\", \"0.00314746308\", \"0.018291112\", \"-0.0315089822\", \"-0.00276468019\", \"-0.00649787765\", \"0.0303510558\", \"-0.0467729904\", \"-0.0526001565\", \"0.0173532832\", \"0.00795367733\", \"0.00376302842\", \"-0.00529314391\", \"0.0124634523\", \"-0.045459874\", \"0.0109636942\", \"-0.0228883903\", \"-0.0386275873\", \"-0.00873865094\", \"-0.0268253591\", \"-0.0100872144\", \"0.0200172774\", \"0.0136241931\", \"-0.046350576\", \"-0.00232957\", \"0.0196020193\", \"-0.0674699247\", \"0.00042129241\", \"-0.0265060365\", \"0.0323726833\", \"0.0135096675\", \"0.0248559639\", \"0.013959975\", \"0.0126580866\", \"-0.0138283456\", \"0.032568913\", \"0.00452905521\", \"0.0260811634\", \"0.0142362639\", \"0.0311819315\", \"-0.0316007659\", \"0.0163574759\", \"-0.00675086677\", \"-0.060701903\", \"-0.00943326298\", \"0.00616560038\", \"-0.0120670889\", \"-0.00504814461\", \"-0.0179678928\", \"0.0226651542\", \"-0.0231465437\", \"-0.0263293535\", \"-0.00623540906\", \"-0.0253781863\", \"0.00907137152\", \"-0.018930288\", \"-0.0188885536\", \"-0.0287324358\", \"-0.0152042974\", \"-0.00858877227\", \"-0.0525917411\", \"0.0161942821\", \"0.0128474422\", \"-0.0287707932\", \"0.000381920225\", \"-0.0116094938\", \"-0.0368456692\", \"0.0109494897\", \"-0.0605604798\", \"0.06204395\", \"0.0112726921\", \"-0.0208573435\", \"-0.0105562117\", \"-0.00436119409\", \"-0.0892199799\", \"0.00583048863\", \"-0.0103950361\", \"-0.00364003214\", \"0.0524151213\", \"-0.0126594659\", \"-0.0316265561\", \"0.0358264968\", \"-0.0197756402\", \"0.0346624292\", \"-0.0106633296\", \"-0.0187308304\", \"0.00326632732\", \"0.0157503\", \"-0.0267510749\", \"0.046410393\", \"-0.025959\", \"0.00248987507\", \"0.0174839385\", \"-0.0316197239\", \"0.0274383742\", \"0.0124666533\", \"-0.0258114748\", \"-0.00573811401\", \"-0.023673553\", \"-0.00367215695\", \"-0.0518889576\", \"-0.0290586706\", \"0.0305887274\", \"-0.0197026748\", \"-0.00765163172\", \"-0.0103002824\", \"0.0261920393\", \"-0.00951862242\", \"0.0113434773\", \"-0.04017983\", \"-0.0393187031\", \"0.0342214108\", \"-0.0093845455\", \"-0.00501388125\", \"-0.0149035957\", \"0.0144244982\", \"0.0160792\", \"-0.00890511554\", \"-0.0184568837\", \"-0.00737255253\", \"-0.0115738958\", \"-0.0279587973\", \"0.0353749\", \"0.0229884479\", \"0.0076958\", \"0.0178443324\", \"0.0195985828\", \"-0.0140898628\", \"0.0167964268\", \"0.00709956\", \"-0.0295979735\", \"-0.0140276914\", \"0.0065645813\", \"-0.0197182205\", \"-0.0127599407\", \"-0.00494176149\", \"-0.00739730243\", \"0.00392672839\", \"-0.0624430627\", \"-0.0043629813\", \"-0.0220699031\", \"0.0199465398\", \"0.0448136665\", \"-0.0168133266\", \"-0.00691206148\", \"-0.0199215598\", \"-0.000165922887\", \"-0.00309248\", \"-0.000824893825\", \"-0.0267319921\", \"0.0497166626\", \"0.00339386077\", \"0.00128721888\", \"-0.0184156392\", \"-0.0189855881\", \"0.0119040795\", \"-0.00408448838\", \"-0.023953326\", \"0.0218953975\", \"0.032761842\", \"-0.00229504844\", \"-0.0166203734\", \"-0.0274339877\", \"0.0297489371\", \"-0.00186484621\", \"0.00372269587\", \"0.00677177589\", \"-0.00870671589\", \"0.0243867859\", \"-0.013904524\", \"0.00318455184\", \"-0.0251106657\", \"-0.0296461582\", \"-0.0071602012\", \"-0.0261300281\", \"0.0257609915\", \"0.00326966564\", \"0.00944143161\", \"-0.0101821506\", \"-0.0234134514\", \"-0.0699756071\", \"-0.0377984643\", \"0.0133551704\", \"-0.0406299271\", \"-0.0442698896\", \"-0.0457113497\", \"0.0226132497\", \"0.0158519633\", \"-0.0216851011\", \"0.00931731798\", \"-0.0482156351\", \"-0.00861300621\", \"-0.050230246\", \"0.0480105951\", \"-0.00563503196\", \"-0.0542162508\", \"0.00423641363\", \"0.0438421\", \"-0.00304968958\", \"-0.0389838293\", \"0.0489899181\", \"-0.0280124377\", \"-0.0360628\", \"0.0273409113\", \"0.00424521882\", \"0.000196388632\", \"-0.0260361768\", \"-0.00395955751\", \"-0.00269644754\", \"0.0505951047\", \"0.0380640402\", \"-0.0227324944\", \"0.0316245817\", \"-0.00364934769\", \"-0.00287957536\", \"-0.0284054875\", \"-0.0166810788\", \"-0.00251140865\", \"0.0122181028\", \"-0.0280583873\", \"0.0112193134\", \"0.0253185686\", \"-0.00138672453\", \"-0.0154722817\", \"-0.0290694628\", \"-0.0736201555\", \"0.0179953333\", \"0.0189451519\", \"-0.0277282465\", \"0.0456275828\", \"0.00737507036\", \"-0.113558553\", \"-0.0044377991\", \"-0.00847812835\", \"0.0379675105\", \"-0.00818939321\", \"-0.076794818\", \"0.0434788316\", \"-0.0286130104\", \"-0.00767678069\", \"-0.0413584262\", \"0.0717126578\", \"-0.011644382\", \"0.0154823922\", \"-0.0142680239\", \"0.016075924\", \"-0.0168508254\", \"0.0123005128\", \"-0.0524542555\", \"-0.00523378747\", \"-0.00220063934\", \"-0.0198547114\", \"-0.0176269896\", \"0.0215375572\", \"-0.0122942133\", \"-0.0110487724\", \"0.0131575763\", \"-0.0258712\", \"0.0304802097\", \"0.012375894\", \"0.0088115586\", \"-0.00252271211\", \"-0.046650175\", \"0.0294914749\", \"-0.0380397476\", \"-0.0284015089\", \"-0.00878860336\", \"0.013587106\", \"0.0228893589\", \"0.010739713\", \"0.0201771352\", \"0.0032399497\", \"0.000607025228\", \"-0.017546691\", \"0.0136842374\", \"-0.00622538384\", \"0.00682140887\", \"0.00892108306\", \"0.0612743422\", \"0.0330068544\", \"-0.00347529422\", \"0.0325734615\", \"0.0114484644\", \"-0.0135759097\", \"-0.0285792183\", \"-0.0432595313\", \"-0.0131045338\", \"-0.0267139655\", \"-0.0323453471\", \"0.0179773793\", \"-0.0486451536\", \"-0.0192614086\", \"0.0165213477\", \"0.00776101556\", \"0.0368678533\", \"-0.00558969658\", \"0.0396989621\", \"0.00196695235\", \"-0.0418421887\", \"-0.00176867237\", \"0.0140971374\", \"-0.00896512\", \"-0.00828045327\", \"0.0190955885\", \"-0.0503678545\", \"-0.00221809326\", \"-0.00850322377\", \"0.0292389449\", \"0.000478328613\", \"-0.0158072226\", \"-0.0045029032\", \"-0.0240487661\", \"0.00229143677\", \"-0.0387899876\", \"-0.0212789439\", \"-0.0180668961\", \"0.0235640053\", \"0.0192526858\", \"0.000283712201\"], \"restricts\": [{\"namespace\": \"class\", \"allow_list\": [\"even\"]}]}\\n', '{\"id\": \"0485561712_6_1_1.jpg\", \"embedding\": [\"-0.00153462938\", \"0.0553184785\", \"0.00849953666\", \"-0.0471546091\", \"-0.0406896211\", \"-0.0244011544\", \"0.0263256896\", \"0.0393234082\", \"-0.0159645732\", \"0.0162855219\", \"0.026320301\", \"0.0121827777\", \"-0.0165717322\", \"0.0510093942\", \"-0.0477231555\", \"-0.0496409833\", \"0.0191673711\", \"0.00310229184\", \"-0.00132354279\", \"-0.0116331624\", \"0.100290544\", \"0.0171306971\", \"-0.00116844091\", \"0.0215425324\", \"0.0160429776\", \"-0.00177847338\", \"-0.0158428811\", \"0.0028159353\", \"0.0146379415\", \"-0.0207613092\", \"0.0223604906\", \"0.0034262808\", \"-0.00199828343\", \"0.0119350851\", \"-0.00327400537\", \"-0.0139759472\", \"-0.0154747348\", \"-0.0588483959\", \"-0.0366988219\", \"-0.00406314153\", \"0.0368223377\", \"0.00294711581\", \"-0.00773053849\", \"-0.0344099477\", \"-0.0196178928\", \"-0.0155119346\", \"-0.000174404166\", \"-0.0353900157\", \"0.00198396738\", \"-0.0335034169\", \"0.0333986357\", \"-0.0173199363\", \"0.0252732951\", \"0.0150835356\", \"0.00977334\", \"0.0113723539\", \"0.0116808675\", \"-0.0156604\", \"0.00819465425\", \"-0.0637571216\", \"-0.0222649612\", \"-0.00190257805\", \"-0.0245466698\", \"-0.000659599551\", \"-0.000513897627\", \"-0.00889233127\", \"-0.00832315534\", \"-0.0235586502\", \"0.0263202526\", \"0.0180175863\", \"-0.00268986472\", \"0.0346478298\", \"0.0221675932\", \"0.0109322974\", \"0.0244393218\", \"-0.00719676353\", \"-0.0425762981\", \"0.0285188779\", \"0.0511426888\", \"-0.0185824744\", \"-0.043279063\", \"-0.0344783515\", \"0.0440044664\", \"0.0216156319\", \"0.0182170551\", \"-0.0064704828\", \"0.0183732025\", \"0.00357721\", \"-0.0431917682\", \"-0.0403874665\", \"-0.0326641388\", \"0.00417598803\", \"-0.00468419772\", \"-0.15439786\", \"-0.031050466\", \"-0.0224502645\", \"-0.0174622331\", \"0.00361874\", \"-0.0103334915\", \"0.0385405\", \"-0.0339303\", \"-0.00338267046\", \"-0.0484473035\", \"-0.017847443\", \"0.00709292199\", \"0.00288170972\", \"-0.0042066467\", \"-0.0141092204\", \"0.00767261162\", \"0.0372324549\", \"-0.0217857771\", \"0.0100812009\", \"0.00468470948\", \"-0.0434023142\", \"0.0202262979\", \"-0.033535935\", \"-0.0400827117\", \"0.0101180095\", \"-0.0370764658\", \"-0.0172264222\", \"-0.0272846986\", \"0.0172729846\", \"0.00575499469\", \"-0.0118144955\", \"-0.00904827751\", \"-0.0729042739\", \"-0.0483699329\", \"-0.00247224071\", \"0.0661513656\", \"-0.0514930971\", \"-0.0179959666\", \"0.0304923691\", \"0.0163202193\", \"-0.000229715326\", \"0.00449736929\", \"-0.0165531039\", \"-0.0172616653\", \"0.0076338253\", \"0.000428761181\", \"0.00926941819\", \"0.0171739589\", \"-0.0194011945\", \"0.0211237688\", \"0.0213490315\", \"-0.00360776321\", \"-0.0127555896\", \"0.0430887155\", \"0.000993205234\", \"-0.0318344161\", \"0.0211819168\", \"0.0216849223\", \"0.0278563183\", \"0.0283643678\", \"0.0298382863\", \"0.000219457186\", \"-0.00519623328\", \"0.0448998287\", \"-0.00673556793\", \"-0.0120871598\", \"0.0684150383\", \"-0.0155201843\", \"-0.02697118\", \"0.0201090463\", \"0.0448194481\", \"0.0146621205\", \"0.00110313215\", \"-0.00315194251\", \"0.0348484442\", \"-0.02371189\", \"-0.0127790906\", \"-0.00676927902\", \"0.000133856243\", \"0.00901205558\", \"0.00539667252\", \"0.0145761902\", \"-0.0149952723\", \"-0.0132937171\", \"-0.00530447857\", \"-0.00300304149\", \"0.00449585868\", \"0.00840823352\", \"-0.0101323258\", \"-0.0196714923\", \"-0.00649026735\", \"-0.0328868739\", \"0.0461783446\", \"-0.0377310701\", \"0.0108357612\", \"0.0313266851\", \"0.0507421568\", \"-0.0169242341\", \"-0.0226756744\", \"-0.023486048\", \"-0.0306209438\", \"-0.0162679777\", \"0.020751\", \"0.0188313145\", \"-0.0245971698\", \"0.0270770751\", \"-0.0280192457\", \"-0.00963828806\", \"-0.0065291482\", \"0.0129293883\", \"-0.0197091307\", \"0.0282857884\", \"0.0345053747\", \"-0.0500940792\", \"-0.00204787659\", \"0.00288445037\", \"0.0107388506\", \"-0.00361672183\", \"-0.0340623148\", \"0.0239129327\", \"0.00551287085\", \"0.0659784451\", \"0.00766823208\", \"0.00766628608\", \"0.0172534417\", \"0.0249535777\", \"-5.22163355e-05\", \"-0.0410055891\", \"-0.000638156722\", \"-0.0262315702\", \"-0.0234582853\", \"0.0221554302\", \"0.0286204573\", \"0.00370587967\", \"-0.0155143132\", \"-0.045706138\", \"0.0146326832\", \"-0.0420195162\", \"-0.0387076512\", \"-0.0106302649\", \"0.0106078163\", \"-7.94037915e-05\", \"-0.010720415\", \"-0.00353091629\", \"0.0470087081\", \"-0.0191678926\", \"-0.0120762009\", \"0.00707933493\", \"0.013153011\", \"-0.0343738422\", \"-0.0321854874\", \"-0.0104737598\", \"-0.0489998534\", \"-0.043586269\", \"-0.0128456187\", \"0.0320942067\", \"-0.00675993646\", \"-0.00775072863\", \"-0.0325540565\", \"-0.0267430712\", \"0.0339202657\", \"-0.0458948351\", \"-0.0201342106\", \"0.018822955\", \"-0.00483208383\", \"-0.00407868158\", \"0.0165620148\", \"-0.00666619744\", \"0.0293896496\", \"-0.0165906828\", \"0.0215069894\", \"-0.0294551793\", \"0.0329472236\", \"0.0124710575\", \"-0.0035411506\", \"0.0202367455\", \"-0.00152834912\", \"0.0144507904\", \"0.000194765395\", \"-0.0318053365\", \"0.0154394098\", \"0.0321652107\", \"0.0274002682\", \"0.012370524\", \"0.0597977079\", \"0.0122355595\", \"0.0657216\", \"-0.00764910085\", \"-0.0128885629\", \"0.0142006306\", \"-0.00392706646\", \"0.0246216357\", \"0.0158837344\", \"-0.179385275\", \"0.040285062\", \"0.0122169219\", \"0.0339570977\", \"-0.030971935\", \"-0.0213279966\", \"-0.00293054851\", \"-0.031385038\", \"-0.032706812\", \"0.0242181271\", \"0.0119604543\", \"-0.0127389235\", \"-0.00846696552\", \"-0.00137256528\", \"-0.0361077\", \"-0.0233555846\", \"-0.00365248765\", \"-0.0278817751\", \"-0.00493167713\", \"0.000304862944\", \"-0.0570925623\", \"0.011846886\", \"0.0128418151\", \"0.0202180613\", \"0.0385796577\", \"-0.00523065869\", \"-0.0330317169\", \"-0.0137337577\", \"-0.022815194\", \"-0.0378145501\", \"0.0195970926\", \"0.0118759833\", \"-0.00570212118\", \"-0.0264229216\", \"-0.0286984891\", \"-0.0101663955\", \"0.00694983266\", \"0.00102721038\", \"-0.0122421281\", \"0.00415541045\", \"-0.0533111095\", \"0.0123376055\", \"0.00721984915\", \"0.0400959104\", \"0.0043580248\", \"0.0133196888\", \"-0.00314321229\", \"0.0128654279\", \"0.0139376121\", \"0.0430744812\", \"0.0130258854\", \"0.00937240943\", \"0.0195692405\", \"0.0158529803\", \"-0.00519143464\", \"0.0181776583\", \"-0.0170180928\", \"0.0329722\", \"-3.24363427e-05\", \"0.034589462\", \"0.0034660527\", \"-0.0167147834\", \"-0.00988625363\", \"0.045069579\", \"-0.0176709276\", \"-0.00779691339\", \"-0.0247455668\", \"-0.0125091476\", \"0.00777803268\", \"0.00852963794\", \"0.0190374497\", \"0.00938397273\", \"0.00199762476\", \"-0.0285426602\", \"0.00266994885\", \"-0.0366319381\", \"0.0484845564\", \"0.0442916937\", \"-0.00236597308\", \"-0.0344968\", \"0.0280359648\", \"0.00451382296\", \"-0.0359298363\", \"0.0173178706\", \"-0.0160255786\", \"-0.0193828736\", \"-0.0165142231\", \"0.00872136187\", \"0.0240223389\", \"-0.0188911986\", \"0.00657913741\", \"-0.0200863201\", \"-0.0186350308\", \"0.0424577445\", \"0.0282840878\", \"0.0343473\", \"0.0384467207\", \"-0.0259570908\", \"-0.0341704562\", \"-0.019607313\", \"0.0253417976\", \"-0.0339052416\", \"-0.0061701946\", \"-0.00469676265\", \"-0.0224234089\", \"-0.0218524151\", \"0.0353518091\", \"-0.0162625983\", \"-0.059570495\", \"0.0122655015\", \"0.0510722473\", \"-0.0100780623\", \"0.0219899602\", \"-0.0409623\", \"0.00919625536\", \"0.0101937931\", \"0.00620708242\", \"0.000724686426\", \"0.0269705486\", \"-0.0228848234\", \"0.0385177359\", \"-0.0339595936\", \"-0.0309624653\", \"0.0187811647\", \"-0.05489593\", \"0.0319023207\", \"-0.0101465583\", \"0.00674988469\", \"-0.00506647397\", \"-0.00231835688\", \"-0.00783405453\", \"-0.00154647289\", \"-0.00151692331\", \"0.00767087331\", \"0.0393910185\", \"-0.0175934136\", \"0.0094592683\", \"-0.00799800362\", \"0.0173471849\", \"0.0341664292\", \"-0.0414845236\", \"-0.0285861176\", \"-0.000663034\", \"-0.0059396578\", \"0.0306980237\", \"-0.00657429\", \"-0.0292147249\", \"0.0290455148\", \"-0.0216552373\", \"-0.0310681444\", \"-0.00578184798\", \"-0.0248801447\", \"-0.0395581089\", \"-0.0168381464\", \"-0.0018860515\", \"-0.00459385943\", \"-0.00786119699\", \"0.0156795438\", \"-0.00306750042\", \"-0.00873244926\", \"-0.0471678935\", \"-0.0207690317\", \"0.0346862376\", \"-0.000394019356\", \"-0.0164128561\", \"-0.00501529453\", \"0.0243238658\", \"0.0116680674\", \"-0.00659488654\", \"0.00800519902\", \"0.0222995803\", \"-0.0337492824\", \"0.00514887366\", \"-0.0333810039\", \"-0.0194232985\", \"-0.0133269159\", \"0.0284580812\", \"-0.00824239198\", \"0.0299262833\", \"0.0162160639\", \"0.0147351827\", \"-0.00454226555\", \"0.0176375397\", \"0.00433747564\", \"-0.0191234406\", \"-0.00773514668\", \"0.000933542266\", \"0.00308938394\", \"-0.0387881063\", \"-0.00386523921\", \"-0.0139363939\", \"-0.00149231975\", \"0.0142962299\", \"-0.0291994456\", \"-0.00946687255\", \"-0.0360805131\", \"-0.0126218321\", \"0.00764198974\", \"-0.0284485351\", \"-0.0195686352\", \"0.0104109086\", \"0.0137810707\", \"-0.00282172463\", \"-0.0510770939\", \"0.0473421365\", \"0.0595705286\", \"0.0118783535\", \"-0.0555684082\", \"-0.0410395414\", \"0.0106218122\", \"0.0106487256\", \"-0.0048473659\", \"-0.0333446749\", \"0.0372779705\", \"0.0216768924\", \"-0.027271254\", \"-0.0278426055\", \"-0.0400556214\", \"0.00867198687\", \"0.00164667319\", \"-0.0460719205\", \"0.026713185\", \"0.00259423628\", \"-0.0491389185\", \"-0.0216363538\", \"-0.0384147204\", \"0.0157525502\", \"-0.00606817147\", \"-0.00263852021\", \"0.00995477661\", \"0.00804674625\", \"0.00340704131\", \"-0.0121222548\", \"-0.0236210059\", \"0.00924018491\", \"0.0267552566\", \"0.0030270603\", \"-0.0140753444\", \"-0.00528067537\", \"-0.0107586496\", \"-0.0305360723\", \"-0.00181709975\", \"0.00474866806\", \"0.0184661094\", \"0.013062601\", \"0.00407685572\", \"0.0166390687\", \"-0.00424400158\", \"0.0135523984\", \"-0.00383254536\", \"0.0106139062\", \"0.0249033552\", \"-0.0360209607\", \"-0.03519959\", \"0.0144403335\", \"0.0121888155\", \"0.00766268605\", \"0.0205369573\", \"0.00216754223\", \"-0.017544454\", \"0.00165679515\", \"-0.0355720632\", \"-0.0109055741\", \"0.00218374748\", \"-0.0484438166\", \"-0.00222040457\", \"-0.00301696686\", \"-0.00720410049\", \"-0.0127570946\", \"-0.000882867665\", \"0.0269500241\", \"0.015563162\", \"-0.036568217\", \"-0.023704581\", \"0.0196513087\", \"0.0233524945\", \"0.0051968093\", \"0.00783647411\", \"0.046352677\", \"-0.0175912604\", \"-0.0539422929\", \"0.0194667298\", \"0.0263978466\", \"-0.01258888\", \"-0.0240534283\", \"-0.0193630885\", \"-0.00912097376\", \"-0.0110693583\", \"-0.00787103269\", \"-0.00987349171\", \"-0.0325287394\", \"-0.0115142232\", \"-0.0195049196\", \"-0.00925825723\", \"-0.0512285121\", \"-0.0116079254\", \"-0.00671787653\", \"0.00679322938\", \"-0.0254564825\", \"-0.0226788148\", \"0.0322855115\", \"-0.0209800508\", \"-0.0377177037\", \"0.00834172871\", \"0.00927410461\", \"0.0291043296\", \"0.0276438687\", \"0.00705604814\", \"0.00798364263\", \"0.024238782\", \"0.0271292403\", \"-0.0172258299\", \"-0.0169024579\", \"-0.00743245054\", \"-0.0408032648\", \"-0.0189249627\", \"-0.0258538686\", \"-0.0354434401\", \"-0.0369124115\", \"-0.0211540908\", \"0.00156285975\", \"-0.0103642372\", \"-0.0145546757\", \"0.0177015718\", \"-0.00776349613\", \"0.000701090496\", \"0.0108610811\", \"-0.0107453819\", \"-0.00466244761\", \"-0.00201106328\", \"0.030008262\", \"0.00104514149\", \"0.0233210176\", \"-0.0191997197\", \"-0.00489683636\", \"-0.00660851318\", \"0.0393825695\", \"-0.0184512958\", \"-0.007466\", \"0.00292841368\", \"0.00509991962\", \"-0.0180253014\", \"0.0166867599\", \"-0.0102064554\", \"-0.0390526131\", \"-0.0199794266\", \"-0.00168273482\", \"0.0374171697\", \"-0.0238767788\", \"0.00727893226\", \"-0.0359287485\", \"-0.0380916707\", \"-0.0376235284\", \"0.014202849\", \"0.0232440494\", \"0.0591085739\", \"-0.000629196176\", \"-0.0212750547\", \"0.0177833363\", \"-0.033399567\", \"0.0258516911\", \"-0.0445803106\", \"0.0171220787\", \"-0.0196017548\", \"0.00542872446\", \"0.0215174276\", \"0.0104783811\", \"-0.02093325\", \"0.0363997631\", \"0.0261688605\", \"0.00810717139\", \"-0.00749743124\", \"-0.0148046771\", \"0.0276273768\", \"-0.148319736\", \"-0.0106188022\", \"0.00403311662\", \"0.00393197872\", \"-0.03381107\", \"-0.0329985395\", \"-0.0210231785\", \"-0.0407147594\", \"-0.00133882766\", \"0.032917913\", \"0.00966300257\", \"0.0430608056\", \"-0.228817269\", \"0.00185012\", \"-0.0060160947\", \"-0.0182508565\", \"0.0117284646\", \"-0.0102208424\", \"-0.0407492593\", \"-0.0287656114\", \"-0.0272482447\", \"-0.0367096625\", \"-0.0106518166\", \"-0.0214543547\", \"0.0465431251\", \"0.0300636608\", \"0.0737201795\", \"0.0431507044\", \"-0.0160436723\", \"0.00375535\", \"-0.0207103081\", \"0.0164644476\", \"0.0160248671\", \"0.0434175469\", \"-0.0338466652\", \"-0.0396129526\", \"-0.0396227799\", \"0.0295442492\", \"-0.00875880104\", \"-0.0118184835\", \"0.0109295165\", \"-0.00651285704\", \"0.0443032756\", \"-0.0357595608\", \"0.00890447572\", \"0.00257432018\", \"-0.00720472867\", \"-0.0294487383\", \"-0.0210339744\", \"-0.0540913902\", \"0.0565562956\", \"-0.0132667115\", \"0.0117391301\", \"-0.0304174591\", \"-0.0067389519\", \"-0.0266939644\", \"0.0195703674\", \"0.00196735957\", \"-0.0120648034\", \"0.00103385479\", \"-0.0511057153\", \"0.0430136472\", \"-0.0585392341\", \"-0.00510546425\", \"0.0199665967\", \"-0.00137115503\", \"0.035254512\", \"0.00113976374\", \"-0.0179075468\", \"0.0230546\", \"0.00872583129\", \"0.0304543804\", \"0.00288588321\", \"0.019476125\", \"0.0100051723\", \"0.0260939505\", \"0.00214903895\", \"-0.0217031557\", \"0.025532566\", \"0.0101963934\", \"-0.0322106965\", \"0.00870004669\", \"0.0384932198\", \"-0.00847615581\", \"-0.0168210696\", \"0.0120138712\", \"-0.0392587669\", \"-0.0138440477\", \"-0.178146258\", \"-0.00156249222\", \"0.00191761926\", \"0.0096389316\", \"0.0133972922\", \"-0.0252272468\", \"0.00425468292\", \"0.0137246437\", \"0.0251567606\", \"-0.00993947126\", \"-0.010302024\", \"0.00543823466\", \"0.0145465406\", \"-0.0458796732\", \"-0.0123169394\", \"0.017372122\", \"0.0427226089\", \"-0.0140144806\", \"0.00788540952\", \"-0.00844109338\", \"0.00452274969\", \"-0.00416916749\", \"0.0114218248\", \"0.0011297887\", \"-0.0172395036\", \"-0.000642035739\", \"-0.000912353804\", \"0.0225196034\", \"-0.0196812525\", \"-0.00988381356\", \"-0.0372900814\", \"-0.0141207771\", \"0.00945517235\", \"-0.0145847751\", \"0.00786969718\", \"-0.0184284113\", \"-0.00904171448\", \"0.0030300105\", \"0.00187750789\", \"-0.00726706581\", \"-0.023466168\", \"0.00560041424\", \"0.0419740938\", \"0.0260506794\", \"-0.0556084067\", \"0.0160567295\", \"-0.0224063266\", \"0.00584609061\", \"-0.0181558747\", \"-0.00988891348\", \"-0.0160122272\", \"-0.0225836169\", \"0.0646407306\", \"-0.0192146506\", \"-0.0391023085\", \"0.020483695\", \"0.0029324221\", \"-0.000549080723\", \"0.010754955\", \"-0.00317850523\", \"-0.00417370396\", \"-0.005852737\", \"-0.0315357782\", \"-0.00394490175\", \"0.0166873839\", \"-0.0231519714\", \"-0.0261751767\", \"0.0013274214\", \"0.0134458989\", \"-0.0682027489\", \"-0.00355511764\", \"0.0213074926\", \"0.0128956782\", \"0.0353324\", \"0.0219903905\", \"0.0284094326\", \"-0.0141259031\", \"0.0281686429\", \"0.0112133296\", \"0.0204453\", \"0.0235481039\", \"-0.00317105884\", \"-0.0018097139\", \"0.0156088127\", \"0.0222512353\", \"-0.0385945663\", \"0.0142599894\", \"-0.0229907408\", \"-0.023142729\", \"0.0283660144\", \"0.0306039732\", \"-0.00698658358\", \"0.0307722893\", \"0.0189424213\", \"0.0077259629\", \"0.0126674613\", \"0.00793710165\", \"-0.0221430324\", \"0.0287524629\", \"0.0184656382\", \"0.0162295662\", \"0.0583189279\", \"-0.0344230123\", \"-0.0265893079\", \"-0.0116730612\", \"0.0294077285\", \"0.0092088161\", \"-0.0345080607\", \"0.00918693\", \"0.0127557712\", \"-0.0365568809\", \"-0.000759511371\", \"-0.0338621251\", \"-0.0170214381\", \"-0.0217233971\", \"0.016461907\", \"0.00513489405\", \"-0.00690314919\", \"0.00226709503\", \"0.0105306432\", \"0.0141090741\", \"-0.0138119953\", \"-0.0279283263\", \"-0.00656083226\", \"0.0220564157\", \"-0.0266274456\", \"-0.0132022826\", \"0.00317972526\", \"0.0109936\", \"-0.00976436771\", \"0.00482661324\", \"0.014064406\", \"0.0104441606\", \"0.034238629\", \"0.00580739789\", \"-0.0102381511\", \"0.0243403334\", \"-0.0350234695\", \"0.00110414135\", \"0.00388215017\", \"-0.00173512136\", \"0.0100722956\", \"0.0261891186\", \"-0.0165835358\", \"0.0320940353\", \"-0.0218497217\", \"-0.0268969145\", \"-0.0321878716\", \"-0.00485831872\", \"-0.04032268\", \"-0.0134419315\", \"0.0160944294\", \"0.0148493666\", \"0.0323560871\", \"-0.0434382148\", \"0.00312033272\", \"0.00525411312\", \"-0.0234440826\", \"0.011873628\", \"-0.0200269222\", \"-0.0311041139\", \"0.00210587471\", \"-0.0120869465\", \"0.096641\", \"0.0188493654\", \"-0.0144620938\", \"0.037410304\", \"0.0060948329\", \"0.022966478\", \"0.0480171144\", \"-0.000114537346\", \"-0.00512594124\", \"0.0164353605\", \"0.00509536266\", \"0.0310427155\", \"0.010258235\", \"0.0232857838\", \"0.0609523356\", \"0.00554902945\", \"-0.0126883006\", \"0.0242432673\", \"0.0039104959\", \"0.0129711358\", \"-0.00445149746\", \"-0.0239126217\", \"-0.0158743095\", \"-0.0262995716\", \"-0.056460876\", \"-0.0302178245\", \"-0.0256533213\", \"-0.0155492444\", \"-0.00636882521\", \"-0.000942861\", \"0.00097213086\", \"-0.0189629868\", \"-0.0416473038\", \"0.0009274435\", \"-0.0102268718\", \"0.014582783\", \"0.00439794408\", \"-0.0354693793\", \"0.0116865393\", \"-0.00482782954\", \"0.00676166266\", \"-0.0210932661\", \"-0.0283840038\", \"0.0196522381\", \"-0.0336851254\", \"-0.0186059754\", \"-0.0166625958\", \"0.0115110734\", \"0.0215091668\", \"0.0690967217\", \"-0.018170597\", \"-0.0197644271\", \"0.0696305558\", \"0.0239265822\", \"-0.0125064412\", \"-0.0545692183\", \"-0.0195588432\", \"-0.0183464568\", \"-0.0217226706\", \"0.0122193284\", \"0.00240326067\", \"0.0630191043\", \"-0.0112556927\", \"-0.0498691574\", \"0.00730292313\", \"-0.0130499993\", \"-0.0240022987\", \"-0.0252857748\", \"0.00943047553\", \"-0.0132550094\", \"0.0108411973\", \"0.0176910758\", \"-0.00678981235\", \"0.0166797452\", \"0.0379013903\", \"0.0146857509\", \"-0.0235847533\", \"-0.0483267233\", \"-0.0134206749\", \"-0.00319670653\", \"-0.0475957505\", \"-0.013000438\", \"-0.00936807506\", \"-0.0198047869\", \"-0.0430643559\", \"-0.0101628816\", \"-0.0136571173\", \"-0.0359377861\", \"-0.00945242774\", \"-0.0179276094\", \"-0.013865266\", \"0.000453287241\", \"-0.0517177172\", \"-0.0314634293\", \"-0.0113207465\", \"-0.0192972459\", \"-0.0121603031\", \"0.00770425098\", \"-0.0432783626\", \"-0.0203288\", \"-0.00694952393\", \"0.0200241599\", \"-0.0428989455\", \"0.00144127558\", \"-0.0233797263\", \"-0.0379358605\", \"0.0513745695\", \"0.00834811106\", \"0.0324577764\", \"0.046845\", \"0.0154387848\", \"-0.00552942976\", \"-0.00139234634\", \"0.0345929414\", \"0.00177046598\", \"-0.00912592188\", \"0.0135734873\", \"0.0146728009\", \"-0.0369831696\", \"-0.00348367263\", \"0.0136043513\", \"0.00475252\", \"0.0131244045\", \"-0.0269384552\", \"0.043310266\", \"0.0355578288\", \"0.00166758627\", \"0.0337533578\", \"-0.016264759\", \"0.0155018251\", \"0.0248583257\", \"-7.43240234e-05\", \"-0.037641637\", \"0.0112032536\", \"-0.00324336253\", \"-0.0207644813\", \"-0.0172274522\", \"0.0124048674\", \"0.0030414951\", \"-0.00466723368\", \"0.0014826312\", \"-0.0211750977\", \"-0.0037075493\", \"-0.00128382444\", \"0.0113326218\", \"-0.013206305\", \"0.00987705402\", \"-0.0155077977\", \"-0.0295881573\", \"0.0170983654\", \"0.0145441797\", \"-0.00597531535\", \"0.00188342598\", \"-0.0460485369\", \"0.00491533289\", \"0.0048580491\", \"0.00181134453\", \"-0.0269325711\", \"-0.0418023\", \"-0.0201920699\", \"0.0190322474\", \"0.0108342664\", \"0.00169320498\", \"0.00804214831\", \"0.0331423469\", \"-0.0118808\", \"0.0137310112\", \"0.0107406713\", \"0.0049487818\", \"0.0329097547\", \"-0.00765848765\", \"-0.00920438766\", \"0.0103112673\", \"0.0172736961\", \"-0.000588184\", \"0.013398651\", \"0.00107234519\", \"-0.00785196759\", \"0.00850856211\", \"-0.00902168546\", \"0.00887811277\", \"0.000268909265\", \"-0.0310696792\", \"0.0350267664\", \"0.012373358\", \"-0.0254663732\", \"-0.0466732793\", \"0.00600099703\", \"0.0264259893\", \"0.00352794421\", \"-0.0185849871\", \"-0.0010958144\", \"0.0177862123\", \"0.0103356624\", \"0.0172420554\", \"0.00396010792\", \"0.0349135697\", \"0.0297716167\", \"-0.0110503072\", \"-0.00811425\", \"-0.0208214838\", \"0.0480146222\", \"0.0100837396\", \"0.0122654075\", \"-0.0118702324\", \"-0.0530838259\", \"-0.00187188317\", \"-0.00868375134\", \"0.0607120171\", \"0.0067442935\", \"-0.00460020965\", \"0.0118872607\", \"0.0156423021\", \"-0.01234267\", \"-0.00906213373\", \"-0.0329863019\", \"-0.0363264158\", \"0.0104123279\", \"0.00625527464\", \"0.00930136535\", \"0.00697799912\", \"0.0319809653\", \"-0.0106040593\", \"0.0330205671\", \"0.0132555896\", \"0.0237683691\", \"0.0243388433\", \"0.0174235869\", \"-0.0357501619\", \"-0.0170108844\", \"-0.0403871574\", \"-0.00216486724\", \"0.0166755989\", \"-0.0124516487\", \"0.00437002862\", \"-0.0446924157\", \"-0.00844993442\", \"0.0201437604\", \"-0.0291366372\", \"0.00136426883\", \"-0.014344492\", \"0.0116478195\", \"0.0459906124\", \"0.0109525956\", \"0.00808292907\", \"0.0412659682\", \"0.041793935\", \"-0.0103824986\", \"-0.0133678969\", \"-0.000174695233\", \"-0.0102763744\", \"-0.0235572904\", \"-0.0831346735\", \"-0.0205635298\", \"0.00800337549\", \"0.0120068127\", \"0.0151274372\", \"-0.0186846983\", \"-0.0280818976\", \"0.00376855722\", \"0.034433458\", \"0.00538203\", \"-0.00348393782\", \"-0.0271647964\", \"0.0394963212\", \"-0.0046882187\", \"-0.0326560065\", \"-0.0233489461\", \"0.0224373\", \"-0.0152854398\", \"-0.025924094\", \"-0.0190215688\", \"0.0366415195\", \"-0.00995965675\", \"0.00335208094\", \"0.00763485348\", \"0.00775679154\", \"-0.0102707809\", \"0.0305435117\", \"0.000899419072\", \"-0.00736120762\", \"-0.0015691939\", \"-0.00795800332\", \"-0.0315333344\", \"-0.0313367844\", \"0.0480169058\", \"0.0154370414\", \"-0.0169369224\", \"-0.018925095\", \"-0.00441244338\", \"-0.022901684\", \"0.00594198098\", \"-0.00772820786\", \"-0.0292282943\", \"-0.0269120932\", \"0.0159390885\", \"-0.028665632\", \"-0.00780128501\", \"-0.000767447578\", \"-0.0161796175\", \"0.0339609906\", \"-0.00882105809\", \"0.0389353372\", \"-0.00959849637\", \"0.052540116\", \"-0.0024510487\", \"0.0277975406\", \"-0.0253745876\", \"0.0151775656\", \"0.00434292899\", \"-0.0123950718\", \"0.00947974063\", \"-0.0612497\", \"0.00325153396\", \"-0.00916553196\", \"0.00526739238\", \"-0.0240141656\", \"0.0148254149\", \"0.0129243173\", \"0.00461687241\", \"0.00219958951\", \"0.0359757282\", \"-0.0218649246\", \"-0.0123049226\", \"0.029476719\", \"-0.0355243906\", \"0.0375104733\", \"-0.0451722816\", \"0.00130781718\", \"0.0179035198\", \"-0.02596\", \"-0.00352191855\", \"-0.00711076055\", \"0.0185640473\", \"0.00594897801\", \"-0.0141604291\", \"0.0127614532\", \"-0.0125353048\", \"0.000938523\", \"-0.0160991661\", \"0.00502864271\", \"-0.0185410529\", \"0.0207284652\", \"-0.0115108313\", \"-0.0234909225\", \"-0.0162621234\", \"-0.0198939648\", \"-0.0233355816\", \"0.0155477645\", \"-0.00745305512\", \"-0.0352849923\", \"0.000598388899\", \"0.0160473417\", \"0.0197875518\", \"0.0414496846\", \"0.0178898219\", \"-0.0276391618\", \"-0.00747222314\", \"-0.0307731945\", \"0.0157986879\", \"0.00721720792\", \"-0.0120971473\", \"0.0237214863\", \"-0.0531151928\", \"-0.0307685751\", \"0.00615990348\", \"-0.0633253753\", \"0.0414961278\", \"0.00369771128\", \"0.000462313299\", \"-0.0195787717\", \"-0.015459314\", \"-0.00969257951\", \"0.0255963188\", \"0.0136783132\", \"0.0240982678\", \"-0.0217083618\", \"0.0221961197\", \"-0.0118528856\", \"-0.0212640371\", \"0.0184050035\", \"-0.00988128409\", \"-0.0423386768\", \"-0.0114159985\", \"-0.010141775\", \"-0.0191521086\", \"-0.0258111935\", \"-0.00878322497\", \"-0.0297989678\", \"-0.0318162292\", \"0.0182345863\", \"-0.00743913418\", \"-0.0356494635\", \"-0.0108894007\", \"-0.0301858354\", \"-0.0247207694\", \"0.02806383\", \"-0.0410081111\", \"0.0213128328\", \"0.0279625095\", \"0.00842000917\", \"0.0569293648\", \"-0.0397856645\", \"-0.00200296519\", \"0.0104031619\", \"-0.0450379848\", \"-0.00217304216\", \"-0.018407777\", \"0.0135787642\", \"-0.0729594082\", \"-0.00955722108\", \"-0.0102625499\", \"-0.00970218796\", \"-0.0125511931\", \"-0.0735701695\", \"0.0167570617\", \"-0.000124556333\", \"-0.0149607835\", \"0.0181654133\", \"0.0741083547\", \"-0.0302644521\", \"-0.0339967236\", \"0.0350657217\", \"0.00666398369\", \"0.0113688773\", \"0.00893864594\", \"0.00880674366\", \"0.00264143455\", \"-0.00286112586\", \"-0.0289346464\", \"0.0216600522\", \"0.0201683603\", \"0.00343328808\", \"0.0241928082\", \"0.00525732804\", \"-0.0271324702\", \"0.0189029332\", \"0.00159860356\", \"-0.0252322983\", \"-0.00806073938\", \"0.0116423266\", \"-0.0200811215\", \"0.000573758327\", \"0.00400333153\", \"-0.0288638342\", \"0.0291288812\", \"-0.00685486756\", \"0.00633124914\", \"-0.0280816127\", \"0.00378355081\", \"-0.0324704684\", \"0.0140532013\", \"-0.0171009544\", \"-0.0176626574\", \"-0.00192011974\", \"-0.00949526206\", \"0.0309058204\", \"0.0123168519\", \"-0.0119730821\", \"-0.00113267044\", \"-0.0203578416\", \"-0.00103077246\", \"-0.0223304685\", \"-0.0435750298\", \"-0.0175040942\", \"-0.0318493955\", \"0.00083338574\", \"0.00152413244\", \"-0.00736991037\", \"0.0047149905\", \"-0.0146711702\", \"0.0144600132\", \"-0.00328980549\", \"0.000801153074\", \"-0.0190401021\", \"0.000608266389\", \"-0.0527303442\", \"0.00883914\", \"0.00237207697\", \"-0.0187804177\", \"0.00303989346\", \"-0.00838155951\", \"-0.0467339829\", \"-0.00200957293\", \"0.0204463527\", \"0.00873551145\", \"-0.00850517675\", \"-0.0345902406\", \"0.0164290871\", \"0.0249046981\", \"0.0319021754\", \"-0.0230683591\", \"-0.0141712679\", \"-0.0120440973\", \"-0.00877385307\", \"-0.00411822833\", \"-0.0134936776\"], \"restricts\": [{\"namespace\": \"class\", \"allow_list\": [\"even\"]}]}\\n', '{\"id\": \"1165680701_1_1_1.jpg\", \"embedding\": [\"-0.022326123\", \"0.0232827961\", \"0.00688976282\", \"-0.0214111507\", \"-0.0184586514\", \"-0.0137544237\", \"0.0152754672\", \"0.0273657702\", \"-0.0240669549\", \"0.0323870406\", \"0.0266091265\", \"0.0119889388\", \"0.00694206497\", \"0.0767911747\", \"-0.0250172112\", \"0.0271148365\", \"-0.0205439553\", \"0.00176052097\", \"0.0171702616\", \"-0.0111566959\", \"0.0890855268\", \"-0.0107157622\", \"0.0610632524\", \"-0.0158561878\", \"0.0244262032\", \"0.00679467199\", \"-0.00261548394\", \"0.00311882584\", \"-0.00110874337\", \"-0.00459404523\", \"0.0280121975\", \"0.00122787675\", \"-0.00821953546\", \"-0.0185806043\", \"-0.00905755442\", \"0.027947491\", \"-0.00849494431\", \"-0.0818450674\", \"0.00142254727\", \"-0.00326277618\", \"-0.00799110532\", \"0.00765477773\", \"0.0323528349\", \"-0.00125656754\", \"-0.0546567068\", \"0.00492629921\", \"-0.0060612266\", \"0.00783283915\", \"-0.032464236\", \"-0.00863794\", \"-0.021721825\", \"-0.00939987414\", \"0.00552911125\", \"-0.0470562689\", \"0.0421933457\", \"-0.0137403831\", \"0.0129334899\", \"0.0117130429\", \"-0.0145185478\", \"-0.0403057784\", \"-0.0521142296\", \"-0.0259199142\", \"0.00153311202\", \"-0.0411354043\", \"0.0153464582\", \"-0.0104346201\", \"-0.00797348749\", \"-0.0129767796\", \"-0.00492734229\", \"0.0184836034\", \"0.031859\", \"0.0314386897\", \"0.00207072659\", \"-0.0229864419\", \"0.00171004\", \"0.0070350673\", \"-0.0165772475\", \"0.0166104753\", \"0.0134465946\", \"0.0484758765\", \"-0.0161978137\", \"-0.0352744088\", \"-0.00812497269\", \"0.00250838115\", \"-0.00216025673\", \"0.00538404193\", \"0.0497129932\", \"-0.0272393748\", \"-0.0132377865\", \"-0.0445928872\", \"0.0206737835\", \"-0.00234985701\", \"0.00440528104\", \"-0.169321343\", \"0.0108392565\", \"-0.00172726519\", \"0.00925827119\", \"0.0202603098\", \"-0.0149698425\", \"0.0257225111\", \"-0.00664396\", \"-0.00442108512\", \"0.0042166519\", \"-0.0300714783\", \"0.00608622842\", \"0.00445668\", \"0.00457410514\", \"-0.0223207027\", \"-0.00613173284\", \"0.00557231344\", \"-0.0413598381\", \"0.0281851981\", \"-0.0108928336\", \"0.0098344963\", \"0.0020402628\", \"-0.0516142361\", \"-0.0599192679\", \"-0.0132907145\", \"-0.0444935\", \"0.00341181341\", \"-0.0132573\", \"0.00193797855\", \"0.00386914681\", \"-0.0167267583\", \"-0.00925879925\", \"-0.0702981055\", \"0.00809835177\", \"-0.0154464468\", \"0.00925212819\", \"-0.0166881643\", \"-0.0129569797\", \"0.0431427732\", \"0.0287695266\", \"0.0211210959\", \"-0.00384126464\", \"-0.0318871923\", \"0.0364504904\", \"-0.0161306709\", \"0.0336263\", \"-0.0356723405\", \"0.0131794196\", \"-0.0221606679\", \"0.00256238761\", \"0.0214757584\", \"0.0274335705\", \"-0.0144815361\", \"0.0114538586\", \"-0.0518718287\", \"-0.0213602446\", \"-0.0183993205\", \"0.0118447635\", \"-0.000179797833\", \"0.0303626657\", \"0.0299891364\", \"-0.0156147135\", \"-0.00660876883\", \"-0.00383134698\", \"-0.0174088981\", \"-0.000537043437\", \"0.0482218303\", \"-0.0275632069\", \"-0.00334234093\", \"-0.00756528648\", \"0.0317410789\", \"-0.0225532372\", \"0.0175566897\", \"0.0202984046\", \"0.00666885497\", \"0.0276872255\", \"0.0054534846\", \"-0.0170439947\", \"0.0121853687\", \"-0.0278745294\", \"0.0227642301\", \"-0.0132404463\", \"-0.0334842\", \"-0.0126187513\", \"0.00698999176\", \"-0.0451229\", \"-0.0430585854\", \"-0.010879511\", \"0.0264715254\", \"-0.00992915\", \"-0.00108949433\", \"0.025503682\", \"0.000794487481\", \"-0.00166552246\", \"-0.0121759269\", \"-0.00559349637\", \"0.0586287118\", \"-0.0264070686\", \"-0.0281885918\", \"-0.00695047062\", \"-0.0254136529\", \"-0.0599910058\", \"0.00585872\", \"0.0278125368\", \"-0.034060318\", \"0.0170823075\", \"0.0106932549\", \"-0.00593679212\", \"-0.0251506455\", \"-0.0238395073\", \"-0.0389977172\", \"-0.00205835141\", \"0.0103457263\", \"-0.0187653769\", \"0.00286618597\", \"0.0373751968\", \"-0.0203611795\", \"-0.00468749227\", \"-0.0320693813\", \"0.00731248409\", \"0.0234345905\", \"0.0353989191\", \"-0.0195475034\", \"-0.0187991317\", \"-0.0401841477\", \"-0.037978515\", \"-0.0242116116\", \"-0.0143460659\", \"0.0104499161\", \"0.0312305707\", \"0.0132947396\", \"0.0489504226\", \"-0.0273509361\", \"0.00116401282\", \"-0.0438648798\", \"-0.0432372317\", \"0.00523164\", \"-0.0105191888\", \"-0.0684298947\", \"0.00594129693\", \"0.000803223928\", \"0.0143857822\", \"0.000400024583\", \"-0.0348863602\", \"0.0120575437\", \"-0.0382592566\", \"-0.0262475256\", \"-0.02385501\", \"0.00676939962\", \"-0.00548542384\", \"-0.0314001143\", \"-0.00664388761\", \"-0.00553045841\", \"-0.009981\", \"-0.00367736\", \"-0.0177859329\", \"-0.0176946633\", \"0.031079473\", \"-0.0200184509\", \"0.00420377124\", \"0.0170095228\", \"-0.0137768779\", \"-0.0287104789\", \"-0.0311281923\", \"0.0121882921\", \"-0.000698311487\", \"-0.0129013993\", \"0.0121512832\", \"-0.00734202657\", \"-0.0468904\", \"0.0351962969\", \"0.0268260781\", \"0.0223286673\", \"0.0268916376\", \"0.010805686\", \"0.0154152252\", \"-0.00434857886\", \"0.0455309525\", \"0.017674556\", \"0.00454217661\", \"0.00425206777\", \"0.0126193641\", \"0.0128670037\", \"0.0173465516\", \"0.0545191504\", \"0.00694715604\", \"0.0527687892\", \"-0.0303147212\", \"-0.0217545386\", \"-0.0286717396\", \"0.0126836626\", \"0.0247024428\", \"-0.0078326771\", \"-0.156082556\", \"-0.00187679089\", \"-0.0224366672\", \"-0.00817551557\", \"-0.00680805324\", \"0.0160777271\", \"0.0112768561\", \"-0.016402211\", \"0.0241144486\", \"0.043668624\", \"0.000300183543\", \"-0.0186712164\", \"0.0128640085\", \"0.0236056522\", \"-0.015227315\", \"-0.0281792562\", \"-0.030798018\", \"-0.00744860759\", \"-0.0321761668\", \"-0.0156743955\", \"-0.0263531152\", \"-0.0437539183\", \"0.00486610783\", \"0.0134325931\", \"-0.0225901827\", \"0.0157079548\", \"0.00578106288\", \"-0.001981901\", \"0.000908070768\", \"-0.00769689679\", \"0.0492793396\", \"-0.0193506461\", \"0.01823809\", \"-0.0309899263\", \"-0.0140399737\", \"-0.0463703908\", \"0.00851560291\", \"0.0167141873\", \"0.0164014455\", \"-0.0241039749\", \"-0.0362119675\", \"-0.024850104\", \"-0.0106475269\", \"0.0157709271\", \"-0.00693730125\", \"0.00111322594\", \"0.00826057792\", \"-0.0417783335\", \"0.0331930034\", \"0.0539435744\", \"-0.0150905903\", \"0.0271416195\", \"0.00518153887\", \"0.00933838356\", \"0.0179499872\", \"-0.0151150711\", \"-0.0165681131\", \"0.0138506815\", \"-0.0297414\", \"0.0317901671\", \"-0.017525224\", \"0.00496959453\", \"-0.00354275317\", \"0.00630305056\", \"-0.0107043805\", \"0.0379450805\", \"0.000573833124\", \"-0.0176035855\", \"0.0103403758\", \"0.0123255784\", \"0.0259628277\", \"-0.00984318741\", \"0.0226768646\", \"0.048386462\", \"-0.00325062894\", \"-0.0320909582\", \"0.0372252092\", \"0.00612784177\", \"-0.016757993\", \"-0.00578847667\", \"0.0243127346\", \"-0.00158252369\", \"-0.0336329117\", \"-0.00376104773\", \"-0.0173379537\", \"-0.0556715652\", \"0.0446454696\", \"0.00488135871\", \"-0.00733025232\", \"-0.0171054564\", \"-0.0107149184\", \"0.022601597\", \"-0.0117967883\", \"-0.00810083374\", \"0.0151277808\", \"-0.00178809837\", \"0.0171839464\", \"-0.0241924375\", \"0.00671688234\", \"-0.00734180538\", \"0.00442090305\", \"-0.0183004364\", \"-0.000605675683\", \"-0.0428573899\", \"-0.0110103888\", \"-0.00601775944\", \"0.0256549753\", \"-0.00647225091\", \"-0.0585286506\", \"-0.00620035268\", \"-0.0221103858\", \"-0.0133136213\", \"0.0272562653\", \"0.0224242825\", \"0.0195392128\", \"0.00126562163\", \"0.0111772371\", \"-0.0070334468\", \"-0.0216869507\", \"0.00324524567\", \"0.0304640606\", \"-0.0463089421\", \"-0.0289122164\", \"0.00484571373\", \"-0.0230148714\", \"0.0371951051\", \"-0.0346807912\", \"-0.0126833376\", \"0.0147502953\", \"-0.00735102221\", \"-0.00740458\", \"-0.00426423317\", \"0.00918070227\", \"0.0220422018\", \"0.00274440018\", \"-0.012213964\", \"-0.0316246301\", \"0.000522892922\", \"0.0142015833\", \"-0.0337206908\", \"0.0132257557\", \"-0.0300023686\", \"-0.0381804\", \"-0.0238113\", \"-0.00236535934\", \"-0.0104604289\", \"-0.0418088809\", \"-0.039120391\", \"0.00469611911\", \"-0.0405609719\", \"-0.0047153444\", \"-0.0270810705\", \"-0.0404366627\", \"-0.0184313953\", \"0.0081217261\", \"-0.0230455287\", \"-0.0156483501\", \"0.0381834023\", \"-0.00320269563\", \"-0.0555385724\", \"-0.0295588486\", \"-0.00367564545\", \"0.0325630866\", \"0.0506375358\", \"-0.00445067929\", \"-0.00881255232\", \"0.0233109221\", \"-0.0333426744\", \"-0.0273778141\", \"-0.00109558762\", \"0.00230692164\", \"-0.00383920642\", \"0.00885932148\", \"-0.0162344873\", \"-0.00555685256\", \"0.00471519958\", \"-0.0364907607\", \"-0.0281618983\", \"0.00397835579\", \"-0.0121025397\", \"-0.0213721972\", \"-0.0482372679\", \"0.00947669614\", \"-0.0524933673\", \"0.0162860025\", \"-0.00776394317\", \"-0.0100810127\", \"-0.0345215835\", \"-0.00811160356\", \"-0.0177790057\", \"0.0327043384\", \"0.0145539874\", \"-0.0354136266\", \"0.0155490041\", \"-0.012814343\", \"-0.0086196661\", \"-0.0315487608\", \"0.00689646089\", \"-0.0437471643\", \"-0.056326706\", \"0.0206511356\", \"0.0168885775\", \"0.0102039408\", \"0.0118097877\", \"0.0198349301\", \"0.0209485143\", \"0.00207833061\", \"-0.0285670925\", \"-0.0155223776\", \"-0.059221793\", \"0.00557089644\", \"0.00585773075\", \"-0.0109796571\", \"-0.0335764848\", \"0.0123333102\", \"-0.00803406164\", \"-0.0114491824\", \"-0.0365352891\", \"0.00272463541\", \"-0.0153620597\", \"-0.0290835854\", \"0.0565864854\", \"-0.00105196948\", \"-0.010154007\", \"-0.0361076705\", \"0.00149622723\", \"0.0363045\", \"-0.0130405808\", \"-0.0169320777\", \"-0.00573484227\", \"0.0239651501\", \"-0.0117136762\", \"0.00966608152\", \"0.0199944712\", \"-0.0198018402\", \"0.0251994785\", \"0.0293075275\", \"-0.0463188\", \"0.000747434213\", \"-0.010237922\", \"0.0040246821\", \"-0.00815263577\", \"-0.00189628534\", \"0.043549981\", \"-0.00589243881\", \"-0.00211284193\", \"0.0259007476\", \"-0.0249977577\", \"-0.00684713619\", \"-0.032080885\", \"-0.000314891833\", \"0.0108801099\", \"-0.0471944101\", \"0.000508970639\", \"0.0262591112\", \"-0.00691903941\", \"-0.00637805602\", \"0.018907832\", \"-0.0352565125\", \"0.0204565432\", \"-0.0283318907\", \"-0.024010554\", \"0.0208286382\", \"-0.00877547543\", \"-0.0200913176\", \"-0.0177801829\", \"-0.00827128161\", \"0.00439270213\", \"-0.000735978305\", \"-0.0211921073\", \"0.0148357404\", \"0.0157468375\", \"-0.0141308047\", \"-0.0247840174\", \"0.0224261619\", \"-0.0143384906\", \"0.0330976397\", \"0.0140682515\", \"0.00995121896\", \"-0.007474666\", \"-0.0184512474\", \"-0.00837285724\", \"0.000617257669\", \"0.00558586419\", \"-0.0145513108\", \"-0.00351293012\", \"-0.00256885262\", \"0.00577989733\", \"-0.00401394675\", \"-0.00766734686\", \"-0.00305384514\", \"0.00373775815\", \"-0.0296585131\", \"-0.00361724664\", \"-0.00883828197\", \"0.00748619623\", \"0.000252910104\", \"-0.00457043946\", \"-0.0201548319\", \"-0.0252746549\", \"0.00168706314\", \"-0.0298094787\", \"-0.0146924825\", \"0.0128715057\", \"0.00560467085\", \"0.0444890335\", \"0.0261638593\", \"0.0111428779\", \"-0.0199291445\", \"0.00785919558\", \"-0.0128762247\", \"0.0244769342\", \"-0.0107187619\", \"-0.0464264415\", \"-0.0104898084\", \"-0.0178262144\", \"-0.0137557127\", \"-0.0102394652\", \"-0.014306616\", \"0.0244306866\", \"-0.00254897657\", \"-0.0185023658\", \"-0.0142295249\", \"0.0310087055\", \"0.0142803881\", \"0.0376190878\", \"-0.0297563523\", \"0.00542638358\", \"-0.0184449945\", \"-0.0503337532\", \"0.0166999884\", \"0.00104679959\", \"0.00256713643\", \"-0.0211080834\", \"-0.0257891025\", \"-0.00638541533\", \"0.00502090435\", \"0.0348391682\", \"-0.00794825796\", \"-0.00528641976\", \"0.0051815575\", \"-0.0200103652\", \"0.0520398952\", \"-0.0226174686\", \"-0.0168225318\", \"-0.0248104353\", \"-0.0291411635\", \"-0.0144455545\", \"0.0152227143\", \"-0.00120616588\", \"0.00298258616\", \"0.0188053735\", \"-0.0332316346\", \"-0.00316669163\", \"0.010637505\", \"0.0474953614\", \"-0.00897656195\", \"0.0131236985\", \"-0.0032948642\", \"-0.00921558682\", \"0.0190842431\", \"-0.0313900188\", \"0.0171930734\", \"0.0409358218\", \"0.0165281687\", \"-0.0337287821\", \"-0.0326953642\", \"-0.00386965647\", \"-0.000295625883\", \"0.0238433965\", \"-0.0307551473\", \"-0.0472229794\", \"0.00329941278\", \"0.0313554369\", \"-0.165926591\", \"0.00272048218\", \"0.0179151315\", \"0.021211952\", \"-0.0445138849\", \"-0.00851177424\", \"-0.0108391922\", \"-0.0241806321\", \"-0.0390613936\", \"0.000166928046\", \"0.022978846\", \"0.0292130448\", \"-0.221982747\", \"-0.0182998218\", \"0.02996465\", \"-0.0322534591\", \"-0.0164555423\", \"0.0299272891\", \"0.00579001755\", \"-0.0222335514\", \"-0.00883179\", \"-0.0166464858\", \"-0.0380187556\", \"-0.0118861543\", \"0.0321373902\", \"0.0150685\", \"0.0277100354\", \"0.0176134277\", \"-0.0379538797\", \"-0.0315282904\", \"-0.00213166978\", \"0.0240909141\", \"-0.0020726854\", \"0.0502255782\", \"-0.00236220402\", \"0.0199436974\", \"0.0112716611\", \"0.0116284965\", \"0.0410018936\", \"0.00948410202\", \"-4.7202243e-06\", \"0.00811222475\", \"0.015998682\", \"-0.0455583036\", \"0.0400443375\", \"0.019103514\", \"0.00842999853\", \"-0.0144692706\", \"-0.00123069482\", \"-0.0812643617\", \"-0.00740423752\", \"-0.000820875459\", \"-0.00181607786\", \"-0.00855886657\", \"0.0216489099\", \"-6.40009821e-05\", \"-0.0278816018\", \"0.0235046204\", \"0.0161889512\", \"0.000257266336\", \"-0.0197364371\", \"0.032317549\", \"-0.0526887551\", \"-0.0131796123\", \"0.0076171672\", \"0.0112138819\", \"0.0483759083\", \"0.0105168074\", \"-0.00428243494\", \"0.0477485694\", \"-0.0159497596\", \"0.0287609138\", \"-0.0155007625\", \"0.0192687679\", \"0.0115767447\", \"0.0058118524\", \"0.00100039982\", \"-0.0212854613\", \"-0.01529455\", \"0.0294814929\", \"-0.0440015197\", \"0.0198187623\", \"0.00934087764\", \"0.00729890401\", \"-0.0199660789\", \"-0.0177327208\", \"-0.0276479162\", \"-0.0104891155\", \"-0.173038617\", \"-0.00946687255\", \"0.0239307806\", \"0.0137622738\", \"-0.0234436952\", \"-0.0385693051\", \"0.0404636152\", \"-0.0321961232\", \"-0.0504654795\", \"0.024917068\", \"-0.0151180513\", \"0.0109119061\", \"0.00109109131\", \"0.017960906\", \"-0.0079495348\", \"0.0246699341\", \"0.00109805237\", \"-0.0214732885\", \"-0.00660159299\", \"0.0200670119\", \"0.010725027\", \"0.0111005381\", \"0.0206225011\", \"0.0228804369\", \"0.01323805\", \"0.00781233516\", \"0.0481117219\", \"-0.00154183828\", \"-0.0123157334\", \"-0.042946998\", \"-0.0408893153\", \"-0.0186309088\", \"0.0111471368\", \"-0.0196130369\", \"0.0210984237\", \"-0.00699864607\", \"-0.0302627608\", \"-0.000705920742\", \"-0.0114150755\", \"0.00516197644\", \"-0.00183335098\", \"0.022160871\", \"0.00362433051\", \"-0.0188842565\", \"0.013992371\", \"-0.00612177094\", \"0.0129495207\", \"-0.0221348573\", \"0.00367959868\", \"0.0255580973\", \"0.0372296236\", \"-0.0323165059\", \"0.050450433\", \"-0.0237430651\", \"0.0284735877\", \"0.0424179956\", \"0.0267948024\", \"-0.04015157\", \"0.0128805423\", \"-0.00311376713\", \"-0.0160330348\", \"0.0333839394\", \"-0.0124338735\", \"0.00469623832\", \"0.00419278443\", \"0.00657976\", \"-0.0527934954\", \"0.0322624967\", \"0.0431821384\", \"-0.0211609211\", \"-0.0113270199\", \"0.0141402744\", \"0.0233101659\", \"0.0505540222\", \"0.0709394\", \"-0.00219212659\", \"0.0179044213\", \"-0.0220309068\", \"-0.020377811\", \"-0.022008216\", \"0.00617540488\", \"-0.022712864\", \"-0.0273851808\", \"-0.0261287149\", \"-0.00303532\", \"0.0371788554\", \"0.0505473875\", \"0.000675898162\", \"-0.0250777788\", \"0.0204437152\", \"0.0113553675\", \"-0.00286402227\", \"0.0138019826\", \"0.00548860896\", \"0.014996496\", \"0.0284477621\", \"-0.00512995897\", \"0.0355667\", \"0.00271093426\", \"0.022033941\", \"0.00500716455\", \"0.0232623313\", \"-0.00909435377\", \"-0.0206934139\", \"-0.0411617756\", \"0.000946221931\", \"0.0191053879\", \"0.0104822945\", \"0.00887254\", \"-0.0205831267\", \"-0.0264208671\", \"-0.00536233233\", \"-0.0367612243\", \"-0.00984944496\", \"-0.0228417795\", \"-0.00993972365\", \"0.02736203\", \"-0.0191968381\", \"-0.021289371\", \"0.0308183394\", \"0.0132287089\", \"0.0105264764\", \"-0.00715908548\", \"-0.00414017029\", \"-0.01151051\", \"0.00195836369\", \"0.0307689868\", \"0.0112625044\", \"0.00905475114\", \"-0.0291096289\", \"0.000334613898\", \"0.0211402252\", \"0.0126965223\", \"0.00167880568\", \"-0.0185163282\", \"0.0405649953\", \"0.0217575282\", \"0.00928101223\", \"-0.000505887554\", \"0.0145828342\", \"0.0139093939\", \"-0.00930828229\", \"0.0538856797\", \"-0.036397893\", \"0.0274678972\", \"-0.0144291399\", \"-0.0419487543\", \"-0.00595083833\", \"0.0205839556\", \"0.035161864\", \"-0.0145558752\", \"-0.00685926\", \"-0.0209624972\", \"0.0405597575\", \"0.000216467\", \"-0.0111090383\", \"0.0269288216\", \"-0.0335875042\", \"0.0264009535\", \"0.039583344\", \"-0.0162692089\", \"0.00372658507\", \"0.0274636094\", \"0.131055653\", \"-0.0371895432\", \"-0.0233877823\", \"0.0219708942\", \"-0.0102180988\", \"0.0131379412\", \"0.0122280363\", \"-0.00909889396\", \"-0.0165668689\", \"0.0275524966\", \"-0.00167053612\", \"-0.00976949371\", \"0.00640600361\", \"0.0362547226\", \"0.0439187363\", \"-0.0367119722\", \"-0.00734925363\", \"-0.00628192676\", \"0.021714706\", \"0.000628910435\", \"-0.0190994218\", \"0.0363463871\", \"0.0530578196\", \"-0.00463426486\", \"-0.0259834\", \"-0.0235333517\", \"-0.00691894535\", \"-0.0238584727\", \"0.000427310151\", \"-0.035421636\", \"0.00422467431\", \"-0.00831840467\", \"-0.0626281723\", \"-0.00184924179\", \"0.0114763239\", \"-0.0141452374\", \"0.00452255411\", \"-0.024702115\", \"0.037051\", \"-0.0352036655\", \"-0.018151423\", \"-0.0102618355\", \"-0.0237085279\", \"-0.00965844281\", \"-0.0317959413\", \"-0.0317087919\", \"0.0333660841\", \"0.0119377859\", \"-0.00258023641\", \"0.0638948232\", \"-0.0138482703\", \"0.00921620242\", \"0.040099103\", \"0.00637694588\", \"-0.0300311968\", \"-0.0194818676\", \"0.0103366543\", \"-0.0161313172\", \"0.0211155731\", \"0.028187301\", \"-0.00612710975\", \"0.0317084566\", \"-0.0251056571\", \"-0.00316906138\", \"0.00236553815\", \"0.000797819812\", \"-0.00516081229\", \"-0.0360966288\", \"0.0164631177\", \"0.00841920357\", \"-0.00495560421\", \"0.000860873552\", \"-0.00920062605\", \"-0.0199511647\", \"0.0227350071\", \"0.0103533613\", \"-0.00910988543\", \"-0.0179552678\", \"-0.0603100881\", \"-0.0296981968\", \"-0.0267345887\", \"0.000115282979\", \"-0.0105560264\", \"-0.011778377\", \"-0.00603209622\", \"0.0245141834\", \"0.00597661035\", \"-0.0696924552\", \"-0.000804723706\", \"0.0266150869\", \"0.0352130197\", \"0.00938592292\", \"-0.0120908823\", \"0.000491051294\", \"-0.0202984959\", \"-0.00423198147\", \"0.0323273391\", \"-0.0178334955\", \"-0.033239644\", \"0.00945292599\", \"-0.0182720106\", \"0.0269843731\", \"-0.0246572476\", \"-0.0267930105\", \"-0.0189004038\", \"-0.0205611736\", \"0.0676223785\", \"0.0162895415\", \"0.0163311549\", \"0.0521167032\", \"-0.010065753\", \"-0.00907561183\", \"-0.0166869368\", \"0.0294913407\", \"-0.00344577874\", \"0.0529501177\", \"-0.0106848544\", \"-0.00781832635\", \"-0.00384842488\", \"0.0160275474\", \"0.00894470792\", \"-0.0149683235\", \"0.00690225046\", \"0.00870571658\", \"0.0235226322\", \"-3.7352369e-05\", \"0.0187070277\", \"0.0290205479\", \"-0.0131821949\", \"0.0281692017\", \"0.0443743616\", \"-0.00428860262\", \"-0.00932793599\", \"0.0100380229\", \"0.0162947327\", \"-0.0447174199\", \"-0.0179472473\", \"-0.0107650552\", \"-0.0159928314\", \"0.00639381725\", \"-0.00639946898\", \"-0.0197187718\", \"-0.00394419767\", \"0.00272124633\", \"-0.0544088185\", \"-0.0294822771\", \"-0.00461058831\", \"-0.0190872848\", \"-0.0150179369\", \"-0.0317789055\", \"0.0154112335\", \"0.0318141915\", \"0.00791355409\", \"-0.0209869072\", \"0.00996697601\", \"-0.0126443682\", \"-0.0192884114\", \"-0.0132196788\", \"0.00422986597\", \"-0.0400415063\", \"0.0193011761\", \"0.00384016754\", \"-0.00846337713\", \"-0.0188458525\", \"0.0085593136\", \"-0.00202970649\", \"0.0104487436\", \"0.00889541768\", \"0.0192041174\", \"0.0269342884\", \"-0.0118800495\", \"-0.00691141\", \"-0.04464899\", \"0.034331046\", \"-0.0351069085\", \"0.0137730325\", \"-0.0122171268\", \"-0.0277653597\", \"0.0145811467\", \"-0.0137838721\", \"0.00649388181\", \"0.0219194684\", \"0.018661052\", \"-0.00923734251\", \"0.00821612682\", \"-0.0565990433\", \"-0.0417577624\", \"-0.00309059955\", \"-0.0058346088\", \"-0.016246926\", \"-0.0295304265\", \"0.0387437269\", \"0.025379179\", \"0.0377839431\", \"-0.00378089515\", \"-0.0102544492\", \"0.00828620885\", \"-0.0107739791\", \"0.0197435878\", \"-0.018160589\", \"0.042390272\", \"0.00217261165\", \"0.0168313235\", \"0.0058479174\", \"-0.0308694225\", \"9.29734233e-05\", \"-0.00153012981\", \"-0.0137737785\", \"0.0203734152\", \"0.0219572056\", \"0.00730396714\", \"0.0131620951\", \"0.00428542541\", \"0.000546042691\", \"-0.0144575862\", \"0.00124066568\", \"-0.0233896524\", \"0.0131177278\", \"0.0310570356\", \"-0.0367128477\", \"-0.0441420488\", \"0.0162958503\", \"0.0186802931\", \"0.0432053581\", \"-0.0172751974\", \"0.0188590679\", \"-0.0356764346\", \"-0.0213555656\", \"-0.0148106888\", \"0.00646845298\", \"-0.0130265215\", \"0.00933485478\", \"0.0105583128\", \"-0.0136274416\", \"-0.000207746038\", \"-0.00045107113\", \"-0.0205608495\", \"-0.00498059392\", \"0.00798183493\", \"0.0109895971\", \"0.00706344098\", \"0.0102688335\", \"0.0345188603\", \"0.0137200188\", \"0.016915869\", \"0.0393645\", \"-0.015131807\", \"-0.000341649604\", \"-0.00321885478\", \"-0.0183513332\", \"-0.0102759814\", \"-0.00749974186\", \"-0.0983383507\", \"-0.0244358908\", \"-0.0129081719\", \"0.0221516211\", \"0.0250511747\", \"-0.00221708929\", \"-0.0281510688\", \"-0.0234578289\", \"0.00190516468\", \"0.00836293306\", \"-0.02573549\", \"-0.011601002\", \"-0.00838682335\", \"-0.0146642141\", \"0.0201913025\", \"-0.00392253278\", \"-7.90575941e-05\", \"-0.0247650594\", \"0.0214435682\", \"-0.0255831592\", \"0.00877545\", \"0.0116443196\", \"0.0181114525\", \"0.0216087196\", \"-0.00265033334\", \"-0.011996083\", \"-0.0377330892\", \"-0.00122626871\", \"-0.0109573947\", \"-0.0251573343\", \"-0.00772197824\", \"-0.0309299417\", \"-0.00653427839\", \"0.0260635857\", \"0.01803644\", \"-0.0437558815\", \"-0.0482634753\", \"0.00968585722\", \"0.0157322623\", \"-0.00135688693\", \"0.00521107065\", \"0.00105989259\", \"-0.0145271514\", \"0.000668483321\", \"-0.0237018336\", \"-0.0076134894\", \"-0.0543431826\", \"0.0339812711\", \"0.0662583411\", \"0.0139403529\", \"-0.0243732817\", \"0.0152575858\", \"0.0186114181\", \"0.0190228093\", \"0.0165550224\", \"-0.0342229344\", \"-0.0187811702\", \"0.0174141712\", \"-0.024645865\", \"-0.0259290375\", \"-0.0630134046\", \"0.0116612688\", \"-0.0239140857\", \"-0.00729171559\", \"0.0154653285\", \"0.0132240513\", \"-0.000269636716\", \"0.00827496126\", \"0.0128055681\", \"0.00873206556\", \"-0.0151196457\", \"-0.0363284126\", \"0.063531287\", \"-0.0430294536\", \"0.00205772347\", \"-0.0594093762\", \"-0.00603320776\", \"0.00311198574\", \"-0.0112682926\", \"0.0243487172\", \"0.002623874\", \"0.0226458237\", \"0.0141054355\", \"-0.0287224911\", \"0.0194129683\", \"-0.0116302865\", \"-0.0232511815\", \"-0.0155021949\", \"-0.0162983444\", \"0.0112662856\", \"0.00520005589\", \"-0.0253612939\", \"-0.000988734537\", \"0.0167350955\", \"-0.0221411847\", \"0.0195691492\", \"0.0208468251\", \"-0.0139411958\", \"-0.0264622979\", \"-0.0111948391\", \"0.0263540708\", \"0.0399934649\", \"-0.0233856589\", \"-0.0166048873\", \"-0.0428701676\", \"-0.00281208847\", \"-0.0328012258\", \"-0.0173661318\", \"0.0276209582\", \"-0.0342850275\", \"0.0215097722\", \"-0.0340873748\", \"-0.0106158257\", \"0.0257855412\", \"-0.0735044181\", \"0.0135409785\", \"0.00705513963\", \"0.00892865378\", \"-0.00493240124\", \"0.0153464982\", \"-0.0122073311\", \"-0.0223302469\", \"0.00155324407\", \"0.0233174618\", \"0.0410444066\", \"0.00474210829\", \"-0.0253478922\", \"-0.0255973972\", \"0.0272274241\", \"0.0247552805\", \"0.0298855212\", \"-0.00902166\", \"-0.0269644056\", \"-0.0194264408\", \"-0.00368854473\", \"0.0455619022\", \"-0.017172629\", \"-0.00689175213\", \"0.035739772\", \"0.00423105573\", \"0.000571046083\", \"0.000650999602\", \"-0.016021084\", \"0.0162881278\", \"0.0030055414\", \"-0.0321696028\", \"0.035122212\", \"0.0333603397\", \"0.0397313088\", \"0.0382141434\", \"-0.0634986535\", \"-0.0525331944\", \"0.0308637172\", \"0.0273345057\", \"-0.000592086173\", \"-0.00344227254\", \"-0.0258000456\", \"-0.0771843046\", \"0.0119749596\", \"0.0114004267\", \"0.0210530702\", \"-0.0210023094\", \"-0.0968853608\", \"0.00389292673\", \"0.0133171249\", \"0.00558179943\", \"-0.0028267561\", \"0.0531404391\", \"-0.0178096015\", \"-0.00884074066\", \"0.0168171655\", \"0.0132920491\", \"-0.0189922769\", \"0.0117566101\", \"-0.0358983502\", \"-0.0464907251\", \"0.0035050693\", \"-0.0167498\", \"-0.0205784068\", \"0.0254423395\", \"-0.0252506509\", \"-0.00948123727\", \"0.0270545408\", \"0.00981905218\", \"0.0294118058\", \"-0.0201953202\", \"0.00235948944\", \"-0.0293624774\", \"0.00225345651\", \"-0.00675027072\", \"-0.0217766259\", \"-0.00741671585\", \"-0.00138548017\", \"-0.0174881518\", \"0.0237201843\", \"0.0392474718\", \"-0.032728754\", \"0.00802520383\", \"-0.022314107\", \"-0.00380523759\", \"-0.0154590243\", \"-0.00565532409\", \"0.00331742666\", \"-0.0138861211\", \"-0.00537397107\", \"0.03452437\", \"0.0101201404\", \"0.0247580372\", \"-0.013295575\", \"-0.0430433862\", \"0.0145186484\", \"-0.0469001569\", \"0.00126091368\", \"-0.0369263627\", \"0.0198190808\", \"0.00673469622\", \"0.0288945269\", \"-0.00197866117\", \"-0.00894019101\", \"0.0411616787\", \"-0.00805743877\", \"0.0200893506\", \"-0.001916699\", \"0.0120865647\", \"-0.047011245\", \"-0.00784730352\", \"0.0470332094\", \"0.0103019075\", \"-0.000368936191\", \"-0.0169478487\", \"-0.0202335939\", \"-0.00788280088\", \"0.00508786831\", \"0.0271073561\", \"0.0256227627\", \"0.0117149707\", \"-0.0176953115\", \"0.0189329386\", \"-0.0126719782\", \"-0.0317796133\", \"0.0390920639\", \"0.0124571491\", \"0.00467918813\", \"-0.0368582346\", \"0.00287697953\"], \"restricts\": [{\"namespace\": \"class\", \"allow_list\": [\"even\"]}]}\\n']\n"
          ]
        }
      ]
    },
    {
      "cell_type": "markdown",
      "source": [
        "Upload the training data to Cloud Storage"
      ],
      "metadata": {
        "id": "hTUtcxFIcI4k"
      }
    },
    {
      "cell_type": "code",
      "source": [
        "UNIQUE_FOLDER_NAME = \"embeddings_folder_unique\"\n",
        "EMBEDDINGS_INITIAL_URI = f\"{BUCKET_URI}/{UNIQUE_FOLDER_NAME}/\"\n",
        "! gsutil cp {embeddings_file.name} {EMBEDDINGS_INITIAL_URI}"
      ],
      "metadata": {
        "colab": {
          "base_uri": "https://localhost:8080/"
        },
        "id": "e2o2aqoAcIYd",
        "outputId": "bd71e177-c56a-44f8-d520-73b7f3f9bda1"
      },
      "execution_count": 94,
      "outputs": [
        {
          "output_type": "stream",
          "name": "stdout",
          "text": [
            "Copying file:///tmp/tmp14z9oui2.json [Content-Type=application/json]...\n",
            "-\n",
            "Operation completed over 1 objects/69.1 KiB.                                     \n"
          ]
        }
      ]
    },
    {
      "cell_type": "markdown",
      "source": [
        "# **Create INDEX. ANN**"
      ],
      "metadata": {
        "id": "jGm-FCnRhYUg"
      }
    },
    {
      "cell_type": "code",
      "source": [
        "DIMENSIONS = 100\n",
        "DISPLAY_NAME = \"multimodal_images\"\n",
        "DESCRIPTION = \"Multimodal Images Embeddings\""
      ],
      "metadata": {
        "id": "1czCtvpOha7d"
      },
      "execution_count": 95,
      "outputs": []
    },
    {
      "cell_type": "code",
      "source": [
        "aiplatform.init(project=PROJECT_ID, location=REGION, staging_bucket=BUCKET_URI)"
      ],
      "metadata": {
        "id": "x7i6dCI-hzQm"
      },
      "execution_count": 96,
      "outputs": []
    },
    {
      "cell_type": "markdown",
      "source": [
        "Create the index configuration"
      ],
      "metadata": {
        "id": "LKRsgfoCh3ht"
      }
    },
    {
      "cell_type": "code",
      "source": [
        "tree_ah_index = aiplatform.MatchingEngineIndex.create_tree_ah_index(\n",
        "    display_name=DISPLAY_NAME,\n",
        "    contents_delta_uri=EMBEDDINGS_INITIAL_URI,\n",
        "    dimensions=DIMENSIONS,\n",
        "    approximate_neighbors_count=10,\n",
        "    distance_measure_type=\"COSINE_DISTANCE\",\n",
        "    # distance_measure_type=\"DOT_PRODUCT_DISTANCE\",\n",
        "    leaf_node_embedding_count=10,\n",
        "    leaf_nodes_to_search_percent=7,\n",
        "    description=\"Image Index\",\n",
        "    labels={\"label_name\": \"label_value\"},\n",
        ")"
      ],
      "metadata": {
        "colab": {
          "base_uri": "https://localhost:8080/"
        },
        "id": "pbzpRCnZh7h2",
        "outputId": "34cfbdd9-6ecf-4bf8-83e9-72770f0f581c"
      },
      "execution_count": null,
      "outputs": [
        {
          "output_type": "stream",
          "name": "stderr",
          "text": [
            "INFO:google.cloud.aiplatform.matching_engine.matching_engine_index:Creating MatchingEngineIndex\n",
            "INFO:google.cloud.aiplatform.matching_engine.matching_engine_index:Create MatchingEngineIndex backing LRO: projects/899604603048/locations/us-central1/indexes/7182682853749030912/operations/2078807533253820416\n"
          ]
        }
      ]
    },
    {
      "cell_type": "code",
      "source": [
        "INDEX_RESOURCE_NAME = tree_ah_index.resource_name\n",
        "INDEX_RESOURCE_NAME"
      ],
      "metadata": {
        "id": "ugV48BrjihYi"
      },
      "execution_count": null,
      "outputs": []
    },
    {
      "cell_type": "markdown",
      "source": [
        "Name"
      ],
      "metadata": {
        "id": "vSonr4QMikiM"
      }
    },
    {
      "cell_type": "code",
      "source": [
        "tree_ah_index = aiplatform.MatchingEngineIndex(index_name=INDEX_RESOURCE_NAME)"
      ],
      "metadata": {
        "id": "1dm4fKKmimi5"
      },
      "execution_count": null,
      "outputs": []
    },
    {
      "cell_type": "markdown",
      "source": [
        "## Create an IndexEndpoint"
      ],
      "metadata": {
        "id": "JyLVmCdgip6k"
      }
    },
    {
      "cell_type": "code",
      "source": [
        "my_index_endpoint = aiplatform.MatchingEngineIndexEndpoint.create(\n",
        "    display_name=DISPLAY_NAME,\n",
        "    description=DISPLAY_NAME,\n",
        "    public_endpoint_enabled=True,\n",
        ")"
      ],
      "metadata": {
        "id": "z1Afgd6Qis0t"
      },
      "execution_count": null,
      "outputs": []
    },
    {
      "cell_type": "markdown",
      "source": [
        "# Deploy Indexes"
      ],
      "metadata": {
        "id": "UA774D64ivJE"
      }
    },
    {
      "cell_type": "code",
      "source": [
        "DEPLOYED_INDEX_ID = \"deployed_index_id_unique\"\n",
        "\n",
        "DEPLOYED_INDEX_ID"
      ],
      "metadata": {
        "id": "Ab4qC0Jai2Sq"
      },
      "execution_count": null,
      "outputs": []
    },
    {
      "cell_type": "code",
      "source": [
        "my_index_endpoint = my_index_endpoint.deploy_index(\n",
        "    index=tree_ah_index, deployed_index_id=DEPLOYED_INDEX_ID\n",
        ")\n",
        "\n",
        "my_index_endpoint.deployed_indexes"
      ],
      "metadata": {
        "id": "e3D_plZji3qh"
      },
      "execution_count": null,
      "outputs": []
    },
    {
      "cell_type": "markdown",
      "source": [
        "Verify number of items"
      ],
      "metadata": {
        "id": "ISr_p5a2i8NH"
      }
    },
    {
      "cell_type": "code",
      "source": [
        "number_of_vectors = sum(\n",
        "    aiplatform.MatchingEngineIndex(\n",
        "        deployed_index.index\n",
        "    )._gca_resource.index_stats.vectors_count\n",
        "    for deployed_index in my_index_endpoint.deployed_indexes\n",
        ")\n",
        "\n",
        "print(f\"Expected: {BQ_NUM_ROWS}, Actual: {number_of_vectors}\")"
      ],
      "metadata": {
        "id": "G6-pVr9zjA-E"
      },
      "execution_count": null,
      "outputs": []
    },
    {
      "cell_type": "markdown",
      "source": [
        "## Create Online Queries"
      ],
      "metadata": {
        "id": "sy0hGJD-jJvs"
      }
    },
    {
      "cell_type": "code",
      "source": [
        "test_embeddings = encode_texts_to_embeddings(sentences=[\"jacket blue\"])"
      ],
      "metadata": {
        "id": "jOV-V81XjL-_"
      },
      "execution_count": null,
      "outputs": []
    },
    {
      "cell_type": "code",
      "source": [
        "# Test query\n",
        "NUM_NEIGHBOURS = 10\n",
        "\n",
        "response = my_index_endpoint.find_neighbors(\n",
        "    deployed_index_id=DEPLOYED_INDEX_ID,\n",
        "    queries=test_embeddings,\n",
        "    num_neighbors=NUM_NEIGHBOURS,\n",
        "    filter=[Namespace(\"class\", [\"even\"])],\n",
        ")\n",
        "\n",
        "response"
      ],
      "metadata": {
        "id": "xYKb3OETjPDs"
      },
      "execution_count": null,
      "outputs": []
    }
  ],
  "metadata": {
    "colab": {
      "name": "Welcome To Colaboratory",
      "provenance": [],
      "include_colab_link": true
    },
    "kernelspec": {
      "display_name": "Python 3",
      "name": "python3"
    },
    "widgets": {
      "application/vnd.jupyter.widget-state+json": {
        "a6aac4e208a1469f96639fefe2863a0d": {
          "model_module": "@jupyter-widgets/controls",
          "model_name": "HBoxModel",
          "model_module_version": "1.5.0",
          "state": {
            "_dom_classes": [],
            "_model_module": "@jupyter-widgets/controls",
            "_model_module_version": "1.5.0",
            "_model_name": "HBoxModel",
            "_view_count": null,
            "_view_module": "@jupyter-widgets/controls",
            "_view_module_version": "1.5.0",
            "_view_name": "HBoxView",
            "box_style": "",
            "children": [
              "IPY_MODEL_204b73bf8d7041ff9f53cad501fc91a3",
              "IPY_MODEL_58b177e15de54bf9a91116543d08a8cd",
              "IPY_MODEL_099a5b51bc0b488a800c4cbd6f9b9670"
            ],
            "layout": "IPY_MODEL_5555c15b378e4f0288d740ca968f1cad"
          }
        },
        "204b73bf8d7041ff9f53cad501fc91a3": {
          "model_module": "@jupyter-widgets/controls",
          "model_name": "HTMLModel",
          "model_module_version": "1.5.0",
          "state": {
            "_dom_classes": [],
            "_model_module": "@jupyter-widgets/controls",
            "_model_module_version": "1.5.0",
            "_model_name": "HTMLModel",
            "_view_count": null,
            "_view_module": "@jupyter-widgets/controls",
            "_view_module_version": "1.5.0",
            "_view_name": "HTMLView",
            "description": "",
            "description_tooltip": null,
            "layout": "IPY_MODEL_fabc19f4cd4c4a2f97f69bf69b2c8e2b",
            "placeholder": "​",
            "style": "IPY_MODEL_87d2bf32a70f41b5a0882348e5f2c84d",
            "value": "100%"
          }
        },
        "58b177e15de54bf9a91116543d08a8cd": {
          "model_module": "@jupyter-widgets/controls",
          "model_name": "FloatProgressModel",
          "model_module_version": "1.5.0",
          "state": {
            "_dom_classes": [],
            "_model_module": "@jupyter-widgets/controls",
            "_model_module_version": "1.5.0",
            "_model_name": "FloatProgressModel",
            "_view_count": null,
            "_view_module": "@jupyter-widgets/controls",
            "_view_module_version": "1.5.0",
            "_view_name": "ProgressView",
            "bar_style": "success",
            "description": "",
            "description_tooltip": null,
            "layout": "IPY_MODEL_79da890d73b2461fa748b1a18eb9c27e",
            "max": 3,
            "min": 0,
            "orientation": "horizontal",
            "style": "IPY_MODEL_36a1a78ebc2743d4850cdd686a015611",
            "value": 3
          }
        },
        "099a5b51bc0b488a800c4cbd6f9b9670": {
          "model_module": "@jupyter-widgets/controls",
          "model_name": "HTMLModel",
          "model_module_version": "1.5.0",
          "state": {
            "_dom_classes": [],
            "_model_module": "@jupyter-widgets/controls",
            "_model_module_version": "1.5.0",
            "_model_name": "HTMLModel",
            "_view_count": null,
            "_view_module": "@jupyter-widgets/controls",
            "_view_module_version": "1.5.0",
            "_view_name": "HTMLView",
            "description": "",
            "description_tooltip": null,
            "layout": "IPY_MODEL_ee43e37b232b4066a9dc24d82a963b5b",
            "placeholder": "​",
            "style": "IPY_MODEL_a89c68cfadaf4675aeb2a15f2e64aef4",
            "value": " 3/3 [00:01&lt;00:00,  1.97it/s]"
          }
        },
        "5555c15b378e4f0288d740ca968f1cad": {
          "model_module": "@jupyter-widgets/base",
          "model_name": "LayoutModel",
          "model_module_version": "1.2.0",
          "state": {
            "_model_module": "@jupyter-widgets/base",
            "_model_module_version": "1.2.0",
            "_model_name": "LayoutModel",
            "_view_count": null,
            "_view_module": "@jupyter-widgets/base",
            "_view_module_version": "1.2.0",
            "_view_name": "LayoutView",
            "align_content": null,
            "align_items": null,
            "align_self": null,
            "border": null,
            "bottom": null,
            "display": null,
            "flex": null,
            "flex_flow": null,
            "grid_area": null,
            "grid_auto_columns": null,
            "grid_auto_flow": null,
            "grid_auto_rows": null,
            "grid_column": null,
            "grid_gap": null,
            "grid_row": null,
            "grid_template_areas": null,
            "grid_template_columns": null,
            "grid_template_rows": null,
            "height": null,
            "justify_content": null,
            "justify_items": null,
            "left": null,
            "margin": null,
            "max_height": null,
            "max_width": null,
            "min_height": null,
            "min_width": null,
            "object_fit": null,
            "object_position": null,
            "order": null,
            "overflow": null,
            "overflow_x": null,
            "overflow_y": null,
            "padding": null,
            "right": null,
            "top": null,
            "visibility": null,
            "width": null
          }
        },
        "fabc19f4cd4c4a2f97f69bf69b2c8e2b": {
          "model_module": "@jupyter-widgets/base",
          "model_name": "LayoutModel",
          "model_module_version": "1.2.0",
          "state": {
            "_model_module": "@jupyter-widgets/base",
            "_model_module_version": "1.2.0",
            "_model_name": "LayoutModel",
            "_view_count": null,
            "_view_module": "@jupyter-widgets/base",
            "_view_module_version": "1.2.0",
            "_view_name": "LayoutView",
            "align_content": null,
            "align_items": null,
            "align_self": null,
            "border": null,
            "bottom": null,
            "display": null,
            "flex": null,
            "flex_flow": null,
            "grid_area": null,
            "grid_auto_columns": null,
            "grid_auto_flow": null,
            "grid_auto_rows": null,
            "grid_column": null,
            "grid_gap": null,
            "grid_row": null,
            "grid_template_areas": null,
            "grid_template_columns": null,
            "grid_template_rows": null,
            "height": null,
            "justify_content": null,
            "justify_items": null,
            "left": null,
            "margin": null,
            "max_height": null,
            "max_width": null,
            "min_height": null,
            "min_width": null,
            "object_fit": null,
            "object_position": null,
            "order": null,
            "overflow": null,
            "overflow_x": null,
            "overflow_y": null,
            "padding": null,
            "right": null,
            "top": null,
            "visibility": null,
            "width": null
          }
        },
        "87d2bf32a70f41b5a0882348e5f2c84d": {
          "model_module": "@jupyter-widgets/controls",
          "model_name": "DescriptionStyleModel",
          "model_module_version": "1.5.0",
          "state": {
            "_model_module": "@jupyter-widgets/controls",
            "_model_module_version": "1.5.0",
            "_model_name": "DescriptionStyleModel",
            "_view_count": null,
            "_view_module": "@jupyter-widgets/base",
            "_view_module_version": "1.2.0",
            "_view_name": "StyleView",
            "description_width": ""
          }
        },
        "79da890d73b2461fa748b1a18eb9c27e": {
          "model_module": "@jupyter-widgets/base",
          "model_name": "LayoutModel",
          "model_module_version": "1.2.0",
          "state": {
            "_model_module": "@jupyter-widgets/base",
            "_model_module_version": "1.2.0",
            "_model_name": "LayoutModel",
            "_view_count": null,
            "_view_module": "@jupyter-widgets/base",
            "_view_module_version": "1.2.0",
            "_view_name": "LayoutView",
            "align_content": null,
            "align_items": null,
            "align_self": null,
            "border": null,
            "bottom": null,
            "display": null,
            "flex": null,
            "flex_flow": null,
            "grid_area": null,
            "grid_auto_columns": null,
            "grid_auto_flow": null,
            "grid_auto_rows": null,
            "grid_column": null,
            "grid_gap": null,
            "grid_row": null,
            "grid_template_areas": null,
            "grid_template_columns": null,
            "grid_template_rows": null,
            "height": null,
            "justify_content": null,
            "justify_items": null,
            "left": null,
            "margin": null,
            "max_height": null,
            "max_width": null,
            "min_height": null,
            "min_width": null,
            "object_fit": null,
            "object_position": null,
            "order": null,
            "overflow": null,
            "overflow_x": null,
            "overflow_y": null,
            "padding": null,
            "right": null,
            "top": null,
            "visibility": null,
            "width": null
          }
        },
        "36a1a78ebc2743d4850cdd686a015611": {
          "model_module": "@jupyter-widgets/controls",
          "model_name": "ProgressStyleModel",
          "model_module_version": "1.5.0",
          "state": {
            "_model_module": "@jupyter-widgets/controls",
            "_model_module_version": "1.5.0",
            "_model_name": "ProgressStyleModel",
            "_view_count": null,
            "_view_module": "@jupyter-widgets/base",
            "_view_module_version": "1.2.0",
            "_view_name": "StyleView",
            "bar_color": null,
            "description_width": ""
          }
        },
        "ee43e37b232b4066a9dc24d82a963b5b": {
          "model_module": "@jupyter-widgets/base",
          "model_name": "LayoutModel",
          "model_module_version": "1.2.0",
          "state": {
            "_model_module": "@jupyter-widgets/base",
            "_model_module_version": "1.2.0",
            "_model_name": "LayoutModel",
            "_view_count": null,
            "_view_module": "@jupyter-widgets/base",
            "_view_module_version": "1.2.0",
            "_view_name": "LayoutView",
            "align_content": null,
            "align_items": null,
            "align_self": null,
            "border": null,
            "bottom": null,
            "display": null,
            "flex": null,
            "flex_flow": null,
            "grid_area": null,
            "grid_auto_columns": null,
            "grid_auto_flow": null,
            "grid_auto_rows": null,
            "grid_column": null,
            "grid_gap": null,
            "grid_row": null,
            "grid_template_areas": null,
            "grid_template_columns": null,
            "grid_template_rows": null,
            "height": null,
            "justify_content": null,
            "justify_items": null,
            "left": null,
            "margin": null,
            "max_height": null,
            "max_width": null,
            "min_height": null,
            "min_width": null,
            "object_fit": null,
            "object_position": null,
            "order": null,
            "overflow": null,
            "overflow_x": null,
            "overflow_y": null,
            "padding": null,
            "right": null,
            "top": null,
            "visibility": null,
            "width": null
          }
        },
        "a89c68cfadaf4675aeb2a15f2e64aef4": {
          "model_module": "@jupyter-widgets/controls",
          "model_name": "DescriptionStyleModel",
          "model_module_version": "1.5.0",
          "state": {
            "_model_module": "@jupyter-widgets/controls",
            "_model_module_version": "1.5.0",
            "_model_name": "DescriptionStyleModel",
            "_view_count": null,
            "_view_module": "@jupyter-widgets/base",
            "_view_module_version": "1.2.0",
            "_view_name": "StyleView",
            "description_width": ""
          }
        },
        "55c6ee3234db43f5bb46357db6d7fa39": {
          "model_module": "@jupyter-widgets/controls",
          "model_name": "HBoxModel",
          "model_module_version": "1.5.0",
          "state": {
            "_dom_classes": [],
            "_model_module": "@jupyter-widgets/controls",
            "_model_module_version": "1.5.0",
            "_model_name": "HBoxModel",
            "_view_count": null,
            "_view_module": "@jupyter-widgets/controls",
            "_view_module_version": "1.5.0",
            "_view_name": "HBoxView",
            "box_style": "",
            "children": [
              "IPY_MODEL_7d9d38e2d6f9470a9fccf7d4ba8d33ef",
              "IPY_MODEL_9a3fbe566bf94a589d6fc1b6f9ec09a1",
              "IPY_MODEL_64776d839502457ab583dd5f1766feca"
            ],
            "layout": "IPY_MODEL_1318d9f9111841c18220ebfa6ee70a4d"
          }
        },
        "7d9d38e2d6f9470a9fccf7d4ba8d33ef": {
          "model_module": "@jupyter-widgets/controls",
          "model_name": "HTMLModel",
          "model_module_version": "1.5.0",
          "state": {
            "_dom_classes": [],
            "_model_module": "@jupyter-widgets/controls",
            "_model_module_version": "1.5.0",
            "_model_name": "HTMLModel",
            "_view_count": null,
            "_view_module": "@jupyter-widgets/controls",
            "_view_module_version": "1.5.0",
            "_view_name": "HTMLView",
            "description": "",
            "description_tooltip": null,
            "layout": "IPY_MODEL_5e60e881fca54491ab44b9b124a41cec",
            "placeholder": "​",
            "style": "IPY_MODEL_49558f851a144534b3a7b7ef7a016ba0",
            "value": "100%"
          }
        },
        "9a3fbe566bf94a589d6fc1b6f9ec09a1": {
          "model_module": "@jupyter-widgets/controls",
          "model_name": "FloatProgressModel",
          "model_module_version": "1.5.0",
          "state": {
            "_dom_classes": [],
            "_model_module": "@jupyter-widgets/controls",
            "_model_module_version": "1.5.0",
            "_model_name": "FloatProgressModel",
            "_view_count": null,
            "_view_module": "@jupyter-widgets/controls",
            "_view_module_version": "1.5.0",
            "_view_name": "ProgressView",
            "bar_style": "success",
            "description": "",
            "description_tooltip": null,
            "layout": "IPY_MODEL_0daf4810620940928c8b7cbbdcea2e48",
            "max": 1,
            "min": 0,
            "orientation": "horizontal",
            "style": "IPY_MODEL_b2a6b4cb2a7445028674ca7a5511ae01",
            "value": 1
          }
        },
        "64776d839502457ab583dd5f1766feca": {
          "model_module": "@jupyter-widgets/controls",
          "model_name": "HTMLModel",
          "model_module_version": "1.5.0",
          "state": {
            "_dom_classes": [],
            "_model_module": "@jupyter-widgets/controls",
            "_model_module_version": "1.5.0",
            "_model_name": "HTMLModel",
            "_view_count": null,
            "_view_module": "@jupyter-widgets/controls",
            "_view_module_version": "1.5.0",
            "_view_name": "HTMLView",
            "description": "",
            "description_tooltip": null,
            "layout": "IPY_MODEL_840339a4b5b34ede806bc5d7aa36bdf7",
            "placeholder": "​",
            "style": "IPY_MODEL_c696bdce502f4c00adb9ae3eb4a8d0d9",
            "value": " 1/1 [00:05&lt;00:00,  5.29s/it]"
          }
        },
        "1318d9f9111841c18220ebfa6ee70a4d": {
          "model_module": "@jupyter-widgets/base",
          "model_name": "LayoutModel",
          "model_module_version": "1.2.0",
          "state": {
            "_model_module": "@jupyter-widgets/base",
            "_model_module_version": "1.2.0",
            "_model_name": "LayoutModel",
            "_view_count": null,
            "_view_module": "@jupyter-widgets/base",
            "_view_module_version": "1.2.0",
            "_view_name": "LayoutView",
            "align_content": null,
            "align_items": null,
            "align_self": null,
            "border": null,
            "bottom": null,
            "display": null,
            "flex": null,
            "flex_flow": null,
            "grid_area": null,
            "grid_auto_columns": null,
            "grid_auto_flow": null,
            "grid_auto_rows": null,
            "grid_column": null,
            "grid_gap": null,
            "grid_row": null,
            "grid_template_areas": null,
            "grid_template_columns": null,
            "grid_template_rows": null,
            "height": null,
            "justify_content": null,
            "justify_items": null,
            "left": null,
            "margin": null,
            "max_height": null,
            "max_width": null,
            "min_height": null,
            "min_width": null,
            "object_fit": null,
            "object_position": null,
            "order": null,
            "overflow": null,
            "overflow_x": null,
            "overflow_y": null,
            "padding": null,
            "right": null,
            "top": null,
            "visibility": null,
            "width": null
          }
        },
        "5e60e881fca54491ab44b9b124a41cec": {
          "model_module": "@jupyter-widgets/base",
          "model_name": "LayoutModel",
          "model_module_version": "1.2.0",
          "state": {
            "_model_module": "@jupyter-widgets/base",
            "_model_module_version": "1.2.0",
            "_model_name": "LayoutModel",
            "_view_count": null,
            "_view_module": "@jupyter-widgets/base",
            "_view_module_version": "1.2.0",
            "_view_name": "LayoutView",
            "align_content": null,
            "align_items": null,
            "align_self": null,
            "border": null,
            "bottom": null,
            "display": null,
            "flex": null,
            "flex_flow": null,
            "grid_area": null,
            "grid_auto_columns": null,
            "grid_auto_flow": null,
            "grid_auto_rows": null,
            "grid_column": null,
            "grid_gap": null,
            "grid_row": null,
            "grid_template_areas": null,
            "grid_template_columns": null,
            "grid_template_rows": null,
            "height": null,
            "justify_content": null,
            "justify_items": null,
            "left": null,
            "margin": null,
            "max_height": null,
            "max_width": null,
            "min_height": null,
            "min_width": null,
            "object_fit": null,
            "object_position": null,
            "order": null,
            "overflow": null,
            "overflow_x": null,
            "overflow_y": null,
            "padding": null,
            "right": null,
            "top": null,
            "visibility": null,
            "width": null
          }
        },
        "49558f851a144534b3a7b7ef7a016ba0": {
          "model_module": "@jupyter-widgets/controls",
          "model_name": "DescriptionStyleModel",
          "model_module_version": "1.5.0",
          "state": {
            "_model_module": "@jupyter-widgets/controls",
            "_model_module_version": "1.5.0",
            "_model_name": "DescriptionStyleModel",
            "_view_count": null,
            "_view_module": "@jupyter-widgets/base",
            "_view_module_version": "1.2.0",
            "_view_name": "StyleView",
            "description_width": ""
          }
        },
        "0daf4810620940928c8b7cbbdcea2e48": {
          "model_module": "@jupyter-widgets/base",
          "model_name": "LayoutModel",
          "model_module_version": "1.2.0",
          "state": {
            "_model_module": "@jupyter-widgets/base",
            "_model_module_version": "1.2.0",
            "_model_name": "LayoutModel",
            "_view_count": null,
            "_view_module": "@jupyter-widgets/base",
            "_view_module_version": "1.2.0",
            "_view_name": "LayoutView",
            "align_content": null,
            "align_items": null,
            "align_self": null,
            "border": null,
            "bottom": null,
            "display": null,
            "flex": null,
            "flex_flow": null,
            "grid_area": null,
            "grid_auto_columns": null,
            "grid_auto_flow": null,
            "grid_auto_rows": null,
            "grid_column": null,
            "grid_gap": null,
            "grid_row": null,
            "grid_template_areas": null,
            "grid_template_columns": null,
            "grid_template_rows": null,
            "height": null,
            "justify_content": null,
            "justify_items": null,
            "left": null,
            "margin": null,
            "max_height": null,
            "max_width": null,
            "min_height": null,
            "min_width": null,
            "object_fit": null,
            "object_position": null,
            "order": null,
            "overflow": null,
            "overflow_x": null,
            "overflow_y": null,
            "padding": null,
            "right": null,
            "top": null,
            "visibility": null,
            "width": null
          }
        },
        "b2a6b4cb2a7445028674ca7a5511ae01": {
          "model_module": "@jupyter-widgets/controls",
          "model_name": "ProgressStyleModel",
          "model_module_version": "1.5.0",
          "state": {
            "_model_module": "@jupyter-widgets/controls",
            "_model_module_version": "1.5.0",
            "_model_name": "ProgressStyleModel",
            "_view_count": null,
            "_view_module": "@jupyter-widgets/base",
            "_view_module_version": "1.2.0",
            "_view_name": "StyleView",
            "bar_color": null,
            "description_width": ""
          }
        },
        "840339a4b5b34ede806bc5d7aa36bdf7": {
          "model_module": "@jupyter-widgets/base",
          "model_name": "LayoutModel",
          "model_module_version": "1.2.0",
          "state": {
            "_model_module": "@jupyter-widgets/base",
            "_model_module_version": "1.2.0",
            "_model_name": "LayoutModel",
            "_view_count": null,
            "_view_module": "@jupyter-widgets/base",
            "_view_module_version": "1.2.0",
            "_view_name": "LayoutView",
            "align_content": null,
            "align_items": null,
            "align_self": null,
            "border": null,
            "bottom": null,
            "display": null,
            "flex": null,
            "flex_flow": null,
            "grid_area": null,
            "grid_auto_columns": null,
            "grid_auto_flow": null,
            "grid_auto_rows": null,
            "grid_column": null,
            "grid_gap": null,
            "grid_row": null,
            "grid_template_areas": null,
            "grid_template_columns": null,
            "grid_template_rows": null,
            "height": null,
            "justify_content": null,
            "justify_items": null,
            "left": null,
            "margin": null,
            "max_height": null,
            "max_width": null,
            "min_height": null,
            "min_width": null,
            "object_fit": null,
            "object_position": null,
            "order": null,
            "overflow": null,
            "overflow_x": null,
            "overflow_y": null,
            "padding": null,
            "right": null,
            "top": null,
            "visibility": null,
            "width": null
          }
        },
        "c696bdce502f4c00adb9ae3eb4a8d0d9": {
          "model_module": "@jupyter-widgets/controls",
          "model_name": "DescriptionStyleModel",
          "model_module_version": "1.5.0",
          "state": {
            "_model_module": "@jupyter-widgets/controls",
            "_model_module_version": "1.5.0",
            "_model_name": "DescriptionStyleModel",
            "_view_count": null,
            "_view_module": "@jupyter-widgets/base",
            "_view_module_version": "1.2.0",
            "_view_name": "StyleView",
            "description_width": ""
          }
        },
        "1d0d891f8bb94d85b60eefa436a28c65": {
          "model_module": "@jupyter-widgets/controls",
          "model_name": "HBoxModel",
          "model_module_version": "1.5.0",
          "state": {
            "_dom_classes": [],
            "_model_module": "@jupyter-widgets/controls",
            "_model_module_version": "1.5.0",
            "_model_name": "HBoxModel",
            "_view_count": null,
            "_view_module": "@jupyter-widgets/controls",
            "_view_module_version": "1.5.0",
            "_view_name": "HBoxView",
            "box_style": "",
            "children": [
              "IPY_MODEL_762ed5344fb34a9fbb88fbf83057ae6f",
              "IPY_MODEL_05ffbda0cc1442dbb8f83d3a9225b3eb",
              "IPY_MODEL_30a08027d7234134996a1307f620fdee"
            ],
            "layout": "IPY_MODEL_d619fd03407a460382470541bf61b604"
          }
        },
        "762ed5344fb34a9fbb88fbf83057ae6f": {
          "model_module": "@jupyter-widgets/controls",
          "model_name": "HTMLModel",
          "model_module_version": "1.5.0",
          "state": {
            "_dom_classes": [],
            "_model_module": "@jupyter-widgets/controls",
            "_model_module_version": "1.5.0",
            "_model_name": "HTMLModel",
            "_view_count": null,
            "_view_module": "@jupyter-widgets/controls",
            "_view_module_version": "1.5.0",
            "_view_name": "HTMLView",
            "description": "",
            "description_tooltip": null,
            "layout": "IPY_MODEL_8dc307a770d94b9f8567be955c8fbee3",
            "placeholder": "​",
            "style": "IPY_MODEL_a40e5eb592a64e3f9b439399529365b2",
            "value": "100%"
          }
        },
        "05ffbda0cc1442dbb8f83d3a9225b3eb": {
          "model_module": "@jupyter-widgets/controls",
          "model_name": "FloatProgressModel",
          "model_module_version": "1.5.0",
          "state": {
            "_dom_classes": [],
            "_model_module": "@jupyter-widgets/controls",
            "_model_module_version": "1.5.0",
            "_model_name": "FloatProgressModel",
            "_view_count": null,
            "_view_module": "@jupyter-widgets/controls",
            "_view_module_version": "1.5.0",
            "_view_name": "ProgressView",
            "bar_style": "success",
            "description": "",
            "description_tooltip": null,
            "layout": "IPY_MODEL_e17d1da9f31b4154bf53580868fa0394",
            "max": 3,
            "min": 0,
            "orientation": "horizontal",
            "style": "IPY_MODEL_1cadb5d061fc47b8a41149d27cd52724",
            "value": 3
          }
        },
        "30a08027d7234134996a1307f620fdee": {
          "model_module": "@jupyter-widgets/controls",
          "model_name": "HTMLModel",
          "model_module_version": "1.5.0",
          "state": {
            "_dom_classes": [],
            "_model_module": "@jupyter-widgets/controls",
            "_model_module_version": "1.5.0",
            "_model_name": "HTMLModel",
            "_view_count": null,
            "_view_module": "@jupyter-widgets/controls",
            "_view_module_version": "1.5.0",
            "_view_name": "HTMLView",
            "description": "",
            "description_tooltip": null,
            "layout": "IPY_MODEL_5b2ded43b09a4eed9ee70bc306c6f8eb",
            "placeholder": "​",
            "style": "IPY_MODEL_4e889122da0a4cb5b4bc8805925aec4c",
            "value": " 3/3 [00:01&lt;00:00,  1.95it/s]"
          }
        },
        "d619fd03407a460382470541bf61b604": {
          "model_module": "@jupyter-widgets/base",
          "model_name": "LayoutModel",
          "model_module_version": "1.2.0",
          "state": {
            "_model_module": "@jupyter-widgets/base",
            "_model_module_version": "1.2.0",
            "_model_name": "LayoutModel",
            "_view_count": null,
            "_view_module": "@jupyter-widgets/base",
            "_view_module_version": "1.2.0",
            "_view_name": "LayoutView",
            "align_content": null,
            "align_items": null,
            "align_self": null,
            "border": null,
            "bottom": null,
            "display": null,
            "flex": null,
            "flex_flow": null,
            "grid_area": null,
            "grid_auto_columns": null,
            "grid_auto_flow": null,
            "grid_auto_rows": null,
            "grid_column": null,
            "grid_gap": null,
            "grid_row": null,
            "grid_template_areas": null,
            "grid_template_columns": null,
            "grid_template_rows": null,
            "height": null,
            "justify_content": null,
            "justify_items": null,
            "left": null,
            "margin": null,
            "max_height": null,
            "max_width": null,
            "min_height": null,
            "min_width": null,
            "object_fit": null,
            "object_position": null,
            "order": null,
            "overflow": null,
            "overflow_x": null,
            "overflow_y": null,
            "padding": null,
            "right": null,
            "top": null,
            "visibility": null,
            "width": null
          }
        },
        "8dc307a770d94b9f8567be955c8fbee3": {
          "model_module": "@jupyter-widgets/base",
          "model_name": "LayoutModel",
          "model_module_version": "1.2.0",
          "state": {
            "_model_module": "@jupyter-widgets/base",
            "_model_module_version": "1.2.0",
            "_model_name": "LayoutModel",
            "_view_count": null,
            "_view_module": "@jupyter-widgets/base",
            "_view_module_version": "1.2.0",
            "_view_name": "LayoutView",
            "align_content": null,
            "align_items": null,
            "align_self": null,
            "border": null,
            "bottom": null,
            "display": null,
            "flex": null,
            "flex_flow": null,
            "grid_area": null,
            "grid_auto_columns": null,
            "grid_auto_flow": null,
            "grid_auto_rows": null,
            "grid_column": null,
            "grid_gap": null,
            "grid_row": null,
            "grid_template_areas": null,
            "grid_template_columns": null,
            "grid_template_rows": null,
            "height": null,
            "justify_content": null,
            "justify_items": null,
            "left": null,
            "margin": null,
            "max_height": null,
            "max_width": null,
            "min_height": null,
            "min_width": null,
            "object_fit": null,
            "object_position": null,
            "order": null,
            "overflow": null,
            "overflow_x": null,
            "overflow_y": null,
            "padding": null,
            "right": null,
            "top": null,
            "visibility": null,
            "width": null
          }
        },
        "a40e5eb592a64e3f9b439399529365b2": {
          "model_module": "@jupyter-widgets/controls",
          "model_name": "DescriptionStyleModel",
          "model_module_version": "1.5.0",
          "state": {
            "_model_module": "@jupyter-widgets/controls",
            "_model_module_version": "1.5.0",
            "_model_name": "DescriptionStyleModel",
            "_view_count": null,
            "_view_module": "@jupyter-widgets/base",
            "_view_module_version": "1.2.0",
            "_view_name": "StyleView",
            "description_width": ""
          }
        },
        "e17d1da9f31b4154bf53580868fa0394": {
          "model_module": "@jupyter-widgets/base",
          "model_name": "LayoutModel",
          "model_module_version": "1.2.0",
          "state": {
            "_model_module": "@jupyter-widgets/base",
            "_model_module_version": "1.2.0",
            "_model_name": "LayoutModel",
            "_view_count": null,
            "_view_module": "@jupyter-widgets/base",
            "_view_module_version": "1.2.0",
            "_view_name": "LayoutView",
            "align_content": null,
            "align_items": null,
            "align_self": null,
            "border": null,
            "bottom": null,
            "display": null,
            "flex": null,
            "flex_flow": null,
            "grid_area": null,
            "grid_auto_columns": null,
            "grid_auto_flow": null,
            "grid_auto_rows": null,
            "grid_column": null,
            "grid_gap": null,
            "grid_row": null,
            "grid_template_areas": null,
            "grid_template_columns": null,
            "grid_template_rows": null,
            "height": null,
            "justify_content": null,
            "justify_items": null,
            "left": null,
            "margin": null,
            "max_height": null,
            "max_width": null,
            "min_height": null,
            "min_width": null,
            "object_fit": null,
            "object_position": null,
            "order": null,
            "overflow": null,
            "overflow_x": null,
            "overflow_y": null,
            "padding": null,
            "right": null,
            "top": null,
            "visibility": null,
            "width": null
          }
        },
        "1cadb5d061fc47b8a41149d27cd52724": {
          "model_module": "@jupyter-widgets/controls",
          "model_name": "ProgressStyleModel",
          "model_module_version": "1.5.0",
          "state": {
            "_model_module": "@jupyter-widgets/controls",
            "_model_module_version": "1.5.0",
            "_model_name": "ProgressStyleModel",
            "_view_count": null,
            "_view_module": "@jupyter-widgets/base",
            "_view_module_version": "1.2.0",
            "_view_name": "StyleView",
            "bar_color": null,
            "description_width": ""
          }
        },
        "5b2ded43b09a4eed9ee70bc306c6f8eb": {
          "model_module": "@jupyter-widgets/base",
          "model_name": "LayoutModel",
          "model_module_version": "1.2.0",
          "state": {
            "_model_module": "@jupyter-widgets/base",
            "_model_module_version": "1.2.0",
            "_model_name": "LayoutModel",
            "_view_count": null,
            "_view_module": "@jupyter-widgets/base",
            "_view_module_version": "1.2.0",
            "_view_name": "LayoutView",
            "align_content": null,
            "align_items": null,
            "align_self": null,
            "border": null,
            "bottom": null,
            "display": null,
            "flex": null,
            "flex_flow": null,
            "grid_area": null,
            "grid_auto_columns": null,
            "grid_auto_flow": null,
            "grid_auto_rows": null,
            "grid_column": null,
            "grid_gap": null,
            "grid_row": null,
            "grid_template_areas": null,
            "grid_template_columns": null,
            "grid_template_rows": null,
            "height": null,
            "justify_content": null,
            "justify_items": null,
            "left": null,
            "margin": null,
            "max_height": null,
            "max_width": null,
            "min_height": null,
            "min_width": null,
            "object_fit": null,
            "object_position": null,
            "order": null,
            "overflow": null,
            "overflow_x": null,
            "overflow_y": null,
            "padding": null,
            "right": null,
            "top": null,
            "visibility": null,
            "width": null
          }
        },
        "4e889122da0a4cb5b4bc8805925aec4c": {
          "model_module": "@jupyter-widgets/controls",
          "model_name": "DescriptionStyleModel",
          "model_module_version": "1.5.0",
          "state": {
            "_model_module": "@jupyter-widgets/controls",
            "_model_module_version": "1.5.0",
            "_model_name": "DescriptionStyleModel",
            "_view_count": null,
            "_view_module": "@jupyter-widgets/base",
            "_view_module_version": "1.2.0",
            "_view_name": "StyleView",
            "description_width": ""
          }
        }
      }
    }
  },
  "nbformat": 4,
  "nbformat_minor": 0
}