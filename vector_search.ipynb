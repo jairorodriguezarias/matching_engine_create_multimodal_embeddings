{
  "cells": [
    {
      "cell_type": "markdown",
      "metadata": {
        "id": "view-in-github",
        "colab_type": "text"
      },
      "source": [
        "<a href=\"https://colab.research.google.com/github/jairorodriguezarias/matching_engine_create_multimodal_embeddings/blob/main/vector_search.ipynb\" target=\"_parent\"><img src=\"https://colab.research.google.com/assets/colab-badge.svg\" alt=\"Open In Colab\"/></a>"
      ]
    },
    {
      "cell_type": "markdown",
      "source": [
        "# Installation"
      ],
      "metadata": {
        "id": "upQmZ5OrTGV-"
      }
    },
    {
      "cell_type": "code",
      "source": [
        "\n",
        "\n",
        "# Install the packages\n",
        "! pip3 install --upgrade google-cloud-aiplatform \\\n",
        "                         google-cloud-storage\n",
        "\n",
        "! pip install google-cloud-vision\n"
      ],
      "metadata": {
        "colab": {
          "base_uri": "https://localhost:8080/",
          "height": 1000
        },
        "id": "rAklwT9sS5yO",
        "outputId": "5d66409d-71e7-44f4-9396-08808526cb9a"
      },
      "execution_count": 1,
      "outputs": [
        {
          "output_type": "stream",
          "name": "stdout",
          "text": [
            "Collecting google-cloud-aiplatform\n",
            "  Downloading google_cloud_aiplatform-1.35.0-py2.py3-none-any.whl (3.1 MB)\n",
            "\u001b[?25l     \u001b[90m━━━━━━━━━━━━━━━━━━━━━━━━━━━━━━━━━━━━━━━━\u001b[0m \u001b[32m0.0/3.1 MB\u001b[0m \u001b[31m?\u001b[0m eta \u001b[36m-:--:--\u001b[0m\r\u001b[2K     \u001b[91m━━\u001b[0m\u001b[91m╸\u001b[0m\u001b[90m━━━━━━━━━━━━━━━━━━━━━━━━━━━━━━━━━━━━━\u001b[0m \u001b[32m0.2/3.1 MB\u001b[0m \u001b[31m5.9 MB/s\u001b[0m eta \u001b[36m0:00:01\u001b[0m\r\u001b[2K     \u001b[91m━━━━━━━━━━━━━━━━━━━━━━━━━\u001b[0m\u001b[90m╺\u001b[0m\u001b[90m━━━━━━━━━━━━━━\u001b[0m \u001b[32m1.9/3.1 MB\u001b[0m \u001b[31m28.0 MB/s\u001b[0m eta \u001b[36m0:00:01\u001b[0m\r\u001b[2K     \u001b[90m━━━━━━━━━━━━━━━━━━━━━━━━━━━━━━━━━━━━━━━━\u001b[0m \u001b[32m3.1/3.1 MB\u001b[0m \u001b[31m33.6 MB/s\u001b[0m eta \u001b[36m0:00:00\u001b[0m\n",
            "\u001b[?25hRequirement already satisfied: google-cloud-storage in /usr/local/lib/python3.10/dist-packages (2.8.0)\n",
            "Collecting google-cloud-storage\n",
            "  Downloading google_cloud_storage-2.12.0-py2.py3-none-any.whl (120 kB)\n",
            "\u001b[2K     \u001b[90m━━━━━━━━━━━━━━━━━━━━━━━━━━━━━━━━━━━━━━━━\u001b[0m \u001b[32m120.5/120.5 kB\u001b[0m \u001b[31m15.1 MB/s\u001b[0m eta \u001b[36m0:00:00\u001b[0m\n",
            "\u001b[?25hRequirement already satisfied: google-api-core[grpc]!=2.0.*,!=2.1.*,!=2.2.*,!=2.3.*,!=2.4.*,!=2.5.*,!=2.6.*,!=2.7.*,<3.0.0dev,>=1.32.0 in /usr/local/lib/python3.10/dist-packages (from google-cloud-aiplatform) (2.11.1)\n",
            "Requirement already satisfied: proto-plus<2.0.0dev,>=1.22.0 in /usr/local/lib/python3.10/dist-packages (from google-cloud-aiplatform) (1.22.3)\n",
            "Requirement already satisfied: protobuf!=3.20.0,!=3.20.1,!=4.21.0,!=4.21.1,!=4.21.2,!=4.21.3,!=4.21.4,!=4.21.5,<5.0.0dev,>=3.19.5 in /usr/local/lib/python3.10/dist-packages (from google-cloud-aiplatform) (3.20.3)\n",
            "Requirement already satisfied: packaging>=14.3 in /usr/local/lib/python3.10/dist-packages (from google-cloud-aiplatform) (23.2)\n",
            "Requirement already satisfied: google-cloud-bigquery<4.0.0dev,>=1.15.0 in /usr/local/lib/python3.10/dist-packages (from google-cloud-aiplatform) (3.10.0)\n",
            "Collecting google-cloud-resource-manager<3.0.0dev,>=1.3.3 (from google-cloud-aiplatform)\n",
            "  Downloading google_cloud_resource_manager-1.10.4-py2.py3-none-any.whl (320 kB)\n",
            "\u001b[2K     \u001b[90m━━━━━━━━━━━━━━━━━━━━━━━━━━━━━━━━━━━━━━━━\u001b[0m \u001b[32m321.0/321.0 kB\u001b[0m \u001b[31m27.5 MB/s\u001b[0m eta \u001b[36m0:00:00\u001b[0m\n",
            "\u001b[?25hRequirement already satisfied: shapely<3.0.0dev in /usr/local/lib/python3.10/dist-packages (from google-cloud-aiplatform) (2.0.1)\n",
            "Collecting google-auth<3.0dev,>=2.23.3 (from google-cloud-storage)\n",
            "  Downloading google_auth-2.23.3-py2.py3-none-any.whl (182 kB)\n",
            "\u001b[2K     \u001b[90m━━━━━━━━━━━━━━━━━━━━━━━━━━━━━━━━━━━━━━━━\u001b[0m \u001b[32m182.3/182.3 kB\u001b[0m \u001b[31m20.3 MB/s\u001b[0m eta \u001b[36m0:00:00\u001b[0m\n",
            "\u001b[?25hRequirement already satisfied: google-cloud-core<3.0dev,>=2.3.0 in /usr/local/lib/python3.10/dist-packages (from google-cloud-storage) (2.3.3)\n",
            "Requirement already satisfied: google-resumable-media>=2.6.0 in /usr/local/lib/python3.10/dist-packages (from google-cloud-storage) (2.6.0)\n",
            "Requirement already satisfied: requests<3.0.0dev,>=2.18.0 in /usr/local/lib/python3.10/dist-packages (from google-cloud-storage) (2.31.0)\n",
            "Requirement already satisfied: google-crc32c<2.0dev,>=1.0 in /usr/local/lib/python3.10/dist-packages (from google-cloud-storage) (1.5.0)\n",
            "Requirement already satisfied: googleapis-common-protos<2.0.dev0,>=1.56.2 in /usr/local/lib/python3.10/dist-packages (from google-api-core[grpc]!=2.0.*,!=2.1.*,!=2.2.*,!=2.3.*,!=2.4.*,!=2.5.*,!=2.6.*,!=2.7.*,<3.0.0dev,>=1.32.0->google-cloud-aiplatform) (1.60.0)\n",
            "Requirement already satisfied: grpcio<2.0dev,>=1.33.2 in /usr/local/lib/python3.10/dist-packages (from google-api-core[grpc]!=2.0.*,!=2.1.*,!=2.2.*,!=2.3.*,!=2.4.*,!=2.5.*,!=2.6.*,!=2.7.*,<3.0.0dev,>=1.32.0->google-cloud-aiplatform) (1.59.0)\n",
            "Requirement already satisfied: grpcio-status<2.0.dev0,>=1.33.2 in /usr/local/lib/python3.10/dist-packages (from google-api-core[grpc]!=2.0.*,!=2.1.*,!=2.2.*,!=2.3.*,!=2.4.*,!=2.5.*,!=2.6.*,!=2.7.*,<3.0.0dev,>=1.32.0->google-cloud-aiplatform) (1.48.2)\n",
            "Requirement already satisfied: cachetools<6.0,>=2.0.0 in /usr/local/lib/python3.10/dist-packages (from google-auth<3.0dev,>=2.23.3->google-cloud-storage) (5.3.1)\n",
            "Requirement already satisfied: pyasn1-modules>=0.2.1 in /usr/local/lib/python3.10/dist-packages (from google-auth<3.0dev,>=2.23.3->google-cloud-storage) (0.3.0)\n",
            "Requirement already satisfied: rsa<5,>=3.1.4 in /usr/local/lib/python3.10/dist-packages (from google-auth<3.0dev,>=2.23.3->google-cloud-storage) (4.9)\n",
            "Requirement already satisfied: python-dateutil<3.0dev,>=2.7.2 in /usr/local/lib/python3.10/dist-packages (from google-cloud-bigquery<4.0.0dev,>=1.15.0->google-cloud-aiplatform) (2.8.2)\n",
            "Requirement already satisfied: grpc-google-iam-v1<1.0.0dev,>=0.12.4 in /usr/local/lib/python3.10/dist-packages (from google-cloud-resource-manager<3.0.0dev,>=1.3.3->google-cloud-aiplatform) (0.12.6)\n",
            "Requirement already satisfied: charset-normalizer<4,>=2 in /usr/local/lib/python3.10/dist-packages (from requests<3.0.0dev,>=2.18.0->google-cloud-storage) (3.3.0)\n",
            "Requirement already satisfied: idna<4,>=2.5 in /usr/local/lib/python3.10/dist-packages (from requests<3.0.0dev,>=2.18.0->google-cloud-storage) (3.4)\n",
            "Requirement already satisfied: urllib3<3,>=1.21.1 in /usr/local/lib/python3.10/dist-packages (from requests<3.0.0dev,>=2.18.0->google-cloud-storage) (2.0.6)\n",
            "Requirement already satisfied: certifi>=2017.4.17 in /usr/local/lib/python3.10/dist-packages (from requests<3.0.0dev,>=2.18.0->google-cloud-storage) (2023.7.22)\n",
            "Requirement already satisfied: numpy>=1.14 in /usr/local/lib/python3.10/dist-packages (from shapely<3.0.0dev->google-cloud-aiplatform) (1.23.5)\n",
            "Requirement already satisfied: pyasn1<0.6.0,>=0.4.6 in /usr/local/lib/python3.10/dist-packages (from pyasn1-modules>=0.2.1->google-auth<3.0dev,>=2.23.3->google-cloud-storage) (0.5.0)\n",
            "Requirement already satisfied: six>=1.5 in /usr/local/lib/python3.10/dist-packages (from python-dateutil<3.0dev,>=2.7.2->google-cloud-bigquery<4.0.0dev,>=1.15.0->google-cloud-aiplatform) (1.16.0)\n",
            "Installing collected packages: google-auth, google-cloud-storage, google-cloud-resource-manager, google-cloud-aiplatform\n",
            "  Attempting uninstall: google-auth\n",
            "    Found existing installation: google-auth 2.17.3\n",
            "    Uninstalling google-auth-2.17.3:\n",
            "      Successfully uninstalled google-auth-2.17.3\n",
            "  Attempting uninstall: google-cloud-storage\n",
            "    Found existing installation: google-cloud-storage 2.8.0\n",
            "    Uninstalling google-cloud-storage-2.8.0:\n",
            "      Successfully uninstalled google-cloud-storage-2.8.0\n",
            "\u001b[31mERROR: pip's dependency resolver does not currently take into account all the packages that are installed. This behaviour is the source of the following dependency conflicts.\n",
            "google-colab 1.0.0 requires google-auth==2.17.3, but you have google-auth 2.23.3 which is incompatible.\u001b[0m\u001b[31m\n",
            "\u001b[0mSuccessfully installed google-auth-2.23.3 google-cloud-aiplatform-1.35.0 google-cloud-resource-manager-1.10.4 google-cloud-storage-2.12.0\n"
          ]
        },
        {
          "output_type": "display_data",
          "data": {
            "application/vnd.colab-display-data+json": {
              "pip_warning": {
                "packages": [
                  "google"
                ]
              }
            }
          },
          "metadata": {}
        },
        {
          "output_type": "stream",
          "name": "stdout",
          "text": [
            "Collecting google-cloud-vision\n",
            "  Downloading google_cloud_vision-3.4.4-py2.py3-none-any.whl (444 kB)\n",
            "\u001b[?25l     \u001b[90m━━━━━━━━━━━━━━━━━━━━━━━━━━━━━━━━━━━━━━━━\u001b[0m \u001b[32m0.0/444.0 kB\u001b[0m \u001b[31m?\u001b[0m eta \u001b[36m-:--:--\u001b[0m\r\u001b[2K     \u001b[91m━━━━━━━━━━━━━━━━━━━━━━━\u001b[0m\u001b[90m╺\u001b[0m\u001b[90m━━━━━━━━━━━━━━━━\u001b[0m \u001b[32m256.0/444.0 kB\u001b[0m \u001b[31m7.5 MB/s\u001b[0m eta \u001b[36m0:00:01\u001b[0m\r\u001b[2K     \u001b[90m━━━━━━━━━━━━━━━━━━━━━━━━━━━━━━━━━━━━━━━━\u001b[0m \u001b[32m444.0/444.0 kB\u001b[0m \u001b[31m8.8 MB/s\u001b[0m eta \u001b[36m0:00:00\u001b[0m\n",
            "\u001b[?25hRequirement already satisfied: google-api-core[grpc]!=2.0.*,!=2.1.*,!=2.10.*,!=2.2.*,!=2.3.*,!=2.4.*,!=2.5.*,!=2.6.*,!=2.7.*,!=2.8.*,!=2.9.*,<3.0.0dev,>=1.34.0 in /usr/local/lib/python3.10/dist-packages (from google-cloud-vision) (2.11.1)\n",
            "Requirement already satisfied: proto-plus<2.0.0dev,>=1.22.0 in /usr/local/lib/python3.10/dist-packages (from google-cloud-vision) (1.22.3)\n",
            "Requirement already satisfied: protobuf!=3.20.0,!=3.20.1,!=4.21.0,!=4.21.1,!=4.21.2,!=4.21.3,!=4.21.4,!=4.21.5,<5.0.0dev,>=3.19.5 in /usr/local/lib/python3.10/dist-packages (from google-cloud-vision) (3.20.3)\n",
            "Requirement already satisfied: googleapis-common-protos<2.0.dev0,>=1.56.2 in /usr/local/lib/python3.10/dist-packages (from google-api-core[grpc]!=2.0.*,!=2.1.*,!=2.10.*,!=2.2.*,!=2.3.*,!=2.4.*,!=2.5.*,!=2.6.*,!=2.7.*,!=2.8.*,!=2.9.*,<3.0.0dev,>=1.34.0->google-cloud-vision) (1.60.0)\n",
            "Requirement already satisfied: google-auth<3.0.dev0,>=2.14.1 in /usr/local/lib/python3.10/dist-packages (from google-api-core[grpc]!=2.0.*,!=2.1.*,!=2.10.*,!=2.2.*,!=2.3.*,!=2.4.*,!=2.5.*,!=2.6.*,!=2.7.*,!=2.8.*,!=2.9.*,<3.0.0dev,>=1.34.0->google-cloud-vision) (2.23.3)\n",
            "Requirement already satisfied: requests<3.0.0.dev0,>=2.18.0 in /usr/local/lib/python3.10/dist-packages (from google-api-core[grpc]!=2.0.*,!=2.1.*,!=2.10.*,!=2.2.*,!=2.3.*,!=2.4.*,!=2.5.*,!=2.6.*,!=2.7.*,!=2.8.*,!=2.9.*,<3.0.0dev,>=1.34.0->google-cloud-vision) (2.31.0)\n",
            "Requirement already satisfied: grpcio<2.0dev,>=1.33.2 in /usr/local/lib/python3.10/dist-packages (from google-api-core[grpc]!=2.0.*,!=2.1.*,!=2.10.*,!=2.2.*,!=2.3.*,!=2.4.*,!=2.5.*,!=2.6.*,!=2.7.*,!=2.8.*,!=2.9.*,<3.0.0dev,>=1.34.0->google-cloud-vision) (1.59.0)\n",
            "Requirement already satisfied: grpcio-status<2.0.dev0,>=1.33.2 in /usr/local/lib/python3.10/dist-packages (from google-api-core[grpc]!=2.0.*,!=2.1.*,!=2.10.*,!=2.2.*,!=2.3.*,!=2.4.*,!=2.5.*,!=2.6.*,!=2.7.*,!=2.8.*,!=2.9.*,<3.0.0dev,>=1.34.0->google-cloud-vision) (1.48.2)\n",
            "Requirement already satisfied: cachetools<6.0,>=2.0.0 in /usr/local/lib/python3.10/dist-packages (from google-auth<3.0.dev0,>=2.14.1->google-api-core[grpc]!=2.0.*,!=2.1.*,!=2.10.*,!=2.2.*,!=2.3.*,!=2.4.*,!=2.5.*,!=2.6.*,!=2.7.*,!=2.8.*,!=2.9.*,<3.0.0dev,>=1.34.0->google-cloud-vision) (5.3.1)\n",
            "Requirement already satisfied: pyasn1-modules>=0.2.1 in /usr/local/lib/python3.10/dist-packages (from google-auth<3.0.dev0,>=2.14.1->google-api-core[grpc]!=2.0.*,!=2.1.*,!=2.10.*,!=2.2.*,!=2.3.*,!=2.4.*,!=2.5.*,!=2.6.*,!=2.7.*,!=2.8.*,!=2.9.*,<3.0.0dev,>=1.34.0->google-cloud-vision) (0.3.0)\n",
            "Requirement already satisfied: rsa<5,>=3.1.4 in /usr/local/lib/python3.10/dist-packages (from google-auth<3.0.dev0,>=2.14.1->google-api-core[grpc]!=2.0.*,!=2.1.*,!=2.10.*,!=2.2.*,!=2.3.*,!=2.4.*,!=2.5.*,!=2.6.*,!=2.7.*,!=2.8.*,!=2.9.*,<3.0.0dev,>=1.34.0->google-cloud-vision) (4.9)\n",
            "Requirement already satisfied: charset-normalizer<4,>=2 in /usr/local/lib/python3.10/dist-packages (from requests<3.0.0.dev0,>=2.18.0->google-api-core[grpc]!=2.0.*,!=2.1.*,!=2.10.*,!=2.2.*,!=2.3.*,!=2.4.*,!=2.5.*,!=2.6.*,!=2.7.*,!=2.8.*,!=2.9.*,<3.0.0dev,>=1.34.0->google-cloud-vision) (3.3.0)\n",
            "Requirement already satisfied: idna<4,>=2.5 in /usr/local/lib/python3.10/dist-packages (from requests<3.0.0.dev0,>=2.18.0->google-api-core[grpc]!=2.0.*,!=2.1.*,!=2.10.*,!=2.2.*,!=2.3.*,!=2.4.*,!=2.5.*,!=2.6.*,!=2.7.*,!=2.8.*,!=2.9.*,<3.0.0dev,>=1.34.0->google-cloud-vision) (3.4)\n",
            "Requirement already satisfied: urllib3<3,>=1.21.1 in /usr/local/lib/python3.10/dist-packages (from requests<3.0.0.dev0,>=2.18.0->google-api-core[grpc]!=2.0.*,!=2.1.*,!=2.10.*,!=2.2.*,!=2.3.*,!=2.4.*,!=2.5.*,!=2.6.*,!=2.7.*,!=2.8.*,!=2.9.*,<3.0.0dev,>=1.34.0->google-cloud-vision) (2.0.6)\n",
            "Requirement already satisfied: certifi>=2017.4.17 in /usr/local/lib/python3.10/dist-packages (from requests<3.0.0.dev0,>=2.18.0->google-api-core[grpc]!=2.0.*,!=2.1.*,!=2.10.*,!=2.2.*,!=2.3.*,!=2.4.*,!=2.5.*,!=2.6.*,!=2.7.*,!=2.8.*,!=2.9.*,<3.0.0dev,>=1.34.0->google-cloud-vision) (2023.7.22)\n",
            "Requirement already satisfied: pyasn1<0.6.0,>=0.4.6 in /usr/local/lib/python3.10/dist-packages (from pyasn1-modules>=0.2.1->google-auth<3.0.dev0,>=2.14.1->google-api-core[grpc]!=2.0.*,!=2.1.*,!=2.10.*,!=2.2.*,!=2.3.*,!=2.4.*,!=2.5.*,!=2.6.*,!=2.7.*,!=2.8.*,!=2.9.*,<3.0.0dev,>=1.34.0->google-cloud-vision) (0.5.0)\n",
            "Installing collected packages: google-cloud-vision\n",
            "Successfully installed google-cloud-vision-3.4.4\n"
          ]
        },
        {
          "output_type": "display_data",
          "data": {
            "application/vnd.colab-display-data+json": {
              "pip_warning": {
                "packages": [
                  "google"
                ]
              }
            }
          },
          "metadata": {}
        }
      ]
    },
    {
      "cell_type": "code",
      "source": [
        "import IPython\n",
        "\n",
        "app = IPython.Application.instance()\n",
        "app.kernel.do_shutdown(True)"
      ],
      "metadata": {
        "colab": {
          "base_uri": "https://localhost:8080/"
        },
        "id": "7QWHVhNGTC6n",
        "outputId": "02ba461a-971c-4130-cebd-d277ef344a55"
      },
      "execution_count": 2,
      "outputs": [
        {
          "output_type": "execute_result",
          "data": {
            "text/plain": [
              "{'status': 'ok', 'restart': True}"
            ]
          },
          "metadata": {},
          "execution_count": 2
        }
      ]
    },
    {
      "cell_type": "markdown",
      "source": [
        "# Configuration\n"
      ],
      "metadata": {
        "id": "ulszS9g8TNP1"
      }
    },
    {
      "cell_type": "code",
      "source": [
        "from google.colab import auth\n",
        "auth.authenticate_user()"
      ],
      "metadata": {
        "id": "E4iJnO7pUyZz"
      },
      "execution_count": null,
      "outputs": []
    },
    {
      "cell_type": "code",
      "source": [
        "PROJECT_ID = \"genai-387907\"  # @param {type:\"string\"}\n",
        "\n",
        "# Set the project id\n",
        "! gcloud config set project {PROJECT_ID}"
      ],
      "metadata": {
        "colab": {
          "base_uri": "https://localhost:8080/"
        },
        "id": "oEYfcaI2TMip",
        "outputId": "f34a81ac-e0d9-4828-b17b-b9df736b6c6e"
      },
      "execution_count": 12,
      "outputs": [
        {
          "output_type": "stream",
          "name": "stdout",
          "text": [
            "Updated property [core/project].\n"
          ]
        }
      ]
    },
    {
      "cell_type": "code",
      "source": [
        "REGION = \"us-central1\"  # @param {type: \"string\"}"
      ],
      "metadata": {
        "id": "SmqW9GLsTSoU"
      },
      "execution_count": 13,
      "outputs": []
    },
    {
      "cell_type": "markdown",
      "source": [
        "Cloud Storage"
      ],
      "metadata": {
        "id": "j4dgKsttTdN9"
      }
    },
    {
      "cell_type": "code",
      "source": [
        "BUCKET_NAME = \"vector_store\""
      ],
      "metadata": {
        "id": "PUyGPu9eTc0a"
      },
      "execution_count": 14,
      "outputs": []
    },
    {
      "cell_type": "code",
      "source": [
        "BUCKET_URI = f\"gs://{BUCKET_NAME}-{PROJECT_ID}-unique\"  # @param {type:\"string\"}"
      ],
      "metadata": {
        "id": "Ucn5CDfHTgiD"
      },
      "execution_count": 15,
      "outputs": []
    },
    {
      "cell_type": "code",
      "source": [
        "# Only if your bucket doesn't exist\n",
        "# ! gsutil mb -l {REGION} -p {PROJECT_ID} {BUCKET_URI}"
      ],
      "metadata": {
        "id": "UEhuvQt6TkMI"
      },
      "execution_count": null,
      "outputs": []
    },
    {
      "cell_type": "code",
      "source": [
        "# Download the file from a given Google Cloud Storage bucket.\n",
        "!gsutil cp gs://vector_store-genai-387907-unique/images/* ./images"
      ],
      "metadata": {
        "id": "4ivcQzLZUUOF",
        "outputId": "29e36179-b7e2-475f-a97f-339a7ea57995",
        "colab": {
          "base_uri": "https://localhost:8080/"
        }
      },
      "execution_count": 34,
      "outputs": [
        {
          "output_type": "stream",
          "name": "stdout",
          "text": [
            "Copying gs://vector_store-genai-387907-unique/images/0478630300_1_1_1.jpg...\n",
            "Copying gs://vector_store-genai-387907-unique/images/0485561712_6_1_1.jpg...\n",
            "Copying gs://vector_store-genai-387907-unique/images/1165680701_1_1_1.jpg...\n",
            "/ [3 files][  1.9 MiB/  1.9 MiB]                                                \n",
            "==> NOTE: You are performing a sequence of gsutil operations that may\n",
            "run significantly faster if you instead use gsutil -m cp ... Please\n",
            "see the -m section under \"gsutil help options\" for further information\n",
            "about when gsutil -m can be advantageous.\n",
            "\n",
            "Copying gs://vector_store-genai-387907-unique/images/1880531802_6_1_1.jpg...\n",
            "Copying gs://vector_store-genai-387907-unique/images/2308012712_1_1_1.jpg...\n",
            "Copying gs://vector_store-genai-387907-unique/images/2727206620_1_1_1.jpg...\n",
            "Copying gs://vector_store-genai-387907-unique/images/4365304406_6_1_1.jpg...\n",
            "Copying gs://vector_store-genai-387907-unique/images/8370728704_1_1_1 (1).jpg...\n",
            "Copying gs://vector_store-genai-387907-unique/images/8370728704_1_1_1.jpg...\n",
            "- [9 files][  5.6 MiB/  5.6 MiB]                                                \n",
            "Operation completed over 9 objects/5.6 MiB.                                      \n"
          ]
        }
      ]
    },
    {
      "cell_type": "code",
      "source": [
        "image_directory = \"/content/images\""
      ],
      "metadata": {
        "id": "oCNaDfFRY8rO"
      },
      "execution_count": 35,
      "outputs": []
    },
    {
      "cell_type": "markdown",
      "source": [
        "# Cloud Vision Embeddings"
      ],
      "metadata": {
        "id": "9cwhtvKqYNrE"
      }
    },
    {
      "cell_type": "code",
      "source": [
        "import os"
      ],
      "metadata": {
        "id": "eznikGKUU3rz"
      },
      "execution_count": 3,
      "outputs": []
    },
    {
      "cell_type": "code",
      "source": [
        "image_names = ['0478630300_1_1_1.jpg', '0485561712_6_1_1.jpg', '1165680701_1_1_1.jpg']\n",
        "\n",
        "image_paths = [os.path.join(image_directory, image_name) for image_name in image_names]\n",
        "\n",
        "print(image_paths)"
      ],
      "metadata": {
        "colab": {
          "base_uri": "https://localhost:8080/"
        },
        "id": "E-27SYJ-aYlC",
        "outputId": "573ea467-f558-4c97-c132-0d65d387c61c"
      },
      "execution_count": 25,
      "outputs": [
        {
          "output_type": "stream",
          "name": "stdout",
          "text": [
            "['/content/images/0478630300_1_1_1.jpg', '/content/images/0485561712_6_1_1.jpg', '/content/images/1165680701_1_1_1.jpg']\n"
          ]
        }
      ]
    },
    {
      "cell_type": "markdown",
      "source": [
        "Perform rate-limited explicit image detection"
      ],
      "metadata": {
        "id": "WYnW0p37YDBb"
      }
    },
    {
      "cell_type": "code",
      "source": [
        "\n",
        "import time\n",
        "from concurrent.futures import ThreadPoolExecutor\n",
        "from typing import Optional\n",
        "\n",
        "import numpy as np\n",
        "from tqdm import tqdm\n",
        "\n",
        "# Create a rate limiter with a limit of 1800 requests per minute\n",
        "seconds_per_job = 1 / (1800 / 60)\n",
        "\n",
        "\n",
        "def process_image(image_path: str) -> Optional[bool]:\n",
        "    try:\n",
        "        annotation = detect_safe_search(image_path)\n",
        "\n",
        "        if annotation:\n",
        "            return convert_annotation_to_safety(safe_search_annotation=annotation)\n",
        "        else:\n",
        "            return None\n",
        "    except Exception:\n",
        "        return None\n",
        "\n",
        "\n",
        "# Process images using ThreadPool\n",
        "is_safe_values_cloud_vision = []\n",
        "with ThreadPoolExecutor() as executor:\n",
        "    futures = []\n",
        "    for img_url in tqdm(image_paths, total=len(image_paths), position=0):\n",
        "        futures.append(executor.submit(process_image, img_url))\n",
        "        time.sleep(seconds_per_job)\n",
        "\n",
        "    for future in futures:\n",
        "        is_safe_values_cloud_vision.append(future.result())\n",
        "\n",
        "# Set Nones to False\n",
        "is_safe_values_cloud_vision = [\n",
        "    is_safe or False for is_safe in is_safe_values_cloud_vision\n",
        "]\n",
        "\n",
        "# Print number of safe images found\n",
        "print(\n",
        "    f\"Safe images = {np.array(is_safe_values_cloud_vision).sum()} out of {len(is_safe_values_cloud_vision)} images\"\n",
        ")"
      ],
      "metadata": {
        "colab": {
          "base_uri": "https://localhost:8080/"
        },
        "id": "azK1wjb4YxzC",
        "outputId": "026d6d3c-f038-4985-94a5-572678288f2f"
      },
      "execution_count": 36,
      "outputs": [
        {
          "output_type": "stream",
          "name": "stderr",
          "text": [
            "100%|██████████| 3/3 [00:00<00:00, 29.25it/s]"
          ]
        },
        {
          "output_type": "stream",
          "name": "stdout",
          "text": [
            "Safe images = 0 out of 3 images\n"
          ]
        },
        {
          "output_type": "stream",
          "name": "stderr",
          "text": [
            "\n"
          ]
        }
      ]
    },
    {
      "cell_type": "markdown",
      "source": [
        "Defining encoding functions\n"
      ],
      "metadata": {
        "id": "l3ln-xRqa-PX"
      }
    },
    {
      "cell_type": "code",
      "source": [
        "import base64\n",
        "import time\n",
        "import typing\n",
        "\n",
        "from google.cloud import aiplatform\n",
        "from google.protobuf import struct_pb2\n",
        "\n",
        "\n",
        "class EmbeddingResponse(typing.NamedTuple):\n",
        "    text_embedding: typing.Sequence[float]\n",
        "    image_embedding: typing.Sequence[float]\n",
        "\n",
        "\n",
        "def load_image_bytes(image_uri: str) -> bytes:\n",
        "    \"\"\"Load image bytes from a remote or local URI.\"\"\"\n",
        "    image_bytes = None\n",
        "    if image_uri.startswith(\"http://\") or image_uri.startswith(\"https://\"):\n",
        "        response = requests.get(image_uri, stream=True)\n",
        "        if response.status_code == 200:\n",
        "            image_bytes = response.content\n",
        "    else:\n",
        "        image_bytes = open(image_uri, \"rb\").read()\n",
        "    return image_bytes\n",
        "\n",
        "\n",
        "class EmbeddingPredictionClient:\n",
        "    \"\"\"Wrapper around Prediction Service Client.\"\"\"\n",
        "\n",
        "    def __init__(\n",
        "        self,\n",
        "        project: str,\n",
        "        location: str = \"us-central1\",\n",
        "        api_regional_endpoint: str = \"us-central1-aiplatform.googleapis.com\",\n",
        "    ):\n",
        "        client_options = {\"api_endpoint\": api_regional_endpoint}\n",
        "        # Initialize client that will be used to create and send requests.\n",
        "        # This client only needs to be created once, and can be reused for multiple requests.\n",
        "        self.client = aiplatform.gapic.PredictionServiceClient(\n",
        "            client_options=client_options\n",
        "        )\n",
        "        self.location = location\n",
        "        self.project = project\n",
        "\n",
        "    def get_embedding(self, text: str = None, image_file: str = None):\n",
        "        if not text and not image_file:\n",
        "            raise ValueError(\"At least one of text or image_file must be specified.\")\n",
        "\n",
        "        # Load image file\n",
        "        image_bytes = None\n",
        "        if image_file:\n",
        "            image_bytes = load_image_bytes(image_file)\n",
        "\n",
        "        instance = struct_pb2.Struct()\n",
        "        if text:\n",
        "            instance.fields[\"text\"].string_value = text\n",
        "\n",
        "        if image_bytes:\n",
        "            encoded_content = base64.b64encode(image_bytes).decode(\"utf-8\")\n",
        "            image_struct = instance.fields[\"image\"].struct_value\n",
        "            image_struct.fields[\"bytesBase64Encoded\"].string_value = encoded_content\n",
        "\n",
        "        instances = [instance]\n",
        "        endpoint = (\n",
        "            f\"projects/{self.project}/locations/{self.location}\"\n",
        "            \"/publishers/google/models/multimodalembedding@001\"\n",
        "        )\n",
        "        response = self.client.predict(endpoint=endpoint, instances=instances)\n",
        "\n",
        "        text_embedding = None\n",
        "        if text:\n",
        "            text_emb_value = response.predictions[0][\"textEmbedding\"]\n",
        "            text_embedding = [v for v in text_emb_value]\n",
        "\n",
        "        image_embedding = None\n",
        "        if image_bytes:\n",
        "            image_emb_value = response.predictions[0][\"imageEmbedding\"]\n",
        "            image_embedding = [v for v in image_emb_value]\n",
        "\n",
        "        return EmbeddingResponse(\n",
        "            text_embedding=text_embedding, image_embedding=image_embedding\n",
        "        )"
      ],
      "metadata": {
        "id": "fNdneAlFa-A7"
      },
      "execution_count": 27,
      "outputs": []
    },
    {
      "cell_type": "markdown",
      "source": [
        "Create helper functions to process data in batches"
      ],
      "metadata": {
        "id": "kbgKo-oQbCI0"
      }
    },
    {
      "cell_type": "code",
      "source": [
        "import time\n",
        "from concurrent.futures import ThreadPoolExecutor\n",
        "from typing import Callable, Generator, List\n",
        "\n",
        "from tqdm.auto import tqdm\n",
        "\n",
        "\n",
        "def generate_batches(\n",
        "    inputs: List[str], batch_size: int\n",
        ") -> Generator[List[str], None, None]:\n",
        "    \"\"\"\n",
        "    Generator function that takes a list of strings and a batch size, and yields batches of the specified size.\n",
        "    \"\"\"\n",
        "\n",
        "    for i in range(0, len(inputs), batch_size):\n",
        "        yield inputs[i : i + batch_size]\n",
        "\n",
        "\n",
        "API_IMAGES_PER_SECOND = 2\n",
        "\n",
        "\n",
        "def encode_to_embeddings_chunked(\n",
        "    process_function: Callable[[List[str]], List[Optional[List[float]]]],\n",
        "    items: List[str],\n",
        "    batch_size: int = 1,\n",
        ") -> List[Optional[List[float]]]:\n",
        "    \"\"\"\n",
        "    Function that encodes a list of strings into embeddings using a process function.\n",
        "    It takes a list of strings and returns a list of optional lists of floats.\n",
        "    The data is processed in chunks to prevent out-of-memory errors.\n",
        "    \"\"\"\n",
        "\n",
        "    embeddings_list: List[Optional[List[float]]] = []\n",
        "\n",
        "    # Prepare the batches using a generator\n",
        "    batches = generate_batches(items, batch_size)\n",
        "\n",
        "    seconds_per_job = batch_size / API_IMAGES_PER_SECOND\n",
        "\n",
        "    with ThreadPoolExecutor() as executor:\n",
        "        futures = []\n",
        "        for batch in tqdm(batches, total=len(items) // batch_size, position=0):\n",
        "            futures.append(executor.submit(process_function, batch))\n",
        "            time.sleep(seconds_per_job)\n",
        "\n",
        "        for future in futures:\n",
        "            embeddings_list.extend(future.result())\n",
        "    return embeddings_list\n",
        ""
      ],
      "metadata": {
        "id": "BE1CP0LRbChz"
      },
      "execution_count": 28,
      "outputs": []
    },
    {
      "cell_type": "markdown",
      "source": [
        "Create functions that wrap embedding functions in try-except and retry logic."
      ],
      "metadata": {
        "id": "w1WiMUWobF1O"
      }
    },
    {
      "cell_type": "code",
      "source": [
        "import copy\n",
        "from typing import List, Optional\n",
        "\n",
        "import numpy as np\n",
        "import requests\n",
        "from tenacity import retry, stop_after_attempt\n",
        "\n",
        "client = EmbeddingPredictionClient(project=PROJECT_ID)\n",
        "\n",
        "\n",
        "# Use a retry handler in case of failure\n",
        "@retry(reraise=True, stop=stop_after_attempt(3))\n",
        "def encode_texts_to_embeddings_with_retry(text: List[str]) -> List[List[float]]:\n",
        "    assert len(text) == 1\n",
        "\n",
        "    try:\n",
        "        return [client.get_embedding(text=text[0], image_file=None).text_embedding]\n",
        "    except Exception:\n",
        "        raise RuntimeError(\"Error getting embedding.\")\n",
        "\n",
        "\n",
        "def encode_texts_to_embeddings(text: List[str]) -> List[Optional[List[float]]]:\n",
        "    try:\n",
        "        return encode_texts_to_embeddings_with_retry(text=text)\n",
        "    except Exception:\n",
        "        return [None for _ in range(len(text))]\n",
        "\n",
        "\n",
        "@retry(reraise=True, stop=stop_after_attempt(3))\n",
        "def encode_images_to_embeddings_with_retry(image_uris: List[str]) -> List[List[float]]:\n",
        "    assert len(image_uris) == 1\n",
        "\n",
        "    try:\n",
        "        return [\n",
        "            client.get_embedding(text=None, image_file=image_uris[0]).image_embedding\n",
        "        ]\n",
        "    except Exception as ex:\n",
        "        print(ex)\n",
        "        raise RuntimeError(\"Error getting embedding.\")\n",
        "\n",
        "\n",
        "def encode_images_to_embeddings(image_uris: List[str]) -> List[Optional[List[float]]]:\n",
        "    try:\n",
        "        return encode_images_to_embeddings_with_retry(image_uris=image_uris)\n",
        "    except Exception as ex:\n",
        "        print(ex)\n",
        "        return [None for _ in range(len(image_uris))]\n",
        ""
      ],
      "metadata": {
        "id": "85tQSlD9bGDP"
      },
      "execution_count": 29,
      "outputs": []
    },
    {
      "cell_type": "markdown",
      "source": [
        "Test the encoding function"
      ],
      "metadata": {
        "id": "Ylp55mBfbKml"
      }
    },
    {
      "cell_type": "code",
      "source": [
        "%%time\n",
        "# Encode a sample subset of images\n",
        "image_paths_filtered = list(image_paths)[:1000]\n",
        "image_embeddings = encode_to_embeddings_chunked(\n",
        "    process_function=encode_images_to_embeddings, items=image_paths_filtered\n",
        ")\n",
        "\n",
        "# Keep only non-None embeddings\n",
        "indexes_to_keep, image_embeddings = zip(\n",
        "    *[\n",
        "        (index, embedding)\n",
        "        for index, embedding in enumerate(image_embeddings)\n",
        "        if embedding is not None\n",
        "    ]\n",
        ")\n",
        "\n",
        "print(f\"Processed {len(indexes_to_keep)} embeddings successfully\")\n",
        ""
      ],
      "metadata": {
        "colab": {
          "base_uri": "https://localhost:8080/"
        },
        "id": "jZAOJNrLbMSu",
        "outputId": "a867691e-8acf-4360-ea42-6eef959e1a05"
      },
      "execution_count": 37,
      "outputs": [
        {
          "output_type": "stream",
          "name": "stderr",
          "text": [
            "100%|██████████| 3/3 [00:01<00:00,  1.99it/s]\n"
          ]
        },
        {
          "output_type": "stream",
          "name": "stdout",
          "text": [
            "Processed 3 embeddings successfully\n",
            "CPU times: user 65.1 ms, sys: 18.7 ms, total: 83.8 ms\n",
            "Wall time: 4.26 s\n"
          ]
        }
      ]
    },
    {
      "cell_type": "code",
      "source": [
        "import numpy as np\n",
        "\n",
        "\n",
        "def dot_product_distance(\n",
        "    text_embedding: np.ndarray, image_embeddings: np.ndarray\n",
        ") -> np.ndarray:\n",
        "    \"\"\"Compute dot-product distance between text and image embeddings by taking the dot product\"\"\"\n",
        "    return np.dot(text_embedding, image_embeddings.T)\n",
        ""
      ],
      "metadata": {
        "id": "LZUM6HtFbu92"
      },
      "execution_count": 38,
      "outputs": []
    },
    {
      "cell_type": "code",
      "source": [
        "import math\n",
        "from io import BytesIO\n",
        "\n",
        "import matplotlib.pyplot as plt\n",
        "from PIL import Image\n",
        "\n",
        "text_query = \"Birds in flight\"\n",
        "\n",
        "# Calculate text embedding of query\n",
        "text_embedding = encode_texts_to_embeddings(text=[text_query])[0]\n",
        "\n",
        "print(type(text_embedding))\n",
        "print(type(text_embedding[0]))\n",
        "\n",
        "print(type(image_embeddings))\n",
        "print(type(image_embeddings[0]))\n",
        "\n",
        "# Calculate distance\n",
        "distances = dot_product_distance(\n",
        "    text_embedding=np.array(text_embedding), image_embeddings=np.array(image_embeddings)\n",
        ")\n",
        "\n",
        "# Set the maximum number of images to display\n",
        "MAX_IMAGES = 20\n",
        "\n",
        "# Sort images and scores by descending order of scores and select the top max_images\n",
        "sorted_data = sorted(\n",
        "    zip(image_paths_filtered, distances), key=lambda x: x[1], reverse=True\n",
        ")[:MAX_IMAGES]\n",
        "\n",
        "# Calculate the number of rows and columns needed to display the images\n",
        "num_cols = 4\n",
        "num_rows = math.ceil(len(sorted_data) / num_cols)\n",
        "\n",
        "\n",
        "# Create a grid of subplots to display the images\n",
        "fig, axs = plt.subplots(nrows=num_rows, ncols=num_cols, figsize=(10, 12))\n",
        "\n",
        "# Loop through the top max_images images and display them in the subplots\n",
        "for i, (image_path, distance) in enumerate(sorted_data):\n",
        "    # Calculate the row and column index for the current image\n",
        "    row_idx = i // num_cols\n",
        "    col_idx = i % num_cols\n",
        "\n",
        "    # Check if image_path is a remote URL\n",
        "    if image_path.startswith(\"http://\") or image_path.startswith(\"https://\"):\n",
        "        response = requests.get(image_path)\n",
        "        image = Image.open(BytesIO(response.content))\n",
        "    else:\n",
        "        image = Image.open(image_path)\n",
        "\n",
        "    # Display the image in the current subplot\n",
        "    axs[row_idx, col_idx].imshow(image, cmap=\"gray\")\n",
        "\n",
        "    # Set the title of the subplot to the image index and score\n",
        "    axs[row_idx, col_idx].set_title(f\"Rank {i+1}, Distance = {distance:.2f}\")\n",
        "\n",
        "    # Remove ticks from the subplot\n",
        "    axs[row_idx, col_idx].set_xticks([])\n",
        "    axs[row_idx, col_idx].set_yticks([])\n",
        "\n",
        "# Adjust the spacing between subplots and display the plot\n",
        "plt.subplots_adjust(hspace=0.3, wspace=0.1)\n",
        "plt.show()"
      ],
      "metadata": {
        "colab": {
          "base_uri": "https://localhost:8080/",
          "height": 1000
        },
        "id": "Cad8G6nrbx8c",
        "outputId": "2c8ab1e4-4c21-4768-e34e-367f8053fb88"
      },
      "execution_count": 40,
      "outputs": [
        {
          "output_type": "stream",
          "name": "stdout",
          "text": [
            "<class 'list'>\n",
            "<class 'float'>\n",
            "<class 'tuple'>\n",
            "<class 'list'>\n"
          ]
        },
        {
          "output_type": "error",
          "ename": "IndexError",
          "evalue": "ignored",
          "traceback": [
            "\u001b[0;31m---------------------------------------------------------------------------\u001b[0m",
            "\u001b[0;31mIndexError\u001b[0m                                Traceback (most recent call last)",
            "\u001b[0;32m<ipython-input-40-35d2eb9551b4>\u001b[0m in \u001b[0;36m<cell line: 40>\u001b[0;34m()\u001b[0m\n\u001b[1;32m     51\u001b[0m \u001b[0;34m\u001b[0m\u001b[0m\n\u001b[1;32m     52\u001b[0m     \u001b[0;31m# Display the image in the current subplot\u001b[0m\u001b[0;34m\u001b[0m\u001b[0;34m\u001b[0m\u001b[0m\n\u001b[0;32m---> 53\u001b[0;31m     \u001b[0maxs\u001b[0m\u001b[0;34m[\u001b[0m\u001b[0mrow_idx\u001b[0m\u001b[0;34m,\u001b[0m \u001b[0mcol_idx\u001b[0m\u001b[0;34m]\u001b[0m\u001b[0;34m.\u001b[0m\u001b[0mimshow\u001b[0m\u001b[0;34m(\u001b[0m\u001b[0mimage\u001b[0m\u001b[0;34m,\u001b[0m \u001b[0mcmap\u001b[0m\u001b[0;34m=\u001b[0m\u001b[0;34m\"gray\"\u001b[0m\u001b[0;34m)\u001b[0m\u001b[0;34m\u001b[0m\u001b[0;34m\u001b[0m\u001b[0m\n\u001b[0m\u001b[1;32m     54\u001b[0m \u001b[0;34m\u001b[0m\u001b[0m\n\u001b[1;32m     55\u001b[0m     \u001b[0;31m# Set the title of the subplot to the image index and score\u001b[0m\u001b[0;34m\u001b[0m\u001b[0;34m\u001b[0m\u001b[0m\n",
            "\u001b[0;31mIndexError\u001b[0m: too many indices for array: array is 1-dimensional, but 2 were indexed"
          ]
        },
        {
          "output_type": "display_data",
          "data": {
            "text/plain": [
              "<Figure size 1000x1200 with 4 Axes>"
            ],
            "image/png": "[encoded data removed]"
          },
          "metadata": {}
        }
      ]
    },
    {
      "cell_type": "code",
      "source": [
        "DIMENSIONS = len(text_embedding)\n",
        "\n",
        "print(DIMENSIONS)"
      ],
      "metadata": {
        "colab": {
          "base_uri": "https://localhost:8080/"
        },
        "id": "n6x1hc9Vb2qx",
        "outputId": "4db2fba3-7119-417f-8aa2-2676dd563ac9"
      },
      "execution_count": 41,
      "outputs": [
        {
          "output_type": "stream",
          "name": "stdout",
          "text": [
            "1408\n"
          ]
        }
      ]
    },
    {
      "cell_type": "markdown",
      "source": [
        "Save the embedding in JSONL formt"
      ],
      "metadata": {
        "id": "TjgqsVjXb5KI"
      }
    },
    {
      "cell_type": "code",
      "source": [
        "import tempfile\n",
        "\n",
        "# Create temporary file to write embeddings to\n",
        "embeddings_file = tempfile.NamedTemporaryFile(suffix=\".json\", delete=False)\n",
        "\n",
        "embeddings_file.name"
      ],
      "metadata": {
        "colab": {
          "base_uri": "https://localhost:8080/",
          "height": 35
        },
        "id": "9J2u-tNob8dy",
        "outputId": "c7fa58a1-2a26-40fa-965c-308fa77ef96e"
      },
      "execution_count": 42,
      "outputs": [
        {
          "output_type": "execute_result",
          "data": {
            "text/plain": [
              "'/tmp/tmpi179zrvt.json'"
            ],
            "application/vnd.google.colaboratory.intrinsic+json": {
              "type": "string"
            }
          },
          "metadata": {},
          "execution_count": 42
        }
      ]
    },
    {
      "cell_type": "code",
      "source": [
        "import json\n",
        "import random\n",
        "\n",
        "BATCH_SIZE = 1000\n",
        "\n",
        "\n",
        "mylist = [\"even\", \"odd\"]\n",
        "\n",
        "\n",
        "with open(embeddings_file.name, \"a\") as f:\n",
        "    for i in tqdm(range(0, len(image_names), BATCH_SIZE)):\n",
        "        image_names_chunk = image_names[i : i + BATCH_SIZE]\n",
        "        image_paths_chunk = image_paths[i : i + BATCH_SIZE]\n",
        "\n",
        "        embeddings = encode_to_embeddings_chunked(\n",
        "            process_function=encode_images_to_embeddings, items=image_paths_chunk\n",
        "        )\n",
        "\n",
        "        # Append to file\n",
        "        embeddings_formatted = [\n",
        "            json.dumps(\n",
        "                {\n",
        "                    \"id\": str(id),\n",
        "                    \"embedding\": [str(value) for value in embedding],\n",
        "                    \"restricts\": [\n",
        "                        {\n",
        "                           \"namespace\": \"class\",\n",
        "                           \"allow_list\": random.choices(mylist,k = 1),\n",
        "                       }\n",
        "                ],\n",
        "            }\n",
        "        )\n",
        "            + \"\\n\"\n",
        "            for id, embedding in zip(image_names_chunk, embeddings)\n",
        "            if embedding is not None\n",
        "        ]\n",
        "        print(embeddings_formatted)\n",
        "        f.writelines(embeddings_formatted)\n",
        ""
      ],
      "metadata": {
        "colab": {
          "base_uri": "https://localhost:8080/"
        },
        "id": "LdSClEFvcEI_",
        "outputId": "cf229c0c-0e38-4bbc-f7cb-b5504efdb8a3"
      },
      "execution_count": 48,
      "outputs": [
        {
          "output_type": "stream",
          "name": "stderr",
          "text": [
            "100%|██████████| 3/3 [00:01<00:00,  1.98it/s]\n",
            "100%|██████████| 1/1 [00:04<00:00,  4.33s/it]"
          ]
        },
        {
          "output_type": "stream",
          "name": "stdout",
          "text": [
            "['{\"id\": \"0478630300_1_1_1.jpg\", \"embedding\": [\"0.00939756911\", \"0.00320645771\", \"0.0214965269\", \"0.0266298\", \"0.000151261178\", \"0.0073139742\", \"0.0142244771\", \"-0.0125017986\", \"0.00957495347\", \"-0.0314796045\", \"0.00197654497\", \"0.0111591471\", \"0.00598162459\", \"0.0629659668\", \"0.0120008625\", \"0.0320993625\", \"0.0123042054\", \"-0.0192182586\", \"-0.00782296\", \"-0.00696261413\", \"0.0750428289\", \"0.0213214234\", \"0.0203709751\", \"0.0280104689\", \"0.012508681\", \"-0.00622135075\", \"-0.00934535824\", \"0.0157345124\", \"-0.0220804308\", \"-0.0309167095\", \"0.0483772568\", \"-0.0109938318\", \"0.00226435182\", \"-0.0154890316\", \"0.0465738028\", \"-0.0320551358\", \"-0.0237035565\", \"-0.0233519338\", \"-0.0198739655\", \"0.00969293807\", \"0.0153850885\", \"-0.00121066789\", \"0.0261063445\", \"-0.00498569384\", \"-0.0060426658\", \"0.00181902375\", \"-0.0241659321\", \"-0.00102737453\", \"0.00752839539\", \"-0.0345868394\", \"-0.000926388835\", \"-0.00606835913\", \"-0.00922203\", \"0.0265253112\", \"0.00889573433\", \"-0.0173124652\", \"-0.0135560045\", \"0.0364154875\", \"-0.022418322\", \"-0.0109606432\", \"-0.0417673737\", \"0.00996584166\", \"0.0124634355\", \"-0.011017465\", \"-0.0367254056\", \"-0.00801083446\", \"-0.0148065267\", \"0.0232777148\", \"0.0185566\", \"0.0231888033\", \"-0.00598166743\", \"0.00500597851\", \"-0.00508830231\", \"0.0174956806\", \"0.056975361\", \"0.0332386084\", \"-0.0187192634\", \"0.00944302604\", \"0.0460964032\", \"0.0127252815\", \"0.0070287222\", \"0.0440087318\", \"0.0210963655\", \"0.0041629537\", \"-0.0128111541\", \"0.0193798169\", \"0.020050507\", \"-0.0235433262\", \"0.00479611335\", \"-0.000965339714\", \"0.0194310527\", \"-0.0150688402\", \"-0.0233735442\", \"-0.197253034\", \"-0.026392322\", \"-0.0154631697\", \"-0.0206196699\", \"-0.00397845\", \"-0.015980266\", \"0.0459675081\", \"6.76262e-05\", \"0.0402570516\", \"-0.0486058928\", \"0.00236097584\", \"0.0190303568\", \"-0.0113214822\", \"-0.0138985924\", \"0.0403757244\", \"-0.00911833439\", \"0.050535392\", \"-0.0150980409\", \"0.0438148938\", \"-0.00531255594\", \"0.0203696359\", \"0.0206925869\", \"-0.0173253641\", \"0.00530550163\", \"0.00938524865\", \"-0.021641532\", \"-0.0138309747\", \"0.0164715126\", \"0.00616529444\", \"0.0151643194\", \"-0.0016604485\", \"-0.00275982567\", \"-0.0693236738\", \"0.0208186898\", \"-0.0217765365\", \"0.0258681457\", \"0.00294349599\", \"-0.0121078119\", \"0.0106494762\", \"-0.0082824342\", \"0.00555247301\", \"-0.0346242152\", \"-0.0643661097\", \"0.0287439432\", \"-0.037666332\", \"0.0300663356\", \"-0.0365923904\", \"0.0167589188\", \"-0.0159358196\", \"-0.0363236517\", \"0.0619049296\", \"0.0413313732\", \"-0.00578508712\", \"0.0363884792\", \"-0.0372808576\", \"-0.00919197593\", \"0.0215057284\", \"0.0210898668\", \"-0.0126695959\", \"0.00695489\", \"-0.052410841\", \"-0.039846424\", \"-0.0417938195\", \"0.0132204238\", \"-0.0355582125\", \"0.0255853012\", \"0.00772293657\", \"-0.0319962204\", \"0.00440219603\", \"0.00307732029\", \"-0.0180593543\", \"-0.0132109625\", \"0.011524464\", \"0.000969461689\", \"-0.0068010306\", \"0.00691276137\", \"-0.0159553587\", \"-0.0118768187\", \"0.0135924211\", \"-0.0191193633\", \"0.0139285186\", \"0.0174285788\", \"-0.0132122543\", \"-0.0100308638\", \"-0.00799145922\", \"0.0106016695\", \"-0.0182861388\", \"-0.0293166302\", \"0.0168193243\", \"-0.0178046245\", \"0.00235349685\", \"-0.0334095173\", \"0.00543677714\", \"0.00608462794\", \"-0.0197162256\", \"0.0159987863\", \"0.0574985407\", \"-0.0203405824\", \"-0.0127234431\", \"-0.00151416752\", \"0.00632816833\", \"0.0262271427\", \"0.0674814731\", \"0.0150976162\", \"-0.0159545336\", \"-0.00726184109\", \"0.0032391767\", \"-0.0250070225\", \"-0.0246472489\", \"0.000348286791\", \"-0.04032759\", \"0.0310744215\", \"0.0358729511\", \"-0.0577393621\", \"0.016344633\", \"0.0326812305\", \"-0.0400486365\", \"0.0163624976\", \"0.00529003236\", \"0.0241392106\", \"0.0490107462\", \"0.0275369305\", \"-0.0172014125\", \"-0.018633401\", \"-0.0328937769\", \"-0.0619267486\", \"-0.0233261399\", \"-0.00380997453\", \"-0.00256195269\", \"0.0319069251\", \"-0.0285517666\", \"-0.0162065346\", \"-0.0328960679\", \"0.00593631202\", \"-0.0230353568\", \"-0.0330967084\", \"0.00872768275\", \"0.0131608136\", \"-0.017347265\", \"0.0274753012\", \"0.0265351851\", \"-0.0178125966\", \"-0.00681996858\", \"-0.0016616045\", \"-0.00712281233\", \"-0.0527611189\", \"0.0028424717\", \"-0.00171349745\", \"-0.0103313411\", \"0.016742453\", \"0.0302520841\", \"0.00822857488\", \"-0.00114105607\", \"-0.0156107228\", \"-0.0114097288\", \"0.0030380059\", \"0.0214681793\", \"0.0134559041\", \"0.000142937832\", \"-0.0223101098\", \"0.0225833319\", \"-0.0303951018\", \"0.00251169014\", \"-0.0218544286\", \"-0.0034401759\", \"0.0328268223\", \"-0.00475782435\", \"-0.0350522473\", \"-0.00376257766\", \"-0.0256436579\", \"0.00832843\", \"0.0027967745\", \"0.012264112\", \"0.0359469615\", \"0.00531191705\", \"0.0332894623\", \"-0.0115461722\", \"-0.00268512731\", \"0.0270942561\", \"-0.0388561077\", \"0.0058775153\", \"0.0124425665\", \"0.0264448896\", \"0.0254059564\", \"-0.00258099218\", \"0.0152177894\", \"0.0521736778\", \"-0.0246586055\", \"0.00749347964\", \"-0.0234248564\", \"0.0336789\", \"0.00941188727\", \"0.0116143757\", \"-0.168311596\", \"-0.00600572815\", \"0.0111962408\", \"-0.0429326966\", \"0.0294154622\", \"0.0141294617\", \"-0.00357660209\", \"-0.0167433266\", \"-0.00976600312\", \"0.042451486\", \"0.0298252571\", \"-0.0161407664\", \"-0.0262596235\", \"0.00972222071\", \"0.00285763037\", \"0.0419017524\", \"0.0289220922\", \"0.0130530214\", \"-0.0144158388\", \"-0.0222905353\", \"-0.0144426897\", \"-0.0334895141\", \"-0.00674625393\", \"0.0129759302\", \"-0.0274141617\", \"0.021099\", \"0.0282812454\", \"0.000701013254\", \"-0.00683026155\", \"-0.0120815923\", \"0.0197285675\", \"0.0204990152\", \"0.0234122053\", \"0.00406393548\", \"-0.0342915133\", \"-0.00456408085\", \"-0.00458468543\", \"-0.0355043672\", \"0.0159511436\", \"0.023914706\", \"0.0182457641\", \"0.0145678073\", \"-0.00272320351\", \"-0.000802185\", \"0.029520601\", \"-0.0427308\", \"0.013666993\", \"-0.0169694368\", \"-0.0500646047\", \"-0.0130445622\", \"-0.00897118263\", \"0.00852702092\", \"-0.025125742\", \"-0.0353952497\", \"0.0524724908\", \"-0.0129732657\", \"0.00017957094\", \"0.00886458624\", \"-0.0103208805\", \"0.035270568\", \"-0.00433988497\", \"-0.00330192898\", \"-0.00761183957\", \"-0.00597531209\", \"-0.027306933\", \"0.0310813189\", \"0.00512071699\", \"-0.00235651596\", \"-0.0531642325\", \"-0.00249611167\", \"-0.0247118492\", \"-0.00892834645\", \"0.00688979682\", \"-0.00336136715\", \"0.0236199796\", \"-0.0308622513\", \"0.0613689907\", \"0.00582525693\", \"0.00932215713\", \"-0.0490346365\", \"-0.0335039571\", \"-0.0105190249\", \"-0.0825974345\", \"-0.00615956774\", \"-0.0296159014\", \"-0.0127416495\", \"0.0302792471\", \"0.0234556831\", \"0.00472416077\", \"-0.0478941761\", \"-0.0278301388\", \"0.00286514265\", \"0.0205682125\", \"0.00510937\", \"0.00634908\", \"0.010183556\", \"-0.00597787648\", \"-0.00232488662\", \"-0.0276759155\", \"0.0480558239\", \"0.0265073981\", \"-0.0274966955\", \"-0.0541088209\", \"-0.00564462831\", \"-0.0263871681\", \"0.00695133349\", \"0.0111470716\", \"-0.0266688336\", \"-0.00994216651\", \"-0.030656442\", \"-0.0199823268\", \"0.022251673\", \"0.032997109\", \"-0.039936468\", \"-0.017402444\", \"0.00353341573\", \"0.040339116\", \"0.00184665562\", \"-0.0148555469\", \"-0.00812482834\", \"-0.00281746034\", \"-0.0454219133\", \"-0.0322980396\", \"0.00513265422\", \"-0.00261943531\", \"-0.0203064941\", \"-0.0352992378\", \"0.0316085666\", \"0.00813671853\", \"-0.0120439753\", \"-0.00823948\", \"-0.027814148\", \"0.00332828541\", \"0.0285209697\", \"-0.0100314626\", \"0.0171888452\", \"-0.0228960142\", \"-0.000444743375\", \"0.0329433568\", \"-0.0402365699\", \"0.00323295384\", \"-0.0365491137\", \"-0.00612174\", \"-0.00327954441\", \"-0.0106177954\", \"-0.041866228\", \"-0.0486266352\", \"-0.0121847531\", \"-0.00990590174\", \"-0.0109883342\", \"0.0166391842\", \"0.0115788812\", \"-0.0158096645\", \"-0.0175091065\", \"0.00792015623\", \"0.0121947071\", \"-0.0278627425\", \"0.013853\", \"-0.0194210317\", \"-0.0320879184\", \"0.012206587\", \"0.03491503\", \"0.0191761795\", \"0.0420987718\", \"0.00834893\", \"-0.00489887\", \"0.000227637371\", \"-0.0276436917\", \"0.0137226982\", \"-0.00416299514\", \"0.00291451253\", \"-0.0145637505\", \"-0.00828644354\", \"0.032955084\", \"0.0278013442\", \"-0.0098751476\", \"-0.0089891972\", \"0.00380851515\", \"0.025467379\", \"-0.0111283707\", \"-0.00723640481\", \"-0.0207652505\", \"0.00434160372\", \"-0.00382424402\", \"0.00153121527\", \"-0.00805151276\", \"-0.0288549326\", \"-0.0314039402\", \"-0.0115529699\", \"-0.00634384947\", \"0.0144380005\", \"0.0202767979\", \"0.00767318206\", \"-0.00946627371\", \"-0.0143377092\", \"-0.0273027979\", \"-0.00773019576\", \"0.0109262029\", \"-0.0330291241\", \"-0.0210954584\", \"0.0358493552\", \"-0.0273672044\", \"0.0545876\", \"0.0195274986\", \"0.00223735184\", \"-0.0123703983\", \"0.0279606227\", \"-0.0525112525\", \"-0.0165692158\", \"-0.0125071183\", \"-0.0200822875\", \"0.0420044251\", \"-0.0290343761\", \"0.0100734737\", \"-0.0225679055\", \"0.0197685\", \"-0.0371454358\", \"-0.0142695382\", \"0.0230007805\", \"-0.000745377794\", \"-0.0462690555\", \"0.02936217\", \"0.0179516152\", \"-0.0108752446\", \"-0.00535052875\", \"0.0410137586\", \"0.0226000883\", \"0.0396752805\", \"-0.000442683289\", \"0.0358510315\", \"0.0128399422\", \"-0.0125450632\", \"0.0146028083\", \"0.0169749204\", \"-0.00686901901\", \"-0.0181921963\", \"-0.0126086865\", \"-0.0473163128\", \"-0.0194394458\", \"0.0115183499\", \"0.0164445397\", \"-0.0241576172\", \"-0.0335246101\", \"0.00541091384\", \"-0.00957949273\", \"-0.00401608879\", \"-0.028305741\", \"0.0147562427\", \"0.0181586295\", \"-0.0473899432\", \"-0.028807858\", \"-0.0431260131\", \"-0.00504763378\", \"0.0292139165\", \"0.0332574099\", \"-0.0154004497\", \"-0.012062707\", \"0.00311111659\", \"-0.043232806\", \"-0.000679232471\", \"0.0171143245\", \"-0.000509640609\", \"0.0445017032\", \"0.0198987573\", \"-0.0194461849\", \"-0.00453861058\", \"0.00545526342\", \"0.00506018195\", \"0.0137898987\", \"-0.0116000529\", \"0.0231303237\", \"-0.021880364\", \"-0.0133416727\", \"-0.0313731842\", \"0.0250243\", \"-0.0285051987\", \"0.00111938524\", \"-0.00733711943\", \"0.00656958809\", \"0.0199966747\", \"-0.032601919\", \"0.0129573951\", \"-0.0279427022\", \"-0.0129698571\", \"-0.0332732126\", \"-0.0407581553\", \"-0.0260497704\", \"-0.0104981195\", \"-0.0113841807\", \"-0.0289245099\", \"-0.0160209034\", \"0.00167812605\", \"-0.0141398627\", \"0.0132509628\", \"0.0496412031\", \"0.039832335\", \"-0.00562626217\", \"0.0240644962\", \"-0.0563983694\", \"-0.0148310699\", \"-0.00782301743\", \"0.000594450627\", \"-0.0479525104\", \"0.00766884\", \"0.0140468515\", \"0.0319913477\", \"0.0230721086\", \"-0.0152836181\", \"-0.0272548776\", \"0.00487189088\", \"-0.0111015122\", \"-0.00881463289\", \"-0.0388004109\", \"-0.012970875\", \"-0.00132129702\", \"0.00556380441\", \"-0.0286678299\", \"-0.00633993559\", \"-0.0144893304\", \"0.0241853949\", \"-0.0165474974\", \"-0.0293291621\", \"-0.0175286923\", \"-0.0210463647\", \"0.0251176693\", \"0.0307914224\", \"-0.0233997554\", \"0.0255807843\", \"-0.0446761176\", \"0.0332533754\", \"0.00728384452\", \"-0.00886807777\", \"0.0120814256\", \"0.00682324031\", \"0.0221327748\", \"-0.00668632751\", \"0.00884788204\", \"-0.00425013667\", \"-0.0084044151\", \"-0.0138785318\", \"-0.0139145236\", \"0.018461436\", \"0.0541504286\", \"0.0136379478\", \"-0.0397862606\", \"-0.0438265763\", \"0.0021664775\", \"0.0192642026\", \"0.0529808141\", \"0.00305401627\", \"-0.0106811021\", \"0.00577559276\", \"-0.000199224363\", \"0.0358426683\", \"-0.00905817933\", \"0.0287922509\", \"-0.012914462\", \"-0.00785445236\", \"0.000768990489\", \"-0.0320537426\", \"-0.0245744418\", \"-0.014589835\", \"0.012444173\", \"0.00504609\", \"0.0371319205\", \"-0.0208535288\", \"-0.000613504322\", \"-0.00170470914\", \"-0.00903101359\", \"0.0102942623\", \"-0.00516425213\", \"-0.0334587693\", \"-0.0353690237\", \"0.0223852638\", \"-0.12403547\", \"0.00150888087\", \"0.0538401939\", \"0.0199113656\", \"-0.00414932426\", \"0.0145789534\", \"0.00408522505\", \"0.000993962516\", \"-0.0409845635\", \"0.0118454313\", \"-0.00862134714\", \"0.0458870865\", \"-0.114614889\", \"0.0216610134\", \"-0.0112015577\", \"-0.000357511017\", \"-0.000662090781\", \"-0.0161509048\", \"-0.0111622922\", \"0.0309187416\", \"-0.01039996\", \"-0.0144280605\", \"-0.0520377941\", \"0.000402007776\", \"0.00683096\", \"-0.0134046338\", \"0.00507197902\", \"0.0347713493\", \"-0.014422439\", \"-0.0051786867\", \"-0.0386497229\", \"0.00272503635\", \"0.0308402926\", \"0.0305926949\", \"0.0111972764\", \"0.0202510729\", \"0.0351987034\", \"-0.0295838732\", \"0.0246411599\", \"-0.026804341\", \"0.0192857347\", \"0.00312667689\", \"0.00166732282\", \"-0.040530704\", \"0.0180896875\", \"0.00451381784\", \"0.0125538399\", \"0.0107140029\", \"0.0221200269\", \"-0.0501681902\", \"-0.0167051181\", \"0.0265729241\", \"-0.0323374718\", \"-0.00548779359\", \"0.0335359611\", \"0.0160618\", \"-0.0214122739\", \"0.0192992743\", \"-0.0230457038\", \"-0.00194111234\", \"-0.0431731306\", \"-0.0138219343\", \"-0.0354439355\", \"-0.0448254384\", \"0.0259211753\", \"-0.0218284633\", \"0.0233356766\", \"-0.0133175915\", \"0.030837\", \"-0.0237878524\", \"0.0080550909\", \"0.0191860441\", \"0.0186695121\", \"0.00222171913\", \"-0.0194576383\", \"-0.0459188521\", \"0.000347279827\", \"0.0197500139\", \"-0.00587785104\", \"0.0324157253\", \"-0.0502063558\", \"-0.00234571029\", \"-0.00351965614\", \"0.00422519771\", \"0.0049504363\", \"0.00564091187\", \"-0.0353513397\", \"0.00361656118\", \"-0.129228786\", \"-0.0114006866\", \"0.0247168206\", \"-0.0145489732\", \"0.0267401785\", \"-0.0459040776\", \"0.00511999056\", \"-0.0185347442\", \"-0.0118430117\", \"0.016204929\", \"-0.00882834289\", \"-0.0292247552\", \"0.000735370326\", \"0.00255694892\", \"-0.0155844493\", \"0.00336197647\", \"0.00219498482\", \"-0.0272509176\", \"0.0292832293\", \"0.0143973259\", \"-0.059336938\", \"-0.0177358128\", \"-0.00967207458\", \"-0.0398256406\", \"0.00956808776\", \"0.0212052278\", \"-0.0252612\", \"-0.0359834805\", \"0.0280126259\", \"-0.00505019398\", \"-0.0386882238\", \"-0.0117762983\", \"0.0130495606\", \"-0.0198126361\", \"0.0393631458\", \"0.011923003\", \"-0.0516789556\", \"0.00265994738\", \"-0.028339047\", \"-0.00640844321\", \"-0.0310459826\", \"0.00958884507\", \"-0.00521885185\", \"-0.0132627813\", \"-0.0423327833\", \"0.0209019687\", \"0.0182006955\", \"0.0309767\", \"-0.0123496549\", \"0.0158091281\", \"-0.0144576738\", \"-0.0257853698\", \"0.0428235866\", \"0.0431714766\", \"0.0255272128\", \"0.00479660137\", \"0.0237394627\", \"-0.0312358495\", \"0.00193210959\", \"-0.0178152584\", \"0.0273229592\", \"0.0140715633\", \"0.0150835281\", \"0.0212307964\", \"0.0406873934\", \"-0.0040616258\", \"-0.0716754869\", \"0.014065532\", \"0.0253547914\", \"-0.0408616364\", \"-0.0469140746\", \"-0.0156926475\", \"0.0139652826\", \"0.0204333737\", \"0.0330245495\", \"0.0334188\", \"0.0420405\", \"-0.0136256684\", \"0.0166357271\", \"-0.00827551167\", \"-0.00587550551\", \"-0.0241299365\", \"0.0125101972\", \"-0.0180895645\", \"0.0200292189\", \"0.0101790531\", \"-0.00292219105\", \"-0.000778943882\", \"0.000169250619\", \"0.0290980395\", \"-0.0119330287\", \"-0.00756358262\", \"0.00470147748\", \"-0.0113853095\", \"-0.00343532697\", \"0.0276230685\", \"0.0161236878\", \"-0.00390948728\", \"-0.0250559971\", \"-0.056522198\", \"-0.0145481909\", \"-0.0150471264\", \"-0.0330811515\", \"-0.0072524203\", \"-0.000298638421\", \"0.00924621336\", \"-0.0389561951\", \"-0.00545445411\", \"0.0114419963\", \"-0.0134654036\", \"-0.0206636339\", \"0.00208266336\", \"-0.043105118\", \"-0.0262797363\", \"-0.00245448668\", \"0.00696904864\", \"0.0210773442\", \"-0.0166961197\", \"0.0117773293\", \"0.00290681352\", \"-0.0289962478\", \"-0.0116305985\", \"0.0166458283\", \"0.0400295034\", \"-0.00158245256\", \"-0.0261692274\", \"0.0251116268\", \"0.0578530729\", \"-0.05360163\", \"-0.0127408793\", \"0.00199035974\", \"0.00398811279\", \"0.0152043253\", \"0.00880026631\", \"-0.0180441234\", \"-0.00492202211\", \"0.0407869481\", \"-0.0159217659\", \"0.0141105289\", \"0.0144705307\", \"0.000855673628\", \"0.0212766919\", \"0.0035597661\", \"-0.0172042158\", \"0.0411589518\", \"0.00215956056\", \"-0.00149809115\", \"0.000831518613\", \"0.0082470635\", \"-0.0097596366\", \"0.00513560046\", \"0.0589807928\", \"0.0151502984\", \"-0.0224580429\", \"0.004353269\", \"-0.0102580618\", \"0.00442768633\", \"0.0323334\", \"0.0219022\", \"-0.0120443255\", \"0.0043565128\", \"0.0125705758\", \"0.00125207799\", \"0.0822152272\", \"-0.0340299532\", \"-0.00393033307\", \"-0.0109641198\", \"-0.0483952463\", \"0.0184565708\", \"-0.0211777929\", \"0.00824412424\", \"-0.00560905971\", \"0.00975950155\", \"0.00359482924\", \"0.0276621785\", \"0.0194053203\", \"0.0185645\", \"0.0302227065\", \"-0.0115355859\", \"0.014185803\", \"-0.0222874209\", \"-0.00956011\", \"0.00904436596\", \"0.000386215368\", \"0.0414895378\", \"0.0205047429\", \"0.0177020989\", \"-0.000707868661\", \"-0.0640518293\", \"-0.010037886\", \"0.0272648223\", \"0.0341212\", \"-0.0417530164\", \"-0.00626236154\", \"0.0109662656\", \"-0.0829769671\", \"-0.0184950978\", \"0.016296288\", \"-0.00965853687\", \"-0.0259199608\", \"-0.00497674337\", \"0.040321447\", \"-0.0291090179\", \"-0.0231319591\", \"-0.00472442433\", \"0.00367944199\", \"0.00453973236\", \"0.0106502352\", \"0.00978954695\", \"0.00907196943\", \"0.00288552931\", \"-0.0245467406\", \"0.0491994433\", \"-0.0102031818\", \"0.0568411089\", \"0.0633376688\", \"0.0356827565\", \"-0.02240327\", \"0.0221826825\", \"-0.00361662568\", \"-0.0307430588\", \"-0.0247641411\", \"0.0223088395\", \"-0.00379763753\", \"0.00169961399\", \"-0.0181437545\", \"-0.0061643552\", \"0.0133310938\", \"-0.00647381833\", \"-0.00158179528\", \"0.00444472581\", \"-0.0102900304\", \"-0.0382881463\", \"-0.0279643144\", \"0.0183960721\", \"0.00667002611\", \"-0.00692950934\", \"-0.00919643324\", \"-0.0448072925\", \"-0.0267214887\", \"-0.0507595427\", \"-0.038557183\", \"-0.0177309606\", \"-0.00027061344\", \"-0.0231769066\", \"-0.0497056805\", \"-0.020798916\", \"-0.0560818352\", \"0.00822373945\", \"0.0293851793\", \"-0.0252342243\", \"0.013211851\", \"0.0195705015\", \"0.009010043\", \"0.0191727448\", \"-0.0184041783\", \"0.0642797276\", \"0.0197752677\", \"-0.00415734621\", \"-0.0512368493\", \"0.00830053445\", \"-0.0592661612\", \"-0.0224218201\", \"-0.00532401446\", \"0.0177275818\", \"0.0208724383\", \"-0.00637693657\", \"-0.0216508284\", \"-0.0384316556\", \"0.0391218103\", \"0.00433142157\", \"0.0144617967\", \"0.00723240292\", \"-0.012791764\", \"0.00654611085\", \"0.00525889685\", \"0.000137362018\", \"0.0226412676\", \"-0.0324471518\", \"-0.00453719031\", \"0.00295906165\", \"-0.0310314726\", \"0.0353494398\", \"-0.0259207878\", \"-0.0232706163\", \"-0.0523465276\", \"0.00406222185\", \"0.0140445735\", \"-0.010810866\", \"0.012462344\", \"0.0190421529\", \"-0.0562821142\", \"-0.00413354067\", \"0.0105561176\", \"0.0111476118\", \"0.0387905501\", \"0.0247472879\", \"0.019353088\", \"-0.0191602055\", \"0.00603508251\", \"0.044390887\", \"0.0224707108\", \"0.00784136634\", \"-0.0101612825\", \"-0.0156269129\", \"-0.00384529377\", \"0.0249009673\", \"-0.0158406738\", \"-0.0253734421\", \"0.024831593\", \"0.0218060985\", \"-0.0536739156\", \"-0.025449194\", \"-0.0051632449\", \"0.019865673\", \"-0.010762983\", \"0.0189371891\", \"0.0187519472\", \"0.0545223616\", \"-0.0070027709\", \"0.0106510445\", \"-0.0151330279\", \"-0.0258398037\", \"-0.00547898235\", \"-0.028567072\", \"-0.0109072383\", \"-0.0368390605\", \"0.0536893271\", \"0.00250295713\", \"-0.0166794769\", \"0.00977924559\", \"0.00621878915\", \"0.0154553959\", \"0.0193386786\", \"0.0107690534\", \"-0.0307109654\", \"0.0477201752\", \"-0.0135984393\", \"-0.0380272865\", \"-0.0236019455\", \"-0.00853865873\", \"-0.0135367047\", \"0.00314746308\", \"0.018291112\", \"-0.0315089822\", \"-0.00276468019\", \"-0.00649787765\", \"0.0303510558\", \"-0.0467729904\", \"-0.0526001565\", \"0.0173532832\", \"0.00795367733\", \"0.00376302842\", \"-0.00529314391\", \"0.0124634523\", \"-0.045459874\", \"0.0109636942\", \"-0.0228883903\", \"-0.0386275873\", \"-0.00873865094\", \"-0.0268253591\", \"-0.0100872144\", \"0.0200172774\", \"0.0136241931\", \"-0.046350576\", \"-0.00232957\", \"0.0196020193\", \"-0.0674699247\", \"0.00042129241\", \"-0.0265060365\", \"0.0323726833\", \"0.0135096675\", \"0.0248559639\", \"0.013959975\", \"0.0126580866\", \"-0.0138283456\", \"0.032568913\", \"0.00452905521\", \"0.0260811634\", \"0.0142362639\", \"0.0311819315\", \"-0.0316007659\", \"0.0163574759\", \"-0.00675086677\", \"-0.060701903\", \"-0.00943326298\", \"0.00616560038\", \"-0.0120670889\", \"-0.00504814461\", \"-0.0179678928\", \"0.0226651542\", \"-0.0231465437\", \"-0.0263293535\", \"-0.00623540906\", \"-0.0253781863\", \"0.00907137152\", \"-0.018930288\", \"-0.0188885536\", \"-0.0287324358\", \"-0.0152042974\", \"-0.00858877227\", \"-0.0525917411\", \"0.0161942821\", \"0.0128474422\", \"-0.0287707932\", \"0.000381920225\", \"-0.0116094938\", \"-0.0368456692\", \"0.0109494897\", \"-0.0605604798\", \"0.06204395\", \"0.0112726921\", \"-0.0208573435\", \"-0.0105562117\", \"-0.00436119409\", \"-0.0892199799\", \"0.00583048863\", \"-0.0103950361\", \"-0.00364003214\", \"0.0524151213\", \"-0.0126594659\", \"-0.0316265561\", \"0.0358264968\", \"-0.0197756402\", \"0.0346624292\", \"-0.0106633296\", \"-0.0187308304\", \"0.00326632732\", \"0.0157503\", \"-0.0267510749\", \"0.046410393\", \"-0.025959\", \"0.00248987507\", \"0.0174839385\", \"-0.0316197239\", \"0.0274383742\", \"0.0124666533\", \"-0.0258114748\", \"-0.00573811401\", \"-0.023673553\", \"-0.00367215695\", \"-0.0518889576\", \"-0.0290586706\", \"0.0305887274\", \"-0.0197026748\", \"-0.00765163172\", \"-0.0103002824\", \"0.0261920393\", \"-0.00951862242\", \"0.0113434773\", \"-0.04017983\", \"-0.0393187031\", \"0.0342214108\", \"-0.0093845455\", \"-0.00501388125\", \"-0.0149035957\", \"0.0144244982\", \"0.0160792\", \"-0.00890511554\", \"-0.0184568837\", \"-0.00737255253\", \"-0.0115738958\", \"-0.0279587973\", \"0.0353749\", \"0.0229884479\", \"0.0076958\", \"0.0178443324\", \"0.0195985828\", \"-0.0140898628\", \"0.0167964268\", \"0.00709956\", \"-0.0295979735\", \"-0.0140276914\", \"0.0065645813\", \"-0.0197182205\", \"-0.0127599407\", \"-0.00494176149\", \"-0.00739730243\", \"0.00392672839\", \"-0.0624430627\", \"-0.0043629813\", \"-0.0220699031\", \"0.0199465398\", \"0.0448136665\", \"-0.0168133266\", \"-0.00691206148\", \"-0.0199215598\", \"-0.000165922887\", \"-0.00309248\", \"-0.000824893825\", \"-0.0267319921\", \"0.0497166626\", \"0.00339386077\", \"0.00128721888\", \"-0.0184156392\", \"-0.0189855881\", \"0.0119040795\", \"-0.00408448838\", \"-0.023953326\", \"0.0218953975\", \"0.032761842\", \"-0.00229504844\", \"-0.0166203734\", \"-0.0274339877\", \"0.0297489371\", \"-0.00186484621\", \"0.00372269587\", \"0.00677177589\", \"-0.00870671589\", \"0.0243867859\", \"-0.013904524\", \"0.00318455184\", \"-0.0251106657\", \"-0.0296461582\", \"-0.0071602012\", \"-0.0261300281\", \"0.0257609915\", \"0.00326966564\", \"0.00944143161\", \"-0.0101821506\", \"-0.0234134514\", \"-0.0699756071\", \"-0.0377984643\", \"0.0133551704\", \"-0.0406299271\", \"-0.0442698896\", \"-0.0457113497\", \"0.0226132497\", \"0.0158519633\", \"-0.0216851011\", \"0.00931731798\", \"-0.0482156351\", \"-0.00861300621\", \"-0.050230246\", \"0.0480105951\", \"-0.00563503196\", \"-0.0542162508\", \"0.00423641363\", \"0.0438421\", \"-0.00304968958\", \"-0.0389838293\", \"0.0489899181\", \"-0.0280124377\", \"-0.0360628\", \"0.0273409113\", \"0.00424521882\", \"0.000196388632\", \"-0.0260361768\", \"-0.00395955751\", \"-0.00269644754\", \"0.0505951047\", \"0.0380640402\", \"-0.0227324944\", \"0.0316245817\", \"-0.00364934769\", \"-0.00287957536\", \"-0.0284054875\", \"-0.0166810788\", \"-0.00251140865\", \"0.0122181028\", \"-0.0280583873\", \"0.0112193134\", \"0.0253185686\", \"-0.00138672453\", \"-0.0154722817\", \"-0.0290694628\", \"-0.0736201555\", \"0.0179953333\", \"0.0189451519\", \"-0.0277282465\", \"0.0456275828\", \"0.00737507036\", \"-0.113558553\", \"-0.0044377991\", \"-0.00847812835\", \"0.0379675105\", \"-0.00818939321\", \"-0.076794818\", \"0.0434788316\", \"-0.0286130104\", \"-0.00767678069\", \"-0.0413584262\", \"0.0717126578\", \"-0.011644382\", \"0.0154823922\", \"-0.0142680239\", \"0.016075924\", \"-0.0168508254\", \"0.0123005128\", \"-0.0524542555\", \"-0.00523378747\", \"-0.00220063934\", \"-0.0198547114\", \"-0.0176269896\", \"0.0215375572\", \"-0.0122942133\", \"-0.0110487724\", \"0.0131575763\", \"-0.0258712\", \"0.0304802097\", \"0.012375894\", \"0.0088115586\", \"-0.00252271211\", \"-0.046650175\", \"0.0294914749\", \"-0.0380397476\", \"-0.0284015089\", \"-0.00878860336\", \"0.013587106\", \"0.0228893589\", \"0.010739713\", \"0.0201771352\", \"0.0032399497\", \"0.000607025228\", \"-0.017546691\", \"0.0136842374\", \"-0.00622538384\", \"0.00682140887\", \"0.00892108306\", \"0.0612743422\", \"0.0330068544\", \"-0.00347529422\", \"0.0325734615\", \"0.0114484644\", \"-0.0135759097\", \"-0.0285792183\", \"-0.0432595313\", \"-0.0131045338\", \"-0.0267139655\", \"-0.0323453471\", \"0.0179773793\", \"-0.0486451536\", \"-0.0192614086\", \"0.0165213477\", \"0.00776101556\", \"0.0368678533\", \"-0.00558969658\", \"0.0396989621\", \"0.00196695235\", \"-0.0418421887\", \"-0.00176867237\", \"0.0140971374\", \"-0.00896512\", \"-0.00828045327\", \"0.0190955885\", \"-0.0503678545\", \"-0.00221809326\", \"-0.00850322377\", \"0.0292389449\", \"0.000478328613\", \"-0.0158072226\", \"-0.0045029032\", \"-0.0240487661\", \"0.00229143677\", \"-0.0387899876\", \"-0.0212789439\", \"-0.0180668961\", \"0.0235640053\", \"0.0192526858\", \"0.000283712201\"], \"restricts\": [{\"namespace\": \"class\", \"allow_list\": [\"even\"]}]}\\n', '{\"id\": \"0485561712_6_1_1.jpg\", \"embedding\": [\"-0.00153452053\", \"0.0553186\", \"0.00849963073\", \"-0.0471545458\", \"-0.0406896025\", \"-0.0244011376\", \"0.0263256598\", \"0.0393233858\", \"-0.0159645211\", \"0.016285589\", \"0.0263204221\", \"0.0121828187\", \"-0.016571803\", \"0.0510095321\", \"-0.0477231108\", \"-0.049640961\", \"0.0191673543\", \"0.00310222222\", \"-0.0013235464\", \"-0.0116330991\", \"0.100290723\", \"0.0171307269\", \"-0.00116847199\", \"0.0215425119\", \"0.0160429776\", \"-0.00177843263\", \"-0.0158428662\", \"0.0028159772\", \"0.0146379257\", \"-0.0207612719\", \"0.0223604683\", \"0.00342634646\", \"-0.00199822313\", \"0.0119351204\", \"-0.00327417161\", \"-0.0139759192\", \"-0.0154746575\", \"-0.0588484071\", \"-0.0366988182\", \"-0.00406311639\", \"0.0368223228\", \"0.00294706784\", \"-0.00773040531\", \"-0.0344098695\", \"-0.0196178742\", \"-0.0155119114\", \"-0.000174303481\", \"-0.0353900716\", \"0.00198400533\", \"-0.033503484\", \"0.0333986953\", \"-0.017319981\", \"0.0252732355\", \"0.0150835579\", \"0.00977326\", \"0.011372433\", \"0.0116808638\", \"-0.015660366\", \"0.00819465239\", \"-0.063757129\", \"-0.0222650301\", \"-0.00190262578\", \"-0.0245467518\", \"-0.000659623882\", \"-0.000513937848\", \"-0.00889234524\", \"-0.00832313113\", \"-0.0235587228\", \"0.0263201203\", \"0.0180176869\", \"-0.00268976\", \"0.0346477553\", \"0.0221674833\", \"0.0109322378\", \"0.0244392809\", \"-0.00719667738\", \"-0.042576313\", \"0.0285189413\", \"0.0511426553\", \"-0.018582372\", \"-0.0432790257\", \"-0.0344784521\", \"0.0440044217\", \"0.0216156542\", \"0.0182170905\", \"-0.00647055777\", \"0.0183733255\", \"0.00357728638\", \"-0.0431919284\", \"-0.0403874181\", \"-0.0326642\", \"0.00417608069\", \"-0.00468425592\", \"-0.154397979\", \"-0.031050384\", \"-0.0224502\", \"-0.0174622219\", \"0.00361876283\", \"-0.010333552\", \"0.0385404266\", \"-0.0339303426\", \"-0.00338272238\", \"-0.048447255\", \"-0.0178473573\", \"0.00709296437\", \"0.00288173091\", \"-0.00420671375\", \"-0.0141093172\", \"0.00767261302\", \"0.0372324921\", \"-0.0217857771\", \"0.0100810509\", \"0.00468482\", \"-0.0434023179\", \"0.0202262439\", \"-0.0335358679\", \"-0.0400827415\", \"0.0101180747\", \"-0.0370763801\", \"-0.0172264\", \"-0.0272848029\", \"0.0172730461\", \"0.00575495744\", \"-0.0118144955\", \"-0.00904824305\", \"-0.0729043931\", \"-0.0483699329\", \"-0.00247223652\", \"0.0661512\", \"-0.0514930114\", \"-0.0179958977\", \"0.0304923933\", \"0.0163201783\", \"-0.000229718455\", \"0.00449738279\", \"-0.016553212\", \"-0.0172617044\", \"0.00763376756\", \"0.000428664061\", \"0.00926948\", \"0.0171738882\", \"-0.019401243\", \"0.0211238489\", \"0.0213489588\", \"-0.00360777508\", \"-0.0127557833\", \"0.0430886634\", \"0.000993259484\", \"-0.0318344757\", \"0.0211820342\", \"0.0216849558\", \"0.0278562754\", \"0.0283642281\", \"0.0298383348\", \"0.000219402282\", \"-0.00519621419\", \"0.0448998511\", \"-0.00673562801\", \"-0.0120872073\", \"0.0684149563\", \"-0.0155200632\", \"-0.0269711278\", \"0.0201090965\", \"0.0448194407\", \"0.0146620721\", \"0.00110303762\", \"-0.00315189618\", \"0.0348484144\", \"-0.0237118099\", \"-0.0127790347\", \"-0.00676928507\", \"0.000133652196\", \"0.00901200529\", \"0.00539673865\", \"0.0145761827\", \"-0.0149952676\", \"-0.0132938288\", \"-0.00530448742\", \"-0.00300301565\", \"0.00449593039\", \"0.00840823445\", \"-0.0101323519\", \"-0.0196713861\", \"-0.00649023848\", \"-0.0328868404\", \"0.0461784676\", \"-0.0377310365\", \"0.0108357575\", \"0.0313266739\", \"0.0507422052\", \"-0.0169242378\", \"-0.022675721\", \"-0.0234860852\", \"-0.0306208618\", \"-0.0162678976\", \"0.0207511317\", \"0.0188312717\", \"-0.0245971233\", \"0.0270770453\", \"-0.0280193426\", \"-0.0096383309\", \"-0.00652911467\", \"0.0129293511\", \"-0.0197089761\", \"0.0282857474\", \"0.0345054083\", \"-0.0500939749\", \"-0.0020478752\", \"0.00288458937\", \"0.0107387528\", \"-0.00361665059\", \"-0.0340624452\", \"0.0239130016\", \"0.0055129407\", \"0.0659784451\", \"0.0076681925\", \"0.00766626187\", \"0.0172535051\", \"0.0249535274\", \"-5.22943083e-05\", \"-0.0410055332\", \"-0.00063808565\", \"-0.0262316391\", \"-0.0234583281\", \"0.022155311\", \"0.0286203548\", \"0.00370580633\", \"-0.0155144\", \"-0.0457060859\", \"0.0146327168\", \"-0.0420195833\", \"-0.0387077369\", \"-0.0106303152\", \"0.0106077762\", \"-7.94550142e-05\", \"-0.010720362\", \"-0.00353086716\", \"0.0470086783\", \"-0.019167956\", \"-0.0120762009\", \"0.0070794262\", \"0.0131529802\", \"-0.0343738496\", \"-0.0321854874\", \"-0.0104737254\", \"-0.0489998385\", \"-0.0435862318\", \"-0.0128456876\", \"0.0320942849\", \"-0.00675997138\", \"-0.00775072165\", \"-0.0325540192\", \"-0.0267431419\", \"0.0339203253\", \"-0.0458948277\", \"-0.0201341677\", \"0.0188229848\", \"-0.00483217789\", \"-0.00407869602\", \"0.0165620577\", \"-0.0066661844\", \"0.0293896012\", \"-0.0165906325\", \"0.0215070508\", \"-0.0294551849\", \"0.0329472646\", \"0.0124709597\", \"-0.00354124606\", \"0.0202368554\", \"-0.00152841955\", \"0.0144508164\", \"0.000194674692\", \"-0.0318053178\", \"0.0154394414\", \"0.0321651436\", \"0.0274002478\", \"0.0123705594\", \"0.0597977601\", \"0.0122355195\", \"0.0657213852\", \"-0.00764899235\", \"-0.0128885573\", \"0.0142005449\", \"-0.00392710045\", \"0.0246215463\", \"0.015883686\", \"-0.179385409\", \"0.0402850136\", \"0.012216853\", \"0.0339571238\", \"-0.0309718251\", \"-0.0213280153\", \"-0.0029305988\", \"-0.0313849822\", \"-0.0327067897\", \"0.0242181681\", \"0.0119604599\", \"-0.0127389496\", \"-0.00846692361\", \"-0.00137247692\", \"-0.0361076444\", \"-0.0233555194\", \"-0.00365251233\", \"-0.0278816689\", \"-0.00493164221\", \"0.000304780377\", \"-0.0570925474\", \"0.0118468506\", \"0.0128418198\", \"0.0202180315\", \"0.0385797061\", \"-0.00523065217\", \"-0.0330315866\", \"-0.0137336859\", \"-0.0228151903\", \"-0.0378145687\", \"0.0195970442\", \"0.011876042\", \"-0.00570205413\", \"-0.0264229644\", \"-0.0286984239\", \"-0.0101664746\", \"0.00694983127\", \"0.00102715939\", \"-0.0122422203\", \"0.00415547844\", \"-0.0533110574\", \"0.0123375561\", \"0.00721988082\", \"0.0400959328\", \"0.00435806578\", \"0.0133196432\", \"-0.0031431329\", \"0.0128654605\", \"0.0139375068\", \"0.0430745035\", \"0.0130258054\", \"0.00937237218\", \"0.0195692685\", \"0.0158528928\", \"-0.00519142626\", \"0.0181776229\", \"-0.017018212\", \"0.0329722278\", \"-3.25442415e-05\", \"0.0345894694\", \"0.00346612325\", \"-0.0167148095\", \"-0.00988625921\", \"0.0450695\", \"-0.0176708605\", \"-0.00779687939\", \"-0.0247455854\", \"-0.0125092138\", \"0.00777797308\", \"0.00852961931\", \"0.0190375391\", \"0.00938399881\", \"0.00199772581\", \"-0.0285426117\", \"0.00267008785\", \"-0.0366318896\", \"0.0484845154\", \"0.0442917757\", \"-0.00236611185\", \"-0.0344967\", \"0.0280359648\", \"0.00451382902\", \"-0.0359298103\", \"0.017317893\", \"-0.0160254892\", \"-0.0193828344\", \"-0.0165142268\", \"0.0087213181\", \"0.0240222905\", \"-0.0188911911\", \"0.00657921052\", \"-0.0200863276\", \"-0.01863507\", \"0.0424576215\", \"0.0282840971\", \"0.0343473852\", \"0.0384468026\", \"-0.0259571094\", \"-0.0341704562\", \"-0.0196073148\", \"0.0253418498\", \"-0.0339052\", \"-0.00617011264\", \"-0.00469668\", \"-0.0224233046\", \"-0.0218524504\", \"0.0353518836\", \"-0.016262576\", \"-0.0595705882\", \"0.0122653879\", \"0.0510723181\", \"-0.0100781349\", \"0.0219899919\", \"-0.0409621596\", \"0.00919624139\", \"0.0101939365\", \"0.00620716205\", \"0.000724630314\", \"0.0269704536\", \"-0.0228848271\", \"0.0385177508\", \"-0.0339597575\", \"-0.0309623946\", \"0.0187812634\", \"-0.054895971\", \"0.0319021903\", \"-0.0101466086\", \"0.00674976176\", \"-0.00506666442\", \"-0.00231827446\", \"-0.00783405453\", \"-0.00154639233\", \"-0.00151691528\", \"0.00767085748\", \"0.0393909812\", \"-0.0175934266\", \"0.00945926365\", \"-0.00799810141\", \"0.0173471607\", \"0.0341665037\", \"-0.0414845981\", \"-0.0285860803\", \"-0.000662943174\", \"-0.00593959028\", \"0.0306979455\", \"-0.00657430058\", \"-0.0292147044\", \"0.0290454533\", \"-0.0216553025\", \"-0.0310681239\", \"-0.00578185124\", \"-0.0248800833\", \"-0.0395579822\", \"-0.0168381371\", \"-0.00188607315\", \"-0.00459377142\", \"-0.00786111224\", \"0.0156796947\", \"-0.00306753884\", \"-0.00873246882\", \"-0.0471679047\", \"-0.020769015\", \"0.0346862897\", \"-0.000393973023\", \"-0.0164130125\", \"-0.00501535507\", \"0.0243238769\", \"0.011668073\", \"-0.00659479201\", \"0.00800524652\", \"0.0222995821\", \"-0.033749342\", \"0.005148842\", \"-0.0333810635\", \"-0.0194233023\", \"-0.0133268749\", \"0.028458029\", \"-0.00824238639\", \"0.0299264155\", \"0.0162160397\", \"0.0147352051\", \"-0.00454227347\", \"0.0176375844\", \"0.00433749519\", \"-0.0191234183\", \"-0.00773514435\", \"0.000933507166\", \"0.00308935717\", \"-0.0387881026\", \"-0.00386513327\", \"-0.0139363836\", \"-0.00149230263\", \"0.0142961256\", \"-0.0291994382\", \"-0.00946691819\", \"-0.0360805206\", \"-0.0126218526\", \"0.00764190964\", \"-0.0284485519\", \"-0.0195686445\", \"0.0104108537\", \"0.013780985\", \"-0.00282163918\", \"-0.0510771759\", \"0.0473421365\", \"0.0595706664\", \"0.0118783023\", \"-0.0555683933\", \"-0.0410394967\", \"0.0106218942\", \"0.0106487125\", \"-0.00484736124\", \"-0.0333445445\", \"0.0372779705\", \"0.0216768961\", \"-0.0272711981\", \"-0.0278424192\", \"-0.0400555208\", \"0.00867193\", \"0.00164668378\", \"-0.0460718945\", \"0.0267130788\", \"0.00259431475\", \"-0.049138993\", \"-0.0216363482\", \"-0.0384147204\", \"0.0157524627\", \"-0.00606817193\", \"-0.00263852836\", \"0.00995465554\", \"0.00804676767\", \"0.00340710138\", \"-0.0121221943\", \"-0.0236209687\", \"0.00924022309\", \"0.0267553292\", \"0.00302710733\", \"-0.0140752476\", \"-0.00528055662\", \"-0.0107585844\", \"-0.0305360928\", \"-0.00181717472\", \"0.00474872394\", \"0.0184659343\", \"0.0130626205\", \"0.00407686783\", \"0.0166391637\", \"-0.004244057\", \"0.0135524236\", \"-0.00383254699\", \"0.0106138494\", \"0.0249034707\", \"-0.0360209905\", \"-0.0351995751\", \"0.0144401928\", \"0.0121887168\", \"0.00766258594\", \"0.0205369294\", \"0.00216756086\", \"-0.0175444316\", \"0.00165680936\", \"-0.0355720706\", \"-0.010905562\", \"0.00218375097\", \"-0.0484436639\", \"-0.00222046766\", \"-0.0030169175\", \"-0.0072042169\", \"-0.012757143\", \"-0.000882887223\", \"0.0269500278\", \"0.015563162\", \"-0.0365681238\", \"-0.0237045474\", \"0.0196512286\", \"0.0233525466\", \"0.00519672874\", \"0.0078365691\", \"0.0463526174\", \"-0.0175912976\", \"-0.0539423972\", \"0.0194667391\", \"0.0263978038\", \"-0.0125888763\", \"-0.0240533985\", \"-0.0193631109\", \"-0.00912087504\", \"-0.0110693164\", \"-0.00787100755\", \"-0.00987347309\", \"-0.0325287767\", \"-0.0115141664\", \"-0.0195049495\", \"-0.00925822183\", \"-0.0512285121\", \"-0.0116079636\", \"-0.00671796687\", \"0.00679325173\", \"-0.0254563913\", \"-0.0226788055\", \"0.0322855078\", \"-0.0209800284\", \"-0.0377177522\", \"0.00834178552\", \"0.00927405618\", \"0.0291043464\", \"0.0276438072\", \"0.00705599645\", \"0.00798349455\", \"0.0242387354\", \"0.0271292869\", \"-0.0172258057\", \"-0.0169024598\", \"-0.00743250316\", \"-0.0408032425\", \"-0.018924946\", \"-0.0258539226\", \"-0.0354435183\", \"-0.0369124226\", \"-0.0211542603\", \"0.00156282773\", \"-0.0103643024\", \"-0.0145546487\", \"0.0177016053\", \"-0.00776353\", \"0.000701207377\", \"0.0108610885\", \"-0.0107453782\", \"-0.00466232095\", \"-0.00201100181\", \"0.030008208\", \"0.00104507909\", \"0.0233210176\", \"-0.0191997383\", \"-0.00489674089\", \"-0.00660850899\", \"0.0393825211\", \"-0.0184512734\", \"-0.00746599957\", \"0.00292836782\", \"0.00509990659\", \"-0.0180253237\", \"0.0166868474\", \"-0.0102064479\", \"-0.0390524529\", \"-0.0199794192\", \"-0.00168286439\", \"0.0374172591\", \"-0.0238767173\", \"0.00727887312\", \"-0.0359286927\", \"-0.0380916707\", \"-0.0376234949\", \"0.0142029161\", \"0.0232440066\", \"0.0591084771\", \"-0.000629246875\", \"-0.0212751348\", \"0.0177832954\", \"-0.0333995894\", \"0.0258516371\", \"-0.0445801839\", \"0.0171220936\", \"-0.0196018368\", \"0.00542865042\", \"0.0215173811\", \"0.0104783196\", \"-0.0209332388\", \"0.0363997519\", \"0.026168894\", \"0.00810704753\", \"-0.00749747\", \"-0.0148046222\", \"0.0276274309\", \"-0.148320034\", \"-0.0106188012\", \"0.00403311197\", \"0.00393205928\", \"-0.0338110141\", \"-0.0329986103\", \"-0.0210232046\", \"-0.0407146886\", \"-0.00133877574\", \"0.0329179429\", \"0.00966288615\", \"0.0430607796\", \"-0.228817314\", \"0.00185002515\", \"-0.00601605373\", \"-0.0182508603\", \"0.0117284767\", \"-0.0102209169\", \"-0.0407492295\", \"-0.0287655797\", \"-0.0272483\", \"-0.0367096961\", \"-0.0106518511\", \"-0.0214544386\", \"0.0465430245\", \"0.0300637148\", \"0.0737202168\", \"0.0431506634\", \"-0.0160437319\", \"0.00375530263\", \"-0.0207103\", \"0.0164644159\", \"0.0160248466\", \"0.0434174649\", \"-0.0338466838\", \"-0.0396129042\", \"-0.0396227501\", \"0.0295442473\", \"-0.00875875261\", \"-0.0118184043\", \"0.010929347\", \"-0.00651287194\", \"0.0443033427\", \"-0.0357595347\", \"0.00890444871\", \"0.00257435162\", \"-0.00720470957\", \"-0.0294488594\", \"-0.0210338384\", \"-0.0540914647\", \"0.056556154\", \"-0.0132667972\", \"0.0117391692\", \"-0.0304174\", \"-0.00673884805\", \"-0.0266939439\", \"0.0195704512\", \"0.0019673293\", \"-0.0120647857\", \"0.00103388424\", \"-0.0511057079\", \"0.0430135913\", \"-0.0585393384\", \"-0.00510556111\", \"0.0199665744\", \"-0.00137127703\", \"0.0352545269\", \"0.00113984337\", \"-0.0179075468\", \"0.0230545402\", \"0.00872574747\", \"0.0304544251\", \"0.00288596028\", \"0.019476153\", \"0.0100050718\", \"0.0260941423\", \"0.00214891718\", \"-0.0217033047\", \"0.0255324598\", \"0.010196371\", \"-0.0322107188\", \"0.00870008301\", \"0.0384931788\", \"-0.00847607478\", \"-0.0168211292\", \"0.012013996\", \"-0.0392587781\", \"-0.013843949\", \"-0.178146273\", \"-0.00156256265\", \"0.00191755\", \"0.00963895489\", \"0.0133973844\", \"-0.0252273213\", \"0.00425470807\", \"0.0137245636\", \"0.0251567196\", \"-0.00993961468\", \"-0.0103020184\", \"0.00543831522\", \"0.014546534\", \"-0.0458796546\", \"-0.0123170028\", \"0.0173720755\", \"0.0427225754\", \"-0.0140144499\", \"0.00788541\", \"-0.0084411772\", \"0.004522637\", \"-0.00416914141\", \"0.0114219189\", \"0.00112987508\", \"-0.0172394533\", \"-0.000642013852\", \"-0.000912356365\", \"0.0225196034\", \"-0.0196812693\", \"-0.0098837968\", \"-0.0372901335\", \"-0.0141207324\", \"0.009455177\", \"-0.0145847145\", \"0.00786958635\", \"-0.0184282772\", \"-0.00904174\", \"0.00302995089\", \"0.00187753653\", \"-0.00726718362\", \"-0.0234661084\", \"0.00560040027\", \"0.0419741273\", \"0.0260506496\", \"-0.055608362\", \"0.0160567295\", \"-0.022406349\", \"0.0058460529\", \"-0.0181557834\", \"-0.00988887716\", \"-0.0160122272\", \"-0.02258352\", \"0.0646407083\", \"-0.0192146786\", \"-0.0391023643\", \"0.0204837043\", \"0.0029323746\", \"-0.000549142715\", \"0.0107549187\", \"-0.00317854923\", \"-0.00417375844\", \"-0.00585280778\", \"-0.0315356627\", \"-0.00394487847\", \"0.0166874435\", \"-0.023151923\", \"-0.0261750594\", \"0.00132745155\", \"0.0134459\", \"-0.0682028234\", \"-0.00355504639\", \"0.0213075504\", \"0.0128956372\", \"0.0353324451\", \"0.0219904296\", \"0.0284095071\", \"-0.0141259236\", \"0.0281684455\", \"0.0112132952\", \"0.0204451475\", \"0.0235481132\", \"-0.00317100016\", \"-0.00180978491\", \"0.015608795\", \"0.0222513191\", \"-0.0385944918\", \"0.0142600266\", \"-0.0229906775\", \"-0.0231427029\", \"0.0283659939\", \"0.0306040496\", \"-0.00698659895\", \"0.0307722464\", \"0.0189424511\", \"0.0077260863\", \"0.0126674967\", \"0.00793703645\", \"-0.0221428871\", \"0.0287524797\", \"0.0184655711\", \"0.0162296295\", \"0.0583188757\", \"-0.0344230123\", \"-0.0265892148\", \"-0.011673131\", \"0.0294077\", \"0.0092087891\", \"-0.0345080122\", \"0.00918693375\", \"0.0127556939\", \"-0.0365569517\", \"-0.000759422372\", \"-0.03386214\", \"-0.0170213766\", \"-0.0217233878\", \"0.0164619405\", \"0.00513499323\", \"-0.00690320227\", \"0.00226714532\", \"0.0105306013\", \"0.0141090313\", \"-0.0138120363\", \"-0.0279283337\", \"-0.0065608304\", \"0.0220564716\", \"-0.0266275648\", \"-0.0132022118\", \"0.00317980489\", \"0.0109936018\", \"-0.00976432208\", \"0.00482660951\", \"0.0140644144\", \"0.0104441624\", \"0.0342387\", \"0.00580734387\", \"-0.0102382554\", \"0.0243403763\", \"-0.0350234807\", \"0.00110410212\", \"0.00388219883\", \"-0.00173517363\", \"0.010072317\", \"0.0261891931\", \"-0.0165835619\", \"0.0320940241\", \"-0.0218497086\", \"-0.026896894\", \"-0.0321878567\", \"-0.00485829683\", \"-0.0403226428\", \"-0.0134419585\", \"0.0160944033\", \"0.0148493024\", \"0.0323560312\", \"-0.043438185\", \"0.00312043913\", \"0.00525408052\", \"-0.0234440621\", \"0.0118735824\", \"-0.0200268608\", \"-0.0311041735\", \"0.00210593781\", \"-0.0120869549\", \"0.0966410562\", \"0.0188494045\", \"-0.0144621525\", \"0.0374102183\", \"0.00609480124\", \"0.0229664743\", \"0.0480171219\", \"-0.000114602386\", \"-0.00512589654\", \"0.0164353698\", \"0.00509540876\", \"0.0310427304\", \"0.0102582676\", \"0.0232857522\", \"0.0609523393\", \"0.00554906763\", \"-0.0126882242\", \"0.0242432207\", \"0.00391049264\", \"0.0129711106\", \"-0.00445154356\", \"-0.0239126477\", \"-0.0158742\", \"-0.0262995288\", \"-0.0564608\", \"-0.0302178375\", \"-0.0256533828\", \"-0.0155492835\", \"-0.00636879122\", \"-0.000942990475\", \"0.000972228649\", \"-0.0189630911\", \"-0.0416472554\", \"0.000927398913\", \"-0.0102268588\", \"0.0145828165\", \"0.00439788541\", \"-0.0354693\", \"0.0116865458\", \"-0.00482786633\", \"0.00676159468\", \"-0.0210932419\", \"-0.0283839833\", \"0.0196521468\", \"-0.0336850025\", \"-0.0186059866\", \"-0.0166626\", \"0.0115111964\", \"0.0215091202\", \"0.0690966249\", \"-0.0181705691\", \"-0.0197644308\", \"0.0696305633\", \"0.0239266325\", \"-0.0125065092\", \"-0.0545691587\", \"-0.0195586979\", \"-0.0183464866\", \"-0.0217227284\", \"0.0122193322\", \"0.00240333\", \"0.063019082\", \"-0.0112555455\", \"-0.0498691797\", \"0.00730303722\", \"-0.0130500356\", \"-0.0240023043\", \"-0.0252858382\", \"0.00943057\", \"-0.0132550197\", \"0.0108411917\", \"0.0176910236\", \"-0.00678981654\", \"0.016679734\", \"0.0379013531\", \"0.0146857426\", \"-0.0235847179\", \"-0.0483266674\", \"-0.013420701\", \"-0.00319686462\", \"-0.0475957356\", \"-0.0130003802\", \"-0.00936803315\", \"-0.0198048707\", \"-0.0430643335\", \"-0.0101630045\", \"-0.0136570605\", \"-0.0359376669\", \"-0.00945250411\", \"-0.0179277267\", \"-0.0138653442\", \"0.00045318561\", \"-0.0517177172\", \"-0.0314633809\", \"-0.0113207651\", \"-0.0192972589\", \"-0.012160196\", \"0.00770423841\", \"-0.0432783775\", \"-0.0203287639\", \"-0.00694943266\", \"0.0200241767\", \"-0.0428988338\", \"0.00144129852\", \"-0.0233796779\", \"-0.0379358679\", \"0.0513745025\", \"0.00834811945\", \"0.0324578583\", \"0.0468450673\", \"0.0154388538\", \"-0.0055294605\", \"-0.0013924418\", \"0.034593042\", \"0.00177047472\", \"-0.00912604388\", \"0.0135734892\", \"0.0146728065\", \"-0.036983069\", \"-0.00348364469\", \"0.0136044435\", \"0.0047525377\", \"0.0131244874\", \"-0.0269383341\", \"0.0433101766\", \"0.0355577953\", \"0.00166762515\", \"0.0337533951\", \"-0.016264705\", \"0.0155017776\", \"0.0248583127\", \"-7.42260818e-05\", \"-0.0376416631\", \"0.0112032788\", \"-0.00324325869\", \"-0.0207643826\", \"-0.0172274765\", \"0.0124047808\", \"0.00304148649\", \"-0.00466713356\", \"0.00148256565\", \"-0.0211750753\", \"-0.00370754884\", \"-0.00128383725\", \"0.0113325855\", \"-0.0132062398\", \"0.00987717602\", \"-0.0155078452\", \"-0.0295881592\", \"0.0170983803\", \"0.0145441769\", \"-0.00597534329\", \"0.00188343471\", \"-0.0460485257\", \"0.00491532963\", \"0.00485803559\", \"0.0018112961\", \"-0.0269326214\", \"-0.0418022536\", \"-0.0201920699\", \"0.0190322958\", \"0.0108343055\", \"0.00169328263\", \"0.00804224145\", \"0.0331422836\", \"-0.0118807945\", \"0.013730987\", \"0.0107406676\", \"0.00494872\", \"0.0329097733\", \"-0.00765854167\", \"-0.00920441933\", \"0.0103113689\", \"0.0172735378\", \"-0.000588214723\", \"0.0133985942\", \"0.00107226113\", \"-0.00785193499\", \"0.00850851089\", \"-0.00902178325\", \"0.0088780215\", \"0.000268908974\", \"-0.0310697351\", \"0.0350268371\", \"0.0123733291\", \"-0.0254663657\", \"-0.0466732644\", \"0.00600101054\", \"0.0264259372\", \"0.00352788158\", \"-0.0185847878\", \"-0.00109578518\", \"0.0177861229\", \"0.0103355907\", \"0.0172421429\", \"0.00396015448\", \"0.0349135362\", \"0.0297716279\", \"-0.0110501787\", \"-0.00811430905\", \"-0.0208214745\", \"0.0480146\", \"0.0100837834\", \"0.0122653581\", \"-0.0118703516\", \"-0.0530838259\", \"-0.00187193323\", \"-0.00868357904\", \"0.060711883\", \"0.00674419338\", \"-0.00460024504\", \"0.0118872542\", \"0.0156423524\", \"-0.012342656\", \"-0.00906212628\", \"-0.0329862423\", \"-0.0363263153\", \"0.0104122981\", \"0.00625525974\", \"0.00930138584\", \"0.00697804242\", \"0.0319809206\", \"-0.0106041357\", \"0.0330204517\", \"0.0132556129\", \"0.0237684883\", \"0.0243388936\", \"0.0174236521\", \"-0.035750147\", \"-0.0170109365\", \"-0.0403871834\", \"-0.00216484186\", \"0.0166755524\", \"-0.0124516776\", \"0.00437011104\", \"-0.0446925\", \"-0.00844993256\", \"0.0201437268\", \"-0.0291365571\", \"0.00136416859\", \"-0.0143445479\", \"0.0116478419\", \"0.0459906533\", \"0.0109526282\", \"0.0080830045\", \"0.0412658639\", \"0.0417938679\", \"-0.010382493\", \"-0.0133679593\", \"-0.000174684319\", \"-0.0102763725\", \"-0.0235572979\", \"-0.083134681\", \"-0.0205635261\", \"0.00800342951\", \"0.0120068304\", \"0.0151275191\", \"-0.0186848398\", \"-0.0280818976\", \"0.00376855209\", \"0.0344335139\", \"0.00538200326\", \"-0.00348399719\", \"-0.0271648392\", \"0.0394962877\", \"-0.00468812929\", \"-0.0326559655\", \"-0.0233489182\", \"0.0224373844\", \"-0.0152855366\", \"-0.0259241927\", \"-0.0190215036\", \"0.0366415717\", \"-0.00995964\", \"0.00335211889\", \"0.00763483904\", \"0.00775696384\", \"-0.0102707716\", \"0.0305434987\", \"0.00089939445\", \"-0.0073611564\", \"-0.00156917481\", \"-0.00795800239\", \"-0.0315333419\", \"-0.0313367397\", \"0.0480167642\", \"0.0154370284\", \"-0.0169368647\", \"-0.0189250875\", \"-0.00441252394\", \"-0.0229016282\", \"0.00594202196\", \"-0.00772821298\", \"-0.0292282868\", \"-0.0269120261\", \"0.0159390531\", \"-0.028665537\", \"-0.00780128082\", \"-0.000767564401\", \"-0.0161796808\", \"0.0339610092\", \"-0.00882092398\", \"0.0389353298\", \"-0.009598542\", \"0.0525401942\", \"-0.00245101\", \"0.0277974866\", \"-0.0253746081\", \"0.0151775861\", \"0.00434301235\", \"-0.0123950699\", \"0.00947973132\", \"-0.0612496734\", \"0.00325152348\", \"-0.00916550681\", \"0.00526736025\", \"-0.0240140427\", \"0.0148254139\", \"0.0129245548\", \"0.00461681606\", \"0.00219961395\", \"0.0359757468\", \"-0.0218648612\", \"-0.0123048993\", \"0.0294767823\", \"-0.0355244242\", \"0.0375105068\", \"-0.0451724902\", \"0.00130790309\", \"0.0179035477\", \"-0.0259600375\", \"-0.00352188479\", \"-0.00711082714\", \"0.0185639895\", \"0.00594891049\", \"-0.0141604012\", \"0.0127614671\", \"-0.0125354\", \"0.000938567682\", \"-0.0160991661\", \"0.00502863806\", \"-0.0185409579\", \"0.0207284931\", \"-0.0115108043\", \"-0.0234909728\", \"-0.0162621439\", \"-0.0198939927\", \"-0.0233355779\", \"0.0155477\", \"-0.00745311892\", \"-0.035285\", \"0.000598402403\", \"0.0160473622\", \"0.0197876319\", \"0.0414497033\", \"0.0178898405\", \"-0.0276391953\", \"-0.00747211045\", \"-0.0307732336\", \"0.0157986898\", \"0.0072171567\", \"-0.0120971343\", \"0.023721464\", \"-0.0531152748\", \"-0.0307685435\", \"0.00615992583\", \"-0.0633253306\", \"0.0414962359\", \"0.00369778043\", \"0.000462244294\", \"-0.0195788164\", \"-0.0154593326\", \"-0.00969254319\", \"0.0255963039\", \"0.0136784278\", \"0.0240982566\", \"-0.0217082836\", \"0.0221961178\", \"-0.0118528754\", \"-0.0212640427\", \"0.0184049755\", \"-0.00988128223\", \"-0.0423387103\", \"-0.0114160096\", \"-0.0101418458\", \"-0.0191519819\", \"-0.0258113015\", \"-0.00878327154\", \"-0.0297990218\", \"-0.0318161733\", \"0.0182345696\", \"-0.00743906945\", \"-0.0356494673\", \"-0.0108894035\", \"-0.0301858839\", \"-0.0247207172\", \"0.02806383\", \"-0.0410080329\", \"0.0213128831\", \"0.0279624816\", \"0.00842003059\", \"0.0569292381\", \"-0.0397857241\", \"-0.00200295099\", \"0.0104031572\", \"-0.0450378731\", \"-0.00217294157\", \"-0.0184077919\", \"0.0135787306\", \"-0.0729593933\", \"-0.00955719315\", \"-0.0102626039\", \"-0.00970205106\", \"-0.0125512388\", \"-0.0735702\", \"0.0167570375\", \"-0.000124565937\", \"-0.0149607137\", \"0.018165458\", \"0.0741084069\", \"-0.030264521\", \"-0.0339968204\", \"0.0350657478\", \"0.00666389568\", \"0.0113687962\", \"0.00893848203\", \"0.00880672317\", \"0.00264140801\", \"-0.00286105904\", \"-0.0289345831\", \"0.0216599889\", \"0.0201684814\", \"0.00343318982\", \"0.0241928324\", \"0.0052572214\", \"-0.0271324702\", \"0.0189029519\", \"0.00159867178\", \"-0.0252324138\", \"-0.00806076266\", \"0.0116423024\", \"-0.0200811159\", \"0.000573803089\", \"0.0040033008\", \"-0.0288638063\", \"0.0291288346\", \"-0.00685479492\", \"0.0063312361\", \"-0.028081622\", \"0.00378350168\", \"-0.0324704535\", \"0.0140531138\", \"-0.0171010718\", \"-0.0176626053\", \"-0.00191993348\", \"-0.00949526206\", \"0.030905772\", \"0.0123168323\", \"-0.0119730318\", \"-0.00113264937\", \"-0.0203578845\", \"-0.00103067385\", \"-0.0223304927\", \"-0.0435750037\", \"-0.0175039861\", \"-0.0318493359\", \"0.000833405531\", \"0.00152415049\", \"-0.00736996392\", \"0.004715004\", \"-0.0146711888\", \"0.0144599667\", \"-0.00328987697\", \"0.000801147835\", \"-0.0190401096\", \"0.000608280359\", \"-0.0527303778\", \"0.00883906055\", \"0.00237223296\", \"-0.0187804475\", \"0.00303991279\", \"-0.00838158466\", \"-0.0467339084\", \"-0.00200951798\", \"0.0204463471\", \"0.00873545\", \"-0.00850513764\", \"-0.0345903076\", \"0.0164292\", \"0.0249046162\", \"0.0319021381\", \"-0.0230683088\", \"-0.0141713358\", \"-0.0120441616\", \"-0.00877389126\", \"-0.00411824323\", \"-0.0134937856\"], \"restricts\": [{\"namespace\": \"class\", \"allow_list\": [\"odd\"]}]}\\n', '{\"id\": \"1165680701_1_1_1.jpg\", \"embedding\": [\"-0.0223245602\", \"0.0232819542\", \"0.00688987691\", \"-0.021409288\", \"-0.0184578672\", \"-0.0137505559\", \"0.0152721712\", \"0.0273628552\", \"-0.0240694229\", \"0.032386411\", \"0.0266102459\", \"0.0119897062\", \"0.00693917\", \"0.0767890438\", \"-0.0250123478\", \"0.0271164253\", \"-0.0205452852\", \"0.00176174555\", \"0.0171731375\", \"-0.0111559136\", \"0.0890811831\", \"-0.0107190311\", \"0.0610619746\", \"-0.0158565026\", \"0.0244229734\", \"0.00679194648\", \"-0.00261489279\", \"0.00311765913\", \"-0.00110890274\", \"-0.00459006242\", \"0.0280117616\", \"0.00122810958\", \"-0.008217155\", \"-0.0185800344\", \"-0.00905888\", \"0.0279479623\", \"-0.00849335082\", \"-0.0818457156\", \"0.00142229709\", \"-0.00326263183\", \"-0.00799220428\", \"0.00765673257\", \"0.0323528796\", \"-0.00125577475\", \"-0.054653734\", \"0.00492842449\", \"-0.00606235\", \"0.0078360606\", \"-0.0324626453\", \"-0.00863451604\", \"-0.021725798\", \"-0.00940084364\", \"0.00552443042\", \"-0.0470541418\", \"0.0421918593\", \"-0.0137423947\", \"0.0129334722\", \"0.0117158694\", \"-0.0145164309\", \"-0.0403082334\", \"-0.0521131717\", \"-0.0259179417\", \"0.0015347515\", \"-0.0411321484\", \"0.0153450761\", \"-0.0104299141\", \"-0.00797325559\", \"-0.0129759954\", \"-0.00492672715\", \"0.0184833705\", \"0.0318576582\", \"0.0314329714\", \"0.00207200367\", \"-0.0229897\", \"0.00171121745\", \"0.00703499\", \"-0.016575316\", \"0.0166083705\", \"0.0134468582\", \"0.0484753475\", \"-0.0161971133\", \"-0.0352723561\", \"-0.00812881812\", \"0.00250688381\", \"-0.00216126745\", \"0.00538491085\", \"0.0497115441\", \"-0.0272366442\", \"-0.0132367117\", \"-0.044593256\", \"0.0206729881\", \"-0.00234831381\", \"0.00440624263\", \"-0.169332415\", \"0.0108388681\", \"-0.00172773807\", \"0.00926034525\", \"0.0202583652\", \"-0.0149717545\", \"0.02572117\", \"-0.00664264\", \"-0.00442388048\", \"0.00421553571\", \"-0.0300686173\", \"0.00608405937\", \"0.0044602952\", \"0.00457403809\", \"-0.0223237444\", \"-0.00612972\", \"0.0055755768\", \"-0.0413609669\", \"0.028183192\", \"-0.0108915558\", \"0.00983374473\", \"0.00203987\", \"-0.0516127273\", \"-0.0599163659\", \"-0.0132953087\", \"-0.0444927849\", \"0.00340910861\", \"-0.0132549237\", \"0.00193480519\", \"0.00386791397\", \"-0.0167285204\", \"-0.00926063303\", \"-0.0702948645\", \"0.00809612777\", \"-0.015443285\", \"0.00925029\", \"-0.0166909229\", \"-0.0129557336\", \"0.043136619\", \"0.0287696626\", \"0.0211210139\", \"-0.00383838406\", \"-0.0318886153\", \"0.0364502072\", \"-0.016131049\", \"0.0336246118\", \"-0.0356738493\", \"0.0131826364\", \"-0.0221610442\", \"0.0025621939\", \"0.0214745067\", \"0.0274367221\", \"-0.0144845163\", \"0.0114517175\", \"-0.0518723913\", \"-0.0213607326\", \"-0.018399626\", \"0.0118454117\", \"-0.000174203815\", \"0.0303612873\", \"0.0299844015\", \"-0.015613501\", \"-0.00660740817\", \"-0.0038286692\", \"-0.0174094308\", \"-0.000537427259\", \"0.048225496\", \"-0.0275621843\", \"-0.00334364199\", \"-0.00756859872\", \"0.0317396782\", \"-0.0225491896\", \"0.0175564624\", \"0.0202986244\", \"0.00667075161\", \"0.0276884343\", \"0.0054511968\", \"-0.0170438401\", \"0.0121851861\", \"-0.0278735664\", \"0.0227632616\", \"-0.0132401278\", \"-0.0334871858\", \"-0.012618647\", \"0.00698849605\", \"-0.0451217182\", \"-0.0430583134\", \"-0.0108778561\", \"0.0264703445\", \"-0.00992720667\", \"-0.00109281705\", \"0.0255013164\", \"0.00079856941\", \"-0.00166773621\", \"-0.0121786622\", \"-0.00559213338\", \"0.0586276278\", \"-0.0264080856\", \"-0.0281892419\", \"-0.00694639\", \"-0.0254100151\", \"-0.0599900298\", \"0.00585866626\", \"0.0278119799\", \"-0.0340566486\", \"0.0170776173\", \"0.0106942635\", \"-0.00593482051\", \"-0.0251506101\", \"-0.0238376856\", \"-0.0389959291\", \"-0.00205829181\", \"0.0103440573\", \"-0.0187647175\", \"0.00286867237\", \"0.0373752043\", \"-0.0203641783\", \"-0.00468981219\", \"-0.0320640951\", \"0.00731016882\", \"0.0234355107\", \"0.0353929028\", \"-0.0195472986\", \"-0.0187950358\", \"-0.0401844382\", \"-0.037981268\", \"-0.0242105387\", \"-0.0143496972\", \"0.0104476977\", \"0.0312348716\", \"0.0132951811\", \"0.0489511453\", \"-0.0273521896\", \"0.00116546475\", \"-0.0438661687\", \"-0.0432353318\", \"0.00523334229\", \"-0.0105194338\", \"-0.068429\", \"0.0059437165\", \"0.000808726298\", \"0.0143853333\", \"0.000399658864\", \"-0.0348893628\", \"0.0120609188\", \"-0.0382551253\", \"-0.0262480564\", \"-0.0238524675\", \"0.00676798914\", \"-0.00548639195\", \"-0.031395819\", \"-0.00664498936\", \"-0.00553022372\", \"-0.00998358149\", \"-0.00367940078\", \"-0.0177857913\", \"-0.0176955219\", \"0.0310835037\", \"-0.0200177841\", \"0.00420342153\", \"0.0170081574\", \"-0.013776294\", \"-0.0287094377\", \"-0.0311262626\", \"0.0121842148\", \"-0.00070065\", \"-0.0129019562\", \"0.0121515226\", \"-0.00734028686\", \"-0.0468920209\", \"0.035194\", \"0.0268262923\", \"0.0223244429\", \"0.0268933643\", \"0.0108056134\", \"0.0154165393\", \"-0.00434832741\", \"0.0455287546\", \"0.0176762231\", \"0.00454115449\", \"0.0042520985\", \"0.0126244184\", \"0.0128643177\", \"0.017346736\", \"0.0545209236\", \"0.00694378512\", \"0.0527917743\", \"-0.030315619\", \"-0.0217537265\", \"-0.0286696441\", \"0.0126848081\", \"0.0246992838\", \"-0.00783260819\", \"-0.15609397\", \"-0.00187829789\", \"-0.0224403795\", \"-0.00817902759\", \"-0.00680908421\", \"0.0160758775\", \"0.0112756779\", \"-0.0164021086\", \"0.0241150539\", \"0.0436698161\", \"0.000303054374\", \"-0.0186710414\", \"0.0128672039\", \"0.0236035474\", \"-0.0152253592\", \"-0.0281768944\", \"-0.0308009908\", \"-0.00744793518\", \"-0.0321770646\", \"-0.0156728271\", \"-0.0263553485\", \"-0.0437517576\", \"0.00486755185\", \"0.0134354793\", \"-0.0225912761\", \"0.0157082919\", \"0.00578215532\", \"-0.00197999761\", \"0.000908271642\", \"-0.00769703\", \"0.0492819361\", \"-0.019351922\", \"0.0182376765\", \"-0.0309884772\", \"-0.0140402401\", \"-0.0463731326\", \"0.0085169049\", \"0.0167110469\", \"0.0164044611\", \"-0.0241046194\", \"-0.036215961\", \"-0.0248495396\", \"-0.0106466245\", \"0.0157730188\", \"-0.00693633733\", \"0.00111686636\", \"0.0082591651\", \"-0.0417787023\", \"0.0331884325\", \"0.0539421327\", \"-0.0150942253\", \"0.0271420758\", \"0.00518474635\", \"0.0093402816\", \"0.0179483201\", \"-0.0151129132\", \"-0.0165665094\", \"0.0138504012\", \"-0.0297453012\", \"0.0317904465\", \"-0.0175257884\", \"0.0049706311\", \"-0.00353729096\", \"0.00630023796\", \"-0.0107049383\", \"0.0379467607\", \"0.000576775521\", \"-0.0176026896\", \"0.0103400676\", \"0.0123231038\", \"0.0259573422\", \"-0.00984005444\", \"0.0226759594\", \"0.0483873822\", \"-0.00324985688\", \"-0.032091476\", \"0.0372223444\", \"0.0061313943\", \"-0.0167557094\", \"-0.00578845479\", \"0.0243138056\", \"-0.00158331706\", \"-0.0336394794\", \"-0.0037647537\", \"-0.0173361916\", \"-0.0556697957\", \"0.044650387\", \"0.00488084927\", \"-0.00733092567\", \"-0.0171073079\", \"-0.0107122017\", \"0.022599889\", \"-0.0118014831\", \"-0.00810278859\", \"0.0151217058\", \"-0.00178770116\", \"0.0171844028\", \"-0.0241935775\", \"0.00671885302\", \"-0.00734289829\", \"0.00442053704\", \"-0.0182998218\", \"-0.000601687701\", \"-0.0428586565\", \"-0.0110088214\", \"-0.00601815293\", \"0.0256545544\", \"-0.00646789884\", \"-0.0585316271\", \"-0.00620512571\", \"-0.0221098252\", \"-0.0133154104\", \"0.0272552166\", \"0.0224233\", \"0.019540593\", \"0.00126487482\", \"0.0111785522\", \"-0.00703299465\", \"-0.0216885433\", \"0.00324564404\", \"0.0304633602\", \"-0.0463122241\", \"-0.0289131012\", \"0.00484958058\", \"-0.0230156649\", \"0.0371948369\", \"-0.0346842855\", \"-0.0126832211\", \"0.0147484783\", \"-0.00735309673\", \"-0.00740451692\", \"-0.00426829\", \"0.00917955302\", \"0.0220461581\", \"0.00274138688\", \"-0.0122154243\", \"-0.0316192508\", \"0.00052049791\", \"0.014202443\", \"-0.0337196738\", \"0.0132241286\", \"-0.0300059505\", \"-0.0381787047\", \"-0.0238122288\", \"-0.00236696773\", \"-0.0104564913\", \"-0.0418077372\", \"-0.0391191319\", \"0.0047010514\", \"-0.0405617394\", \"-0.00471286383\", \"-0.0270822104\", \"-0.0404379293\", \"-0.0184310973\", \"0.00812181551\", \"-0.0230450723\", \"-0.0156411584\", \"0.0381846651\", \"-0.00320384698\", \"-0.0555385351\", \"-0.029554924\", \"-0.00367439864\", \"0.0325652882\", \"0.0506335311\", \"-0.00445199478\", \"-0.00881338306\", \"0.0233094525\", \"-0.0333413333\", \"-0.0273761023\", \"-0.00109599938\", \"0.0023081\", \"-0.00383690884\", \"0.00885921717\", \"-0.0162342191\", \"-0.00555768516\", \"0.00471455604\", \"-0.0364906788\", \"-0.0281604975\", \"0.00397832086\", \"-0.0121033648\", \"-0.0213754885\", \"-0.0482388\", \"0.00947747\", \"-0.0524915941\", \"0.0162842218\", \"-0.00776393339\", \"-0.0100797703\", \"-0.0345194675\", \"-0.00811080355\", \"-0.01777949\", \"0.0327058174\", \"0.0145504707\", \"-0.0354162492\", \"0.015547798\", \"-0.0128171118\", \"-0.00861639809\", \"-0.0315496773\", \"0.00689616799\", \"-0.0437505916\", \"-0.0563251749\", \"0.0206517745\", \"0.016889235\", \"0.0102047808\", \"0.0118082976\", \"0.0198341906\", \"0.0209446\", \"0.0020767781\", \"-0.028569242\", \"-0.015521599\", \"-0.0592223443\", \"0.00556876836\", \"0.00585980387\", \"-0.0109787285\", \"-0.0335757844\", \"0.0123316301\", \"-0.00803304836\", \"-0.0114640985\", \"-0.0365364552\", \"0.00272686291\", \"-0.0153577393\", \"-0.0290795825\", \"0.0565860085\", \"-0.00104918424\", \"-0.0101521965\", \"-0.0361077227\", \"0.00149727857\", \"0.0363016687\", \"-0.01303731\", \"-0.0169323273\", \"-0.00573644508\", \"0.0239622016\", \"-0.0117162876\", \"0.00966503099\", \"0.0199940018\", \"-0.0198023934\", \"0.0251974966\", \"0.0293057971\", \"-0.0463175625\", \"0.000745463127\", \"-0.010236823\", \"0.00402936386\", \"-0.00815041922\", \"-0.00189932238\", \"0.0435475931\", \"-0.00589034148\", \"-0.0021133991\", \"0.0259028282\", \"-0.0250028782\", \"-0.00684497086\", \"-0.0320779644\", \"-0.000313345517\", \"0.0108794048\", \"-0.0471964106\", \"0.000509729318\", \"0.0262593441\", \"-0.0069189989\", \"-0.0063794055\", \"0.0189060364\", \"-0.0352551527\", \"0.0204582475\", \"-0.0283338185\", \"-0.0240087304\", \"0.0208329801\", \"-0.00877449755\", \"-0.020093115\", \"-0.0177797806\", \"-0.00826903526\", \"0.00439196359\", \"-0.000732328917\", \"-0.0211893842\", \"0.0148366652\", \"0.0157479607\", \"-0.0141344555\", \"-0.0247815531\", \"0.022424899\", \"-0.0143358838\", \"0.0331009701\", \"0.0140662706\", \"0.00995283\", \"-0.00747533562\", \"-0.0184529498\", \"-0.00837090798\", \"0.000617956859\", \"0.00558501296\", \"-0.0145553416\", \"-0.00351027655\", \"-0.00256960769\", \"0.00578039838\", \"-0.00401012041\", \"-0.00767197646\", \"-0.00305354805\", \"0.00374001497\", \"-0.0296553224\", \"-0.00361819286\", \"-0.00883881748\", \"0.00748241553\", \"0.00025283685\", \"-0.00456738612\", \"-0.0201564357\", \"-0.02527388\", \"0.00168395741\", \"-0.0298099499\", \"-0.0146941599\", \"0.0128702447\", \"0.0056000757\", \"0.0444889814\", \"0.0261645354\", \"0.0111428117\", \"-0.0199313015\", \"0.00785758253\", \"-0.0128744636\", \"0.0244790502\", \"-0.0107205817\", \"-0.0464261584\", \"-0.0104884906\", \"-0.0178258847\", \"-0.0137610389\", \"-0.0102376398\", \"-0.014306563\", \"0.024429502\", \"-0.0025509065\", \"-0.0185060054\", \"-0.0142253572\", \"0.031007817\", \"0.0142763676\", \"0.0376188718\", \"-0.0297527462\", \"0.00542457448\", \"-0.0184452124\", \"-0.0503362454\", \"0.0166961867\", \"0.00104967202\", \"0.00256415014\", \"-0.0211080238\", \"-0.0257873815\", \"-0.00638545491\", \"0.00502035255\", \"0.0348393284\", \"-0.00794812944\", \"-0.00528849242\", \"0.00518410234\", \"-0.0200095773\", \"0.0520383753\", \"-0.0226149894\", \"-0.0168220103\", \"-0.0248132627\", \"-0.0291448478\", \"-0.0144451493\", \"0.015221281\", \"-0.00120815262\", \"0.00298510492\", \"0.0188046191\", \"-0.0332289152\", \"-0.00316864741\", \"0.0106362561\", \"0.0474931225\", \"-0.00897527486\", \"0.0131240077\", \"-0.00329333404\", \"-0.00921151601\", \"0.0190817472\", \"-0.031389229\", \"0.0171922818\", \"0.0409393609\", \"0.0165307093\", \"-0.0337302871\", \"-0.0326905735\", \"-0.0038718807\", \"-0.000295665785\", \"0.0238423422\", \"-0.0307566933\", \"-0.0472232774\", \"0.00329468725\", \"0.0313528925\", \"-0.165930897\", \"0.00272210455\", \"0.0179128647\", \"0.0212088339\", \"-0.0445129089\", \"-0.00850824\", \"-0.0108412849\", \"-0.0241799206\", \"-0.0390595421\", \"0.00016576401\", \"0.0229785219\", \"0.029210493\", \"-0.221984133\", \"-0.0183028914\", \"0.0299624205\", \"-0.0322531424\", \"-0.0164552797\", \"0.0299277194\", \"0.00579228112\", \"-0.0222330354\", \"-0.00882987864\", \"-0.0166461207\", \"-0.0380179398\", \"-0.0118853617\", \"0.0321377963\", \"0.0150707169\", \"0.02771038\", \"0.0176124256\", \"-0.0379537456\", \"-0.0315297693\", \"-0.00213087769\", \"0.0240921527\", \"-0.00207286258\", \"0.0502247289\", \"-0.00236255908\", \"0.0199437588\", \"0.0112709133\", \"0.0116292462\", \"0.0409995876\", \"0.0094849579\", \"-1.092822e-05\", \"0.00811543316\", \"0.0159990117\", \"-0.045559559\", \"0.040046256\", \"0.019101778\", \"0.00843198597\", \"-0.0144666815\", \"-0.00122895488\", \"-0.0812655389\", \"-0.00740712369\", \"-0.00081695267\", \"-0.00181593653\", \"-0.00855687447\", \"0.0216500256\", \"-5.63396e-05\", \"-0.0278841835\", \"0.0235029329\", \"0.0161883067\", \"0.00025660079\", \"-0.0197395403\", \"0.0323143676\", \"-0.0526893735\", \"-0.0131820142\", \"0.00761745917\", \"0.0112147024\", \"0.0483774059\", \"0.0105195064\", \"-0.00428197347\", \"0.0477470681\", \"-0.0159522537\", \"0.0287634861\", \"-0.0155024072\", \"0.0192671306\", \"0.011575263\", \"0.00580672035\", \"0.000999366166\", \"-0.021289153\", \"-0.0152918892\", \"0.0294859745\", \"-0.0440019518\", \"0.0198179241\", \"0.00934174843\", \"0.00730006024\", \"-0.0199628435\", \"-0.0177338496\", \"-0.0276456\", \"-0.0104888771\", \"-0.1730396\", \"-0.00947154313\", \"0.0239297356\", \"0.01376021\", \"-0.0234469529\", \"-0.0385712497\", \"0.0404637083\", \"-0.0321949981\", \"-0.0504661426\", \"0.0249168314\", \"-0.0151207168\", \"0.0109086474\", \"0.00108854647\", \"0.0179657191\", \"-0.0079525141\", \"0.0246658418\", \"0.0010988\", \"-0.0214762986\", \"-0.00660270313\", \"0.0200671107\", \"0.0107247727\", \"0.0110986969\", \"0.020623792\", \"0.0228816085\", \"0.0132399611\", \"0.00780869927\", \"0.0481113978\", \"-0.00154540711\", \"-0.0123144249\", \"-0.0429465882\", \"-0.0408887714\", \"-0.0186296944\", \"0.0111462809\", \"-0.0196102969\", \"0.0210964698\", \"-0.00699507352\", \"-0.0302615482\", \"-0.000703610189\", \"-0.0114175333\", \"0.00516266\", \"-0.00183513435\", \"0.0221608821\", \"0.00362344971\", \"-0.0188825522\", \"0.0139930882\", \"-0.00612394558\", \"0.0129505098\", \"-0.0221384503\", \"0.00368112628\", \"0.0255576186\", \"0.0372274257\", \"-0.0323150493\", \"0.050452251\", \"-0.0237451848\", \"0.0284761321\", \"0.0424155332\", \"0.0267928038\", \"-0.0401550531\", \"0.012882228\", \"-0.0031116656\", \"-0.01603196\", \"0.0333834216\", \"-0.0124317817\", \"0.0046943631\", \"0.00419635605\", \"0.00657990435\", \"-0.0527944192\", \"0.0322589464\", \"0.0431816615\", \"-0.021159295\", \"-0.0113264984\", \"0.014138855\", \"0.0233118124\", \"0.0505546741\", \"0.0709418654\", \"-0.00219106232\", \"0.017902948\", \"-0.0220315419\", \"-0.0203781612\", \"-0.0220122077\", \"0.00617418624\", \"-0.0227119438\", \"-0.0273848847\", \"-0.0261247791\", \"-0.00303973397\", \"0.037179295\", \"0.0505459\", \"0.000679239805\", \"-0.0250759963\", \"0.0204423349\", \"0.0113546588\", \"-0.00286366302\", \"0.0138019063\", \"0.00548912771\", \"0.0149997789\", \"0.0284435786\", \"-0.00513272639\", \"0.0355635099\", \"0.00270943856\", \"0.0220339671\", \"0.0050073117\", \"0.0232597571\", \"-0.00909396447\", \"-0.0206950381\", \"-0.041160468\", \"0.000949195\", \"0.0191078521\", \"0.0104837408\", \"0.00887245\", \"-0.0205817893\", \"-0.0264199693\", \"-0.00536219031\", \"-0.0367600098\", \"-0.0098492289\", \"-0.0228425507\", \"-0.00993867\", \"0.0273676813\", \"-0.0191999562\", \"-0.0212882571\", \"0.0308203269\", \"0.0132314861\", \"0.0105257444\", \"-0.0071556964\", \"-0.00413776096\", \"-0.0115092322\", \"0.0019582971\", \"0.0307719186\", \"0.0112652741\", \"0.00905456953\", \"-0.0291132666\", \"0.000332563883\", \"0.0211370792\", \"0.012695509\", \"0.00167991559\", \"-0.0185147598\", \"0.0405629948\", \"0.0217562132\", \"0.00928382296\", \"-0.000506011478\", \"0.0145820994\", \"0.0139086051\", \"-0.00931081921\", \"0.0538879596\", \"-0.0363955125\", \"0.0274683889\", \"-0.0144293299\", \"-0.0419466048\", \"-0.005954911\", \"0.020582309\", \"0.035161905\", \"-0.0145569565\", \"-0.00685742777\", \"-0.0209596511\", \"0.0405644104\", \"0.000213294159\", \"-0.0111085391\", \"0.0269259121\", \"-0.0335838757\", \"0.0263996292\", \"0.0395880081\", \"-0.0162686426\", \"0.00373106\", \"0.0274670962\", \"0.131051317\", \"-0.0371908881\", \"-0.0233853906\", \"0.0219704434\", \"-0.0102183856\", \"0.0131385541\", \"0.0122272801\", \"-0.00909835286\", \"-0.0165653788\", \"0.0275522862\", \"-0.00166930619\", \"-0.00976927765\", \"0.00640374236\", \"0.0362556688\", \"0.0439186\", \"-0.0367106386\", \"-0.007346333\", \"-0.00628185738\", \"0.0217153598\", \"0.000629941525\", \"-0.0190975424\", \"0.0363483429\", \"0.0530549809\", \"-0.00463469466\", \"-0.0259828325\", \"-0.0235321838\", \"-0.00691698212\", \"-0.0238585696\", \"0.000426555984\", \"-0.0354227275\", \"0.00422845408\", \"-0.00831691921\", \"-0.0626290739\", \"-0.00184828788\", \"0.0114782797\", \"-0.0141456183\", \"0.00451659365\", \"-0.0247027334\", \"0.0370517038\", \"-0.0352007933\", \"-0.0181490127\", \"-0.0102652432\", \"-0.0237119962\", \"-0.00966089591\", \"-0.0317957401\", \"-0.0317102559\", \"0.0333662108\", \"0.011940795\", \"-0.00257884781\", \"0.0638963953\", \"-0.013846525\", \"0.00921814516\", \"0.0400991477\", \"0.00637982\", \"-0.030032007\", \"-0.0194803737\", \"0.01033857\", \"-0.0161269456\", \"0.021115711\", \"0.0281914677\", \"-0.0061264867\", \"0.0317065157\", \"-0.0251077507\", \"-0.00317099621\", \"0.00236790511\", \"0.000797002052\", \"-0.00515820319\", \"-0.0360942148\", \"0.0164661463\", \"0.00841906667\", \"-0.00495416438\", \"0.000862479385\", \"-0.00919891708\", \"-0.0199500136\", \"0.0227315743\", \"0.0103507191\", \"-0.009110732\", \"-0.0179539863\", \"-0.0603120103\", \"-0.0296999961\", \"-0.0267341603\", \"0.000118114032\", \"-0.0105591519\", \"-0.0117811915\", \"-0.00602881797\", \"0.024515124\", \"0.0059796907\", \"-0.0696909502\", \"-0.000804642797\", \"0.0266173873\", \"0.0352110453\", \"0.00938842166\", \"-0.0120912073\", \"0.000492616557\", \"-0.0202999469\", \"-0.00423250441\", \"0.0323274247\", \"-0.0178342648\", \"-0.0332392\", \"0.00945244171\", \"-0.0182730611\", \"0.0269836318\", \"-0.0246534869\", \"-0.0267923903\", \"-0.0188987087\", \"-0.0205636658\", \"0.0676213875\", \"0.0162886698\", \"0.0163292252\", \"0.0521186404\", \"-0.0100681679\", \"-0.00907543395\", \"-0.0166880246\", \"0.0294928141\", \"-0.00344441389\", \"0.0529557578\", \"-0.0106841801\", \"-0.00782197528\", \"-0.00385249127\", \"0.0160291065\", \"0.00894434191\", \"-0.0149691971\", \"0.00690153427\", \"0.00870297849\", \"0.0235237926\", \"-3.64574698e-05\", \"0.0187085532\", \"0.0290192235\", \"-0.0131833544\", \"0.0281645\", \"0.0443716533\", \"-0.00428329594\", \"-0.00932494458\", \"0.0100366613\", \"0.0162927471\", \"-0.0447156094\", \"-0.0179490149\", \"-0.0107668899\", \"-0.0159940179\", \"0.0063939332\", \"-0.00639660656\", \"-0.0197190158\", \"-0.00394418929\", \"0.00272131059\", \"-0.054405611\", \"-0.0294827037\", \"-0.00461176923\", \"-0.0190852713\", \"-0.0150168631\", \"-0.0317779742\", \"0.0154091036\", \"0.0318160094\", \"0.00791467447\", \"-0.020987872\", \"0.00996852387\", \"-0.0126423137\", \"-0.0192882121\", \"-0.0132205067\", \"0.00422938447\", \"-0.0400413163\", \"0.019301923\", \"0.00383940875\", \"-0.00846023485\", \"-0.0188466348\", \"0.00855752453\", \"-0.00203072699\", \"0.0104520172\", \"0.00889525283\", \"0.0192068182\", \"0.0269340072\", \"-0.0118785081\", \"-0.00691170106\", \"-0.044650849\", \"0.0343293659\", \"-0.0351026691\", \"0.013772646\", \"-0.0122179398\", \"-0.0277642477\", \"0.0145811522\", \"-0.0137859518\", \"0.00649258215\", \"0.021920085\", \"0.0186609421\", \"-0.00923815183\", \"0.00821778178\", \"-0.0566000789\", \"-0.0417586565\", \"-0.00309141958\", \"-0.0058347485\", \"-0.0162470639\", \"-0.0295275394\", \"0.0387475528\", \"0.0253770575\", \"0.0377820358\", \"-0.00378060481\", \"-0.0102550536\", \"0.00828510057\", \"-0.0107720848\", \"0.0197400935\", \"-0.0181602668\", \"0.0423909724\", \"0.00217576\", \"0.0168305859\", \"0.00584661495\", \"-0.0308701154\", \"9.02367756e-05\", \"-0.00152728183\", \"-0.0137782106\", \"0.0203760397\", \"0.0219620299\", \"0.00730944239\", \"0.0131621324\", \"0.00428449735\", \"0.00054764573\", \"-0.0144570703\", \"0.00123796356\", \"-0.0233897362\", \"0.0131173404\", \"0.0310544837\", \"-0.0367109\", \"-0.0441447\", \"0.0162926875\", \"0.0186810922\", \"0.0432014689\", \"-0.0172760244\", \"0.0188604686\", \"-0.0356783792\", \"-0.0213576853\", \"-0.0148095908\", \"0.00646951888\", \"-0.0130246533\", \"0.00933728088\", \"0.0105596958\", \"-0.0136273373\", \"-0.000206624507\", \"-0.000450496591\", \"-0.020563297\", \"-0.00498022418\", \"0.00798204169\", \"0.0109904148\", \"0.00706269639\", \"0.0102645466\", \"0.0345209092\", \"0.013719216\", \"0.0169155933\", \"0.0393622108\", \"-0.0151318377\", \"-0.000341289677\", \"-0.00321843429\", \"-0.0183499698\", \"-0.0102759656\", \"-0.00749603426\", \"-0.098339431\", \"-0.0244375207\", \"-0.0129044876\", \"0.0221516415\", \"0.0250416826\", \"-0.00221840455\", \"-0.0281508062\", \"-0.0234536324\", \"0.00190429192\", \"0.00836287625\", \"-0.0257362742\", \"-0.0116029549\", \"-0.00838918053\", \"-0.0146641377\", \"0.0201920159\", \"-0.00391913112\", \"-7.6549768e-05\", \"-0.0247677919\", \"0.0214441158\", \"-0.0255799405\", \"0.00877233688\", \"0.0116474377\", \"0.0181117058\", \"0.0216050893\", \"-0.00264985347\", \"-0.0119956499\", \"-0.0377327129\", \"-0.00122321735\", \"-0.0109566692\", \"-0.0251561794\", \"-0.00772199966\", \"-0.0309296455\", \"-0.00653738109\", \"0.0260573681\", \"0.018037647\", \"-0.0437525921\", \"-0.0482606925\", \"0.00968335941\", \"0.0157319922\", \"-0.0013564683\", \"0.00520919217\", \"0.00106625597\", \"-0.0145261129\", \"0.000671801274\", \"-0.0236991104\", \"-0.00761350244\", \"-0.0543415137\", \"0.0339795128\", \"0.0662582591\", \"0.0139447125\", \"-0.0243730471\", \"0.0152580896\", \"0.0186104476\", \"0.0190265067\", \"0.016556887\", \"-0.0342258178\", \"-0.0187851265\", \"0.0174136944\", \"-0.0246485304\", \"-0.0259271786\", \"-0.0630116388\", \"0.0116632823\", \"-0.0239136126\", \"-0.00729116192\", \"0.0154674947\", \"0.013226822\", \"-0.000270167278\", \"0.00827451609\", \"0.0128046721\", \"0.00873270724\", \"-0.0151194772\", \"-0.0363284685\", \"0.0635321885\", \"-0.0430292152\", \"0.00205830019\", \"-0.0594028682\", \"-0.00603396026\", \"0.00310804159\", \"-0.0112679051\", \"0.0243502576\", \"0.00262171659\", \"0.0226450507\", \"0.0141054783\", \"-0.0287219901\", \"0.019414058\", \"-0.0116305836\", \"-0.0232479963\", \"-0.0155018233\", \"-0.0162991788\", \"0.0112681156\", \"0.0052022147\", \"-0.0253598634\", \"-0.000990880886\", \"0.0167359728\", \"-0.0221380144\", \"0.0195716433\", \"0.0208466835\", \"-0.0139392773\", \"-0.0264595747\", \"-0.0111967316\", \"0.0263533\", \"0.0399906673\", \"-0.0233852081\", \"-0.0166086964\", \"-0.042863559\", \"-0.00281323632\", \"-0.032805644\", \"-0.0173640102\", \"0.027618086\", \"-0.0342870541\", \"0.0215134583\", \"-0.0340892412\", \"-0.01061791\", \"0.0257866476\", \"-0.0735039487\", \"0.0135429576\", \"0.00705584604\", \"0.00892625\", \"-0.00493241427\", \"0.015345295\", \"-0.0122086024\", \"-0.0223335344\", \"0.0015535116\", \"0.0233176053\", \"0.0410424024\", \"0.0047410694\", \"-0.0253432244\", \"-0.0255953521\", \"0.0272263531\", \"0.0247541126\", \"0.0298861731\", \"-0.00902041234\", \"-0.0269675255\", \"-0.0194252227\", \"-0.00368980831\", \"0.0455596559\", \"-0.0171745252\", \"-0.00689242361\", \"0.0357400961\", \"0.00423046201\", \"0.000573700469\", \"0.000649724563\", \"-0.0160199981\", \"0.0162871294\", \"0.00300410017\", \"-0.0321701504\", \"0.03511893\", \"0.0333583914\", \"0.0397306792\", \"0.038209904\", \"-0.0634987\", \"-0.0525362603\", \"0.0308652166\", \"0.0273357797\", \"-0.000588366413\", \"-0.00343855121\", \"-0.0258000568\", \"-0.0771828592\", \"0.0119743524\", \"0.0114017995\", \"0.0210564844\", \"-0.0210039392\", \"-0.096887067\", \"0.00389170647\", \"0.0133190975\", \"0.00558307394\", \"-0.0028243144\", \"0.0531371236\", \"-0.0178121068\", \"-0.00883692689\", \"0.0168214906\", \"0.0132923853\", \"-0.0189935192\", \"0.011754225\", \"-0.0359001234\", \"-0.0464909934\", \"0.0035058707\", \"-0.0167517569\", \"-0.0205821395\", \"0.0254400037\", \"-0.0252486486\", \"-0.00948282704\", \"0.0270576756\", \"0.00982015952\", \"0.0294145141\", \"-0.0201928206\", \"0.00235876022\", \"-0.0293627679\", \"0.00225301832\", \"-0.0067484579\", \"-0.0217778385\", \"-0.00741958106\", \"-0.0013864839\", \"-0.0174881555\", \"0.023720393\", \"0.0392444693\", \"-0.0327264033\", \"0.00802287925\", \"-0.0223119855\", \"-0.00380457658\", \"-0.0154558672\", \"-0.00565223768\", \"0.00332134962\", \"-0.0138869323\", \"-0.0053751641\", \"0.0345201083\", \"0.0101178568\", \"0.0247575641\", \"-0.0132921711\", \"-0.0430434458\", \"0.0145188542\", \"-0.0468998663\", \"0.00126089994\", \"-0.036926575\", \"0.0198180936\", \"0.00673450902\", \"0.0288989395\", \"-0.0019792493\", \"-0.00894201081\", \"0.0411619\", \"-0.00806333125\", \"0.020087488\", \"-0.00191506802\", \"0.0120903691\", \"-0.0470115915\", \"-0.00784459244\", \"0.0470312722\", \"0.0103050135\", \"-0.000372686685\", \"-0.0169492681\", \"-0.0202338211\", \"-0.00787986\", \"0.00508731464\", \"0.0271095969\", \"0.0256206095\", \"0.01171243\", \"-0.0176954661\", \"0.0189337805\", \"-0.0126732904\", \"-0.0317822397\", \"0.0390879475\", \"0.0124564273\", \"0.00467641652\", \"-0.0368595384\", \"0.00287710852\"], \"restricts\": [{\"namespace\": \"class\", \"allow_list\": [\"even\"]}]}\\n']\n"
          ]
        },
        {
          "output_type": "stream",
          "name": "stderr",
          "text": [
            "\n"
          ]
        }
      ]
    },
    {
      "cell_type": "markdown",
      "source": [
        "Upload the training data to Cloud Storage"
      ],
      "metadata": {
        "id": "hTUtcxFIcI4k"
      }
    },
    {
      "cell_type": "code",
      "source": [
        "UNIQUE_FOLDER_NAME = \"embeddings_folder_unique\"\n",
        "EMBEDDINGS_INITIAL_URI = f\"{BUCKET_URI}/{UNIQUE_FOLDER_NAME}/\"\n",
        "! gsutil cp {embeddings_file.name} {EMBEDDINGS_INITIAL_URI}"
      ],
      "metadata": {
        "colab": {
          "base_uri": "https://localhost:8080/"
        },
        "id": "e2o2aqoAcIYd",
        "outputId": "b90205c4-5d69-44ea-fd1b-9e1f1e639470"
      },
      "execution_count": 49,
      "outputs": [
        {
          "output_type": "stream",
          "name": "stdout",
          "text": [
            "Copying file:///tmp/tmpi179zrvt.json [Content-Type=application/json]...\n",
            "/ [1 files][207.1 KiB/207.1 KiB]                                                \n",
            "Operation completed over 1 objects/207.1 KiB.                                    \n"
          ]
        }
      ]
    },
    {
      "cell_type": "markdown",
      "source": [
        "# **Create Vector Store**"
      ],
      "metadata": {
        "id": "jGm-FCnRhYUg"
      }
    },
    {
      "cell_type": "code",
      "source": [
        "DIMENSIONS = 100\n",
        "DISPLAY_NAME = \"multimodal_images\"\n",
        "DESCRIPTION = \"Multimodal Images Embeddings\""
      ],
      "metadata": {
        "id": "1czCtvpOha7d"
      },
      "execution_count": 54,
      "outputs": []
    },
    {
      "cell_type": "code",
      "source": [
        "aiplatform.init(project=PROJECT_ID, location=REGION, staging_bucket=BUCKET_URI)"
      ],
      "metadata": {
        "id": "x7i6dCI-hzQm"
      },
      "execution_count": 55,
      "outputs": []
    },
    {
      "cell_type": "markdown",
      "source": [
        "Create the index configuration"
      ],
      "metadata": {
        "id": "LKRsgfoCh3ht"
      }
    },
    {
      "cell_type": "code",
      "source": [
        "tree_ah_index = aiplatform.MatchingEngineIndex.create_tree_ah_index(\n",
        "    display_name=DISPLAY_NAME,\n",
        "    contents_delta_uri=EMBEDDINGS_INITIAL_URI,\n",
        "    dimensions=DIMENSIONS,\n",
        "    approximate_neighbors_count=150,\n",
        "    distance_measure_type=\"COSINE_DISTANCE\",\n",
        "    # distance_measure_type=\"DOT_PRODUCT_DISTANCE\",\n",
        "    leaf_node_embedding_count=500,\n",
        "    leaf_nodes_to_search_percent=7,\n",
        "    description=\"Image Index\",\n",
        "    labels={\"label_name\": \"label_value\"},\n",
        ")"
      ],
      "metadata": {
        "id": "pbzpRCnZh7h2",
        "outputId": "c31196f2-257e-40d4-d62f-5c1e2e782ff5",
        "colab": {
          "base_uri": "https://localhost:8080/",
          "height": 686
        }
      },
      "execution_count": 58,
      "outputs": [
        {
          "output_type": "error",
          "ename": "FailedPrecondition",
          "evalue": "ignored",
          "traceback": [
            "\u001b[0;31m---------------------------------------------------------------------------\u001b[0m",
            "\u001b[0;31m_InactiveRpcError\u001b[0m                         Traceback (most recent call last)",
            "\u001b[0;32m/usr/local/lib/python3.10/dist-packages/google/api_core/grpc_helpers.py\u001b[0m in \u001b[0;36merror_remapped_callable\u001b[0;34m(*args, **kwargs)\u001b[0m\n\u001b[1;32m     71\u001b[0m         \u001b[0;32mtry\u001b[0m\u001b[0;34m:\u001b[0m\u001b[0;34m\u001b[0m\u001b[0;34m\u001b[0m\u001b[0m\n\u001b[0;32m---> 72\u001b[0;31m             \u001b[0;32mreturn\u001b[0m \u001b[0mcallable_\u001b[0m\u001b[0;34m(\u001b[0m\u001b[0;34m*\u001b[0m\u001b[0margs\u001b[0m\u001b[0;34m,\u001b[0m \u001b[0;34m**\u001b[0m\u001b[0mkwargs\u001b[0m\u001b[0;34m)\u001b[0m\u001b[0;34m\u001b[0m\u001b[0;34m\u001b[0m\u001b[0m\n\u001b[0m\u001b[1;32m     73\u001b[0m         \u001b[0;32mexcept\u001b[0m \u001b[0mgrpc\u001b[0m\u001b[0;34m.\u001b[0m\u001b[0mRpcError\u001b[0m \u001b[0;32mas\u001b[0m \u001b[0mexc\u001b[0m\u001b[0;34m:\u001b[0m\u001b[0;34m\u001b[0m\u001b[0;34m\u001b[0m\u001b[0m\n",
            "\u001b[0;32m/usr/local/lib/python3.10/dist-packages/grpc/_channel.py\u001b[0m in \u001b[0;36m__call__\u001b[0;34m(self, request, timeout, metadata, credentials, wait_for_ready, compression)\u001b[0m\n\u001b[1;32m   1160\u001b[0m         )\n\u001b[0;32m-> 1161\u001b[0;31m         \u001b[0;32mreturn\u001b[0m \u001b[0m_end_unary_response_blocking\u001b[0m\u001b[0;34m(\u001b[0m\u001b[0mstate\u001b[0m\u001b[0;34m,\u001b[0m \u001b[0mcall\u001b[0m\u001b[0;34m,\u001b[0m \u001b[0;32mFalse\u001b[0m\u001b[0;34m,\u001b[0m \u001b[0;32mNone\u001b[0m\u001b[0;34m)\u001b[0m\u001b[0;34m\u001b[0m\u001b[0;34m\u001b[0m\u001b[0m\n\u001b[0m\u001b[1;32m   1162\u001b[0m \u001b[0;34m\u001b[0m\u001b[0m\n",
            "\u001b[0;32m/usr/local/lib/python3.10/dist-packages/grpc/_channel.py\u001b[0m in \u001b[0;36m_end_unary_response_blocking\u001b[0;34m(state, call, with_call, deadline)\u001b[0m\n\u001b[1;32m   1003\u001b[0m     \u001b[0;32melse\u001b[0m\u001b[0;34m:\u001b[0m\u001b[0;34m\u001b[0m\u001b[0;34m\u001b[0m\u001b[0m\n\u001b[0;32m-> 1004\u001b[0;31m         \u001b[0;32mraise\u001b[0m \u001b[0m_InactiveRpcError\u001b[0m\u001b[0;34m(\u001b[0m\u001b[0mstate\u001b[0m\u001b[0;34m)\u001b[0m  \u001b[0;31m# pytype: disable=not-instantiable\u001b[0m\u001b[0;34m\u001b[0m\u001b[0;34m\u001b[0m\u001b[0m\n\u001b[0m\u001b[1;32m   1005\u001b[0m \u001b[0;34m\u001b[0m\u001b[0m\n",
            "\u001b[0;31m_InactiveRpcError\u001b[0m: <_InactiveRpcError of RPC that terminated with:\n\tstatus = StatusCode.FAILED_PRECONDITION\n\tdetails = \"The given root directory `gs://vector_store-genai-387907-unique/embeddings_folder_unique/` contains unexpected subdirectory (e.g. `incremental/tmp3y3yze6x.json`). No subdirectory is allowed except \"delete/\".\"\n\tdebug_error_string = \"UNKNOWN:Error received from peer ipv4:173.194.192.95:443 {created_time:\"2023-10-16T18:03:35.697805005+00:00\", grpc_status:9, grpc_message:\"The given root directory `gs://vector_store-genai-387907-unique/embeddings_folder_unique/` contains unexpected subdirectory (e.g. `incremental/tmp3y3yze6x.json`). No subdirectory is allowed except \\\"delete/\\\".\"}\"\n>",
            "\nThe above exception was the direct cause of the following exception:\n",
            "\u001b[0;31mFailedPrecondition\u001b[0m                        Traceback (most recent call last)",
            "\u001b[0;32m<ipython-input-58-9739dad07610>\u001b[0m in \u001b[0;36m<cell line: 1>\u001b[0;34m()\u001b[0m\n\u001b[0;32m----> 1\u001b[0;31m tree_ah_index = aiplatform.MatchingEngineIndex.create_tree_ah_index(\n\u001b[0m\u001b[1;32m      2\u001b[0m     \u001b[0mdisplay_name\u001b[0m\u001b[0;34m=\u001b[0m\u001b[0mDISPLAY_NAME\u001b[0m\u001b[0;34m,\u001b[0m\u001b[0;34m\u001b[0m\u001b[0;34m\u001b[0m\u001b[0m\n\u001b[1;32m      3\u001b[0m     \u001b[0mcontents_delta_uri\u001b[0m\u001b[0;34m=\u001b[0m\u001b[0mEMBEDDINGS_INITIAL_URI\u001b[0m\u001b[0;34m,\u001b[0m\u001b[0;34m\u001b[0m\u001b[0;34m\u001b[0m\u001b[0m\n\u001b[1;32m      4\u001b[0m     \u001b[0mdimensions\u001b[0m\u001b[0;34m=\u001b[0m\u001b[0mDIMENSIONS\u001b[0m\u001b[0;34m,\u001b[0m\u001b[0;34m\u001b[0m\u001b[0;34m\u001b[0m\u001b[0m\n\u001b[1;32m      5\u001b[0m     \u001b[0mapproximate_neighbors_count\u001b[0m\u001b[0;34m=\u001b[0m\u001b[0;36m150\u001b[0m\u001b[0;34m,\u001b[0m\u001b[0;34m\u001b[0m\u001b[0;34m\u001b[0m\u001b[0m\n",
            "\u001b[0;32m/usr/local/lib/python3.10/dist-packages/google/cloud/aiplatform/matching_engine/matching_engine_index.py\u001b[0m in \u001b[0;36mcreate_tree_ah_index\u001b[0;34m(cls, display_name, contents_delta_uri, dimensions, approximate_neighbors_count, leaf_node_embedding_count, leaf_nodes_to_search_percent, distance_measure_type, description, labels, project, location, credentials, request_metadata, sync)\u001b[0m\n\u001b[1;32m    484\u001b[0m         )\n\u001b[1;32m    485\u001b[0m \u001b[0;34m\u001b[0m\u001b[0m\n\u001b[0;32m--> 486\u001b[0;31m         return cls._create(\n\u001b[0m\u001b[1;32m    487\u001b[0m             \u001b[0mdisplay_name\u001b[0m\u001b[0;34m=\u001b[0m\u001b[0mdisplay_name\u001b[0m\u001b[0;34m,\u001b[0m\u001b[0;34m\u001b[0m\u001b[0;34m\u001b[0m\u001b[0m\n\u001b[1;32m    488\u001b[0m             \u001b[0mcontents_delta_uri\u001b[0m\u001b[0;34m=\u001b[0m\u001b[0mcontents_delta_uri\u001b[0m\u001b[0;34m,\u001b[0m\u001b[0;34m\u001b[0m\u001b[0;34m\u001b[0m\u001b[0m\n",
            "\u001b[0;32m/usr/local/lib/python3.10/dist-packages/google/cloud/aiplatform/base.py\u001b[0m in \u001b[0;36mwrapper\u001b[0;34m(*args, **kwargs)\u001b[0m\n\u001b[1;32m    815\u001b[0m                 \u001b[0;32mif\u001b[0m \u001b[0mself\u001b[0m\u001b[0;34m:\u001b[0m\u001b[0;34m\u001b[0m\u001b[0;34m\u001b[0m\u001b[0m\n\u001b[1;32m    816\u001b[0m                     \u001b[0mVertexAiResourceNounWithFutureManager\u001b[0m\u001b[0;34m.\u001b[0m\u001b[0mwait\u001b[0m\u001b[0;34m(\u001b[0m\u001b[0mself\u001b[0m\u001b[0;34m)\u001b[0m\u001b[0;34m\u001b[0m\u001b[0;34m\u001b[0m\u001b[0m\n\u001b[0;32m--> 817\u001b[0;31m                 \u001b[0;32mreturn\u001b[0m \u001b[0mmethod\u001b[0m\u001b[0;34m(\u001b[0m\u001b[0;34m*\u001b[0m\u001b[0margs\u001b[0m\u001b[0;34m,\u001b[0m \u001b[0;34m**\u001b[0m\u001b[0mkwargs\u001b[0m\u001b[0;34m)\u001b[0m\u001b[0;34m\u001b[0m\u001b[0;34m\u001b[0m\u001b[0m\n\u001b[0m\u001b[1;32m    818\u001b[0m \u001b[0;34m\u001b[0m\u001b[0m\n\u001b[1;32m    819\u001b[0m             \u001b[0;31m# callbacks to call within the Future (in same Thread)\u001b[0m\u001b[0;34m\u001b[0m\u001b[0;34m\u001b[0m\u001b[0m\n",
            "\u001b[0;32m/usr/local/lib/python3.10/dist-packages/google/cloud/aiplatform/matching_engine/matching_engine_index.py\u001b[0m in \u001b[0;36m_create\u001b[0;34m(cls, display_name, contents_delta_uri, config, description, labels, project, location, credentials, request_metadata, sync)\u001b[0m\n\u001b[1;32m    183\u001b[0m         \u001b[0mapi_client\u001b[0m \u001b[0;34m=\u001b[0m \u001b[0mcls\u001b[0m\u001b[0;34m.\u001b[0m\u001b[0m_instantiate_client\u001b[0m\u001b[0;34m(\u001b[0m\u001b[0mlocation\u001b[0m\u001b[0;34m=\u001b[0m\u001b[0mlocation\u001b[0m\u001b[0;34m,\u001b[0m \u001b[0mcredentials\u001b[0m\u001b[0;34m=\u001b[0m\u001b[0mcredentials\u001b[0m\u001b[0;34m)\u001b[0m\u001b[0;34m\u001b[0m\u001b[0;34m\u001b[0m\u001b[0m\n\u001b[1;32m    184\u001b[0m \u001b[0;34m\u001b[0m\u001b[0m\n\u001b[0;32m--> 185\u001b[0;31m         create_lro = api_client.create_index(\n\u001b[0m\u001b[1;32m    186\u001b[0m             parent=initializer.global_config.common_location_path(\n\u001b[1;32m    187\u001b[0m                 \u001b[0mproject\u001b[0m\u001b[0;34m=\u001b[0m\u001b[0mproject\u001b[0m\u001b[0;34m,\u001b[0m \u001b[0mlocation\u001b[0m\u001b[0;34m=\u001b[0m\u001b[0mlocation\u001b[0m\u001b[0;34m\u001b[0m\u001b[0;34m\u001b[0m\u001b[0m\n",
            "\u001b[0;32m/usr/local/lib/python3.10/dist-packages/google/cloud/aiplatform_v1/services/index_service/client.py\u001b[0m in \u001b[0;36mcreate_index\u001b[0;34m(self, request, parent, index, retry, timeout, metadata)\u001b[0m\n\u001b[1;32m    590\u001b[0m \u001b[0;34m\u001b[0m\u001b[0m\n\u001b[1;32m    591\u001b[0m         \u001b[0;31m# Send the request.\u001b[0m\u001b[0;34m\u001b[0m\u001b[0;34m\u001b[0m\u001b[0m\n\u001b[0;32m--> 592\u001b[0;31m         response = rpc(\n\u001b[0m\u001b[1;32m    593\u001b[0m             \u001b[0mrequest\u001b[0m\u001b[0;34m,\u001b[0m\u001b[0;34m\u001b[0m\u001b[0;34m\u001b[0m\u001b[0m\n\u001b[1;32m    594\u001b[0m             \u001b[0mretry\u001b[0m\u001b[0;34m=\u001b[0m\u001b[0mretry\u001b[0m\u001b[0;34m,\u001b[0m\u001b[0;34m\u001b[0m\u001b[0;34m\u001b[0m\u001b[0m\n",
            "\u001b[0;32m/usr/local/lib/python3.10/dist-packages/google/api_core/gapic_v1/method.py\u001b[0m in \u001b[0;36m__call__\u001b[0;34m(self, timeout, retry, *args, **kwargs)\u001b[0m\n\u001b[1;32m    111\u001b[0m             \u001b[0mkwargs\u001b[0m\u001b[0;34m[\u001b[0m\u001b[0;34m\"metadata\"\u001b[0m\u001b[0;34m]\u001b[0m \u001b[0;34m=\u001b[0m \u001b[0mmetadata\u001b[0m\u001b[0;34m\u001b[0m\u001b[0;34m\u001b[0m\u001b[0m\n\u001b[1;32m    112\u001b[0m \u001b[0;34m\u001b[0m\u001b[0m\n\u001b[0;32m--> 113\u001b[0;31m         \u001b[0;32mreturn\u001b[0m \u001b[0mwrapped_func\u001b[0m\u001b[0;34m(\u001b[0m\u001b[0;34m*\u001b[0m\u001b[0margs\u001b[0m\u001b[0;34m,\u001b[0m \u001b[0;34m**\u001b[0m\u001b[0mkwargs\u001b[0m\u001b[0;34m)\u001b[0m\u001b[0;34m\u001b[0m\u001b[0;34m\u001b[0m\u001b[0m\n\u001b[0m\u001b[1;32m    114\u001b[0m \u001b[0;34m\u001b[0m\u001b[0m\n\u001b[1;32m    115\u001b[0m \u001b[0;34m\u001b[0m\u001b[0m\n",
            "\u001b[0;32m/usr/local/lib/python3.10/dist-packages/google/api_core/grpc_helpers.py\u001b[0m in \u001b[0;36merror_remapped_callable\u001b[0;34m(*args, **kwargs)\u001b[0m\n\u001b[1;32m     72\u001b[0m             \u001b[0;32mreturn\u001b[0m \u001b[0mcallable_\u001b[0m\u001b[0;34m(\u001b[0m\u001b[0;34m*\u001b[0m\u001b[0margs\u001b[0m\u001b[0;34m,\u001b[0m \u001b[0;34m**\u001b[0m\u001b[0mkwargs\u001b[0m\u001b[0;34m)\u001b[0m\u001b[0;34m\u001b[0m\u001b[0;34m\u001b[0m\u001b[0m\n\u001b[1;32m     73\u001b[0m         \u001b[0;32mexcept\u001b[0m \u001b[0mgrpc\u001b[0m\u001b[0;34m.\u001b[0m\u001b[0mRpcError\u001b[0m \u001b[0;32mas\u001b[0m \u001b[0mexc\u001b[0m\u001b[0;34m:\u001b[0m\u001b[0;34m\u001b[0m\u001b[0;34m\u001b[0m\u001b[0m\n\u001b[0;32m---> 74\u001b[0;31m             \u001b[0;32mraise\u001b[0m \u001b[0mexceptions\u001b[0m\u001b[0;34m.\u001b[0m\u001b[0mfrom_grpc_error\u001b[0m\u001b[0;34m(\u001b[0m\u001b[0mexc\u001b[0m\u001b[0;34m)\u001b[0m \u001b[0;32mfrom\u001b[0m \u001b[0mexc\u001b[0m\u001b[0;34m\u001b[0m\u001b[0;34m\u001b[0m\u001b[0m\n\u001b[0m\u001b[1;32m     75\u001b[0m \u001b[0;34m\u001b[0m\u001b[0m\n\u001b[1;32m     76\u001b[0m     \u001b[0;32mreturn\u001b[0m \u001b[0merror_remapped_callable\u001b[0m\u001b[0;34m\u001b[0m\u001b[0;34m\u001b[0m\u001b[0m\n",
            "\u001b[0;31mFailedPrecondition\u001b[0m: 400 The given root directory `gs://vector_store-genai-387907-unique/embeddings_folder_unique/` contains unexpected subdirectory (e.g. `incremental/tmp3y3yze6x.json`). No subdirectory is allowed except \"delete/\"."
          ]
        }
      ]
    }
  ],
  "metadata": {
    "colab": {
      "name": "Welcome To Colaboratory",
      "provenance": [],
      "toc_visible": true,
      "include_colab_link": true
    },
    "kernelspec": {
      "display_name": "Python 3",
      "name": "python3"
    }
  },
  "nbformat": 4,
  "nbformat_minor": 0
}