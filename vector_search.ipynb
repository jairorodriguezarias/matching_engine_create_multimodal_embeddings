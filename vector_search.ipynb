{
  "cells": [
    {
      "cell_type": "markdown",
      "metadata": {
        "id": "view-in-github",
        "colab_type": "text"
      },
      "source": [
        "<a href=\"https://colab.research.google.com/github/jairorodriguezarias/matching_engine_create_multimodal_embeddings/blob/main/vector_search.ipynb\" target=\"_parent\"><img src=\"https://colab.research.google.com/assets/colab-badge.svg\" alt=\"Open In Colab\"/></a>"
      ]
    },
    {
      "cell_type": "markdown",
      "source": [
        "# Installation"
      ],
      "metadata": {
        "id": "upQmZ5OrTGV-"
      }
    },
    {
      "cell_type": "code",
      "source": [
        "\n",
        "\n",
        "# Install the packages\n",
        "! pip3 install --upgrade google-cloud-aiplatform \\\n",
        "                         google-cloud-storage\n",
        "\n",
        "! pip install google-cloud-vision\n"
      ],
      "metadata": {
        "colab": {
          "base_uri": "https://localhost:8080/",
          "height": 0
        },
        "id": "rAklwT9sS5yO",
        "outputId": "9e253c3d-af6d-40ba-da5a-3cbe30b2a05b"
      },
      "execution_count": 1,
      "outputs": [
        {
          "output_type": "stream",
          "name": "stdout",
          "text": [
            "Collecting google-cloud-aiplatform\n",
            "  Downloading google_cloud_aiplatform-1.35.0-py2.py3-none-any.whl (3.1 MB)\n",
            "\u001b[2K     \u001b[90m━━━━━━━━━━━━━━━━━━━━━━━━━━━━━━━━━━━━━━━━\u001b[0m \u001b[32m3.1/3.1 MB\u001b[0m \u001b[31m18.9 MB/s\u001b[0m eta \u001b[36m0:00:00\u001b[0m\n",
            "\u001b[?25hRequirement already satisfied: google-cloud-storage in /usr/local/lib/python3.10/dist-packages (2.8.0)\n",
            "Collecting google-cloud-storage\n",
            "  Downloading google_cloud_storage-2.12.0-py2.py3-none-any.whl (120 kB)\n",
            "\u001b[2K     \u001b[90m━━━━━━━━━━━━━━━━━━━━━━━━━━━━━━━━━━━━━━━━\u001b[0m \u001b[32m120.5/120.5 kB\u001b[0m \u001b[31m18.9 MB/s\u001b[0m eta \u001b[36m0:00:00\u001b[0m\n",
            "\u001b[?25hRequirement already satisfied: google-api-core[grpc]!=2.0.*,!=2.1.*,!=2.2.*,!=2.3.*,!=2.4.*,!=2.5.*,!=2.6.*,!=2.7.*,<3.0.0dev,>=1.32.0 in /usr/local/lib/python3.10/dist-packages (from google-cloud-aiplatform) (2.11.1)\n",
            "Requirement already satisfied: proto-plus<2.0.0dev,>=1.22.0 in /usr/local/lib/python3.10/dist-packages (from google-cloud-aiplatform) (1.22.3)\n",
            "Requirement already satisfied: protobuf!=3.20.0,!=3.20.1,!=4.21.0,!=4.21.1,!=4.21.2,!=4.21.3,!=4.21.4,!=4.21.5,<5.0.0dev,>=3.19.5 in /usr/local/lib/python3.10/dist-packages (from google-cloud-aiplatform) (3.20.3)\n",
            "Requirement already satisfied: packaging>=14.3 in /usr/local/lib/python3.10/dist-packages (from google-cloud-aiplatform) (23.2)\n",
            "Requirement already satisfied: google-cloud-bigquery<4.0.0dev,>=1.15.0 in /usr/local/lib/python3.10/dist-packages (from google-cloud-aiplatform) (3.10.0)\n",
            "Collecting google-cloud-resource-manager<3.0.0dev,>=1.3.3 (from google-cloud-aiplatform)\n",
            "  Downloading google_cloud_resource_manager-1.10.4-py2.py3-none-any.whl (320 kB)\n",
            "\u001b[2K     \u001b[90m━━━━━━━━━━━━━━━━━━━━━━━━━━━━━━━━━━━━━━━━\u001b[0m \u001b[32m321.0/321.0 kB\u001b[0m \u001b[31m27.2 MB/s\u001b[0m eta \u001b[36m0:00:00\u001b[0m\n",
            "\u001b[?25hRequirement already satisfied: shapely<3.0.0dev in /usr/local/lib/python3.10/dist-packages (from google-cloud-aiplatform) (2.0.1)\n",
            "Collecting google-auth<3.0dev,>=2.23.3 (from google-cloud-storage)\n",
            "  Downloading google_auth-2.23.3-py2.py3-none-any.whl (182 kB)\n",
            "\u001b[2K     \u001b[90m━━━━━━━━━━━━━━━━━━━━━━━━━━━━━━━━━━━━━━━━\u001b[0m \u001b[32m182.3/182.3 kB\u001b[0m \u001b[31m28.3 MB/s\u001b[0m eta \u001b[36m0:00:00\u001b[0m\n",
            "\u001b[?25hRequirement already satisfied: google-cloud-core<3.0dev,>=2.3.0 in /usr/local/lib/python3.10/dist-packages (from google-cloud-storage) (2.3.3)\n",
            "Requirement already satisfied: google-resumable-media>=2.6.0 in /usr/local/lib/python3.10/dist-packages (from google-cloud-storage) (2.6.0)\n",
            "Requirement already satisfied: requests<3.0.0dev,>=2.18.0 in /usr/local/lib/python3.10/dist-packages (from google-cloud-storage) (2.31.0)\n",
            "Requirement already satisfied: google-crc32c<2.0dev,>=1.0 in /usr/local/lib/python3.10/dist-packages (from google-cloud-storage) (1.5.0)\n",
            "Requirement already satisfied: googleapis-common-protos<2.0.dev0,>=1.56.2 in /usr/local/lib/python3.10/dist-packages (from google-api-core[grpc]!=2.0.*,!=2.1.*,!=2.2.*,!=2.3.*,!=2.4.*,!=2.5.*,!=2.6.*,!=2.7.*,<3.0.0dev,>=1.32.0->google-cloud-aiplatform) (1.60.0)\n",
            "Requirement already satisfied: grpcio<2.0dev,>=1.33.2 in /usr/local/lib/python3.10/dist-packages (from google-api-core[grpc]!=2.0.*,!=2.1.*,!=2.2.*,!=2.3.*,!=2.4.*,!=2.5.*,!=2.6.*,!=2.7.*,<3.0.0dev,>=1.32.0->google-cloud-aiplatform) (1.59.0)\n",
            "Requirement already satisfied: grpcio-status<2.0.dev0,>=1.33.2 in /usr/local/lib/python3.10/dist-packages (from google-api-core[grpc]!=2.0.*,!=2.1.*,!=2.2.*,!=2.3.*,!=2.4.*,!=2.5.*,!=2.6.*,!=2.7.*,<3.0.0dev,>=1.32.0->google-cloud-aiplatform) (1.48.2)\n",
            "Requirement already satisfied: cachetools<6.0,>=2.0.0 in /usr/local/lib/python3.10/dist-packages (from google-auth<3.0dev,>=2.23.3->google-cloud-storage) (5.3.1)\n",
            "Requirement already satisfied: pyasn1-modules>=0.2.1 in /usr/local/lib/python3.10/dist-packages (from google-auth<3.0dev,>=2.23.3->google-cloud-storage) (0.3.0)\n",
            "Requirement already satisfied: rsa<5,>=3.1.4 in /usr/local/lib/python3.10/dist-packages (from google-auth<3.0dev,>=2.23.3->google-cloud-storage) (4.9)\n",
            "Requirement already satisfied: python-dateutil<3.0dev,>=2.7.2 in /usr/local/lib/python3.10/dist-packages (from google-cloud-bigquery<4.0.0dev,>=1.15.0->google-cloud-aiplatform) (2.8.2)\n",
            "Requirement already satisfied: grpc-google-iam-v1<1.0.0dev,>=0.12.4 in /usr/local/lib/python3.10/dist-packages (from google-cloud-resource-manager<3.0.0dev,>=1.3.3->google-cloud-aiplatform) (0.12.6)\n",
            "Requirement already satisfied: charset-normalizer<4,>=2 in /usr/local/lib/python3.10/dist-packages (from requests<3.0.0dev,>=2.18.0->google-cloud-storage) (3.3.0)\n",
            "Requirement already satisfied: idna<4,>=2.5 in /usr/local/lib/python3.10/dist-packages (from requests<3.0.0dev,>=2.18.0->google-cloud-storage) (3.4)\n",
            "Requirement already satisfied: urllib3<3,>=1.21.1 in /usr/local/lib/python3.10/dist-packages (from requests<3.0.0dev,>=2.18.0->google-cloud-storage) (2.0.6)\n",
            "Requirement already satisfied: certifi>=2017.4.17 in /usr/local/lib/python3.10/dist-packages (from requests<3.0.0dev,>=2.18.0->google-cloud-storage) (2023.7.22)\n",
            "Requirement already satisfied: numpy>=1.14 in /usr/local/lib/python3.10/dist-packages (from shapely<3.0.0dev->google-cloud-aiplatform) (1.23.5)\n",
            "Requirement already satisfied: pyasn1<0.6.0,>=0.4.6 in /usr/local/lib/python3.10/dist-packages (from pyasn1-modules>=0.2.1->google-auth<3.0dev,>=2.23.3->google-cloud-storage) (0.5.0)\n",
            "Requirement already satisfied: six>=1.5 in /usr/local/lib/python3.10/dist-packages (from python-dateutil<3.0dev,>=2.7.2->google-cloud-bigquery<4.0.0dev,>=1.15.0->google-cloud-aiplatform) (1.16.0)\n",
            "Installing collected packages: google-auth, google-cloud-storage, google-cloud-resource-manager, google-cloud-aiplatform\n",
            "  Attempting uninstall: google-auth\n",
            "    Found existing installation: google-auth 2.17.3\n",
            "    Uninstalling google-auth-2.17.3:\n",
            "      Successfully uninstalled google-auth-2.17.3\n",
            "  Attempting uninstall: google-cloud-storage\n",
            "    Found existing installation: google-cloud-storage 2.8.0\n",
            "    Uninstalling google-cloud-storage-2.8.0:\n",
            "      Successfully uninstalled google-cloud-storage-2.8.0\n",
            "\u001b[31mERROR: pip's dependency resolver does not currently take into account all the packages that are installed. This behaviour is the source of the following dependency conflicts.\n",
            "llmx 0.0.15a0 requires cohere, which is not installed.\n",
            "llmx 0.0.15a0 requires openai, which is not installed.\n",
            "llmx 0.0.15a0 requires tiktoken, which is not installed.\n",
            "google-colab 1.0.0 requires google-auth==2.17.3, but you have google-auth 2.23.3 which is incompatible.\u001b[0m\u001b[31m\n",
            "\u001b[0mSuccessfully installed google-auth-2.23.3 google-cloud-aiplatform-1.35.0 google-cloud-resource-manager-1.10.4 google-cloud-storage-2.12.0\n"
          ]
        },
        {
          "output_type": "display_data",
          "data": {
            "application/vnd.colab-display-data+json": {
              "pip_warning": {
                "packages": [
                  "google"
                ]
              }
            }
          },
          "metadata": {}
        },
        {
          "output_type": "stream",
          "name": "stdout",
          "text": [
            "Collecting google-cloud-vision\n",
            "  Downloading google_cloud_vision-3.4.4-py2.py3-none-any.whl (444 kB)\n",
            "\u001b[2K     \u001b[90m━━━━━━━━━━━━━━━━━━━━━━━━━━━━━━━━━━━━━━━━\u001b[0m \u001b[32m444.0/444.0 kB\u001b[0m \u001b[31m5.3 MB/s\u001b[0m eta \u001b[36m0:00:00\u001b[0m\n",
            "\u001b[?25hRequirement already satisfied: google-api-core[grpc]!=2.0.*,!=2.1.*,!=2.10.*,!=2.2.*,!=2.3.*,!=2.4.*,!=2.5.*,!=2.6.*,!=2.7.*,!=2.8.*,!=2.9.*,<3.0.0dev,>=1.34.0 in /usr/local/lib/python3.10/dist-packages (from google-cloud-vision) (2.11.1)\n",
            "Requirement already satisfied: proto-plus<2.0.0dev,>=1.22.0 in /usr/local/lib/python3.10/dist-packages (from google-cloud-vision) (1.22.3)\n",
            "Requirement already satisfied: protobuf!=3.20.0,!=3.20.1,!=4.21.0,!=4.21.1,!=4.21.2,!=4.21.3,!=4.21.4,!=4.21.5,<5.0.0dev,>=3.19.5 in /usr/local/lib/python3.10/dist-packages (from google-cloud-vision) (3.20.3)\n",
            "Requirement already satisfied: googleapis-common-protos<2.0.dev0,>=1.56.2 in /usr/local/lib/python3.10/dist-packages (from google-api-core[grpc]!=2.0.*,!=2.1.*,!=2.10.*,!=2.2.*,!=2.3.*,!=2.4.*,!=2.5.*,!=2.6.*,!=2.7.*,!=2.8.*,!=2.9.*,<3.0.0dev,>=1.34.0->google-cloud-vision) (1.60.0)\n",
            "Requirement already satisfied: google-auth<3.0.dev0,>=2.14.1 in /usr/local/lib/python3.10/dist-packages (from google-api-core[grpc]!=2.0.*,!=2.1.*,!=2.10.*,!=2.2.*,!=2.3.*,!=2.4.*,!=2.5.*,!=2.6.*,!=2.7.*,!=2.8.*,!=2.9.*,<3.0.0dev,>=1.34.0->google-cloud-vision) (2.23.3)\n",
            "Requirement already satisfied: requests<3.0.0.dev0,>=2.18.0 in /usr/local/lib/python3.10/dist-packages (from google-api-core[grpc]!=2.0.*,!=2.1.*,!=2.10.*,!=2.2.*,!=2.3.*,!=2.4.*,!=2.5.*,!=2.6.*,!=2.7.*,!=2.8.*,!=2.9.*,<3.0.0dev,>=1.34.0->google-cloud-vision) (2.31.0)\n",
            "Requirement already satisfied: grpcio<2.0dev,>=1.33.2 in /usr/local/lib/python3.10/dist-packages (from google-api-core[grpc]!=2.0.*,!=2.1.*,!=2.10.*,!=2.2.*,!=2.3.*,!=2.4.*,!=2.5.*,!=2.6.*,!=2.7.*,!=2.8.*,!=2.9.*,<3.0.0dev,>=1.34.0->google-cloud-vision) (1.59.0)\n",
            "Requirement already satisfied: grpcio-status<2.0.dev0,>=1.33.2 in /usr/local/lib/python3.10/dist-packages (from google-api-core[grpc]!=2.0.*,!=2.1.*,!=2.10.*,!=2.2.*,!=2.3.*,!=2.4.*,!=2.5.*,!=2.6.*,!=2.7.*,!=2.8.*,!=2.9.*,<3.0.0dev,>=1.34.0->google-cloud-vision) (1.48.2)\n",
            "Requirement already satisfied: cachetools<6.0,>=2.0.0 in /usr/local/lib/python3.10/dist-packages (from google-auth<3.0.dev0,>=2.14.1->google-api-core[grpc]!=2.0.*,!=2.1.*,!=2.10.*,!=2.2.*,!=2.3.*,!=2.4.*,!=2.5.*,!=2.6.*,!=2.7.*,!=2.8.*,!=2.9.*,<3.0.0dev,>=1.34.0->google-cloud-vision) (5.3.1)\n",
            "Requirement already satisfied: pyasn1-modules>=0.2.1 in /usr/local/lib/python3.10/dist-packages (from google-auth<3.0.dev0,>=2.14.1->google-api-core[grpc]!=2.0.*,!=2.1.*,!=2.10.*,!=2.2.*,!=2.3.*,!=2.4.*,!=2.5.*,!=2.6.*,!=2.7.*,!=2.8.*,!=2.9.*,<3.0.0dev,>=1.34.0->google-cloud-vision) (0.3.0)\n",
            "Requirement already satisfied: rsa<5,>=3.1.4 in /usr/local/lib/python3.10/dist-packages (from google-auth<3.0.dev0,>=2.14.1->google-api-core[grpc]!=2.0.*,!=2.1.*,!=2.10.*,!=2.2.*,!=2.3.*,!=2.4.*,!=2.5.*,!=2.6.*,!=2.7.*,!=2.8.*,!=2.9.*,<3.0.0dev,>=1.34.0->google-cloud-vision) (4.9)\n",
            "Requirement already satisfied: charset-normalizer<4,>=2 in /usr/local/lib/python3.10/dist-packages (from requests<3.0.0.dev0,>=2.18.0->google-api-core[grpc]!=2.0.*,!=2.1.*,!=2.10.*,!=2.2.*,!=2.3.*,!=2.4.*,!=2.5.*,!=2.6.*,!=2.7.*,!=2.8.*,!=2.9.*,<3.0.0dev,>=1.34.0->google-cloud-vision) (3.3.0)\n",
            "Requirement already satisfied: idna<4,>=2.5 in /usr/local/lib/python3.10/dist-packages (from requests<3.0.0.dev0,>=2.18.0->google-api-core[grpc]!=2.0.*,!=2.1.*,!=2.10.*,!=2.2.*,!=2.3.*,!=2.4.*,!=2.5.*,!=2.6.*,!=2.7.*,!=2.8.*,!=2.9.*,<3.0.0dev,>=1.34.0->google-cloud-vision) (3.4)\n",
            "Requirement already satisfied: urllib3<3,>=1.21.1 in /usr/local/lib/python3.10/dist-packages (from requests<3.0.0.dev0,>=2.18.0->google-api-core[grpc]!=2.0.*,!=2.1.*,!=2.10.*,!=2.2.*,!=2.3.*,!=2.4.*,!=2.5.*,!=2.6.*,!=2.7.*,!=2.8.*,!=2.9.*,<3.0.0dev,>=1.34.0->google-cloud-vision) (2.0.6)\n",
            "Requirement already satisfied: certifi>=2017.4.17 in /usr/local/lib/python3.10/dist-packages (from requests<3.0.0.dev0,>=2.18.0->google-api-core[grpc]!=2.0.*,!=2.1.*,!=2.10.*,!=2.2.*,!=2.3.*,!=2.4.*,!=2.5.*,!=2.6.*,!=2.7.*,!=2.8.*,!=2.9.*,<3.0.0dev,>=1.34.0->google-cloud-vision) (2023.7.22)\n",
            "Requirement already satisfied: pyasn1<0.6.0,>=0.4.6 in /usr/local/lib/python3.10/dist-packages (from pyasn1-modules>=0.2.1->google-auth<3.0.dev0,>=2.14.1->google-api-core[grpc]!=2.0.*,!=2.1.*,!=2.10.*,!=2.2.*,!=2.3.*,!=2.4.*,!=2.5.*,!=2.6.*,!=2.7.*,!=2.8.*,!=2.9.*,<3.0.0dev,>=1.34.0->google-cloud-vision) (0.5.0)\n",
            "Installing collected packages: google-cloud-vision\n",
            "Successfully installed google-cloud-vision-3.4.4\n"
          ]
        },
        {
          "output_type": "display_data",
          "data": {
            "application/vnd.colab-display-data+json": {
              "pip_warning": {
                "packages": [
                  "google"
                ]
              }
            }
          },
          "metadata": {}
        }
      ]
    },
    {
      "cell_type": "code",
      "source": [
        "import IPython\n",
        "\n",
        "app = IPython.Application.instance()\n",
        "app.kernel.do_shutdown(True)"
      ],
      "metadata": {
        "colab": {
          "base_uri": "https://localhost:8080/"
        },
        "id": "7QWHVhNGTC6n",
        "outputId": "6bc0c58e-5d53-4338-c9d9-8afbb62d4545"
      },
      "execution_count": 2,
      "outputs": [
        {
          "output_type": "execute_result",
          "data": {
            "text/plain": [
              "{'status': 'ok', 'restart': True}"
            ]
          },
          "metadata": {},
          "execution_count": 2
        }
      ]
    },
    {
      "cell_type": "markdown",
      "source": [
        "# Configuration\n"
      ],
      "metadata": {
        "id": "ulszS9g8TNP1"
      }
    },
    {
      "cell_type": "code",
      "source": [
        "from google.colab import auth\n",
        "auth.authenticate_user()"
      ],
      "metadata": {
        "id": "E4iJnO7pUyZz"
      },
      "execution_count": 3,
      "outputs": []
    },
    {
      "cell_type": "code",
      "source": [
        "PROJECT_ID = \"genai-387907\"  # @param {type:\"string\"}\n",
        "\n",
        "# Set the project id\n",
        "! gcloud config set project {PROJECT_ID}"
      ],
      "metadata": {
        "colab": {
          "base_uri": "https://localhost:8080/"
        },
        "id": "oEYfcaI2TMip",
        "outputId": "5e053f46-cd9f-4d4b-cbe5-9ef9f1f7fc2e"
      },
      "execution_count": 3,
      "outputs": [
        {
          "output_type": "stream",
          "name": "stdout",
          "text": [
            "Updated property [core/project].\n"
          ]
        }
      ]
    },
    {
      "cell_type": "code",
      "source": [
        "REGION = \"us-central1\"  # @param {type: \"string\"}"
      ],
      "metadata": {
        "id": "SmqW9GLsTSoU"
      },
      "execution_count": 2,
      "outputs": []
    },
    {
      "cell_type": "markdown",
      "source": [
        "Cloud Storage"
      ],
      "metadata": {
        "id": "j4dgKsttTdN9"
      }
    },
    {
      "cell_type": "code",
      "source": [
        "BUCKET_NAME = \"vector_store\""
      ],
      "metadata": {
        "id": "PUyGPu9eTc0a"
      },
      "execution_count": 1,
      "outputs": []
    },
    {
      "cell_type": "code",
      "source": [
        "BUCKET_URI = f\"gs://{BUCKET_NAME}-{PROJECT_ID}-unique\"  # @param {type:\"string\"}"
      ],
      "metadata": {
        "id": "Ucn5CDfHTgiD"
      },
      "execution_count": 23,
      "outputs": []
    },
    {
      "cell_type": "code",
      "source": [
        "# Only if your bucket doesn't exist\n",
        "# ! gsutil mb -l {REGION} -p {PROJECT_ID} {BUCKET_URI}"
      ],
      "metadata": {
        "id": "UEhuvQt6TkMI"
      },
      "execution_count": 8,
      "outputs": []
    },
    {
      "cell_type": "code",
      "source": [
        "# Download the file from a given Google Cloud Storage bucket.\n",
        "!gsutil cp gs://vector_store-genai-387907-images/* ./images"
      ],
      "metadata": {
        "id": "4ivcQzLZUUOF",
        "outputId": "5888df61-dbdf-4c92-9475-b9b24dfe898c",
        "colab": {
          "base_uri": "https://localhost:8080/"
        }
      },
      "execution_count": 35,
      "outputs": [
        {
          "output_type": "stream",
          "name": "stdout",
          "text": [
            "Copying gs://vector_store-genai-387907-images/0000000112_2_1_1.jpg...\n",
            "Copying gs://vector_store-genai-387907-images/0077307081_6_1_1.jpg...\n",
            "Copying gs://vector_store-genai-387907-images/0085454807_1_1_1.jpg...\n",
            "Copying gs://vector_store-genai-387907-images/0264474302_1_1_1.jpg...\n",
            "| [4 files][  1.9 MiB/  1.9 MiB]                                                \n",
            "==> NOTE: You are performing a sequence of gsutil operations that may\n",
            "run significantly faster if you instead use gsutil -m cp ... Please\n",
            "see the -m section under \"gsutil help options\" for further information\n",
            "about when gsutil -m can be advantageous.\n",
            "\n",
            "Copying gs://vector_store-genai-387907-images/0310009999_1_1_1.jpg...\n",
            "Copying gs://vector_store-genai-387907-images/0310274999_6_1_1.jpg...\n",
            "Copying gs://vector_store-genai-387907-images/0387157052_1_1_1.jpg...\n",
            "Copying gs://vector_store-genai-387907-images/0475691990_6_1_1.jpg...\n",
            "Copying gs://vector_store-genai-387907-images/0478630300_1_1_1.jpg...\n",
            "Copying gs://vector_store-genai-387907-images/0485561712_6_1_1.jpg...\n",
            "Copying gs://vector_store-genai-387907-images/0518059711_1_1_1.jpg...\n",
            "Copying gs://vector_store-genai-387907-images/0653786630_6_1_1.jpg...\n",
            "Copying gs://vector_store-genai-387907-images/0722792400_6_1_1.jpg...\n",
            "Copying gs://vector_store-genai-387907-images/0840235515_2_3_1.jpg...\n",
            "Copying gs://vector_store-genai-387907-images/0843334775_1_1_1.jpg...\n",
            "Copying gs://vector_store-genai-387907-images/1165680701_1_1_1.jpg...\n",
            "Copying gs://vector_store-genai-387907-images/1165719800_6_1_1.jpg...\n",
            "Copying gs://vector_store-genai-387907-images/1386552700_6_1_1.jpg...\n",
            "Copying gs://vector_store-genai-387907-images/1538403401_6_1_1.jpg...\n",
            "Copying gs://vector_store-genai-387907-images/1608360800_1_1_1.jpg...\n",
            "Copying gs://vector_store-genai-387907-images/1716345611_6_1_1.jpg...\n",
            "Copying gs://vector_store-genai-387907-images/1856360808_1_1_1.jpg...\n",
            "Copying gs://vector_store-genai-387907-images/1856381303_1_1_1.jpg...\n",
            "Copying gs://vector_store-genai-387907-images/1880531802_6_1_1.jpg...\n",
            "Copying gs://vector_store-genai-387907-images/1880566401_6_1_1.jpg...\n",
            "Copying gs://vector_store-genai-387907-images/1880676800_6_1_1.jpg...\n",
            "Copying gs://vector_store-genai-387907-images/2108220800_6_1_1.jpg...\n",
            "Copying gs://vector_store-genai-387907-images/2298651800_1_1_1.jpg...\n",
            "Copying gs://vector_store-genai-387907-images/2301000002_1_1_1.jpg...\n",
            "Copying gs://vector_store-genai-387907-images/2308012712_1_1_1.jpg...\n",
            "Copying gs://vector_store-genai-387907-images/2341120800_6_1_1.jpg...\n",
            "Copying gs://vector_store-genai-387907-images/2420220040_6_1_1.jpg...\n",
            "Copying gs://vector_store-genai-387907-images/2460220800_6_1_1.jpg...\n",
            "Copying gs://vector_store-genai-387907-images/2582510800_6_1_1.jpg...\n",
            "Copying gs://vector_store-genai-387907-images/2632304700_6_1_1.jpg...\n",
            "Copying gs://vector_store-genai-387907-images/2675706615_6_1_1.jpg...\n",
            "Copying gs://vector_store-genai-387907-images/2712220400_6_1_1.jpg...\n",
            "Copying gs://vector_store-genai-387907-images/2727206620_1_1_1.jpg...\n",
            "Copying gs://vector_store-genai-387907-images/2823305500_6_1_1.jpg...\n",
            "Copying gs://vector_store-genai-387907-images/2888300800_6_1_1.jpg...\n",
            "Copying gs://vector_store-genai-387907-images/2893108704_1_1_1.jpg...\n",
            "Copying gs://vector_store-genai-387907-images/3336109807_6_1_1.jpg...\n",
            "Copying gs://vector_store-genai-387907-images/3336237611_6_1_1.jpg...\n",
            "Copying gs://vector_store-genai-387907-images/3338189515_6_1_1.jpg...\n",
            "Copying gs://vector_store-genai-387907-images/3625220133_6_1_1.jpg...\n",
            "Copying gs://vector_store-genai-387907-images/3625220805_6_1_1.jpg...\n",
            "Copying gs://vector_store-genai-387907-images/3771748800_6_1_1.jpg...\n",
            "Copying gs://vector_store-genai-387907-images/3854669400_6_1_1.jpg...\n",
            "Copying gs://vector_store-genai-387907-images/3897152080_1_1_1.jpg...\n",
            "Copying gs://vector_store-genai-387907-images/3905931250_1_1_1.jpg...\n",
            "Copying gs://vector_store-genai-387907-images/3918601717_6_1_1.jpg...\n",
            "Copying gs://vector_store-genai-387907-images/3991101712_1_1_1.jpg...\n",
            "Copying gs://vector_store-genai-387907-images/3991126800_1_1_1.jpg...\n",
            "Copying gs://vector_store-genai-387907-images/3992333629_6_1_1.jpg...\n",
            "Copying gs://vector_store-genai-387907-images/4087760800_6_1_1.jpg...\n",
            "Copying gs://vector_store-genai-387907-images/4090303832_6_1_1.jpg...\n",
            "Copying gs://vector_store-genai-387907-images/4161300712_6_1_1.jpg...\n",
            "Copying gs://vector_store-genai-387907-images/4174813250_1_1_1.jpg...\n",
            "Copying gs://vector_store-genai-387907-images/4174838670_1_1_1.jpg...\n",
            "Copying gs://vector_store-genai-387907-images/4365304406_6_1_1.jpg...\n",
            "Copying gs://vector_store-genai-387907-images/4369001800_1_1_1.jpg...\n",
            "Copying gs://vector_store-genai-387907-images/4391503800_1_1_1.jpg...\n",
            "Copying gs://vector_store-genai-387907-images/4424355712_6_1_1.jpg...\n",
            "Copying gs://vector_store-genai-387907-images/4548234303_1_1_1.jpg...\n",
            "Copying gs://vector_store-genai-387907-images/4770451800_1_1_1.jpg...\n",
            "Copying gs://vector_store-genai-387907-images/4786269330_1_1_1.jpg...\n",
            "Copying gs://vector_store-genai-387907-images/4786289251_1_1_1.jpg...\n",
            "Copying gs://vector_store-genai-387907-images/4805553712_6_1_1.jpg...\n",
            "Copying gs://vector_store-genai-387907-images/4805767700_6_1_1.jpg...\n",
            "Copying gs://vector_store-genai-387907-images/5039370117_1_1_1 (1).jpg...\n",
            "Copying gs://vector_store-genai-387907-images/5039370117_1_1_1.jpg...\n",
            "Copying gs://vector_store-genai-387907-images/5048610400_6_1_1.jpg...\n",
            "Copying gs://vector_store-genai-387907-images/5048702500_6_1_1.jpg...\n",
            "Copying gs://vector_store-genai-387907-images/5070503800_6_1_1.jpg...\n",
            "Copying gs://vector_store-genai-387907-images/5070646800_1_1_1.jpg...\n",
            "Copying gs://vector_store-genai-387907-images/5372302070_6_1_1.jpg...\n",
            "Copying gs://vector_store-genai-387907-images/5388700400_6_1_1.jpg...\n",
            "Copying gs://vector_store-genai-387907-images/5418110202_6_1_1.jpg...\n",
            "Copying gs://vector_store-genai-387907-images/5420210800_6_1_1.jpg...\n",
            "Copying gs://vector_store-genai-387907-images/5536126806_1_1_1.jpg...\n",
            "Copying gs://vector_store-genai-387907-images/5536562712_6_1_1.jpg...\n",
            "Copying gs://vector_store-genai-387907-images/5643532250_6_1_1.jpg...\n",
            "Copying gs://vector_store-genai-387907-images/5886779620_6_1_1.jpg...\n",
            "Copying gs://vector_store-genai-387907-images/6029230604_6_1_1.jpg...\n",
            "Copying gs://vector_store-genai-387907-images/6061548959_6_1_1.jpg...\n",
            "Copying gs://vector_store-genai-387907-images/6149230107_6_1_1.jpg...\n",
            "Copying gs://vector_store-genai-387907-images/6164179427_1_1_1.jpg...\n",
            "Copying gs://vector_store-genai-387907-images/6224396251_6_1_1 (1).jpg...\n",
            "Copying gs://vector_store-genai-387907-images/6224396251_6_1_1.jpg...\n",
            "Copying gs://vector_store-genai-387907-images/6224628633_6_1_1.jpg...\n",
            "Copying gs://vector_store-genai-387907-images/6330011330_6_1_1.jpg...\n",
            "Copying gs://vector_store-genai-387907-images/6688209800_1_1_1.jpg...\n",
            "Copying gs://vector_store-genai-387907-images/6739230400_6_1_1.jpg...\n",
            "Copying gs://vector_store-genai-387907-images/6771095800_1_1_1.jpg...\n",
            "Copying gs://vector_store-genai-387907-images/6861389800_6_1_1.jpg...\n",
            "Copying gs://vector_store-genai-387907-images/6873111832_1_1_1.jpg...\n",
            "Copying gs://vector_store-genai-387907-images/6917764806_6_1_1.jpg...\n",
            "Copying gs://vector_store-genai-387907-images/6985453250_6_1_1.jpg...\n",
            "Copying gs://vector_store-genai-387907-images/7775588404_1_1_1.jpg...\n",
            "Copying gs://vector_store-genai-387907-images/8041709620_1_1_1.jpg...\n",
            "Copying gs://vector_store-genai-387907-images/8156463330_1_1_1.jpg...\n",
            "Copying gs://vector_store-genai-387907-images/8162786942_1_1_1.jpg...\n",
            "Copying gs://vector_store-genai-387907-images/8281469251_6_1_1.jpg...\n",
            "Copying gs://vector_store-genai-387907-images/8370728704_1_1_1.jpg...\n",
            "Copying gs://vector_store-genai-387907-images/8432361307_1_1_1.jpg...\n",
            "Copying gs://vector_store-genai-387907-images/8491300704_6_1_1.jpg...\n",
            "Copying gs://vector_store-genai-387907-images/8563717403_1_1_1.jpg...\n",
            "Copying gs://vector_store-genai-387907-images/8574349250_6_1_1.jpg...\n",
            "Copying gs://vector_store-genai-387907-images/8574661800_6_1_1.jpg...\n",
            "Copying gs://vector_store-genai-387907-images/8686244485_1_1_1.jpg...\n",
            "Copying gs://vector_store-genai-387907-images/8851018520_1_1_1.jpg...\n",
            "Copying gs://vector_store-genai-387907-images/9000000101_1_1_1.jpg...\n",
            "Copying gs://vector_store-genai-387907-images/9621640933_6_1_1.jpg...\n",
            "Copying gs://vector_store-genai-387907-images/9878166330_1_1_1.jpg...\n",
            "Copying gs://vector_store-genai-387907-images/9878177800_1_1_1.jpg...\n",
            "Copying gs://vector_store-genai-387907-images/9929222712_1_1_1.jpg...\n",
            "- [116 files][ 42.0 MiB/ 42.0 MiB]  675.9 KiB/s                                 \n",
            "==> NOTE: You are performing a sequence of gsutil operations that may\n",
            "run significantly faster if you instead use gsutil -m cp ... Please\n",
            "see the -m section under \"gsutil help options\" for further information\n",
            "about when gsutil -m can be advantageous.\n",
            "\n",
            "\n",
            "Operation completed over 116 objects/42.0 MiB.                                   \n"
          ]
        }
      ]
    },
    {
      "cell_type": "code",
      "source": [
        "image_directory = \"/content\""
      ],
      "metadata": {
        "id": "oCNaDfFRY8rO"
      },
      "execution_count": 81,
      "outputs": []
    },
    {
      "cell_type": "markdown",
      "source": [
        "# Cloud Vision Embeddings"
      ],
      "metadata": {
        "id": "9cwhtvKqYNrE"
      }
    },
    {
      "cell_type": "code",
      "source": [
        "import os"
      ],
      "metadata": {
        "id": "eznikGKUU3rz"
      },
      "execution_count": 69,
      "outputs": []
    },
    {
      "cell_type": "code",
      "source": [
        "import glob\n",
        "image_names = glob.glob('images/*.jpg')"
      ],
      "metadata": {
        "id": "EBrWkH9yqcuq"
      },
      "execution_count": 50,
      "outputs": []
    },
    {
      "cell_type": "code",
      "source": [
        "image_names = ['0478630300_1_1_1.jpg', '0485561712_6_1_1.jpg', '1165680701_1_1_1.jpg']\n",
        "\n",
        "image_paths = [os.path.join(image_directory, image_name) for image_name in image_names]\n",
        "\n",
        "print(image_paths)"
      ],
      "metadata": {
        "colab": {
          "base_uri": "https://localhost:8080/"
        },
        "id": "E-27SYJ-aYlC",
        "outputId": "4d7a5371-83d6-479c-b226-3753080913af"
      },
      "execution_count": 82,
      "outputs": [
        {
          "output_type": "stream",
          "name": "stdout",
          "text": [
            "['/content/images/0478630300_1_1_1.jpg', '/content/images/0485561712_6_1_1.jpg', '/content/images/1165680701_1_1_1.jpg']\n"
          ]
        }
      ]
    },
    {
      "cell_type": "markdown",
      "source": [
        "Perform rate-limited explicit image detection"
      ],
      "metadata": {
        "id": "WYnW0p37YDBb"
      }
    },
    {
      "cell_type": "code",
      "source": [
        "\n",
        "import time\n",
        "from concurrent.futures import ThreadPoolExecutor\n",
        "from typing import Optional\n",
        "\n",
        "import numpy as np\n",
        "from tqdm import tqdm\n",
        "\n",
        "# Create a rate limiter with a limit of 1800 requests per minute\n",
        "seconds_per_job = 1 / (1800 / 60)\n",
        "\n",
        "\n",
        "def process_image(image_path: str) -> Optional[bool]:\n",
        "    try:\n",
        "        annotation = detect_safe_search(image_path)\n",
        "\n",
        "        if annotation:\n",
        "            return convert_annotation_to_safety(safe_search_annotation=annotation)\n",
        "        else:\n",
        "            return None\n",
        "    except Exception:\n",
        "        return None\n",
        "\n",
        "\n",
        "# Process images using ThreadPool\n",
        "is_safe_values_cloud_vision = []\n",
        "with ThreadPoolExecutor() as executor:\n",
        "    futures = []\n",
        "    for img_url in tqdm(image_paths, total=len(image_paths), position=0):\n",
        "        futures.append(executor.submit(process_image, img_url))\n",
        "        time.sleep(seconds_per_job)\n",
        "\n",
        "    for future in futures:\n",
        "        is_safe_values_cloud_vision.append(future.result())\n",
        "\n",
        "# Set Nones to False\n",
        "is_safe_values_cloud_vision = [\n",
        "    is_safe or False for is_safe in is_safe_values_cloud_vision\n",
        "]\n",
        "\n",
        "# Print number of safe images found\n",
        "print(\n",
        "    f\"Safe images = {np.array(is_safe_values_cloud_vision).sum()} out of {len(is_safe_values_cloud_vision)} images\"\n",
        ")"
      ],
      "metadata": {
        "colab": {
          "base_uri": "https://localhost:8080/"
        },
        "id": "azK1wjb4YxzC",
        "outputId": "91b97d3a-0e09-4c5c-a33d-a5976326e864"
      },
      "execution_count": 83,
      "outputs": [
        {
          "output_type": "stream",
          "name": "stderr",
          "text": [
            "100%|██████████| 3/3 [00:00<00:00, 28.16it/s]"
          ]
        },
        {
          "output_type": "stream",
          "name": "stdout",
          "text": [
            "Safe images = 0 out of 3 images\n"
          ]
        },
        {
          "output_type": "stream",
          "name": "stderr",
          "text": [
            "\n"
          ]
        }
      ]
    },
    {
      "cell_type": "markdown",
      "source": [
        "Defining encoding functions\n"
      ],
      "metadata": {
        "id": "l3ln-xRqa-PX"
      }
    },
    {
      "cell_type": "code",
      "source": [
        "import base64\n",
        "import time\n",
        "import typing\n",
        "\n",
        "from google.cloud import aiplatform\n",
        "from google.protobuf import struct_pb2\n",
        "\n",
        "\n",
        "class EmbeddingResponse(typing.NamedTuple):\n",
        "    text_embedding: typing.Sequence[float]\n",
        "    image_embedding: typing.Sequence[float]\n",
        "\n",
        "\n",
        "def load_image_bytes(image_uri: str) -> bytes:\n",
        "    \"\"\"Load image bytes from a remote or local URI.\"\"\"\n",
        "    image_bytes = None\n",
        "    if image_uri.startswith(\"http://\") or image_uri.startswith(\"https://\"):\n",
        "        response = requests.get(image_uri, stream=True)\n",
        "        if response.status_code == 200:\n",
        "            image_bytes = response.content\n",
        "    else:\n",
        "        image_bytes = open(image_uri, \"rb\").read()\n",
        "    return image_bytes\n",
        "\n",
        "\n",
        "class EmbeddingPredictionClient:\n",
        "    \"\"\"Wrapper around Prediction Service Client.\"\"\"\n",
        "\n",
        "    def __init__(\n",
        "        self,\n",
        "        project: str,\n",
        "        location: str = \"us-central1\",\n",
        "        api_regional_endpoint: str = \"us-central1-aiplatform.googleapis.com\",\n",
        "    ):\n",
        "        client_options = {\"api_endpoint\": api_regional_endpoint}\n",
        "        # Initialize client that will be used to create and send requests.\n",
        "        # This client only needs to be created once, and can be reused for multiple requests.\n",
        "        self.client = aiplatform.gapic.PredictionServiceClient(\n",
        "            client_options=client_options\n",
        "        )\n",
        "        self.location = location\n",
        "        self.project = project\n",
        "\n",
        "    def get_embedding(self, text: str = None, image_file: str = None):\n",
        "        if not text and not image_file:\n",
        "            raise ValueError(\"At least one of text or image_file must be specified.\")\n",
        "\n",
        "        # Load image file\n",
        "        image_bytes = None\n",
        "        if image_file:\n",
        "            image_bytes = load_image_bytes(image_file)\n",
        "\n",
        "        instance = struct_pb2.Struct()\n",
        "        if text:\n",
        "            instance.fields[\"text\"].string_value = text\n",
        "\n",
        "        if image_bytes:\n",
        "            encoded_content = base64.b64encode(image_bytes).decode(\"utf-8\")\n",
        "            image_struct = instance.fields[\"image\"].struct_value\n",
        "            image_struct.fields[\"bytesBase64Encoded\"].string_value = encoded_content\n",
        "\n",
        "        instances = [instance]\n",
        "        endpoint = (\n",
        "            f\"projects/{self.project}/locations/{self.location}\"\n",
        "            \"/publishers/google/models/multimodalembedding@001\"\n",
        "        )\n",
        "        response = self.client.predict(endpoint=endpoint, instances=instances)\n",
        "\n",
        "        text_embedding = None\n",
        "        if text:\n",
        "            text_emb_value = response.predictions[0][\"textEmbedding\"]\n",
        "            text_embedding = [v for v in text_emb_value]\n",
        "\n",
        "        image_embedding = None\n",
        "        if image_bytes:\n",
        "            image_emb_value = response.predictions[0][\"imageEmbedding\"]\n",
        "            image_embedding = [v for v in image_emb_value]\n",
        "\n",
        "        return EmbeddingResponse(\n",
        "            text_embedding=text_embedding, image_embedding=image_embedding\n",
        "        )"
      ],
      "metadata": {
        "id": "fNdneAlFa-A7"
      },
      "execution_count": 84,
      "outputs": []
    },
    {
      "cell_type": "markdown",
      "source": [
        "Create helper functions to process data in batches"
      ],
      "metadata": {
        "id": "kbgKo-oQbCI0"
      }
    },
    {
      "cell_type": "code",
      "source": [
        "import time\n",
        "from concurrent.futures import ThreadPoolExecutor\n",
        "from typing import Callable, Generator, List\n",
        "\n",
        "from tqdm.auto import tqdm\n",
        "\n",
        "\n",
        "def generate_batches(\n",
        "    inputs: List[str], batch_size: int\n",
        ") -> Generator[List[str], None, None]:\n",
        "    \"\"\"\n",
        "    Generator function that takes a list of strings and a batch size, and yields batches of the specified size.\n",
        "    \"\"\"\n",
        "\n",
        "    for i in range(0, len(inputs), batch_size):\n",
        "        yield inputs[i : i + batch_size]\n",
        "\n",
        "\n",
        "API_IMAGES_PER_SECOND = 2\n",
        "\n",
        "\n",
        "def encode_to_embeddings_chunked(\n",
        "    process_function: Callable[[List[str]], List[Optional[List[float]]]],\n",
        "    items: List[str],\n",
        "    batch_size: int = 1,\n",
        ") -> List[Optional[List[float]]]:\n",
        "    \"\"\"\n",
        "    Function that encodes a list of strings into embeddings using a process function.\n",
        "    It takes a list of strings and returns a list of optional lists of floats.\n",
        "    The data is processed in chunks to prevent out-of-memory errors.\n",
        "    \"\"\"\n",
        "\n",
        "    embeddings_list: List[Optional[List[float]]] = []\n",
        "\n",
        "    # Prepare the batches using a generator\n",
        "    batches = generate_batches(items, batch_size)\n",
        "\n",
        "    seconds_per_job = batch_size / API_IMAGES_PER_SECOND\n",
        "\n",
        "    with ThreadPoolExecutor() as executor:\n",
        "        futures = []\n",
        "        for batch in tqdm(batches, total=len(items) // batch_size, position=0):\n",
        "            futures.append(executor.submit(process_function, batch))\n",
        "            time.sleep(seconds_per_job)\n",
        "\n",
        "        for future in futures:\n",
        "            embeddings_list.extend(future.result())\n",
        "    return embeddings_list\n",
        ""
      ],
      "metadata": {
        "id": "BE1CP0LRbChz"
      },
      "execution_count": 85,
      "outputs": []
    },
    {
      "cell_type": "markdown",
      "source": [
        "Create functions that wrap embedding functions in try-except and retry logic."
      ],
      "metadata": {
        "id": "w1WiMUWobF1O"
      }
    },
    {
      "cell_type": "code",
      "source": [
        "import copy\n",
        "from typing import List, Optional\n",
        "\n",
        "import numpy as np\n",
        "import requests\n",
        "from tenacity import retry, stop_after_attempt\n",
        "\n",
        "client = EmbeddingPredictionClient(project=PROJECT_ID)\n",
        "\n",
        "\n",
        "# Use a retry handler in case of failure\n",
        "@retry(reraise=True, stop=stop_after_attempt(3))\n",
        "def encode_texts_to_embeddings_with_retry(text: List[str]) -> List[List[float]]:\n",
        "    assert len(text) == 1\n",
        "\n",
        "    try:\n",
        "        return [client.get_embedding(text=text[0], image_file=None).text_embedding]\n",
        "    except Exception:\n",
        "        raise RuntimeError(\"Error getting embedding.\")\n",
        "\n",
        "\n",
        "def encode_texts_to_embeddings(text: List[str]) -> List[Optional[List[float]]]:\n",
        "    try:\n",
        "        return encode_texts_to_embeddings_with_retry(text=text)\n",
        "    except Exception:\n",
        "        return [None for _ in range(len(text))]\n",
        "\n",
        "\n",
        "@retry(reraise=True, stop=stop_after_attempt(3))\n",
        "def encode_images_to_embeddings_with_retry(image_uris: List[str]) -> List[List[float]]:\n",
        "    assert len(image_uris) == 1\n",
        "\n",
        "    try:\n",
        "        return [\n",
        "            client.get_embedding(text=None, image_file=image_uris[0]).image_embedding\n",
        "        ]\n",
        "    except Exception as ex:\n",
        "        print(ex)\n",
        "        raise RuntimeError(\"Error getting embedding.\")\n",
        "\n",
        "\n",
        "def encode_images_to_embeddings(image_uris: List[str]) -> List[Optional[List[float]]]:\n",
        "    try:\n",
        "        return encode_images_to_embeddings_with_retry(image_uris=image_uris)\n",
        "    except Exception as ex:\n",
        "        print(ex)\n",
        "        return [None for _ in range(len(image_uris))]\n",
        ""
      ],
      "metadata": {
        "id": "85tQSlD9bGDP"
      },
      "execution_count": 86,
      "outputs": []
    },
    {
      "cell_type": "markdown",
      "source": [
        "Test the encoding function"
      ],
      "metadata": {
        "id": "Ylp55mBfbKml"
      }
    },
    {
      "cell_type": "code",
      "source": [
        "%%time\n",
        "# Encode a sample subset of images\n",
        "image_paths_filtered = list(image_paths)[:1000]\n",
        "image_embeddings = encode_to_embeddings_chunked(\n",
        "    process_function=encode_images_to_embeddings, items=image_paths_filtered\n",
        ")\n",
        "\n",
        "# Keep only non-None embeddings\n",
        "indexes_to_keep, image_embeddings = zip(\n",
        "    *[\n",
        "        (index, embedding)\n",
        "        for index, embedding in enumerate(image_embeddings)\n",
        "        if embedding is not None\n",
        "    ]\n",
        ")\n",
        "\n",
        "print(f\"Processed {len(indexes_to_keep)} embeddings successfully\")\n",
        ""
      ],
      "metadata": {
        "colab": {
          "base_uri": "https://localhost:8080/",
          "height": 101,
          "referenced_widgets": [
            "a6aac4e208a1469f96639fefe2863a0d",
            "204b73bf8d7041ff9f53cad501fc91a3",
            "58b177e15de54bf9a91116543d08a8cd",
            "099a5b51bc0b488a800c4cbd6f9b9670",
            "5555c15b378e4f0288d740ca968f1cad",
            "fabc19f4cd4c4a2f97f69bf69b2c8e2b",
            "87d2bf32a70f41b5a0882348e5f2c84d",
            "79da890d73b2461fa748b1a18eb9c27e",
            "36a1a78ebc2743d4850cdd686a015611",
            "ee43e37b232b4066a9dc24d82a963b5b",
            "a89c68cfadaf4675aeb2a15f2e64aef4"
          ]
        },
        "id": "jZAOJNrLbMSu",
        "outputId": "86dc34cf-2cf4-4d25-e3a6-55ada2479a7f"
      },
      "execution_count": 87,
      "outputs": [
        {
          "output_type": "display_data",
          "data": {
            "text/plain": [
              "  0%|          | 0/3 [00:00<?, ?it/s]"
            ],
            "application/vnd.jupyter.widget-view+json": {
              "version_major": 2,
              "version_minor": 0,
              "model_id": "a6aac4e208a1469f96639fefe2863a0d"
            }
          },
          "metadata": {}
        },
        {
          "output_type": "stream",
          "name": "stdout",
          "text": [
            "Processed 3 embeddings successfully\n",
            "CPU times: user 117 ms, sys: 12.3 ms, total: 129 ms\n",
            "Wall time: 5.65 s\n"
          ]
        }
      ]
    },
    {
      "cell_type": "code",
      "source": [
        "import numpy as np\n",
        "\n",
        "\n",
        "def dot_product_distance(\n",
        "    text_embedding: np.ndarray, image_embeddings: np.ndarray\n",
        ") -> np.ndarray:\n",
        "    \"\"\"Compute dot-product distance between text and image embeddings by taking the dot product\"\"\"\n",
        "    return np.dot(text_embedding, image_embeddings.T)\n",
        ""
      ],
      "metadata": {
        "id": "LZUM6HtFbu92"
      },
      "execution_count": 88,
      "outputs": []
    },
    {
      "cell_type": "code",
      "source": [
        "import math\n",
        "from io import BytesIO\n",
        "\n",
        "import matplotlib.pyplot as plt\n",
        "from PIL import Image\n",
        "\n",
        "text_query = \"jacket blue\"\n",
        "\n",
        "# Calculate text embedding of query\n",
        "text_embedding = encode_texts_to_embeddings(text=[text_query])[0]\n",
        "\n",
        "print(type(text_embedding))\n",
        "print(type(text_embedding[0]))\n",
        "\n",
        "print(type(image_embeddings))\n",
        "print(type(image_embeddings[0]))\n",
        "\n",
        "# Calculate distance\n",
        "distances = dot_product_distance(\n",
        "    text_embedding=np.array(text_embedding), image_embeddings=np.array(image_embeddings)\n",
        ")\n",
        "\n",
        "# Set the maximum number of images to display\n",
        "MAX_IMAGES = 20\n",
        "\n",
        "# Sort images and scores by descending order of scores and select the top max_images\n",
        "sorted_data = sorted(\n",
        "    zip(image_paths_filtered, distances), key=lambda x: x[1], reverse=True\n",
        ")[:MAX_IMAGES]\n",
        "\n",
        "# Calculate the number of rows and columns needed to display the images\n",
        "num_cols = 4\n",
        "num_rows = math.ceil(len(sorted_data) / num_cols)\n",
        "\n",
        "\n",
        "# Create a grid of subplots to display the images\n",
        "fig, axs = plt.subplots(nrows=num_rows, ncols=num_cols, figsize=(10, 12))\n",
        "\n",
        "# Loop through the top max_images images and display them in the subplots\n",
        "for i, (image_path, distance) in enumerate(sorted_data):\n",
        "    # Calculate the row and column index for the current image\n",
        "    row_idx = i // num_cols\n",
        "    col_idx = i % num_cols\n",
        "\n",
        "    # Check if image_path is a remote URL\n",
        "    if image_path.startswith(\"http://\") or image_path.startswith(\"https://\"):\n",
        "        response = requests.get(image_path)\n",
        "        image = Image.open(BytesIO(response.content))\n",
        "    else:\n",
        "        image = Image.open(image_path)\n",
        "\n",
        "    # Display the image in the current subplot\n",
        "    axs[row_idx, col_idx].imshow(image, cmap=\"gray\")\n",
        "\n",
        "    # Set the title of the subplot to the image index and score\n",
        "    axs[row_idx, col_idx].set_title(f\"Rank {i+1}, Distance = {distance:.2f}\")\n",
        "\n",
        "    # Remove ticks from the subplot\n",
        "    axs[row_idx, col_idx].set_xticks([])\n",
        "    axs[row_idx, col_idx].set_yticks([])\n",
        "\n",
        "# Adjust the spacing between subplots and display the plot\n",
        "plt.subplots_adjust(hspace=0.3, wspace=0.1)\n",
        "plt.show()"
      ],
      "metadata": {
        "colab": {
          "base_uri": "https://localhost:8080/",
          "height": 1000
        },
        "id": "Cad8G6nrbx8c",
        "outputId": "4e9caf0b-f8cf-4445-b0c1-51f0cdb89962"
      },
      "execution_count": 89,
      "outputs": [
        {
          "output_type": "stream",
          "name": "stdout",
          "text": [
            "<class 'list'>\n",
            "<class 'float'>\n",
            "<class 'tuple'>\n",
            "<class 'list'>\n"
          ]
        },
        {
          "output_type": "error",
          "ename": "IndexError",
          "evalue": "ignored",
          "traceback": [
            "\u001b[0;31m---------------------------------------------------------------------------\u001b[0m",
            "\u001b[0;31mIndexError\u001b[0m                                Traceback (most recent call last)",
            "\u001b[0;32m<ipython-input-89-d0cbf1889910>\u001b[0m in \u001b[0;36m<cell line: 40>\u001b[0;34m()\u001b[0m\n\u001b[1;32m     51\u001b[0m \u001b[0;34m\u001b[0m\u001b[0m\n\u001b[1;32m     52\u001b[0m     \u001b[0;31m# Display the image in the current subplot\u001b[0m\u001b[0;34m\u001b[0m\u001b[0;34m\u001b[0m\u001b[0m\n\u001b[0;32m---> 53\u001b[0;31m     \u001b[0maxs\u001b[0m\u001b[0;34m[\u001b[0m\u001b[0mrow_idx\u001b[0m\u001b[0;34m,\u001b[0m \u001b[0mcol_idx\u001b[0m\u001b[0;34m]\u001b[0m\u001b[0;34m.\u001b[0m\u001b[0mimshow\u001b[0m\u001b[0;34m(\u001b[0m\u001b[0mimage\u001b[0m\u001b[0;34m,\u001b[0m \u001b[0mcmap\u001b[0m\u001b[0;34m=\u001b[0m\u001b[0;34m\"gray\"\u001b[0m\u001b[0;34m)\u001b[0m\u001b[0;34m\u001b[0m\u001b[0;34m\u001b[0m\u001b[0m\n\u001b[0m\u001b[1;32m     54\u001b[0m \u001b[0;34m\u001b[0m\u001b[0m\n\u001b[1;32m     55\u001b[0m     \u001b[0;31m# Set the title of the subplot to the image index and score\u001b[0m\u001b[0;34m\u001b[0m\u001b[0;34m\u001b[0m\u001b[0m\n",
            "\u001b[0;31mIndexError\u001b[0m: too many indices for array: array is 1-dimensional, but 2 were indexed"
          ]
        },
        {
          "output_type": "display_data",
          "data": {
            "text/plain": [
              "<Figure size 1000x1200 with 4 Axes>"
            ],
            "image/png": "[encoded data removed]"
          },
          "metadata": {}
        }
      ]
    },
    {
      "cell_type": "code",
      "source": [
        "DIMENSIONS = len(text_embedding)\n",
        "\n",
        "print(DIMENSIONS)"
      ],
      "metadata": {
        "colab": {
          "base_uri": "https://localhost:8080/"
        },
        "id": "n6x1hc9Vb2qx",
        "outputId": "e87de200-8d51-44a9-8850-7a31769d54fe"
      },
      "execution_count": 90,
      "outputs": [
        {
          "output_type": "stream",
          "name": "stdout",
          "text": [
            "1408\n"
          ]
        }
      ]
    },
    {
      "cell_type": "markdown",
      "source": [
        "Save the embedding in JSONL formt"
      ],
      "metadata": {
        "id": "TjgqsVjXb5KI"
      }
    },
    {
      "cell_type": "code",
      "source": [
        "import tempfile\n",
        "\n",
        "# Create temporary file to write embeddings to\n",
        "embeddings_file = tempfile.NamedTemporaryFile(suffix=\".json\", delete=False)\n",
        "\n",
        "embeddings_file.name"
      ],
      "metadata": {
        "colab": {
          "base_uri": "https://localhost:8080/",
          "height": 35
        },
        "id": "9J2u-tNob8dy",
        "outputId": "523de454-518c-4372-da33-af6f60be4cae"
      },
      "execution_count": 91,
      "outputs": [
        {
          "output_type": "execute_result",
          "data": {
            "text/plain": [
              "'/tmp/tmp14z9oui2.json'"
            ],
            "application/vnd.google.colaboratory.intrinsic+json": {
              "type": "string"
            }
          },
          "metadata": {},
          "execution_count": 91
        }
      ]
    },
    {
      "cell_type": "code",
      "source": [
        "import json\n",
        "import random\n",
        "\n",
        "BATCH_SIZE = 1000\n",
        "\n",
        "\n",
        "mylist = [\"even\", \"odd\"]\n",
        "\n",
        "\n",
        "with open(embeddings_file.name, \"a\") as f:\n",
        "    for i in tqdm(range(0, len(image_names), BATCH_SIZE)):\n",
        "        image_names_chunk = image_names[i : i + BATCH_SIZE]\n",
        "        image_paths_chunk = image_paths[i : i + BATCH_SIZE]\n",
        "\n",
        "        embeddings = encode_to_embeddings_chunked(\n",
        "            process_function=encode_images_to_embeddings, items=image_paths_chunk\n",
        "        )\n",
        "\n",
        "        # Append to file\n",
        "        embeddings_formatted = [\n",
        "            json.dumps(\n",
        "                {\n",
        "                    \"id\": str(id),\n",
        "                    \"embedding\": [str(value) for value in embedding],\n",
        "                    \"restricts\": [\n",
        "                        {\n",
        "                           \"namespace\": \"class\",\n",
        "                           \"allow_list\": [\"even\" if id % 2 == 0 else \"odd\"],\n",
        "                       }\n",
        "                ],\n",
        "            }\n",
        "        )\n",
        "            + \"\\n\"\n",
        "            for id, embedding in zip(image_names_chunk, embeddings)\n",
        "            if embedding is not None\n",
        "        ]\n",
        "        print(embeddings_formatted)\n",
        "        f.writelines(embeddings_formatted)\n",
        ""
      ],
      "metadata": {
        "colab": {
          "base_uri": "https://localhost:8080/",
          "height": 141
        },
        "id": "LdSClEFvcEI_",
        "outputId": "78241abf-6364-4cce-947f-a33fb3308ca2"
      },
      "execution_count": 99,
      "outputs": [
        {
          "output_type": "error",
          "ename": "SyntaxError",
          "evalue": "ignored",
          "traceback": [
            "\u001b[0;36m  File \u001b[0;32m\"<ipython-input-99-101ea17519aa>\"\u001b[0;36m, line \u001b[0;32m30\u001b[0m\n\u001b[0;31m    ],\u001b[0m\n\u001b[0m    ^\u001b[0m\n\u001b[0;31mSyntaxError\u001b[0m\u001b[0;31m:\u001b[0m closing parenthesis ']' does not match opening parenthesis '(' on line 21\n"
          ]
        }
      ]
    },
    {
      "cell_type": "code",
      "source": [
        "import json\n",
        "import random\n",
        "\n",
        "BATCH_SIZE = 1000\n",
        "\n",
        "\n",
        "mylist = [\"even\", \"odd\"]\n",
        "\n",
        "\n",
        "with open(embeddings_file.name, \"a\") as f:\n",
        "    for i in tqdm(range(0, len(image_names), BATCH_SIZE)):\n",
        "        image_names_chunk = image_names[i : i + BATCH_SIZE]\n",
        "        image_paths_chunk = image_paths[i : i + BATCH_SIZE]\n",
        "\n",
        "        embeddings = encode_to_embeddings_chunked(\n",
        "            process_function=encode_images_to_embeddings, items=image_paths_chunk\n",
        "        )\n",
        "\n",
        "        # Append to file\n",
        "        embeddings_formatted = [\n",
        "            json.dumps(\n",
        "                {\n",
        "                    \"id\": str(id),\n",
        "                    \"embedding\": [str(value) for value in embedding],\n",
        "            }\n",
        "        )\n",
        "            + \"\\n\"\n",
        "            for id, embedding in zip(image_names_chunk, embeddings)\n",
        "            if embedding is not None\n",
        "        ]\n",
        "        print(embeddings_formatted)\n",
        "        f.writelines(embeddings_formatted)\n",
        ""
      ],
      "metadata": {
        "id": "l_-lTjnbJfWb",
        "outputId": "8d91381f-7719-482b-e76d-416ed6a1276d",
        "colab": {
          "base_uri": "https://localhost:8080/",
          "height": 118,
          "referenced_widgets": [
            "50c9989efff743268620c4fe396acfd5",
            "4b2fb82d7ab94e9590036669002a6940",
            "e7a159a43a664a709741cf8746116ac5",
            "e9081b0c8807414dbc07cfadaaf1414f",
            "cd237f187a6e4db0a235d4fdc3c5b4f5",
            "d1ef3a5e084f48cba4377920453ab99e",
            "d18326ddd48d438f8253c9d4b7783cd0",
            "6392eddeb9bd441f985d59755436b129",
            "c07bf225525d41d69e8e657c15298521",
            "8d73b5d33d7d4185868f7e7b5ced45cf",
            "444bfc3684cc48fd9f0a06abf41cccd2",
            "6e1d62e2d8624e3cb68869e892dfcbb5",
            "153d1db9deba4ba284188dedb3d2b0b2",
            "e84ad517623f48e7b33b6557b4ceac30",
            "2841ed5ecc89411d8c90516802224a44",
            "894d57026d6a496ba1ad8e69777f5f69",
            "9487bb723a6c4f90a65f6740ed5dffcf",
            "277834a2042844bf9e6e0faa85dabb12",
            "7d60cd6112c24cda8b6a26e8abd1b6a3",
            "6483f3bb7c29452cafea185cd812e724",
            "257d23c7544a4cf4b82e7335f58f682d",
            "b16679924c6e439a957f6dbb1d8b0ca0"
          ]
        }
      },
      "execution_count": 100,
      "outputs": [
        {
          "output_type": "display_data",
          "data": {
            "text/plain": [
              "  0%|          | 0/1 [00:00<?, ?it/s]"
            ],
            "application/vnd.jupyter.widget-view+json": {
              "version_major": 2,
              "version_minor": 0,
              "model_id": "50c9989efff743268620c4fe396acfd5"
            }
          },
          "metadata": {}
        },
        {
          "output_type": "display_data",
          "data": {
            "text/plain": [
              "  0%|          | 0/3 [00:00<?, ?it/s]"
            ],
            "application/vnd.jupyter.widget-view+json": {
              "version_major": 2,
              "version_minor": 0,
              "model_id": "6e1d62e2d8624e3cb68869e892dfcbb5"
            }
          },
          "metadata": {}
        },
        {
          "output_type": "stream",
          "name": "stdout",
          "text": [
            "['{\"id\": \"0478630300_1_1_1.jpg\", \"embedding\": [\"0.00939771\", \"0.00320630195\", \"0.0214964133\", \"0.0266296659\", \"0.000151303204\", \"0.00731372414\", \"0.0142245702\", \"-0.0125016458\", \"0.00957506429\", \"-0.031479653\", \"0.0019768239\", \"0.0111591835\", \"0.00598156592\", \"0.0629666746\", \"0.012000992\", \"0.0320996307\", \"0.0123041524\", \"-0.0192180965\", \"-0.0078226\", \"-0.00696269283\", \"0.0750428066\", \"0.021321306\", \"0.0203706808\", \"0.0280105155\", \"0.0125085022\", \"-0.00622141175\", \"-0.00934535\", \"0.0157346539\", \"-0.0220802855\", \"-0.0309166647\", \"0.0483771712\", \"-0.0109937536\", \"0.0022644659\", \"-0.0154889254\", \"0.0465741083\", \"-0.0320549756\", \"-0.0237035193\", \"-0.0233516879\", \"-0.0198737644\", \"0.00969293714\", \"0.0153850969\", \"-0.00121042097\", \"0.0261063706\", \"-0.00498574879\", \"-0.00604273891\", \"0.00181908603\", \"-0.0241659638\", \"-0.00102724228\", \"0.00752828\", \"-0.0345865302\", \"-0.000926240347\", \"-0.00606819754\", \"-0.0092219552\", \"0.0265254062\", \"0.00889603328\", \"-0.0173123255\", \"-0.0135558425\", \"0.0364155956\", \"-0.0224182568\", \"-0.0109607838\", \"-0.0417675413\", \"0.00996566936\", \"0.0124634728\", \"-0.0110174539\", \"-0.0367255583\", \"-0.00801063\", \"-0.0148063786\", \"0.0232776701\", \"0.0185567718\", \"0.0231886879\", \"-0.00598150259\", \"0.00500631146\", \"-0.00508878799\", \"0.0174955968\", \"0.0569753647\", \"0.0332387462\", \"-0.01871939\", \"0.00944273639\", \"0.0460963137\", \"0.0127250189\", \"0.00702871708\", \"0.0440086424\", \"0.0210963208\", \"0.00416279538\", \"-0.0128113655\", \"0.0193799771\", \"0.020050494\", \"-0.0235434249\", \"0.00479650823\", \"-0.000965303567\", \"0.0194311347\", \"-0.0150688756\", \"-0.0233733468\", \"-0.197252437\", \"-0.0263922978\", \"-0.0154633503\", \"-0.0206195433\", \"-0.00397831108\", \"-0.0159804\", \"0.0459674262\", \"6.7836052e-05\", \"0.0402571224\", \"-0.0486058109\", \"0.00236124056\", \"0.0190303419\", \"-0.0113215111\", \"-0.0138985375\", \"0.0403756499\", \"-0.00911837257\", \"0.0505355895\", \"-0.0150982533\", \"0.0438149571\", \"-0.00531251449\", \"0.0203695\", \"0.0206926968\", \"-0.0173252877\", \"0.00530550955\", \"0.00938516576\", \"-0.0216415152\", \"-0.0138310269\", \"0.0164715182\", \"0.00616537826\", \"0.0151642654\", \"-0.00166031497\", \"-0.00275983615\", \"-0.0693230107\", \"0.0208188053\", \"-0.0217765328\", \"0.0258683488\", \"0.00294358633\", \"-0.0121079097\", \"0.0106493421\", \"-0.00828242581\", \"0.00555254146\", \"-0.0346242823\", \"-0.0643660352\", \"0.0287439842\", \"-0.0376667567\", \"0.0300660767\", \"-0.0365924649\", \"0.0167591\", \"-0.0159360152\", \"-0.0363235921\", \"0.0619049594\", \"0.0413312539\", \"-0.00578492414\", \"0.0363883078\", \"-0.0372811072\", \"-0.00919184089\", \"0.0215056296\", \"0.0210898127\", \"-0.0126698064\", \"0.00695501827\", \"-0.0524109118\", \"-0.0398465432\", \"-0.0417941436\", \"0.0132205365\", \"-0.0355584286\", \"0.0255853329\", \"0.00772297\", \"-0.0319962129\", \"0.00440206705\", \"0.00307738408\", \"-0.0180593394\", \"-0.0132109635\", \"0.0115244593\", \"0.000969486369\", \"-0.00680103\", \"0.00691274181\", \"-0.015955558\", \"-0.0118767181\", \"0.0135925189\", \"-0.0191194788\", \"0.0139287431\", \"0.0174284112\", \"-0.0132123027\", \"-0.0100309681\", \"-0.00799121521\", \"0.010601854\", \"-0.0182859059\", \"-0.0293163974\", \"0.0168192163\", \"-0.017804645\", \"0.00235355576\", \"-0.0334095769\", \"0.00543693639\", \"0.0060846596\", \"-0.0197164174\", \"0.0159985889\", \"0.057498727\", \"-0.0203406326\", \"-0.0127232205\", \"-0.00151420571\", \"0.00632877089\", \"0.0262271315\", \"0.0674817339\", \"0.0150975613\", \"-0.0159545802\", \"-0.00726183\", \"0.00323918252\", \"-0.0250072218\", \"-0.0246474296\", \"0.000348222762\", \"-0.0403277352\", \"0.0310742985\", \"0.03587275\", \"-0.0577393807\", \"0.0163443107\", \"0.0326809585\", \"-0.0400484391\", \"0.0163624417\", \"0.00528981211\", \"0.0241390709\", \"0.0490108393\", \"0.0275367796\", \"-0.0172015931\", \"-0.0186334103\", \"-0.0328937098\", \"-0.0619267821\", \"-0.0233260579\", \"-0.00380995707\", \"-0.00256196\", \"0.0319068618\", \"-0.0285517965\", \"-0.0162066743\", \"-0.0328960121\", \"0.00593647314\", \"-0.0230352264\", \"-0.0330967419\", \"0.00872773211\", \"0.013160876\", \"-0.017347293\", \"0.0274752863\", \"0.0265352279\", \"-0.0178123806\", \"-0.00681999279\", \"-0.00166133686\", \"-0.00712275552\", \"-0.052760914\", \"0.0028425476\", \"-0.00171320105\", \"-0.0103313979\", \"0.0167423096\", \"0.0302522294\", \"0.00822849665\", \"-0.00114090578\", \"-0.0156106278\", \"-0.0114095276\", \"0.00303801405\", \"0.0214681551\", \"0.0134557923\", \"0.000143025129\", \"-0.022310514\", \"0.0225833971\", \"-0.0303950161\", \"0.00251183333\", \"-0.0218545571\", \"-0.00344003853\", \"0.0328269303\", \"-0.00475769909\", \"-0.0350523032\", \"-0.00376223493\", \"-0.0256436355\", \"0.00832860637\", \"0.00279687881\", \"0.0122640505\", \"0.0359472819\", \"0.00531168375\", \"0.0332893915\", \"-0.0115460698\", \"-0.00268522417\", \"0.0270945225\", \"-0.0388561\", \"0.00587762566\", \"0.0124424268\", \"0.0264450051\", \"0.0254058\", \"-0.00258098263\", \"0.0152176796\", \"0.0521738343\", \"-0.0246587694\", \"0.00749368407\", \"-0.0234249681\", \"0.0336789191\", \"0.00941203348\", \"0.0116145741\", \"-0.168311521\", \"-0.00600586692\", \"0.011196238\", \"-0.042932827\", \"0.0294155329\", \"0.014129498\", \"-0.00357637694\", \"-0.0167434253\", \"-0.00976598635\", \"0.0424513\", \"0.0298251063\", \"-0.0161407124\", \"-0.026259698\", \"0.00972233526\", \"0.0028576809\", \"0.0419015922\", \"0.0289219879\", \"0.0130530186\", \"-0.014415917\", \"-0.0222903602\", \"-0.0144427167\", \"-0.0334896\", \"-0.00674604485\", \"0.0129758371\", \"-0.0274143331\", \"0.0210993532\", \"0.0282811187\", \"0.000701229321\", \"-0.00683011627\", \"-0.0120815802\", \"0.019728642\", \"0.02049895\", \"0.0234120078\", \"0.00406390894\", \"-0.0342914425\", \"-0.00456417352\", \"-0.00458446192\", \"-0.0355044752\", \"0.0159514584\", \"0.0239144601\", \"0.018245738\", \"0.0145680597\", \"-0.0027231588\", \"-0.000802167458\", \"0.0295209289\", \"-0.0427307487\", \"0.0136670349\", \"-0.0169694163\", \"-0.0500646457\", \"-0.0130444095\", \"-0.0089713214\", \"0.00852718763\", \"-0.0251257401\", \"-0.0353955515\", \"0.0524723269\", \"-0.0129731297\", \"0.00017952708\", \"0.00886464585\", \"-0.0103208637\", \"0.0352705419\", \"-0.00433968\", \"-0.00330185052\", \"-0.00761196204\", \"-0.00597514771\", \"-0.0273069274\", \"0.0310813226\", \"0.00512091\", \"-0.0023564077\", \"-0.0531644411\", \"-0.00249595381\", \"-0.0247118883\", \"-0.00892846\", \"0.0068897754\", \"-0.00336140953\", \"0.0236200336\", \"-0.0308624841\", \"0.0613691248\", \"0.00582543761\", \"0.00932205934\", \"-0.0490345508\", \"-0.033504162\", \"-0.0105192512\", \"-0.0825973824\", \"-0.00615962921\", \"-0.029615853\", \"-0.0127416691\", \"0.0302794296\", \"0.0234555025\", \"0.0047241468\", \"-0.0478942208\", \"-0.0278302878\", \"0.00286527746\", \"0.0205683485\", \"0.00510945311\", \"0.00634873705\", \"0.0101835774\", \"-0.00597798917\", \"-0.00232483307\", \"-0.0276758838\", \"0.0480559021\", \"0.0265072733\", \"-0.0274969544\", \"-0.0541086718\", \"-0.00564464973\", \"-0.0263873488\", \"0.00695127668\", \"0.0111473305\", \"-0.0266688056\", \"-0.00994209852\", \"-0.0306562129\", \"-0.0199823547\", \"0.0222517028\", \"0.0329969078\", \"-0.0399363637\", \"-0.0174024366\", \"0.00353340525\", \"0.0403390452\", \"0.00184662419\", \"-0.0148557443\", \"-0.00812488701\", \"-0.00281729642\", \"-0.045421876\", \"-0.0322980955\", \"0.00513254246\", \"-0.00261946372\", \"-0.0203066189\", \"-0.0352994539\", \"0.0316085964\", \"0.00813659281\", \"-0.0120440098\", \"-0.00823948\", \"-0.0278141759\", \"0.00332818273\", \"0.0285206102\", \"-0.0100316601\", \"0.0171888731\", \"-0.0228960831\", \"-0.000444579055\", \"0.0329432674\", \"-0.0402365662\", \"0.0032330323\", \"-0.0365489461\", \"-0.00612177374\", \"-0.00327949575\", \"-0.0106178932\", \"-0.0418662354\", \"-0.0486266613\", \"-0.0121850334\", \"-0.00990583189\", \"-0.0109882103\", \"0.016639309\", \"0.0115789175\", \"-0.0158097614\", \"-0.0175091196\", \"0.00791992713\", \"0.012194599\", \"-0.0278627\", \"0.0138529846\", \"-0.0194208901\", \"-0.0320879854\", \"0.0122068077\", \"0.0349154398\", \"0.0191762056\", \"0.042098891\", \"0.00834871642\", \"-0.00489858538\", \"0.000227870463\", \"-0.0276434422\", \"0.0137225427\", \"-0.0041628615\", \"0.00291438284\", \"-0.0145637468\", \"-0.00828661583\", \"0.0329552405\", \"0.0278014895\", \"-0.00987519138\", \"-0.00898925308\", \"0.00380848884\", \"0.0254674014\", \"-0.0111280829\", \"-0.0072361948\", \"-0.0207651723\", \"0.0043417695\", \"-0.00382444\", \"0.00153126242\", \"-0.00805151276\", \"-0.0288551301\", \"-0.0314036794\", \"-0.0115529774\", \"-0.00634400453\", \"0.0144382147\", \"0.0202767383\", \"0.00767297717\", \"-0.00946626905\", \"-0.0143379057\", \"-0.0273026731\", \"-0.00773011614\", \"0.0109260203\", \"-0.0330291279\", \"-0.0210956037\", \"0.035849493\", \"-0.0273670573\", \"0.0545875356\", \"0.0195275117\", \"0.00223727315\", \"-0.012370565\", \"0.0279606096\", \"-0.0525114313\", \"-0.0165695455\", \"-0.0125072328\", \"-0.0200821646\", \"0.0420044512\", \"-0.0290345717\", \"0.0100735193\", \"-0.0225679576\", \"0.0197689235\", \"-0.0371450782\", \"-0.0142698502\", \"0.0230008531\", \"-0.000745486293\", \"-0.0462688059\", \"0.0293619782\", \"0.0179514866\", \"-0.0108752968\", \"-0.00535076763\", \"0.0410137251\", \"0.0226001143\", \"0.0396751389\", \"-0.00044296516\", \"0.0358510055\", \"0.0128398128\", \"-0.0125450855\", \"0.0146026174\", \"0.0169748068\", \"-0.00686928397\", \"-0.0181923099\", \"-0.0126086585\", \"-0.0473164059\", \"-0.0194395371\", \"0.0115183005\", \"0.0164445527\", \"-0.0241576172\", \"-0.0335246027\", \"0.00541102141\", \"-0.00957930088\", \"-0.00401616702\", \"-0.0283060148\", \"0.0147562334\", \"0.018158935\", \"-0.0473901741\", \"-0.0288077351\", \"-0.0431261174\", \"-0.00504755415\", \"0.0292139482\", \"0.0332574584\", \"-0.0154006081\", \"-0.0120624388\", \"0.00311120017\", \"-0.043232806\", \"-0.000679123739\", \"0.0171141736\", \"-0.000509546895\", \"0.0445016176\", \"0.0198986474\", \"-0.0194461755\", \"-0.00453880895\", \"0.00545547577\", \"0.00506038684\", \"0.0137900598\", \"-0.0115999412\", \"0.0231303703\", \"-0.0218805335\", \"-0.0133418292\", \"-0.0313731954\", \"0.0250244178\", \"-0.028505303\", \"0.00111933565\", \"-0.00733705191\", \"0.00656967331\", \"0.0199964289\", \"-0.0326020792\", \"0.0129576884\", \"-0.02794265\", \"-0.0129696531\", \"-0.0332731865\", \"-0.0407583192\", \"-0.0260495916\", \"-0.0104980171\", \"-0.0113840718\", \"-0.0289244484\", \"-0.016020976\", \"0.00167815038\", \"-0.0141398311\", \"0.0132509554\", \"0.0496411547\", \"0.0398324281\", \"-0.0056260773\", \"0.0240646247\", \"-0.0563985333\", \"-0.0148309749\", \"-0.00782317575\", \"0.000594516168\", \"-0.0479523316\", \"0.00766881555\", \"0.0140467789\", \"0.0319914185\", \"0.0230720527\", \"-0.0152838007\", \"-0.0272550266\", \"0.0048722839\", \"-0.0111012831\", \"-0.00881481729\", \"-0.038800478\", \"-0.0129712559\", \"-0.00132120622\", \"0.00556372525\", \"-0.028667707\", \"-0.00633990858\", \"-0.0144895976\", \"0.0241853874\", \"-0.0165474806\", \"-0.0293290652\", \"-0.01752856\", \"-0.0210461393\", \"0.0251178183\", \"0.0307918023\", \"-0.023399692\", \"0.0255808383\", \"-0.0446761362\", \"0.0332532823\", \"0.00728346081\", \"-0.00886817276\", \"0.0120812487\", \"0.00682362635\", \"0.0221324619\", \"-0.00668632891\", \"0.00884764828\", \"-0.00425032713\", \"-0.00840441696\", \"-0.0138786286\", \"-0.0139142284\", \"0.0184614863\", \"0.0541504845\", \"0.0136379208\", \"-0.0397859886\", \"-0.0438266397\", \"0.00216633664\", \"0.0192642082\", \"0.0529809333\", \"0.00305373897\", \"-0.0106809158\", \"0.00577530405\", \"-0.000199337213\", \"0.035842441\", \"-0.00905820355\", \"0.0287919454\", \"-0.0129143521\", \"-0.00785444211\", \"0.000769041653\", \"-0.0320536867\", \"-0.0245744921\", \"-0.0145898489\", \"0.0124441246\", \"0.00504620792\", \"0.037131995\", \"-0.0208533648\", \"-0.000613590702\", \"-0.00170444639\", \"-0.00903089065\", \"0.0102941943\", \"-0.00516423304\", \"-0.0334584936\", \"-0.0353690945\", \"0.0223852247\", \"-0.124035992\", \"0.0015089229\", \"0.0538402945\", \"0.0199112911\", \"-0.00414926047\", \"0.0145790223\", \"0.00408519665\", \"0.000993870082\", \"-0.0409845598\", \"0.0118455645\", \"-0.00862149056\", \"0.0458870828\", \"-0.114615038\", \"0.0216613486\", \"-0.0112014124\", \"-0.000357739715\", \"-0.000662223145\", \"-0.0161507297\", \"-0.0111621981\", \"0.0309187938\", \"-0.0103999125\", \"-0.0144283129\", \"-0.052037634\", \"0.000402154314\", \"0.00683099916\", \"-0.0134044522\", \"0.00507206\", \"0.0347715169\", \"-0.0144226085\", \"-0.0051788222\", \"-0.038649492\", \"0.00272531901\", \"0.0308402777\", \"0.0305928439\", \"0.01119712\", \"0.0202513337\", \"0.0351986364\", \"-0.0295839328\", \"0.0246412642\", \"-0.0268044677\", \"0.0192855932\", \"0.00312666199\", \"0.00166715821\", \"-0.0405306518\", \"0.0180898\", \"0.0045138686\", \"0.0125539061\", \"0.0107139573\", \"0.0221200753\", \"-0.0501679704\", \"-0.016705269\", \"0.0265727453\", \"-0.0323376022\", \"-0.00548779266\", \"0.0335359089\", \"0.0160616469\", \"-0.0214123558\", \"0.0192993395\", \"-0.0230458453\", \"-0.00194096169\", \"-0.0431730449\", \"-0.0138221\", \"-0.0354438722\", \"-0.0448254719\", \"0.0259211604\", \"-0.0218282416\", \"0.0233355481\", \"-0.013317504\", \"0.0308370404\", \"-0.023787979\", \"0.008055076\", \"0.0191859622\", \"0.0186694637\", \"0.0022216728\", \"-0.0194575693\", \"-0.0459193178\", \"0.00034716411\", \"0.0197501387\", \"-0.0058777933\", \"0.0324156694\", \"-0.0502061248\", \"-0.00234568957\", \"-0.00351970107\", \"0.00422531599\", \"0.00495026726\", \"0.00564078661\", \"-0.0353511088\", \"0.00361662754\", \"-0.129228354\", \"-0.0114008179\", \"0.0247165188\", \"-0.0145488316\", \"0.0267400071\", \"-0.0459039509\", \"0.00511990301\", \"-0.0185346119\", \"-0.0118430406\", \"0.0162048526\", \"-0.00882820226\", \"-0.0292246155\", \"0.000735240406\", \"0.00255702715\", \"-0.0155845676\", \"0.00336198113\", \"0.00219500274\", \"-0.0272509083\", \"0.0292832442\", \"0.0143972374\", \"-0.0593367703\", \"-0.0177355558\", \"-0.00967215654\", \"-0.0398256965\", \"0.00956794\", \"0.0212051924\", \"-0.0252611749\", \"-0.0359833799\", \"0.0280124675\", \"-0.00505013717\", \"-0.0386882648\", \"-0.0117761837\", \"0.0130497022\", \"-0.0198125895\", \"0.0393631272\", \"0.0119230794\", \"-0.0516789146\", \"0.00265987893\", \"-0.0283391867\", \"-0.00640847\", \"-0.0310460199\", \"0.00958899781\", \"-0.0052188593\", \"-0.0132631417\", \"-0.0423327275\", \"0.0209021326\", \"0.0182006899\", \"0.0309767071\", \"-0.0123498254\", \"0.0158090573\", \"-0.0144577408\", \"-0.0257852525\", \"0.0428236127\", \"0.0431712568\", \"0.0255273469\", \"0.00479657622\", \"0.0237395689\", \"-0.0312358625\", \"0.0019322\", \"-0.0178152062\", \"0.0273232311\", \"0.014071703\", \"0.0150834927\", \"0.0212310236\", \"0.0406872109\", \"-0.00406173058\", \"-0.0716754124\", \"0.0140654352\", \"0.0253548902\", \"-0.0408611372\", \"-0.0469141863\", \"-0.0156926326\", \"0.0139652174\", \"0.0204335302\", \"0.0330250189\", \"0.033419\", \"0.0420403294\", \"-0.0136254467\", \"0.0166353751\", \"-0.00827556197\", \"-0.0058754012\", \"-0.0241298042\", \"0.0125102149\", \"-0.0180897042\", \"0.020029325\", \"0.0101788295\", \"-0.00292224926\", \"-0.00077896443\", \"0.000169437626\", \"0.0290979948\", \"-0.0119329104\", \"-0.00756362313\", \"0.00470187655\", \"-0.0113852816\", \"-0.00343519752\", \"0.0276232436\", \"0.0161235984\", \"-0.00390926\", \"-0.0250558406\", \"-0.0565222651\", \"-0.0145481033\", \"-0.0150471488\", \"-0.0330811292\", \"-0.00725248223\", \"-0.000298808154\", \"0.0092465682\", \"-0.0389563628\", \"-0.00545454258\", \"0.011442001\", \"-0.01346552\", \"-0.0206638109\", \"0.00208271341\", \"-0.043105226\", \"-0.0262798276\", \"-0.0024543961\", \"0.00696893921\", \"0.0210773684\", \"-0.0166959837\", \"0.0117773619\", \"0.00290690595\", \"-0.0289961323\", \"-0.011630795\", \"0.0166460183\", \"0.0400293581\", \"-0.00158265699\", \"-0.0261692498\", \"0.0251119211\", \"0.0578528419\", \"-0.0536015369\", \"-0.0127407378\", \"0.00199033669\", \"0.00398805272\", \"0.0152043719\", \"0.00880049448\", \"-0.0180444084\", \"-0.00492191548\", \"0.0407869\", \"-0.0159217194\", \"0.014110487\", \"0.014470553\", \"0.000855912105\", \"0.0212768503\", \"0.0035599242\", \"-0.0172043666\", \"0.0411590971\", \"0.00215945207\", \"-0.00149826589\", \"0.000831620884\", \"0.00824680924\", \"-0.00975967\", \"0.00513584819\", \"0.0589806736\", \"0.0151503542\", \"-0.022458123\", \"0.00435309857\", \"-0.0102580478\", \"0.00442760391\", \"0.0323334821\", \"0.0219021533\", \"-0.0120445974\", \"0.00435637869\", \"0.0125706904\", \"0.00125205913\", \"0.082215175\", \"-0.0340300724\", \"-0.00393038709\", \"-0.0109640146\", \"-0.0483952723\", \"0.0184564609\", \"-0.0211779624\", \"0.00824402459\", \"-0.00560884\", \"0.00975950249\", \"0.00359489932\", \"0.0276623\", \"0.0194053948\", \"0.0185642838\", \"0.0302226134\", \"-0.0115356911\", \"0.0141857341\", \"-0.0222874153\", \"-0.00956021342\", \"0.00904444326\", \"0.000386555243\", \"0.0414896607\", \"0.020504564\", \"0.0177021567\", \"-0.000707755\", \"-0.0640517846\", \"-0.0100380061\", \"0.0272649247\", \"0.0341211557\", \"-0.0417526849\", \"-0.00626232894\", \"0.0109662777\", \"-0.0829771832\", \"-0.0184951369\", \"0.0162964426\", \"-0.00965846144\", \"-0.0259198342\", \"-0.00497672195\", \"0.0403214544\", \"-0.0291094128\", \"-0.0231317449\", \"-0.00472433912\", \"0.00367932883\", \"0.00453982921\", \"0.010650319\", \"0.0097895842\", \"0.00907171611\", \"0.00288552628\", \"-0.024546802\", \"0.0491997339\", \"-0.0102033662\", \"0.0568408631\", \"0.0633376315\", \"0.0356827602\", \"-0.0224030167\", \"0.0221823696\", \"-0.00361684943\", \"-0.0307429936\", \"-0.0247641485\", \"0.0223090611\", \"-0.00379753252\", \"0.00169951178\", \"-0.0181436054\", \"-0.00616447767\", \"0.0133312102\", \"-0.00647361577\", \"-0.00158173521\", \"0.00444490183\", \"-0.0102899047\", \"-0.0382882431\", \"-0.0279644635\", \"0.0183961671\", \"0.00666980213\", \"-0.00692954892\", \"-0.00919663254\", \"-0.0448076166\", \"-0.0267214011\", \"-0.0507594831\", \"-0.0385573\", \"-0.0177311562\", \"-0.000270498334\", \"-0.0231771842\", \"-0.0497056097\", \"-0.0207985882\", \"-0.0560814366\", \"0.00822374\", \"0.0293853395\", \"-0.0252339151\", \"0.0132118044\", \"0.0195707083\", \"0.00901007932\", \"0.0191725921\", \"-0.0184042752\", \"0.0642798543\", \"0.0197750516\", \"-0.00415732339\", \"-0.0512369648\", \"0.00830026902\", \"-0.0592662916\", \"-0.0224219374\", \"-0.00532438327\", \"0.0177275557\", \"0.0208724272\", \"-0.0063770283\", \"-0.0216507856\", \"-0.0384314917\", \"0.0391221605\", \"0.00433120877\", \"0.0144616701\", \"0.00723241363\", \"-0.0127919633\", \"0.00654637534\", \"0.00525876\", \"0.000137405324\", \"0.0226415414\", \"-0.0324472301\", \"-0.00453712838\", \"0.00295895804\", \"-0.0310315825\", \"0.0353492536\", \"-0.0259207338\", \"-0.0232705493\", \"-0.0523467399\", \"0.00406230614\", \"0.0140444422\", \"-0.0108109796\", \"0.0124622248\", \"0.0190421622\", \"-0.0562821962\", \"-0.00413377443\", \"0.0105560599\", \"0.0111475959\", \"0.0387903899\", \"0.0247474071\", \"0.0193529855\", \"-0.0191602036\", \"0.00603498099\", \"0.0443909764\", \"0.0224705394\", \"0.00784142315\", \"-0.0101612927\", \"-0.0156270899\", \"-0.00384529587\", \"0.0249011777\", \"-0.0158406366\", \"-0.0253731739\", \"0.0248316415\", \"0.0218061525\", \"-0.0536738448\", \"-0.0254493076\", \"-0.00516314432\", \"0.0198653974\", \"-0.0107630398\", \"0.0189369917\", \"0.0187520832\", \"0.0545224436\", \"-0.00700271502\", \"0.010650713\", \"-0.015132959\", \"-0.0258396361\", \"-0.00547924032\", \"-0.0285670422\", \"-0.0109070903\", \"-0.0368392132\", \"0.053689193\", \"0.00250283629\", \"-0.0166792814\", \"0.00977925863\", \"0.00621893164\", \"0.0154552748\", \"0.0193386972\", \"0.010769139\", \"-0.0307110641\", \"0.0477200709\", \"-0.013598402\", \"-0.0380273312\", \"-0.023602061\", \"-0.00853861403\", \"-0.0135368323\", \"0.00314735388\", \"0.0182909947\", \"-0.0315091759\", \"-0.00276495982\", \"-0.00649802666\", \"0.0303509887\", \"-0.0467732772\", \"-0.0526002832\", \"0.0173531584\", \"0.00795387942\", \"0.00376303401\", \"-0.00529320817\", \"0.012463511\", \"-0.045459643\", \"0.0109637305\", \"-0.0228884704\", \"-0.0386276208\", \"-0.00873873569\", \"-0.0268254075\", \"-0.0100871241\", \"0.0200171545\", \"0.013623964\", \"-0.0463502668\", \"-0.00232978771\", \"0.0196020603\", \"-0.0674698725\", \"0.000421427569\", \"-0.0265062358\", \"0.0323727392\", \"0.0135094868\", \"0.0248559471\", \"0.0139600076\", \"0.0126580913\", \"-0.0138282077\", \"0.032569\", \"0.00452919025\", \"0.0260810964\", \"0.0142362528\", \"0.0311818011\", \"-0.0316007584\", \"0.0163575616\", \"-0.00675074244\", \"-0.0607018508\", \"-0.00943344273\", \"0.0061653154\", \"-0.0120672137\", \"-0.00504798954\", \"-0.0179677662\", \"0.0226649251\", \"-0.023146797\", \"-0.0263292417\", \"-0.00623552548\", \"-0.0253781062\", \"0.00907134544\", \"-0.0189303625\", \"-0.018888345\", \"-0.028732406\", \"-0.0152041642\", \"-0.00858886633\", \"-0.0525920242\", \"0.0161945987\", \"0.0128475139\", \"-0.0287705623\", \"0.000381990365\", \"-0.0116094192\", \"-0.0368454717\", \"0.0109496322\", \"-0.0605606809\", \"0.0620439462\", \"0.0112727238\", \"-0.0208575744\", \"-0.0105562126\", \"-0.00436106231\", \"-0.0892201\", \"0.00583023438\", \"-0.0103949588\", \"-0.00363988499\", \"0.0524153784\", \"-0.0126595804\", \"-0.0316265598\", \"0.035826657\", \"-0.0197757874\", \"0.0346624069\", \"-0.0106633054\", \"-0.0187309943\", \"0.00326637039\", \"0.0157505553\", \"-0.026751129\", \"0.0464106761\", \"-0.0259590484\", \"0.00248981081\", \"0.0174839031\", \"-0.0316195227\", \"0.0274385307\", \"0.0124666188\", \"-0.0258113518\", \"-0.00573795382\", \"-0.0236737616\", \"-0.00367210736\", \"-0.051888857\", \"-0.0290587507\", \"0.0305885933\", \"-0.0197025705\", \"-0.00765163219\", \"-0.0103003448\", \"0.0261921082\", \"-0.00951866526\", \"0.0113434419\", \"-0.0401799642\", \"-0.0393188223\", \"0.0342213698\", \"-0.00938455109\", \"-0.00501372805\", \"-0.0149037968\", \"0.0144243054\", \"0.016079111\", \"-0.00890522\", \"-0.0184571072\", \"-0.00737255299\", \"-0.0115740122\", \"-0.0279588066\", \"0.0353745334\", \"0.0229882021\", \"0.00769578945\", \"0.0178444441\", \"0.0195984021\", \"-0.014089941\", \"0.0167964511\", \"0.00709964195\", \"-0.0295978598\", \"-0.0140276374\", \"0.00656451797\", \"-0.0197184533\", \"-0.0127598792\", \"-0.0049416949\", \"-0.00739731779\", \"0.00392679\", \"-0.0624430403\", \"-0.00436308\", \"-0.0220697466\", \"0.0199466143\", \"0.0448136963\", \"-0.0168134924\", \"-0.00691225519\", \"-0.019921517\", \"-0.000165990918\", \"-0.00309256744\", \"-0.000825032243\", \"-0.0267321691\", \"0.0497167595\", \"0.00339371921\", \"0.00128737872\", \"-0.0184155442\", \"-0.0189856812\", \"0.0119041363\", \"-0.00408474309\", \"-0.0239534378\", \"0.0218954775\", \"0.0327616967\", \"-0.00229483843\", \"-0.0166204497\", \"-0.0274338722\", \"0.0297485907\", \"-0.00186469499\", \"0.00372277619\", \"0.00677196356\", \"-0.00870661065\", \"0.02438692\", \"-0.0139046386\", \"0.00318436278\", \"-0.0251106396\", \"-0.0296460185\", \"-0.00716008153\", \"-0.0261301491\", \"0.0257610418\", \"0.00326973852\", \"0.00944180228\", \"-0.0101823453\", \"-0.0234137531\", \"-0.0699757189\", \"-0.0377985947\", \"0.0133551368\", \"-0.0406298563\", \"-0.0442698225\", \"-0.0457115695\", \"0.0226132013\", \"0.0158522557\", \"-0.0216849912\", \"0.00931734778\", \"-0.0482156761\", \"-0.00861297362\", \"-0.0502303243\", \"0.0480104722\", \"-0.00563491974\", \"-0.0542162247\", \"0.00423635775\", \"0.043842081\", \"-0.00304961298\", \"-0.0389837287\", \"0.0489897504\", \"-0.028012719\", \"-0.0360629186\", \"0.0273409039\", \"0.00424531894\", \"0.000196420238\", \"-0.0260360856\", \"-0.00395989511\", \"-0.00269643147\", \"0.0505951941\", \"0.038063921\", \"-0.0227323\", \"0.031624414\", \"-0.00364935305\", \"-0.00287961191\", \"-0.0284054764\", \"-0.0166813862\", \"-0.00251147966\", \"0.0122181904\", \"-0.028058378\", \"0.0112196645\", \"0.025318509\", \"-0.00138703943\", \"-0.0154723134\", \"-0.0290694516\", \"-0.0736201406\", \"0.0179954879\", \"0.0189452283\", \"-0.0277282447\", \"0.0456276946\", \"0.0073753\", \"-0.113558479\", \"-0.00443795184\", \"-0.00847810321\", \"0.0379674621\", \"-0.00818938576\", \"-0.0767941102\", \"0.0434788093\", \"-0.0286129732\", \"-0.00767655158\", \"-0.041358266\", \"0.0717126429\", \"-0.011644722\", \"0.0154825542\", \"-0.0142682157\", \"0.0160759538\", \"-0.0168509372\", \"0.0123005016\", \"-0.0524542406\", \"-0.00523343543\", \"-0.00220056507\", \"-0.0198544897\", \"-0.0176269393\", \"0.0215377174\", \"-0.0122941602\", \"-0.0110489111\", \"0.0131577188\", \"-0.0258711297\", \"0.0304799415\", \"0.0123758493\", \"0.0088114664\", \"-0.00252282876\", \"-0.0466501117\", \"0.0294914469\", \"-0.0380397439\", \"-0.0284016747\", \"-0.00878872722\", \"0.0135867922\", \"0.0228894595\", \"0.0107395463\", \"0.0201773476\", \"0.00323997601\", \"0.000607050373\", \"-0.0175468735\", \"0.0136842784\", \"-0.00622533821\", \"0.00682149315\", \"0.00892096665\", \"0.0612743348\", \"0.0330068469\", \"-0.0034754239\", \"0.0325734392\", \"0.0114486404\", \"-0.0135758659\", \"-0.0285790507\", \"-0.0432595313\", \"-0.0131047973\", \"-0.0267142113\", \"-0.0323453955\", \"0.0179772787\", \"-0.0486450419\", \"-0.0192613751\", \"0.0165211949\", \"0.00776109379\", \"0.0368678905\", \"-0.00558977155\", \"0.0396990366\", \"0.00196716655\", \"-0.0418420956\", \"-0.00176868041\", \"0.0140970573\", \"-0.00896517094\", \"-0.00828046631\", \"0.019095378\", \"-0.0503679775\", \"-0.00221808231\", \"-0.00850321539\", \"0.0292388741\", \"0.000478491216\", \"-0.0158073902\", \"-0.00450314349\", \"-0.0240488425\", \"0.00229139323\", \"-0.0387899764\", \"-0.021279024\", \"-0.0180668123\", \"0.0235641077\", \"0.0192524604\", \"0.000283517234\"]}\\n', '{\"id\": \"0485561712_6_1_1.jpg\", \"embedding\": [\"-0.00153452531\", \"0.0553186312\", \"0.00849959813\", \"-0.0471545681\", \"-0.0406896\", \"-0.0244010985\", \"0.0263255909\", \"0.0393234827\", \"-0.0159645509\", \"0.0162856057\", \"0.0263203979\", \"0.0121827284\", \"-0.0165718142\", \"0.051009547\", \"-0.0477231629\", \"-0.0496409796\", \"0.0191673804\", \"0.00310227694\", \"-0.00132356433\", \"-0.0116331009\", \"0.100290738\", \"0.0171306804\", \"-0.00116835139\", \"0.0215424858\", \"0.016042972\", \"-0.0017784934\", \"-0.0158428904\", \"0.00281599513\", \"0.0146379182\", \"-0.0207612924\", \"0.0223604068\", \"0.00342625217\", \"-0.00199820846\", \"0.0119350534\", \"-0.00327405636\", \"-0.0139759211\", \"-0.0154747441\", \"-0.0588484518\", \"-0.0366987623\", \"-0.00406309543\", \"0.0368223898\", \"0.00294711906\", \"-0.00773046259\", \"-0.0344099477\", \"-0.0196178779\", \"-0.0155118806\", \"-0.000174351531\", \"-0.03539\", \"0.00198401604\", \"-0.033503484\", \"0.0333987735\", \"-0.0173199475\", \"0.0252733454\", \"0.0150835579\", \"0.00977338199\", \"0.0113723986\", \"0.0116808452\", \"-0.0156603307\", \"0.00819468871\", \"-0.0637570918\", \"-0.0222650357\", \"-0.00190263346\", \"-0.0245466512\", \"-0.000659611658\", \"-0.000513991574\", \"-0.00889235362\", \"-0.00832309946\", \"-0.0235587172\", \"0.0263200924\", \"0.0180176347\", \"-0.00268980651\", \"0.034647774\", \"0.0221675225\", \"0.0109322341\", \"0.0244393386\", \"-0.00719672255\", \"-0.0425762981\", \"0.028518945\", \"0.0511426851\", \"-0.018582385\", \"-0.0432790443\", \"-0.0344783701\", \"0.0440044329\", \"0.021615617\", \"0.0182170607\", \"-0.00647048093\", \"0.0183733776\", \"0.00357721117\", \"-0.0431918353\", \"-0.0403874256\", \"-0.0326641724\", \"0.00417590514\", \"-0.00468426757\", \"-0.154398024\", \"-0.0310503729\", \"-0.0224502571\", \"-0.0174622331\", \"0.00361871114\", \"-0.0103334719\", \"0.0385404751\", \"-0.0339303873\", \"-0.00338267884\", \"-0.0484472811\", \"-0.0178474542\", \"0.00709290896\", \"0.0028817635\", \"-0.00420668628\", \"-0.0141093032\", \"0.00767254131\", \"0.0372324549\", \"-0.0217857622\", \"0.0100810369\", \"0.00468479749\", \"-0.0434023\", \"0.0202262457\", \"-0.033535827\", \"-0.0400826447\", \"0.0101179807\", \"-0.037076477\", \"-0.0172264464\", \"-0.0272847619\", \"0.0172730088\", \"0.00575489039\", \"-0.0118145635\", \"-0.00904821139\", \"-0.0729045272\", \"-0.0483698845\", \"-0.00247228704\", \"0.0661513433\", \"-0.0514930598\", \"-0.01799592\", \"0.0304923635\", \"0.0163201354\", \"-0.00022971211\", \"0.00449734321\", \"-0.0165530853\", \"-0.0172617789\", \"0.00763373496\", \"0.000428769708\", \"0.00926945265\", \"0.0171739031\", \"-0.0194011629\", \"0.0211237781\", \"0.0213490352\", \"-0.0036077504\", \"-0.0127557945\", \"0.0430887192\", \"0.000993292197\", \"-0.0318344161\", \"0.0211820845\", \"0.02168498\", \"0.0278562885\", \"0.0283641666\", \"0.0298383664\", \"0.000219452602\", \"-0.00519621372\", \"0.0448998697\", \"-0.00673552183\", \"-0.0120871896\", \"0.0684149861\", \"-0.0155200418\", \"-0.0269711614\", \"0.0201090686\", \"0.0448192954\", \"0.0146620562\", \"0.00110295415\", \"-0.00315193622\", \"0.0348484144\", \"-0.023711849\", \"-0.0127790729\", \"-0.00676926831\", \"0.000133713853\", \"0.009012\", \"0.00539676752\", \"0.0145762041\", \"-0.0149953654\", \"-0.0132938577\", \"-0.00530447299\", \"-0.0030030706\", \"0.00449594576\", \"0.00840825774\", \"-0.0101323314\", \"-0.0196714699\", \"-0.00649030786\", \"-0.0328868963\", \"0.046178367\", \"-0.0377310067\", \"0.0108357212\", \"0.0313267186\", \"0.0507421941\", \"-0.0169242453\", \"-0.0226757117\", \"-0.0234861523\", \"-0.0306209233\", \"-0.0162679963\", \"0.0207511969\", \"0.0188312363\", \"-0.0245971903\", \"0.0270770229\", \"-0.028019296\", \"-0.00963822566\", \"-0.00652910629\", \"0.0129292719\", \"-0.0197089948\", \"0.0282857437\", \"0.0345054269\", \"-0.0500941202\", \"-0.00204786216\", \"0.00288459961\", \"0.0107387705\", \"-0.00361668947\", \"-0.0340623967\", \"0.023912983\", \"0.00551284943\", \"0.0659785196\", \"0.00766818412\", \"0.00766623486\", \"0.0172534361\", \"0.024953533\", \"-5.22154187e-05\", \"-0.0410055257\", \"-0.000638038735\", \"-0.0262316279\", \"-0.0234583\", \"0.0221553389\", \"0.0286204573\", \"0.00370581076\", \"-0.015514507\", \"-0.0457060747\", \"0.0146327373\", \"-0.0420195684\", \"-0.0387076922\", \"-0.0106302882\", \"0.0106078302\", \"-7.9389727e-05\", \"-0.0107204169\", \"-0.00353088439\", \"0.0470086783\", \"-0.0191679131\", \"-0.0120762428\", \"0.00707941176\", \"0.0131531032\", \"-0.0343737975\", \"-0.0321854576\", \"-0.0104737505\", \"-0.0489998609\", \"-0.0435862355\", \"-0.0128457136\", \"0.0320942625\", \"-0.00675993599\", \"-0.00775070628\", \"-0.0325541\", \"-0.026743073\", \"0.0339202397\", \"-0.0458947979\", \"-0.0201341063\", \"0.0188229736\", \"-0.00483204285\", \"-0.00407870067\", \"0.0165620968\", \"-0.00666615507\", \"0.0293895938\", \"-0.0165906195\", \"0.0215070229\", \"-0.0294551793\", \"0.0329472646\", \"0.0124710044\", \"-0.00354118901\", \"0.0202368\", \"-0.00152830523\", \"0.0144508714\", \"0.000194715496\", \"-0.0318052657\", \"0.0154394489\", \"0.0321651809\", \"0.027400218\", \"0.0123705361\", \"0.0597977079\", \"0.012235567\", \"0.0657213107\", \"-0.00764898956\", \"-0.0128885685\", \"0.0142005309\", \"-0.00392715726\", \"0.024621604\", \"0.0158836264\", \"-0.179385364\", \"0.0402850434\", \"0.0122168958\", \"0.0339571349\", \"-0.03097184\", \"-0.0213280395\", \"-0.00293054711\", \"-0.0313850231\", \"-0.0327068083\", \"0.0242181458\", \"0.0119604869\", \"-0.0127389422\", \"-0.00846696179\", \"-0.00137251359\", \"-0.0361077338\", \"-0.0233555697\", \"-0.00365256355\", \"-0.0278816875\", \"-0.00493164081\", \"0.000304830231\", \"-0.0570925698\", \"0.0118468106\", \"0.0128417769\", \"0.0202180129\", \"0.0385796651\", \"-0.00523065031\", \"-0.0330316313\", \"-0.0137337055\", \"-0.0228151195\", \"-0.0378145874\", \"0.0195971038\", \"0.0118760085\", \"-0.00570198102\", \"-0.0264229346\", \"-0.0286984853\", \"-0.0101664606\", \"0.00694978237\", \"0.00102711946\", \"-0.0122421738\", \"0.00415554829\", \"-0.0533110797\", \"0.0123375794\", \"0.00721987337\", \"0.0400958769\", \"0.00435806857\", \"0.0133196991\", \"-0.00314316\", \"0.0128654456\", \"0.013937599\", \"0.0430745557\", \"0.0130258491\", \"0.00937233213\", \"0.0195692573\", \"0.0158529822\", \"-0.00519139133\", \"0.0181775149\", \"-0.0170182157\", \"0.0329722092\", \"-3.24862085e-05\", \"0.0345894843\", \"0.00346607016\", \"-0.016714843\", \"-0.00988633\", \"0.0450696126\", \"-0.0176708288\", \"-0.00779692316\", \"-0.0247456282\", \"-0.0125092147\", \"0.00777795305\", \"0.00852963515\", \"0.0190375242\", \"0.00938396901\", \"0.00199777028\", \"-0.0285426136\", \"0.00267002336\", \"-0.0366319679\", \"0.0484845378\", \"0.0442916863\", \"-0.00236608554\", \"-0.0344966725\", \"0.0280359313\", \"0.00451389374\", \"-0.0359298512\", \"0.0173178855\", \"-0.0160256196\", \"-0.0193828568\", \"-0.0165141877\", \"0.00872145779\", \"0.0240222756\", \"-0.0188911073\", \"0.00657923706\", \"-0.0200862698\", \"-0.0186349936\", \"0.0424576141\", \"0.0282841399\", \"0.0343473442\", \"0.0384466946\", \"-0.0259570517\", \"-0.0341704823\", \"-0.0196073651\", \"0.0253419057\", \"-0.0339052193\", \"-0.00617021928\", \"-0.00469671795\", \"-0.0224232972\", \"-0.0218523759\", \"0.0353518426\", \"-0.0162626524\", \"-0.0595705025\", \"0.0122654308\", \"0.0510723516\", \"-0.0100781638\", \"0.0219899975\", \"-0.0409622081\", \"0.00919620879\", \"0.0101938136\", \"0.00620705169\", \"0.000724732818\", \"0.0269705448\", \"-0.022884775\", \"0.0385177433\", \"-0.0339595415\", \"-0.0309624746\", \"0.0187812205\", \"-0.0548959859\", \"0.0319022536\", \"-0.0101465369\", \"0.0067497883\", \"-0.00506661413\", \"-0.00231830659\", \"-0.0078340536\", \"-0.00154636288\", \"-0.00151698466\", \"0.00767086819\", \"0.039391011\", \"-0.017593395\", \"0.00945930183\", \"-0.00799797848\", \"0.0173471849\", \"0.0341664515\", \"-0.0414845422\", \"-0.0285861213\", \"-0.000663042476\", \"-0.00593961217\", \"0.0306979083\", \"-0.00657434063\", \"-0.0292147882\", \"0.0290455222\", \"-0.0216553826\", \"-0.0310681164\", \"-0.00578173436\", \"-0.0248801447\", \"-0.0395580716\", \"-0.0168381408\", \"-0.00188606896\", \"-0.00459377607\", \"-0.0078611346\", \"0.0156796128\", \"-0.00306751672\", \"-0.0087325\", \"-0.0471678264\", \"-0.0207689926\", \"0.0346862152\", \"-0.00039393676\", \"-0.0164129511\", \"-0.00501524098\", \"0.0243238583\", \"0.0116680255\", \"-0.00659489259\", \"0.00800524373\", \"0.0222995672\", \"-0.0337492712\", \"0.00514892163\", \"-0.0333810076\", \"-0.0194232557\", \"-0.0133268628\", \"0.028458124\", \"-0.0082423985\", \"0.0299263969\", \"0.0162161011\", \"0.0147351678\", \"-0.00454229768\", \"0.0176376011\", \"0.00433751568\", \"-0.0191234872\", \"-0.00773514528\", \"0.000933545292\", \"0.00308935903\", \"-0.0387881063\", \"-0.00386514794\", \"-0.0139362933\", \"-0.00149224512\", \"0.0142961256\", \"-0.0291994084\", \"-0.00946685858\", \"-0.0360805355\", \"-0.0126218852\", \"0.007641993\", \"-0.0284485612\", \"-0.0195686128\", \"0.010410931\", \"0.0137809757\", \"-0.00282166107\", \"-0.0510771573\", \"0.0473421551\", \"0.0595707\", \"0.0118783265\", \"-0.055568371\", \"-0.0410394967\", \"0.010621882\", \"0.0106486706\", \"-0.00484743388\", \"-0.0333446376\", \"0.0372779593\", \"0.0216769241\", \"-0.0272712503\", \"-0.0278422534\", \"-0.040055614\", \"0.00867198128\", \"0.00164666469\", \"-0.0460718572\", \"0.0267131496\", \"0.00259431754\", \"-0.049138952\", \"-0.0216363501\", \"-0.0384147651\", \"0.0157525279\", \"-0.006068232\", \"-0.00263850298\", \"0.00995473657\", \"0.00804672763\", \"0.00340701896\", \"-0.012122144\", \"-0.0236210078\", \"0.00924015604\", \"0.0267552324\", \"0.00302706426\", \"-0.0140753053\", \"-0.00528067164\", \"-0.0107586095\", \"-0.0305361114\", \"-0.00181719742\", \"0.00474868435\", \"0.0184660107\", \"0.0130625637\", \"0.00407693395\", \"0.0166391507\", \"-0.00424403185\", \"0.0135523332\", \"-0.00383254653\", \"0.0106139323\", \"0.0249034017\", \"-0.0360209\", \"-0.0351995789\", \"0.0144402161\", \"0.0121887159\", \"0.00766261667\", \"0.0205369424\", \"0.00216753175\", \"-0.0175444651\", \"0.00165677851\", \"-0.0355720483\", \"-0.0109055527\", \"0.00218376564\", \"-0.0484437\", \"-0.00222042226\", \"-0.00301691564\", \"-0.00720412796\", \"-0.0127571709\", \"-0.000882933266\", \"0.0269499943\", \"0.0155631136\", \"-0.0365680456\", \"-0.0237045884\", \"0.0196512789\", \"0.0233525503\", \"0.00519674364\", \"0.00783649459\", \"0.0463526919\", \"-0.017591292\", \"-0.05394236\", \"0.019466728\", \"0.0263978317\", \"-0.0125888241\", \"-0.0240533687\", \"-0.0193631\", \"-0.00912093837\", \"-0.0110692903\", \"-0.00787107088\", \"-0.00987345073\", \"-0.0325287543\", \"-0.0115140723\", \"-0.0195049308\", \"-0.00925831497\", \"-0.0512285642\", \"-0.0116079887\", \"-0.0067179841\", \"0.0067932792\", \"-0.0254564304\", \"-0.0226788055\", \"0.032285478\", \"-0.02098\", \"-0.0377177261\", \"0.00834175292\", \"0.00927413814\", \"0.0291042775\", \"0.0276438035\", \"0.00705606909\", \"0.00798354857\", \"0.0242387317\", \"0.0271292385\", \"-0.0172258243\", \"-0.016902443\", \"-0.00743250316\", \"-0.040803235\", \"-0.0189249124\", \"-0.0258538779\", \"-0.0354435556\", \"-0.0369124115\", \"-0.0211541876\", \"0.00156287826\", \"-0.0103643024\", \"-0.0145547157\", \"0.0177016668\", \"-0.00776354549\", \"0.000701144803\", \"0.0108611463\", \"-0.0107453847\", \"-0.00466233352\", \"-0.00201101927\", \"0.0300081726\", \"0.00104507408\", \"0.0233209953\", \"-0.0191998072\", \"-0.00489679351\", \"-0.00660850899\", \"0.039382495\", \"-0.0184513126\", \"-0.00746600097\", \"0.00292831613\", \"0.00509990472\", \"-0.0180252921\", \"0.0166868549\", \"-0.0102064218\", \"-0.0390525535\", \"-0.0199793577\", \"-0.00168282096\", \"0.0374172479\", \"-0.023876667\", \"0.0072789\", \"-0.0359287\", \"-0.0380916633\", \"-0.0376235656\", \"0.0142029645\", \"0.0232440904\", \"0.0591084696\", \"-0.000629251823\", \"-0.0212751385\", \"0.017783327\", \"-0.033399608\", \"0.0258517228\", \"-0.0445802\", \"0.0171220191\", \"-0.0196017679\", \"0.00542869186\", \"0.0215174444\", \"0.0104783708\", \"-0.0209331941\", \"0.0363998078\", \"0.0261688493\", \"0.00810705312\", \"-0.00749747083\", \"-0.0148047088\", \"0.0276273768\", \"-0.148319885\", \"-0.0106188264\", \"0.004033159\", \"0.00393207045\", \"-0.0338110588\", \"-0.0329985358\", \"-0.021023171\", \"-0.0407146886\", \"-0.00133883196\", \"0.0329180099\", \"0.00966291595\", \"0.0430607\", \"-0.22881715\", \"0.00184999348\", \"-0.00601605093\", \"-0.0182508584\", \"0.0117285131\", \"-0.0102209\", \"-0.0407492\", \"-0.0287655853\", \"-0.0272483062\", \"-0.0367096737\", \"-0.0106518585\", \"-0.0214543939\", \"0.0465430431\", \"0.0300636888\", \"0.0737201571\", \"0.0431506783\", \"-0.0160437077\", \"0.00375528284\", \"-0.0207102373\", \"0.016464347\", \"0.0160248168\", \"0.0434174575\", \"-0.0338466614\", \"-0.0396130309\", \"-0.0396227725\", \"0.0295442976\", \"-0.00875882152\", \"-0.0118184211\", \"0.0109293628\", \"-0.00651288079\", \"0.0443032756\", \"-0.035759557\", \"0.00890447665\", \"0.00257442449\", \"-0.00720470678\", \"-0.0294487793\", \"-0.0210339036\", \"-0.0540915132\", \"0.0565561838\", \"-0.0132667413\", \"0.0117391143\", \"-0.0304174833\", \"-0.00673881965\", \"-0.0266940612\", \"0.0195704\", \"0.00196736399\", \"-0.0120648118\", \"0.00103379937\", \"-0.0511056967\", \"0.0430136099\", \"-0.0585392788\", \"-0.00510546938\", \"0.019966593\", \"-0.00137122383\", \"0.0352546088\", \"0.00113984861\", \"-0.0179075077\", \"0.0230547078\", \"0.00872578844\", \"0.0304543339\", \"0.00288597122\", \"0.0194760691\", \"0.0100051397\", \"0.0260940902\", \"0.00214896281\", \"-0.0217032228\", \"0.0255324244\", \"0.0101963896\", \"-0.0322107\", \"0.00870007742\", \"0.038493108\", \"-0.00847610738\", \"-0.0168211162\", \"0.0120138619\", \"-0.0392587036\", \"-0.0138440654\", \"-0.178146198\", \"-0.00156251702\", \"0.00191762438\", \"0.00963897724\", \"0.0133973369\", \"-0.0252272971\", \"0.0042546941\", \"0.0137245702\", \"0.0251567438\", \"-0.00993953552\", \"-0.0103020146\", \"0.00543830171\", \"0.014546576\", \"-0.0458796732\", \"-0.0123169692\", \"0.0173720717\", \"0.0427226275\", \"-0.014014408\", \"0.00788535364\", \"-0.00844120514\", \"0.00452268822\", \"-0.00416918518\", \"0.0114218807\", \"0.00112984516\", \"-0.01723947\", \"-0.000642061\", \"-0.0009123403\", \"0.0225196611\", \"-0.0196812861\", \"-0.00988382567\", \"-0.0372901075\", \"-0.0141206821\", \"0.00945522822\", \"-0.0145846801\", \"0.00786956772\", \"-0.0184283461\", \"-0.00904175267\", \"0.00302991737\", \"0.0018775881\", \"-0.00726713659\", \"-0.023466127\", \"0.00560035324\", \"0.041974172\", \"0.0260506235\", \"-0.0556083955\", \"0.01605675\", \"-0.0224062745\", \"0.00584601145\", \"-0.0181558486\", \"-0.00988890883\", \"-0.0160122011\", \"-0.0225835145\", \"0.0646407083\", \"-0.0192145817\", \"-0.0391022973\", \"0.0204837229\", \"0.00293246098\", \"-0.000549051794\", \"0.010754928\", \"-0.00317861629\", \"-0.00417376589\", \"-0.0058527072\", \"-0.0315357707\", \"-0.00394480862\", \"0.0166873895\", \"-0.023151936\", \"-0.0261751134\", \"0.00132747763\", \"0.0134458421\", \"-0.0682027265\", \"-0.003555045\", \"0.0213075243\", \"0.0128956335\", \"0.0353324562\", \"0.0219906271\", \"0.0284094606\", \"-0.0141258873\", \"0.0281685144\", \"0.0112132765\", \"0.0204451941\", \"0.02354802\", \"-0.00317103742\", \"-0.00180981297\", \"0.0156087084\", \"0.0222513434\", \"-0.0385944843\", \"0.0142599521\", \"-0.0229906291\", \"-0.0231427066\", \"0.0283659976\", \"0.0306040533\", \"-0.00698663294\", \"0.0307723656\", \"0.0189424735\", \"0.00772602577\", \"0.0126674548\", \"0.00793711096\", \"-0.0221429095\", \"0.0287524294\", \"0.0184656866\", \"0.0162295625\", \"0.0583189279\", \"-0.0344229788\", \"-0.0265892521\", \"-0.0116730388\", \"0.0294077657\", \"0.00920880679\", \"-0.0345080532\", \"0.00918693189\", \"0.0127556492\", \"-0.0365569666\", \"-0.000759435759\", \"-0.0338621624\", \"-0.0170214046\", \"-0.0217233226\", \"0.0164619032\", \"0.00513497274\", \"-0.00690321671\", \"0.00226719514\", \"0.0105305715\", \"0.0141090592\", \"-0.0138120297\", \"-0.0279282536\", \"-0.00656076334\", \"0.0220564976\", \"-0.0266275425\", \"-0.0132022407\", \"0.00317975716\", \"0.0109935934\", \"-0.00976431835\", \"0.00482658762\", \"0.0140643865\", \"0.0104442174\", \"0.0342386477\", \"0.00580725633\", \"-0.0102382032\", \"0.0243403185\", \"-0.035023421\", \"0.00110404822\", \"0.00388213457\", \"-0.00173518271\", \"0.0100722816\", \"0.0261892695\", \"-0.0165835656\", \"0.0320941098\", \"-0.0218497\", \"-0.0268969927\", \"-0.0321877636\", \"-0.00485833222\", \"-0.0403226241\", \"-0.0134419911\", \"0.0160943251\", \"0.0148492781\", \"0.0323560536\", \"-0.0434381962\", \"0.00312039396\", \"0.00525408564\", \"-0.0234440956\", \"0.0118735619\", \"-0.0200269353\", \"-0.0311041493\", \"0.00210594735\", \"-0.0120869884\", \"0.0966411084\", \"0.0188493971\", \"-0.014462064\", \"0.0374102108\", \"0.0060947868\", \"0.0229665171\", \"0.0480171554\", \"-0.000114628907\", \"-0.00512584345\", \"0.0164353438\", \"0.00509543577\", \"0.0310426578\", \"0.0102582732\", \"0.0232857801\", \"0.0609522797\", \"0.00554911513\", \"-0.0126883024\", \"0.0242432728\", \"0.00391051406\", \"0.0129710687\", \"-0.00445140759\", \"-0.0239126924\", \"-0.0158741828\", \"-0.0262995586\", \"-0.0564608388\", \"-0.0302177723\", \"-0.0256533455\", \"-0.0155492071\", \"-0.00636873301\", \"-0.000942975108\", \"0.000972201407\", \"-0.0189631321\", \"-0.0416472182\", \"0.000927462941\", \"-0.0102269221\", \"0.014582891\", \"0.00439788587\", \"-0.0354693197\", \"0.0116865598\", \"-0.00482785096\", \"0.00676159747\", \"-0.0210932437\", \"-0.0283839572\", \"0.019652158\", \"-0.0336850286\", \"-0.0186060593\", \"-0.0166627131\", \"0.011511174\", \"0.0215092096\", \"0.0690966174\", \"-0.0181705691\", \"-0.0197644178\", \"0.069630608\", \"0.0239266213\", \"-0.0125065101\", \"-0.0545692444\", \"-0.0195587613\", \"-0.0183465332\", \"-0.0217226651\", \"0.0122193228\", \"0.0024033112\", \"0.0630191\", \"-0.0112556377\", \"-0.0498692133\", \"0.00730291381\", \"-0.0130500728\", \"-0.0240023546\", \"-0.0252858121\", \"0.00943055656\", \"-0.0132550448\", \"0.0108411973\", \"0.0176909268\", \"-0.00678983\", \"0.0166797303\", \"0.0379013754\", \"0.0146858338\", \"-0.0235847514\", \"-0.0483266935\", \"-0.0134207616\", \"-0.00319685391\", \"-0.0475957021\", \"-0.0130004212\", \"-0.00936804526\", \"-0.0198048539\", \"-0.0430643521\", \"-0.0101630408\", \"-0.0136570567\", \"-0.0359377414\", \"-0.00945255719\", \"-0.0179277509\", \"-0.0138652725\", \"0.000453259941\", \"-0.0517176352\", \"-0.0314634517\", \"-0.011320754\", \"-0.0192972366\", \"-0.0121603096\", \"0.00770428032\", \"-0.0432783887\", \"-0.0203288\", \"-0.00694943266\", \"0.020024145\", \"-0.0428988934\", \"0.00144128513\", \"-0.0233796537\", \"-0.0379358828\", \"0.0513744913\", \"0.00834819674\", \"0.0324578546\", \"0.0468450859\", \"0.0154387597\", \"-0.00552946469\", \"-0.00139238033\", \"0.0345930532\", \"0.00177050557\", \"-0.00912600942\", \"0.0135735394\", \"0.0146728018\", \"-0.0369830914\", \"-0.0034836866\", \"0.0136043979\", \"0.00475250185\", \"0.013124493\", \"-0.0269384515\", \"0.0433102362\", \"0.0355577916\", \"0.00166755577\", \"0.0337534659\", \"-0.016264759\", \"0.0155018009\", \"0.0248582922\", \"-7.43475903e-05\", \"-0.0376416631\", \"0.0112032881\", \"-0.00324334018\", \"-0.0207644887\", \"-0.0172275\", \"0.012404873\", \"0.00304161431\", \"-0.00466713\", \"0.00148260291\", \"-0.0211751051\", \"-0.00370754814\", \"-0.00128390617\", \"0.0113325929\", \"-0.0132062463\", \"0.00987703539\", \"-0.0155077511\", \"-0.0295881759\", \"0.0170983505\", \"0.0145440605\", \"-0.00597527437\", \"0.00188339117\", \"-0.0460484885\", \"0.00491534779\", \"0.00485801743\", \"0.00181134592\", \"-0.0269325636\", \"-0.041802261\", \"-0.020192083\", \"0.0190323032\", \"0.010834326\", \"0.00169332523\", \"0.00804227404\", \"0.0331423357\", \"-0.0118807545\", \"0.0137309413\", \"0.0107406694\", \"0.00494874455\", \"0.0329097733\", \"-0.00765848812\", \"-0.00920435\", \"0.0103113074\", \"0.0172736198\", \"-0.000588163035\", \"0.0133985924\", \"0.0010722992\", \"-0.00785199925\", \"0.00850853231\", \"-0.00902176369\", \"0.00887801126\", \"0.000268827425\", \"-0.031069763\", \"0.0350267738\", \"0.0123732332\", \"-0.0254664365\", \"-0.0466732793\", \"0.00600087456\", \"0.0264259689\", \"0.00352786388\", \"-0.018584881\", \"-0.00109582418\", \"0.0177862234\", \"0.0103356214\", \"0.0172420926\", \"0.00396007765\", \"0.0349135771\", \"0.0297715738\", \"-0.0110501656\", \"-0.00811429415\", \"-0.0208214894\", \"0.0480146222\", \"0.0100837452\", \"0.012265374\", \"-0.0118702836\", \"-0.0530838408\", \"-0.00187187421\", \"-0.00868358742\", \"0.0607119352\", \"0.00674423156\", \"-0.00460025528\", \"0.0118872561\", \"0.0156422947\", \"-0.0123427631\", \"-0.00906207692\", \"-0.0329861715\", \"-0.0363263749\", \"0.0104123605\", \"0.00625529792\", \"0.00930143427\", \"0.00697802939\", \"0.0319809951\", \"-0.0106041022\", \"0.0330205746\", \"0.0132555179\", \"0.023768479\", \"0.0243388712\", \"0.0174236037\", \"-0.0357501321\", \"-0.0170108881\", \"-0.0403871499\", \"-0.00216491031\", \"0.0166756045\", \"-0.0124517372\", \"0.00437011663\", \"-0.0446924865\", \"-0.00844993722\", \"0.0201436635\", \"-0.0291366484\", \"0.00136408967\", \"-0.0143445414\", \"0.0116478251\", \"0.0459906049\", \"0.0109526655\", \"0.00808295142\", \"0.0412659124\", \"0.0417938493\", \"-0.0103824837\", \"-0.0133679574\", \"-0.000174705187\", \"-0.0102763725\", \"-0.0235572681\", \"-0.0831347331\", \"-0.020563487\", \"0.00800337084\", \"0.0120067792\", \"0.0151276048\", \"-0.0186846908\", \"-0.0280818883\", \"0.00376852392\", \"0.0344334841\", \"0.00538202561\", \"-0.00348397181\", \"-0.0271648075\", \"0.039496284\", \"-0.00468819868\", \"-0.0326559581\", \"-0.0233489554\", \"0.0224373955\", \"-0.0152854696\", \"-0.0259241499\", \"-0.0190214906\", \"0.0366415568\", \"-0.0099596912\", \"0.00335208816\", \"0.00763488654\", \"0.00775689352\", \"-0.010270779\", \"0.0305434484\", \"0.000899290666\", \"-0.00736124068\", \"-0.00156917772\", \"-0.00795800146\", \"-0.0315333754\", \"-0.0313368142\", \"0.0480168313\", \"0.015436992\", \"-0.016936833\", \"-0.0189250838\", \"-0.00441249413\", \"-0.0229016617\", \"0.0059420364\", \"-0.0077282656\", \"-0.0292283222\", \"-0.026912041\", \"0.015939068\", \"-0.028665496\", \"-0.00780128\", \"-0.000767543563\", \"-0.016179651\", \"0.0339610092\", \"-0.00882102549\", \"0.0389352925\", \"-0.00959851593\", \"0.0525400899\", \"-0.00245099794\", \"0.0277975462\", \"-0.0253746063\", \"0.015177601\", \"0.00434287172\", \"-0.0123951267\", \"0.00947979372\", \"-0.0612496324\", \"0.00325148809\", \"-0.00916551426\", \"0.00526738958\", \"-0.0240141265\", \"0.0148253916\", \"0.0129245184\", \"0.00461681932\", \"0.0021996547\", \"0.0359757133\", \"-0.0218649618\", \"-0.0123050027\", \"0.029476732\", \"-0.0355243348\", \"0.0375104584\", \"-0.0451724529\", \"0.00130790309\", \"0.0179035831\", \"-0.0259600356\", \"-0.00352189923\", \"-0.00711092213\", \"0.0185639355\", \"0.00594896497\", \"-0.0141603854\", \"0.0127613824\", \"-0.0125353346\", \"0.000938533223\", \"-0.0160991848\", \"0.00502865342\", \"-0.0185409877\", \"0.0207284763\", \"-0.0115108564\", \"-0.0234909505\", \"-0.0162621159\", \"-0.0198940299\", \"-0.0233355202\", \"0.015547649\", \"-0.00745319761\", \"-0.0352850482\", \"0.000598416897\", \"0.0160473324\", \"0.0197875239\", \"0.0414496958\", \"0.0178898852\", \"-0.0276391953\", \"-0.00747211277\", \"-0.0307732075\", \"0.0157987215\", \"0.00721713947\", \"-0.0120971603\", \"0.0237214975\", \"-0.0531151854\", \"-0.0307685\", \"0.00615989882\", \"-0.0633253902\", \"0.0414962396\", \"0.00369773316\", \"0.000462216645\", \"-0.0195788164\", \"-0.0154593587\", \"-0.00969256181\", \"0.0255962778\", \"0.0136783514\", \"0.0240982193\", \"-0.0217083152\", \"0.0221960582\", \"-0.0118528921\", \"-0.0212640632\", \"0.0184049904\", \"-0.00988127477\", \"-0.0423386768\", \"-0.0114160245\", \"-0.0101417657\", \"-0.0191520974\", \"-0.0258112196\", \"-0.0087832408\", \"-0.0297989808\", \"-0.0318161435\", \"0.0182345156\", \"-0.00743913976\", \"-0.0356494561\", \"-0.0108894743\", \"-0.0301859\", \"-0.0247208\", \"0.0280638151\", \"-0.0410079807\", \"0.0213128384\", \"0.0279625896\", \"0.00842006877\", \"0.0569293126\", \"-0.0397857465\", \"-0.0020029915\", \"0.0104032103\", \"-0.0450379476\", \"-0.0021730091\", \"-0.018407844\", \"0.0135788945\", \"-0.0729593858\", \"-0.00955722574\", \"-0.0102625405\", \"-0.0097021\", \"-0.0125512211\", \"-0.0735702589\", \"0.0167570747\", \"-0.000124564467\", \"-0.0149607053\", \"0.0181654505\", \"0.0741083696\", \"-0.0302644242\", \"-0.0339968093\", \"0.0350657478\", \"0.00666392175\", \"0.0113688037\", \"0.00893858448\", \"0.00880679209\", \"0.00264146831\", \"-0.0028611389\", \"-0.028934557\", \"0.0216599684\", \"0.0201684199\", \"0.00343327713\", \"0.0241928902\", \"0.0052572703\", \"-0.0271324012\", \"0.0189029686\", \"0.00159857725\", \"-0.0252323374\", \"-0.00806077663\", \"0.0116423443\", \"-0.0200811774\", \"0.0005738092\", \"0.00400330732\", \"-0.0288637262\", \"0.0291289669\", \"-0.00685483636\", \"0.00633127615\", \"-0.02808154\", \"0.0037834961\", \"-0.0324704088\", \"0.0140532218\", \"-0.017101055\", \"-0.0176626\", \"-0.00192004233\", \"-0.00949529838\", \"0.0309058297\", \"0.0123168\", \"-0.0119730746\", \"-0.00113268651\", \"-0.0203579087\", \"-0.00103065523\", \"-0.0223304536\", \"-0.0435750298\", \"-0.0175040402\", \"-0.0318493918\", \"0.000833378348\", \"0.00152418204\", \"-0.00736993691\", \"0.00471500121\", \"-0.0146711925\", \"0.0144599527\", \"-0.00328974216\", \"0.000801105576\", \"-0.0190400779\", \"0.000608269474\", \"-0.0527303182\", \"0.00883906428\", \"0.00237217476\", \"-0.0187803656\", \"0.00303996098\", \"-0.00838157441\", \"-0.0467339233\", \"-0.00200951891\", \"0.0204463229\", \"0.00873546861\", \"-0.00850514695\", \"-0.0345902741\", \"0.0164290946\", \"0.0249046683\", \"0.0319021791\", \"-0.0230683461\", \"-0.0141713182\", \"-0.0120440638\", \"-0.00877388\", \"-0.00411826279\", \"-0.0134936953\"]}\\n', '{\"id\": \"1165680701_1_1_1.jpg\", \"embedding\": [\"-0.022326123\", \"0.0232827961\", \"0.00688976282\", \"-0.0214111507\", \"-0.0184586514\", \"-0.0137544237\", \"0.0152754672\", \"0.0273657702\", \"-0.0240669549\", \"0.0323870406\", \"0.0266091265\", \"0.0119889388\", \"0.00694206497\", \"0.0767911747\", \"-0.0250172112\", \"0.0271148365\", \"-0.0205439553\", \"0.00176052097\", \"0.0171702616\", \"-0.0111566959\", \"0.0890855268\", \"-0.0107157622\", \"0.0610632524\", \"-0.0158561878\", \"0.0244262032\", \"0.00679467199\", \"-0.00261548394\", \"0.00311882584\", \"-0.00110874337\", \"-0.00459404523\", \"0.0280121975\", \"0.00122787675\", \"-0.00821953546\", \"-0.0185806043\", \"-0.00905755442\", \"0.027947491\", \"-0.00849494431\", \"-0.0818450674\", \"0.00142254727\", \"-0.00326277618\", \"-0.00799110532\", \"0.00765477773\", \"0.0323528349\", \"-0.00125656754\", \"-0.0546567068\", \"0.00492629921\", \"-0.0060612266\", \"0.00783283915\", \"-0.032464236\", \"-0.00863794\", \"-0.021721825\", \"-0.00939987414\", \"0.00552911125\", \"-0.0470562689\", \"0.0421933457\", \"-0.0137403831\", \"0.0129334899\", \"0.0117130429\", \"-0.0145185478\", \"-0.0403057784\", \"-0.0521142296\", \"-0.0259199142\", \"0.00153311202\", \"-0.0411354043\", \"0.0153464582\", \"-0.0104346201\", \"-0.00797348749\", \"-0.0129767796\", \"-0.00492734229\", \"0.0184836034\", \"0.031859\", \"0.0314386897\", \"0.00207072659\", \"-0.0229864419\", \"0.00171004\", \"0.0070350673\", \"-0.0165772475\", \"0.0166104753\", \"0.0134465946\", \"0.0484758765\", \"-0.0161978137\", \"-0.0352744088\", \"-0.00812497269\", \"0.00250838115\", \"-0.00216025673\", \"0.00538404193\", \"0.0497129932\", \"-0.0272393748\", \"-0.0132377865\", \"-0.0445928872\", \"0.0206737835\", \"-0.00234985701\", \"0.00440528104\", \"-0.169321343\", \"0.0108392565\", \"-0.00172726519\", \"0.00925827119\", \"0.0202603098\", \"-0.0149698425\", \"0.0257225111\", \"-0.00664396\", \"-0.00442108512\", \"0.0042166519\", \"-0.0300714783\", \"0.00608622842\", \"0.00445668\", \"0.00457410514\", \"-0.0223207027\", \"-0.00613173284\", \"0.00557231344\", \"-0.0413598381\", \"0.0281851981\", \"-0.0108928336\", \"0.0098344963\", \"0.0020402628\", \"-0.0516142361\", \"-0.0599192679\", \"-0.0132907145\", \"-0.0444935\", \"0.00341181341\", \"-0.0132573\", \"0.00193797855\", \"0.00386914681\", \"-0.0167267583\", \"-0.00925879925\", \"-0.0702981055\", \"0.00809835177\", \"-0.0154464468\", \"0.00925212819\", \"-0.0166881643\", \"-0.0129569797\", \"0.0431427732\", \"0.0287695266\", \"0.0211210959\", \"-0.00384126464\", \"-0.0318871923\", \"0.0364504904\", \"-0.0161306709\", \"0.0336263\", \"-0.0356723405\", \"0.0131794196\", \"-0.0221606679\", \"0.00256238761\", \"0.0214757584\", \"0.0274335705\", \"-0.0144815361\", \"0.0114538586\", \"-0.0518718287\", \"-0.0213602446\", \"-0.0183993205\", \"0.0118447635\", \"-0.000179797833\", \"0.0303626657\", \"0.0299891364\", \"-0.0156147135\", \"-0.00660876883\", \"-0.00383134698\", \"-0.0174088981\", \"-0.000537043437\", \"0.0482218303\", \"-0.0275632069\", \"-0.00334234093\", \"-0.00756528648\", \"0.0317410789\", \"-0.0225532372\", \"0.0175566897\", \"0.0202984046\", \"0.00666885497\", \"0.0276872255\", \"0.0054534846\", \"-0.0170439947\", \"0.0121853687\", \"-0.0278745294\", \"0.0227642301\", \"-0.0132404463\", \"-0.0334842\", \"-0.0126187513\", \"0.00698999176\", \"-0.0451229\", \"-0.0430585854\", \"-0.010879511\", \"0.0264715254\", \"-0.00992915\", \"-0.00108949433\", \"0.025503682\", \"0.000794487481\", \"-0.00166552246\", \"-0.0121759269\", \"-0.00559349637\", \"0.0586287118\", \"-0.0264070686\", \"-0.0281885918\", \"-0.00695047062\", \"-0.0254136529\", \"-0.0599910058\", \"0.00585872\", \"0.0278125368\", \"-0.034060318\", \"0.0170823075\", \"0.0106932549\", \"-0.00593679212\", \"-0.0251506455\", \"-0.0238395073\", \"-0.0389977172\", \"-0.00205835141\", \"0.0103457263\", \"-0.0187653769\", \"0.00286618597\", \"0.0373751968\", \"-0.0203611795\", \"-0.00468749227\", \"-0.0320693813\", \"0.00731248409\", \"0.0234345905\", \"0.0353989191\", \"-0.0195475034\", \"-0.0187991317\", \"-0.0401841477\", \"-0.037978515\", \"-0.0242116116\", \"-0.0143460659\", \"0.0104499161\", \"0.0312305707\", \"0.0132947396\", \"0.0489504226\", \"-0.0273509361\", \"0.00116401282\", \"-0.0438648798\", \"-0.0432372317\", \"0.00523164\", \"-0.0105191888\", \"-0.0684298947\", \"0.00594129693\", \"0.000803223928\", \"0.0143857822\", \"0.000400024583\", \"-0.0348863602\", \"0.0120575437\", \"-0.0382592566\", \"-0.0262475256\", \"-0.02385501\", \"0.00676939962\", \"-0.00548542384\", \"-0.0314001143\", \"-0.00664388761\", \"-0.00553045841\", \"-0.009981\", \"-0.00367736\", \"-0.0177859329\", \"-0.0176946633\", \"0.031079473\", \"-0.0200184509\", \"0.00420377124\", \"0.0170095228\", \"-0.0137768779\", \"-0.0287104789\", \"-0.0311281923\", \"0.0121882921\", \"-0.000698311487\", \"-0.0129013993\", \"0.0121512832\", \"-0.00734202657\", \"-0.0468904\", \"0.0351962969\", \"0.0268260781\", \"0.0223286673\", \"0.0268916376\", \"0.010805686\", \"0.0154152252\", \"-0.00434857886\", \"0.0455309525\", \"0.017674556\", \"0.00454217661\", \"0.00425206777\", \"0.0126193641\", \"0.0128670037\", \"0.0173465516\", \"0.0545191504\", \"0.00694715604\", \"0.0527687892\", \"-0.0303147212\", \"-0.0217545386\", \"-0.0286717396\", \"0.0126836626\", \"0.0247024428\", \"-0.0078326771\", \"-0.156082556\", \"-0.00187679089\", \"-0.0224366672\", \"-0.00817551557\", \"-0.00680805324\", \"0.0160777271\", \"0.0112768561\", \"-0.016402211\", \"0.0241144486\", \"0.043668624\", \"0.000300183543\", \"-0.0186712164\", \"0.0128640085\", \"0.0236056522\", \"-0.015227315\", \"-0.0281792562\", \"-0.030798018\", \"-0.00744860759\", \"-0.0321761668\", \"-0.0156743955\", \"-0.0263531152\", \"-0.0437539183\", \"0.00486610783\", \"0.0134325931\", \"-0.0225901827\", \"0.0157079548\", \"0.00578106288\", \"-0.001981901\", \"0.000908070768\", \"-0.00769689679\", \"0.0492793396\", \"-0.0193506461\", \"0.01823809\", \"-0.0309899263\", \"-0.0140399737\", \"-0.0463703908\", \"0.00851560291\", \"0.0167141873\", \"0.0164014455\", \"-0.0241039749\", \"-0.0362119675\", \"-0.024850104\", \"-0.0106475269\", \"0.0157709271\", \"-0.00693730125\", \"0.00111322594\", \"0.00826057792\", \"-0.0417783335\", \"0.0331930034\", \"0.0539435744\", \"-0.0150905903\", \"0.0271416195\", \"0.00518153887\", \"0.00933838356\", \"0.0179499872\", \"-0.0151150711\", \"-0.0165681131\", \"0.0138506815\", \"-0.0297414\", \"0.0317901671\", \"-0.017525224\", \"0.00496959453\", \"-0.00354275317\", \"0.00630305056\", \"-0.0107043805\", \"0.0379450805\", \"0.000573833124\", \"-0.0176035855\", \"0.0103403758\", \"0.0123255784\", \"0.0259628277\", \"-0.00984318741\", \"0.0226768646\", \"0.048386462\", \"-0.00325062894\", \"-0.0320909582\", \"0.0372252092\", \"0.00612784177\", \"-0.016757993\", \"-0.00578847667\", \"0.0243127346\", \"-0.00158252369\", \"-0.0336329117\", \"-0.00376104773\", \"-0.0173379537\", \"-0.0556715652\", \"0.0446454696\", \"0.00488135871\", \"-0.00733025232\", \"-0.0171054564\", \"-0.0107149184\", \"0.022601597\", \"-0.0117967883\", \"-0.00810083374\", \"0.0151277808\", \"-0.00178809837\", \"0.0171839464\", \"-0.0241924375\", \"0.00671688234\", \"-0.00734180538\", \"0.00442090305\", \"-0.0183004364\", \"-0.000605675683\", \"-0.0428573899\", \"-0.0110103888\", \"-0.00601775944\", \"0.0256549753\", \"-0.00647225091\", \"-0.0585286506\", \"-0.00620035268\", \"-0.0221103858\", \"-0.0133136213\", \"0.0272562653\", \"0.0224242825\", \"0.0195392128\", \"0.00126562163\", \"0.0111772371\", \"-0.0070334468\", \"-0.0216869507\", \"0.00324524567\", \"0.0304640606\", \"-0.0463089421\", \"-0.0289122164\", \"0.00484571373\", \"-0.0230148714\", \"0.0371951051\", \"-0.0346807912\", \"-0.0126833376\", \"0.0147502953\", \"-0.00735102221\", \"-0.00740458\", \"-0.00426423317\", \"0.00918070227\", \"0.0220422018\", \"0.00274440018\", \"-0.012213964\", \"-0.0316246301\", \"0.000522892922\", \"0.0142015833\", \"-0.0337206908\", \"0.0132257557\", \"-0.0300023686\", \"-0.0381804\", \"-0.0238113\", \"-0.00236535934\", \"-0.0104604289\", \"-0.0418088809\", \"-0.039120391\", \"0.00469611911\", \"-0.0405609719\", \"-0.0047153444\", \"-0.0270810705\", \"-0.0404366627\", \"-0.0184313953\", \"0.0081217261\", \"-0.0230455287\", \"-0.0156483501\", \"0.0381834023\", \"-0.00320269563\", \"-0.0555385724\", \"-0.0295588486\", \"-0.00367564545\", \"0.0325630866\", \"0.0506375358\", \"-0.00445067929\", \"-0.00881255232\", \"0.0233109221\", \"-0.0333426744\", \"-0.0273778141\", \"-0.00109558762\", \"0.00230692164\", \"-0.00383920642\", \"0.00885932148\", \"-0.0162344873\", \"-0.00555685256\", \"0.00471519958\", \"-0.0364907607\", \"-0.0281618983\", \"0.00397835579\", \"-0.0121025397\", \"-0.0213721972\", \"-0.0482372679\", \"0.00947669614\", \"-0.0524933673\", \"0.0162860025\", \"-0.00776394317\", \"-0.0100810127\", \"-0.0345215835\", \"-0.00811160356\", \"-0.0177790057\", \"0.0327043384\", \"0.0145539874\", \"-0.0354136266\", \"0.0155490041\", \"-0.012814343\", \"-0.0086196661\", \"-0.0315487608\", \"0.00689646089\", \"-0.0437471643\", \"-0.056326706\", \"0.0206511356\", \"0.0168885775\", \"0.0102039408\", \"0.0118097877\", \"0.0198349301\", \"0.0209485143\", \"0.00207833061\", \"-0.0285670925\", \"-0.0155223776\", \"-0.059221793\", \"0.00557089644\", \"0.00585773075\", \"-0.0109796571\", \"-0.0335764848\", \"0.0123333102\", \"-0.00803406164\", \"-0.0114491824\", \"-0.0365352891\", \"0.00272463541\", \"-0.0153620597\", \"-0.0290835854\", \"0.0565864854\", \"-0.00105196948\", \"-0.010154007\", \"-0.0361076705\", \"0.00149622723\", \"0.0363045\", \"-0.0130405808\", \"-0.0169320777\", \"-0.00573484227\", \"0.0239651501\", \"-0.0117136762\", \"0.00966608152\", \"0.0199944712\", \"-0.0198018402\", \"0.0251994785\", \"0.0293075275\", \"-0.0463188\", \"0.000747434213\", \"-0.010237922\", \"0.0040246821\", \"-0.00815263577\", \"-0.00189628534\", \"0.043549981\", \"-0.00589243881\", \"-0.00211284193\", \"0.0259007476\", \"-0.0249977577\", \"-0.00684713619\", \"-0.032080885\", \"-0.000314891833\", \"0.0108801099\", \"-0.0471944101\", \"0.000508970639\", \"0.0262591112\", \"-0.00691903941\", \"-0.00637805602\", \"0.018907832\", \"-0.0352565125\", \"0.0204565432\", \"-0.0283318907\", \"-0.024010554\", \"0.0208286382\", \"-0.00877547543\", \"-0.0200913176\", \"-0.0177801829\", \"-0.00827128161\", \"0.00439270213\", \"-0.000735978305\", \"-0.0211921073\", \"0.0148357404\", \"0.0157468375\", \"-0.0141308047\", \"-0.0247840174\", \"0.0224261619\", \"-0.0143384906\", \"0.0330976397\", \"0.0140682515\", \"0.00995121896\", \"-0.007474666\", \"-0.0184512474\", \"-0.00837285724\", \"0.000617257669\", \"0.00558586419\", \"-0.0145513108\", \"-0.00351293012\", \"-0.00256885262\", \"0.00577989733\", \"-0.00401394675\", \"-0.00766734686\", \"-0.00305384514\", \"0.00373775815\", \"-0.0296585131\", \"-0.00361724664\", \"-0.00883828197\", \"0.00748619623\", \"0.000252910104\", \"-0.00457043946\", \"-0.0201548319\", \"-0.0252746549\", \"0.00168706314\", \"-0.0298094787\", \"-0.0146924825\", \"0.0128715057\", \"0.00560467085\", \"0.0444890335\", \"0.0261638593\", \"0.0111428779\", \"-0.0199291445\", \"0.00785919558\", \"-0.0128762247\", \"0.0244769342\", \"-0.0107187619\", \"-0.0464264415\", \"-0.0104898084\", \"-0.0178262144\", \"-0.0137557127\", \"-0.0102394652\", \"-0.014306616\", \"0.0244306866\", \"-0.00254897657\", \"-0.0185023658\", \"-0.0142295249\", \"0.0310087055\", \"0.0142803881\", \"0.0376190878\", \"-0.0297563523\", \"0.00542638358\", \"-0.0184449945\", \"-0.0503337532\", \"0.0166999884\", \"0.00104679959\", \"0.00256713643\", \"-0.0211080834\", \"-0.0257891025\", \"-0.00638541533\", \"0.00502090435\", \"0.0348391682\", \"-0.00794825796\", \"-0.00528641976\", \"0.0051815575\", \"-0.0200103652\", \"0.0520398952\", \"-0.0226174686\", \"-0.0168225318\", \"-0.0248104353\", \"-0.0291411635\", \"-0.0144455545\", \"0.0152227143\", \"-0.00120616588\", \"0.00298258616\", \"0.0188053735\", \"-0.0332316346\", \"-0.00316669163\", \"0.010637505\", \"0.0474953614\", \"-0.00897656195\", \"0.0131236985\", \"-0.0032948642\", \"-0.00921558682\", \"0.0190842431\", \"-0.0313900188\", \"0.0171930734\", \"0.0409358218\", \"0.0165281687\", \"-0.0337287821\", \"-0.0326953642\", \"-0.00386965647\", \"-0.000295625883\", \"0.0238433965\", \"-0.0307551473\", \"-0.0472229794\", \"0.00329941278\", \"0.0313554369\", \"-0.165926591\", \"0.00272048218\", \"0.0179151315\", \"0.021211952\", \"-0.0445138849\", \"-0.00851177424\", \"-0.0108391922\", \"-0.0241806321\", \"-0.0390613936\", \"0.000166928046\", \"0.022978846\", \"0.0292130448\", \"-0.221982747\", \"-0.0182998218\", \"0.02996465\", \"-0.0322534591\", \"-0.0164555423\", \"0.0299272891\", \"0.00579001755\", \"-0.0222335514\", \"-0.00883179\", \"-0.0166464858\", \"-0.0380187556\", \"-0.0118861543\", \"0.0321373902\", \"0.0150685\", \"0.0277100354\", \"0.0176134277\", \"-0.0379538797\", \"-0.0315282904\", \"-0.00213166978\", \"0.0240909141\", \"-0.0020726854\", \"0.0502255782\", \"-0.00236220402\", \"0.0199436974\", \"0.0112716611\", \"0.0116284965\", \"0.0410018936\", \"0.00948410202\", \"-4.7202243e-06\", \"0.00811222475\", \"0.015998682\", \"-0.0455583036\", \"0.0400443375\", \"0.019103514\", \"0.00842999853\", \"-0.0144692706\", \"-0.00123069482\", \"-0.0812643617\", \"-0.00740423752\", \"-0.000820875459\", \"-0.00181607786\", \"-0.00855886657\", \"0.0216489099\", \"-6.40009821e-05\", \"-0.0278816018\", \"0.0235046204\", \"0.0161889512\", \"0.000257266336\", \"-0.0197364371\", \"0.032317549\", \"-0.0526887551\", \"-0.0131796123\", \"0.0076171672\", \"0.0112138819\", \"0.0483759083\", \"0.0105168074\", \"-0.00428243494\", \"0.0477485694\", \"-0.0159497596\", \"0.0287609138\", \"-0.0155007625\", \"0.0192687679\", \"0.0115767447\", \"0.0058118524\", \"0.00100039982\", \"-0.0212854613\", \"-0.01529455\", \"0.0294814929\", \"-0.0440015197\", \"0.0198187623\", \"0.00934087764\", \"0.00729890401\", \"-0.0199660789\", \"-0.0177327208\", \"-0.0276479162\", \"-0.0104891155\", \"-0.173038617\", \"-0.00946687255\", \"0.0239307806\", \"0.0137622738\", \"-0.0234436952\", \"-0.0385693051\", \"0.0404636152\", \"-0.0321961232\", \"-0.0504654795\", \"0.024917068\", \"-0.0151180513\", \"0.0109119061\", \"0.00109109131\", \"0.017960906\", \"-0.0079495348\", \"0.0246699341\", \"0.00109805237\", \"-0.0214732885\", \"-0.00660159299\", \"0.0200670119\", \"0.010725027\", \"0.0111005381\", \"0.0206225011\", \"0.0228804369\", \"0.01323805\", \"0.00781233516\", \"0.0481117219\", \"-0.00154183828\", \"-0.0123157334\", \"-0.042946998\", \"-0.0408893153\", \"-0.0186309088\", \"0.0111471368\", \"-0.0196130369\", \"0.0210984237\", \"-0.00699864607\", \"-0.0302627608\", \"-0.000705920742\", \"-0.0114150755\", \"0.00516197644\", \"-0.00183335098\", \"0.022160871\", \"0.00362433051\", \"-0.0188842565\", \"0.013992371\", \"-0.00612177094\", \"0.0129495207\", \"-0.0221348573\", \"0.00367959868\", \"0.0255580973\", \"0.0372296236\", \"-0.0323165059\", \"0.050450433\", \"-0.0237430651\", \"0.0284735877\", \"0.0424179956\", \"0.0267948024\", \"-0.04015157\", \"0.0128805423\", \"-0.00311376713\", \"-0.0160330348\", \"0.0333839394\", \"-0.0124338735\", \"0.00469623832\", \"0.00419278443\", \"0.00657976\", \"-0.0527934954\", \"0.0322624967\", \"0.0431821384\", \"-0.0211609211\", \"-0.0113270199\", \"0.0141402744\", \"0.0233101659\", \"0.0505540222\", \"0.0709394\", \"-0.00219212659\", \"0.0179044213\", \"-0.0220309068\", \"-0.020377811\", \"-0.022008216\", \"0.00617540488\", \"-0.022712864\", \"-0.0273851808\", \"-0.0261287149\", \"-0.00303532\", \"0.0371788554\", \"0.0505473875\", \"0.000675898162\", \"-0.0250777788\", \"0.0204437152\", \"0.0113553675\", \"-0.00286402227\", \"0.0138019826\", \"0.00548860896\", \"0.014996496\", \"0.0284477621\", \"-0.00512995897\", \"0.0355667\", \"0.00271093426\", \"0.022033941\", \"0.00500716455\", \"0.0232623313\", \"-0.00909435377\", \"-0.0206934139\", \"-0.0411617756\", \"0.000946221931\", \"0.0191053879\", \"0.0104822945\", \"0.00887254\", \"-0.0205831267\", \"-0.0264208671\", \"-0.00536233233\", \"-0.0367612243\", \"-0.00984944496\", \"-0.0228417795\", \"-0.00993972365\", \"0.02736203\", \"-0.0191968381\", \"-0.021289371\", \"0.0308183394\", \"0.0132287089\", \"0.0105264764\", \"-0.00715908548\", \"-0.00414017029\", \"-0.01151051\", \"0.00195836369\", \"0.0307689868\", \"0.0112625044\", \"0.00905475114\", \"-0.0291096289\", \"0.000334613898\", \"0.0211402252\", \"0.0126965223\", \"0.00167880568\", \"-0.0185163282\", \"0.0405649953\", \"0.0217575282\", \"0.00928101223\", \"-0.000505887554\", \"0.0145828342\", \"0.0139093939\", \"-0.00930828229\", \"0.0538856797\", \"-0.036397893\", \"0.0274678972\", \"-0.0144291399\", \"-0.0419487543\", \"-0.00595083833\", \"0.0205839556\", \"0.035161864\", \"-0.0145558752\", \"-0.00685926\", \"-0.0209624972\", \"0.0405597575\", \"0.000216467\", \"-0.0111090383\", \"0.0269288216\", \"-0.0335875042\", \"0.0264009535\", \"0.039583344\", \"-0.0162692089\", \"0.00372658507\", \"0.0274636094\", \"0.131055653\", \"-0.0371895432\", \"-0.0233877823\", \"0.0219708942\", \"-0.0102180988\", \"0.0131379412\", \"0.0122280363\", \"-0.00909889396\", \"-0.0165668689\", \"0.0275524966\", \"-0.00167053612\", \"-0.00976949371\", \"0.00640600361\", \"0.0362547226\", \"0.0439187363\", \"-0.0367119722\", \"-0.00734925363\", \"-0.00628192676\", \"0.021714706\", \"0.000628910435\", \"-0.0190994218\", \"0.0363463871\", \"0.0530578196\", \"-0.00463426486\", \"-0.0259834\", \"-0.0235333517\", \"-0.00691894535\", \"-0.0238584727\", \"0.000427310151\", \"-0.035421636\", \"0.00422467431\", \"-0.00831840467\", \"-0.0626281723\", \"-0.00184924179\", \"0.0114763239\", \"-0.0141452374\", \"0.00452255411\", \"-0.024702115\", \"0.037051\", \"-0.0352036655\", \"-0.018151423\", \"-0.0102618355\", \"-0.0237085279\", \"-0.00965844281\", \"-0.0317959413\", \"-0.0317087919\", \"0.0333660841\", \"0.0119377859\", \"-0.00258023641\", \"0.0638948232\", \"-0.0138482703\", \"0.00921620242\", \"0.040099103\", \"0.00637694588\", \"-0.0300311968\", \"-0.0194818676\", \"0.0103366543\", \"-0.0161313172\", \"0.0211155731\", \"0.028187301\", \"-0.00612710975\", \"0.0317084566\", \"-0.0251056571\", \"-0.00316906138\", \"0.00236553815\", \"0.000797819812\", \"-0.00516081229\", \"-0.0360966288\", \"0.0164631177\", \"0.00841920357\", \"-0.00495560421\", \"0.000860873552\", \"-0.00920062605\", \"-0.0199511647\", \"0.0227350071\", \"0.0103533613\", \"-0.00910988543\", \"-0.0179552678\", \"-0.0603100881\", \"-0.0296981968\", \"-0.0267345887\", \"0.000115282979\", \"-0.0105560264\", \"-0.011778377\", \"-0.00603209622\", \"0.0245141834\", \"0.00597661035\", \"-0.0696924552\", \"-0.000804723706\", \"0.0266150869\", \"0.0352130197\", \"0.00938592292\", \"-0.0120908823\", \"0.000491051294\", \"-0.0202984959\", \"-0.00423198147\", \"0.0323273391\", \"-0.0178334955\", \"-0.033239644\", \"0.00945292599\", \"-0.0182720106\", \"0.0269843731\", \"-0.0246572476\", \"-0.0267930105\", \"-0.0189004038\", \"-0.0205611736\", \"0.0676223785\", \"0.0162895415\", \"0.0163311549\", \"0.0521167032\", \"-0.010065753\", \"-0.00907561183\", \"-0.0166869368\", \"0.0294913407\", \"-0.00344577874\", \"0.0529501177\", \"-0.0106848544\", \"-0.00781832635\", \"-0.00384842488\", \"0.0160275474\", \"0.00894470792\", \"-0.0149683235\", \"0.00690225046\", \"0.00870571658\", \"0.0235226322\", \"-3.7352369e-05\", \"0.0187070277\", \"0.0290205479\", \"-0.0131821949\", \"0.0281692017\", \"0.0443743616\", \"-0.00428860262\", \"-0.00932793599\", \"0.0100380229\", \"0.0162947327\", \"-0.0447174199\", \"-0.0179472473\", \"-0.0107650552\", \"-0.0159928314\", \"0.00639381725\", \"-0.00639946898\", \"-0.0197187718\", \"-0.00394419767\", \"0.00272124633\", \"-0.0544088185\", \"-0.0294822771\", \"-0.00461058831\", \"-0.0190872848\", \"-0.0150179369\", \"-0.0317789055\", \"0.0154112335\", \"0.0318141915\", \"0.00791355409\", \"-0.0209869072\", \"0.00996697601\", \"-0.0126443682\", \"-0.0192884114\", \"-0.0132196788\", \"0.00422986597\", \"-0.0400415063\", \"0.0193011761\", \"0.00384016754\", \"-0.00846337713\", \"-0.0188458525\", \"0.0085593136\", \"-0.00202970649\", \"0.0104487436\", \"0.00889541768\", \"0.0192041174\", \"0.0269342884\", \"-0.0118800495\", \"-0.00691141\", \"-0.04464899\", \"0.034331046\", \"-0.0351069085\", \"0.0137730325\", \"-0.0122171268\", \"-0.0277653597\", \"0.0145811467\", \"-0.0137838721\", \"0.00649388181\", \"0.0219194684\", \"0.018661052\", \"-0.00923734251\", \"0.00821612682\", \"-0.0565990433\", \"-0.0417577624\", \"-0.00309059955\", \"-0.0058346088\", \"-0.016246926\", \"-0.0295304265\", \"0.0387437269\", \"0.025379179\", \"0.0377839431\", \"-0.00378089515\", \"-0.0102544492\", \"0.00828620885\", \"-0.0107739791\", \"0.0197435878\", \"-0.018160589\", \"0.042390272\", \"0.00217261165\", \"0.0168313235\", \"0.0058479174\", \"-0.0308694225\", \"9.29734233e-05\", \"-0.00153012981\", \"-0.0137737785\", \"0.0203734152\", \"0.0219572056\", \"0.00730396714\", \"0.0131620951\", \"0.00428542541\", \"0.000546042691\", \"-0.0144575862\", \"0.00124066568\", \"-0.0233896524\", \"0.0131177278\", \"0.0310570356\", \"-0.0367128477\", \"-0.0441420488\", \"0.0162958503\", \"0.0186802931\", \"0.0432053581\", \"-0.0172751974\", \"0.0188590679\", \"-0.0356764346\", \"-0.0213555656\", \"-0.0148106888\", \"0.00646845298\", \"-0.0130265215\", \"0.00933485478\", \"0.0105583128\", \"-0.0136274416\", \"-0.000207746038\", \"-0.00045107113\", \"-0.0205608495\", \"-0.00498059392\", \"0.00798183493\", \"0.0109895971\", \"0.00706344098\", \"0.0102688335\", \"0.0345188603\", \"0.0137200188\", \"0.016915869\", \"0.0393645\", \"-0.015131807\", \"-0.000341649604\", \"-0.00321885478\", \"-0.0183513332\", \"-0.0102759814\", \"-0.00749974186\", \"-0.0983383507\", \"-0.0244358908\", \"-0.0129081719\", \"0.0221516211\", \"0.0250511747\", \"-0.00221708929\", \"-0.0281510688\", \"-0.0234578289\", \"0.00190516468\", \"0.00836293306\", \"-0.02573549\", \"-0.011601002\", \"-0.00838682335\", \"-0.0146642141\", \"0.0201913025\", \"-0.00392253278\", \"-7.90575941e-05\", \"-0.0247650594\", \"0.0214435682\", \"-0.0255831592\", \"0.00877545\", \"0.0116443196\", \"0.0181114525\", \"0.0216087196\", \"-0.00265033334\", \"-0.011996083\", \"-0.0377330892\", \"-0.00122626871\", \"-0.0109573947\", \"-0.0251573343\", \"-0.00772197824\", \"-0.0309299417\", \"-0.00653427839\", \"0.0260635857\", \"0.01803644\", \"-0.0437558815\", \"-0.0482634753\", \"0.00968585722\", \"0.0157322623\", \"-0.00135688693\", \"0.00521107065\", \"0.00105989259\", \"-0.0145271514\", \"0.000668483321\", \"-0.0237018336\", \"-0.0076134894\", \"-0.0543431826\", \"0.0339812711\", \"0.0662583411\", \"0.0139403529\", \"-0.0243732817\", \"0.0152575858\", \"0.0186114181\", \"0.0190228093\", \"0.0165550224\", \"-0.0342229344\", \"-0.0187811702\", \"0.0174141712\", \"-0.024645865\", \"-0.0259290375\", \"-0.0630134046\", \"0.0116612688\", \"-0.0239140857\", \"-0.00729171559\", \"0.0154653285\", \"0.0132240513\", \"-0.000269636716\", \"0.00827496126\", \"0.0128055681\", \"0.00873206556\", \"-0.0151196457\", \"-0.0363284126\", \"0.063531287\", \"-0.0430294536\", \"0.00205772347\", \"-0.0594093762\", \"-0.00603320776\", \"0.00311198574\", \"-0.0112682926\", \"0.0243487172\", \"0.002623874\", \"0.0226458237\", \"0.0141054355\", \"-0.0287224911\", \"0.0194129683\", \"-0.0116302865\", \"-0.0232511815\", \"-0.0155021949\", \"-0.0162983444\", \"0.0112662856\", \"0.00520005589\", \"-0.0253612939\", \"-0.000988734537\", \"0.0167350955\", \"-0.0221411847\", \"0.0195691492\", \"0.0208468251\", \"-0.0139411958\", \"-0.0264622979\", \"-0.0111948391\", \"0.0263540708\", \"0.0399934649\", \"-0.0233856589\", \"-0.0166048873\", \"-0.0428701676\", \"-0.00281208847\", \"-0.0328012258\", \"-0.0173661318\", \"0.0276209582\", \"-0.0342850275\", \"0.0215097722\", \"-0.0340873748\", \"-0.0106158257\", \"0.0257855412\", \"-0.0735044181\", \"0.0135409785\", \"0.00705513963\", \"0.00892865378\", \"-0.00493240124\", \"0.0153464982\", \"-0.0122073311\", \"-0.0223302469\", \"0.00155324407\", \"0.0233174618\", \"0.0410444066\", \"0.00474210829\", \"-0.0253478922\", \"-0.0255973972\", \"0.0272274241\", \"0.0247552805\", \"0.0298855212\", \"-0.00902166\", \"-0.0269644056\", \"-0.0194264408\", \"-0.00368854473\", \"0.0455619022\", \"-0.017172629\", \"-0.00689175213\", \"0.035739772\", \"0.00423105573\", \"0.000571046083\", \"0.000650999602\", \"-0.016021084\", \"0.0162881278\", \"0.0030055414\", \"-0.0321696028\", \"0.035122212\", \"0.0333603397\", \"0.0397313088\", \"0.0382141434\", \"-0.0634986535\", \"-0.0525331944\", \"0.0308637172\", \"0.0273345057\", \"-0.000592086173\", \"-0.00344227254\", \"-0.0258000456\", \"-0.0771843046\", \"0.0119749596\", \"0.0114004267\", \"0.0210530702\", \"-0.0210023094\", \"-0.0968853608\", \"0.00389292673\", \"0.0133171249\", \"0.00558179943\", \"-0.0028267561\", \"0.0531404391\", \"-0.0178096015\", \"-0.00884074066\", \"0.0168171655\", \"0.0132920491\", \"-0.0189922769\", \"0.0117566101\", \"-0.0358983502\", \"-0.0464907251\", \"0.0035050693\", \"-0.0167498\", \"-0.0205784068\", \"0.0254423395\", \"-0.0252506509\", \"-0.00948123727\", \"0.0270545408\", \"0.00981905218\", \"0.0294118058\", \"-0.0201953202\", \"0.00235948944\", \"-0.0293624774\", \"0.00225345651\", \"-0.00675027072\", \"-0.0217766259\", \"-0.00741671585\", \"-0.00138548017\", \"-0.0174881518\", \"0.0237201843\", \"0.0392474718\", \"-0.032728754\", \"0.00802520383\", \"-0.022314107\", \"-0.00380523759\", \"-0.0154590243\", \"-0.00565532409\", \"0.00331742666\", \"-0.0138861211\", \"-0.00537397107\", \"0.03452437\", \"0.0101201404\", \"0.0247580372\", \"-0.013295575\", \"-0.0430433862\", \"0.0145186484\", \"-0.0469001569\", \"0.00126091368\", \"-0.0369263627\", \"0.0198190808\", \"0.00673469622\", \"0.0288945269\", \"-0.00197866117\", \"-0.00894019101\", \"0.0411616787\", \"-0.00805743877\", \"0.0200893506\", \"-0.001916699\", \"0.0120865647\", \"-0.047011245\", \"-0.00784730352\", \"0.0470332094\", \"0.0103019075\", \"-0.000368936191\", \"-0.0169478487\", \"-0.0202335939\", \"-0.00788280088\", \"0.00508786831\", \"0.0271073561\", \"0.0256227627\", \"0.0117149707\", \"-0.0176953115\", \"0.0189329386\", \"-0.0126719782\", \"-0.0317796133\", \"0.0390920639\", \"0.0124571491\", \"0.00467918813\", \"-0.0368582346\", \"0.00287697953\"]}\\n']\n"
          ]
        }
      ]
    },
    {
      "cell_type": "markdown",
      "source": [
        "Upload the training data to Cloud Storage"
      ],
      "metadata": {
        "id": "hTUtcxFIcI4k"
      }
    },
    {
      "cell_type": "code",
      "source": [
        "UNIQUE_FOLDER_NAME = \"embeddings_folder_unique\"\n",
        "EMBEDDINGS_INITIAL_URI = f\"{BUCKET_URI}/{UNIQUE_FOLDER_NAME}/\"\n",
        "! gsutil cp {embeddings_file.name} {EMBEDDINGS_INITIAL_URI}"
      ],
      "metadata": {
        "colab": {
          "base_uri": "https://localhost:8080/"
        },
        "id": "e2o2aqoAcIYd",
        "outputId": "1e59c8cc-f121-43ee-95e6-841eba796482"
      },
      "execution_count": 101,
      "outputs": [
        {
          "output_type": "stream",
          "name": "stdout",
          "text": [
            "Copying file:///tmp/tmp14z9oui2.json [Content-Type=application/json]...\n",
            "-\n",
            "Operation completed over 1 objects/138.1 KiB.                                    \n"
          ]
        }
      ]
    },
    {
      "cell_type": "markdown",
      "source": [
        "# **Create INDEX. ANN**"
      ],
      "metadata": {
        "id": "jGm-FCnRhYUg"
      }
    },
    {
      "cell_type": "code",
      "source": [
        "DIMENSIONS = 100\n",
        "DISPLAY_NAME = \"multimodal_images\"\n",
        "DESCRIPTION = \"Multimodal Images Embeddings\""
      ],
      "metadata": {
        "id": "1czCtvpOha7d"
      },
      "execution_count": 95,
      "outputs": []
    },
    {
      "cell_type": "code",
      "source": [
        "aiplatform.init(project=PROJECT_ID, location=REGION, staging_bucket=BUCKET_URI)"
      ],
      "metadata": {
        "id": "x7i6dCI-hzQm"
      },
      "execution_count": 96,
      "outputs": []
    },
    {
      "cell_type": "markdown",
      "source": [
        "Create the index configuration"
      ],
      "metadata": {
        "id": "LKRsgfoCh3ht"
      }
    },
    {
      "cell_type": "code",
      "source": [
        "tree_ah_index = aiplatform.MatchingEngineIndex.create_tree_ah_index(\n",
        "    display_name=DISPLAY_NAME,\n",
        "    contents_delta_uri=EMBEDDINGS_INITIAL_URI,\n",
        "    dimensions=DIMENSIONS,\n",
        "    approximate_neighbors_count=10,\n",
        "    distance_measure_type=\"COSINE_DISTANCE\",\n",
        "    # distance_measure_type=\"DOT_PRODUCT_DISTANCE\",\n",
        "    leaf_node_embedding_count=10,\n",
        "    leaf_nodes_to_search_percent=7,\n",
        "    description=\"Image Index\",\n",
        "    labels={\"label_name\": \"label_value\"},\n",
        ")"
      ],
      "metadata": {
        "colab": {
          "base_uri": "https://localhost:8080/"
        },
        "id": "pbzpRCnZh7h2",
        "outputId": "551e7173-eb5e-45f0-c450-b4e52c263034"
      },
      "execution_count": null,
      "outputs": [
        {
          "output_type": "stream",
          "name": "stderr",
          "text": [
            "INFO:google.cloud.aiplatform.matching_engine.matching_engine_index:Creating MatchingEngineIndex\n",
            "INFO:google.cloud.aiplatform.matching_engine.matching_engine_index:Create MatchingEngineIndex backing LRO: projects/899604603048/locations/us-central1/indexes/6029761349142183936/operations/5300007166730567680\n"
          ]
        }
      ]
    },
    {
      "cell_type": "code",
      "source": [
        "INDEX_RESOURCE_NAME = tree_ah_index.resource_name\n",
        "INDEX_RESOURCE_NAME"
      ],
      "metadata": {
        "id": "ugV48BrjihYi"
      },
      "execution_count": null,
      "outputs": []
    },
    {
      "cell_type": "markdown",
      "source": [
        "Name"
      ],
      "metadata": {
        "id": "vSonr4QMikiM"
      }
    },
    {
      "cell_type": "code",
      "source": [
        "tree_ah_index = aiplatform.MatchingEngineIndex(index_name=INDEX_RESOURCE_NAME)"
      ],
      "metadata": {
        "id": "1dm4fKKmimi5"
      },
      "execution_count": null,
      "outputs": []
    },
    {
      "cell_type": "markdown",
      "source": [
        "## Create an IndexEndpoint"
      ],
      "metadata": {
        "id": "JyLVmCdgip6k"
      }
    },
    {
      "cell_type": "code",
      "source": [
        "my_index_endpoint = aiplatform.MatchingEngineIndexEndpoint.create(\n",
        "    display_name=DISPLAY_NAME,\n",
        "    description=DISPLAY_NAME,\n",
        "    public_endpoint_enabled=True,\n",
        ")"
      ],
      "metadata": {
        "id": "z1Afgd6Qis0t"
      },
      "execution_count": null,
      "outputs": []
    },
    {
      "cell_type": "markdown",
      "source": [
        "# Deploy Indexes"
      ],
      "metadata": {
        "id": "UA774D64ivJE"
      }
    },
    {
      "cell_type": "code",
      "source": [
        "DEPLOYED_INDEX_ID = \"deployed_index_id_unique\"\n",
        "\n",
        "DEPLOYED_INDEX_ID"
      ],
      "metadata": {
        "id": "Ab4qC0Jai2Sq"
      },
      "execution_count": null,
      "outputs": []
    },
    {
      "cell_type": "code",
      "source": [
        "my_index_endpoint = my_index_endpoint.deploy_index(\n",
        "    index=tree_ah_index, deployed_index_id=DEPLOYED_INDEX_ID\n",
        ")\n",
        "\n",
        "my_index_endpoint.deployed_indexes"
      ],
      "metadata": {
        "id": "e3D_plZji3qh"
      },
      "execution_count": null,
      "outputs": []
    },
    {
      "cell_type": "markdown",
      "source": [
        "Verify number of items"
      ],
      "metadata": {
        "id": "ISr_p5a2i8NH"
      }
    },
    {
      "cell_type": "code",
      "source": [
        "number_of_vectors = sum(\n",
        "    aiplatform.MatchingEngineIndex(\n",
        "        deployed_index.index\n",
        "    )._gca_resource.index_stats.vectors_count\n",
        "    for deployed_index in my_index_endpoint.deployed_indexes\n",
        ")\n",
        "\n",
        "print(f\"Expected: {BQ_NUM_ROWS}, Actual: {number_of_vectors}\")"
      ],
      "metadata": {
        "id": "G6-pVr9zjA-E"
      },
      "execution_count": null,
      "outputs": []
    },
    {
      "cell_type": "markdown",
      "source": [
        "## Create Online Queries"
      ],
      "metadata": {
        "id": "sy0hGJD-jJvs"
      }
    },
    {
      "cell_type": "code",
      "source": [
        "test_embeddings = encode_texts_to_embeddings(sentences=[\"jacket blue\"])"
      ],
      "metadata": {
        "id": "jOV-V81XjL-_"
      },
      "execution_count": null,
      "outputs": []
    },
    {
      "cell_type": "code",
      "source": [
        "# Test query\n",
        "NUM_NEIGHBOURS = 10\n",
        "\n",
        "response = my_index_endpoint.find_neighbors(\n",
        "    deployed_index_id=DEPLOYED_INDEX_ID,\n",
        "    queries=test_embeddings,\n",
        "    num_neighbors=NUM_NEIGHBOURS,\n",
        "    filter=[Namespace(\"class\", [\"even\"])],\n",
        ")\n",
        "\n",
        "response"
      ],
      "metadata": {
        "id": "xYKb3OETjPDs"
      },
      "execution_count": null,
      "outputs": []
    }
  ],
  "metadata": {
    "colab": {
      "name": "Welcome To Colaboratory",
      "provenance": [],
      "include_colab_link": true
    },
    "kernelspec": {
      "display_name": "Python 3",
      "name": "python3"
    },
    "widgets": {
      "application/vnd.jupyter.widget-state+json": {
        "a6aac4e208a1469f96639fefe2863a0d": {
          "model_module": "@jupyter-widgets/controls",
          "model_name": "HBoxModel",
          "model_module_version": "1.5.0",
          "state": {
            "_dom_classes": [],
            "_model_module": "@jupyter-widgets/controls",
            "_model_module_version": "1.5.0",
            "_model_name": "HBoxModel",
            "_view_count": null,
            "_view_module": "@jupyter-widgets/controls",
            "_view_module_version": "1.5.0",
            "_view_name": "HBoxView",
            "box_style": "",
            "children": [
              "IPY_MODEL_204b73bf8d7041ff9f53cad501fc91a3",
              "IPY_MODEL_58b177e15de54bf9a91116543d08a8cd",
              "IPY_MODEL_099a5b51bc0b488a800c4cbd6f9b9670"
            ],
            "layout": "IPY_MODEL_5555c15b378e4f0288d740ca968f1cad"
          }
        },
        "204b73bf8d7041ff9f53cad501fc91a3": {
          "model_module": "@jupyter-widgets/controls",
          "model_name": "HTMLModel",
          "model_module_version": "1.5.0",
          "state": {
            "_dom_classes": [],
            "_model_module": "@jupyter-widgets/controls",
            "_model_module_version": "1.5.0",
            "_model_name": "HTMLModel",
            "_view_count": null,
            "_view_module": "@jupyter-widgets/controls",
            "_view_module_version": "1.5.0",
            "_view_name": "HTMLView",
            "description": "",
            "description_tooltip": null,
            "layout": "IPY_MODEL_fabc19f4cd4c4a2f97f69bf69b2c8e2b",
            "placeholder": "​",
            "style": "IPY_MODEL_87d2bf32a70f41b5a0882348e5f2c84d",
            "value": "100%"
          }
        },
        "58b177e15de54bf9a91116543d08a8cd": {
          "model_module": "@jupyter-widgets/controls",
          "model_name": "FloatProgressModel",
          "model_module_version": "1.5.0",
          "state": {
            "_dom_classes": [],
            "_model_module": "@jupyter-widgets/controls",
            "_model_module_version": "1.5.0",
            "_model_name": "FloatProgressModel",
            "_view_count": null,
            "_view_module": "@jupyter-widgets/controls",
            "_view_module_version": "1.5.0",
            "_view_name": "ProgressView",
            "bar_style": "success",
            "description": "",
            "description_tooltip": null,
            "layout": "IPY_MODEL_79da890d73b2461fa748b1a18eb9c27e",
            "max": 3,
            "min": 0,
            "orientation": "horizontal",
            "style": "IPY_MODEL_36a1a78ebc2743d4850cdd686a015611",
            "value": 3
          }
        },
        "099a5b51bc0b488a800c4cbd6f9b9670": {
          "model_module": "@jupyter-widgets/controls",
          "model_name": "HTMLModel",
          "model_module_version": "1.5.0",
          "state": {
            "_dom_classes": [],
            "_model_module": "@jupyter-widgets/controls",
            "_model_module_version": "1.5.0",
            "_model_name": "HTMLModel",
            "_view_count": null,
            "_view_module": "@jupyter-widgets/controls",
            "_view_module_version": "1.5.0",
            "_view_name": "HTMLView",
            "description": "",
            "description_tooltip": null,
            "layout": "IPY_MODEL_ee43e37b232b4066a9dc24d82a963b5b",
            "placeholder": "​",
            "style": "IPY_MODEL_a89c68cfadaf4675aeb2a15f2e64aef4",
            "value": " 3/3 [00:01&lt;00:00,  1.97it/s]"
          }
        },
        "5555c15b378e4f0288d740ca968f1cad": {
          "model_module": "@jupyter-widgets/base",
          "model_name": "LayoutModel",
          "model_module_version": "1.2.0",
          "state": {
            "_model_module": "@jupyter-widgets/base",
            "_model_module_version": "1.2.0",
            "_model_name": "LayoutModel",
            "_view_count": null,
            "_view_module": "@jupyter-widgets/base",
            "_view_module_version": "1.2.0",
            "_view_name": "LayoutView",
            "align_content": null,
            "align_items": null,
            "align_self": null,
            "border": null,
            "bottom": null,
            "display": null,
            "flex": null,
            "flex_flow": null,
            "grid_area": null,
            "grid_auto_columns": null,
            "grid_auto_flow": null,
            "grid_auto_rows": null,
            "grid_column": null,
            "grid_gap": null,
            "grid_row": null,
            "grid_template_areas": null,
            "grid_template_columns": null,
            "grid_template_rows": null,
            "height": null,
            "justify_content": null,
            "justify_items": null,
            "left": null,
            "margin": null,
            "max_height": null,
            "max_width": null,
            "min_height": null,
            "min_width": null,
            "object_fit": null,
            "object_position": null,
            "order": null,
            "overflow": null,
            "overflow_x": null,
            "overflow_y": null,
            "padding": null,
            "right": null,
            "top": null,
            "visibility": null,
            "width": null
          }
        },
        "fabc19f4cd4c4a2f97f69bf69b2c8e2b": {
          "model_module": "@jupyter-widgets/base",
          "model_name": "LayoutModel",
          "model_module_version": "1.2.0",
          "state": {
            "_model_module": "@jupyter-widgets/base",
            "_model_module_version": "1.2.0",
            "_model_name": "LayoutModel",
            "_view_count": null,
            "_view_module": "@jupyter-widgets/base",
            "_view_module_version": "1.2.0",
            "_view_name": "LayoutView",
            "align_content": null,
            "align_items": null,
            "align_self": null,
            "border": null,
            "bottom": null,
            "display": null,
            "flex": null,
            "flex_flow": null,
            "grid_area": null,
            "grid_auto_columns": null,
            "grid_auto_flow": null,
            "grid_auto_rows": null,
            "grid_column": null,
            "grid_gap": null,
            "grid_row": null,
            "grid_template_areas": null,
            "grid_template_columns": null,
            "grid_template_rows": null,
            "height": null,
            "justify_content": null,
            "justify_items": null,
            "left": null,
            "margin": null,
            "max_height": null,
            "max_width": null,
            "min_height": null,
            "min_width": null,
            "object_fit": null,
            "object_position": null,
            "order": null,
            "overflow": null,
            "overflow_x": null,
            "overflow_y": null,
            "padding": null,
            "right": null,
            "top": null,
            "visibility": null,
            "width": null
          }
        },
        "87d2bf32a70f41b5a0882348e5f2c84d": {
          "model_module": "@jupyter-widgets/controls",
          "model_name": "DescriptionStyleModel",
          "model_module_version": "1.5.0",
          "state": {
            "_model_module": "@jupyter-widgets/controls",
            "_model_module_version": "1.5.0",
            "_model_name": "DescriptionStyleModel",
            "_view_count": null,
            "_view_module": "@jupyter-widgets/base",
            "_view_module_version": "1.2.0",
            "_view_name": "StyleView",
            "description_width": ""
          }
        },
        "79da890d73b2461fa748b1a18eb9c27e": {
          "model_module": "@jupyter-widgets/base",
          "model_name": "LayoutModel",
          "model_module_version": "1.2.0",
          "state": {
            "_model_module": "@jupyter-widgets/base",
            "_model_module_version": "1.2.0",
            "_model_name": "LayoutModel",
            "_view_count": null,
            "_view_module": "@jupyter-widgets/base",
            "_view_module_version": "1.2.0",
            "_view_name": "LayoutView",
            "align_content": null,
            "align_items": null,
            "align_self": null,
            "border": null,
            "bottom": null,
            "display": null,
            "flex": null,
            "flex_flow": null,
            "grid_area": null,
            "grid_auto_columns": null,
            "grid_auto_flow": null,
            "grid_auto_rows": null,
            "grid_column": null,
            "grid_gap": null,
            "grid_row": null,
            "grid_template_areas": null,
            "grid_template_columns": null,
            "grid_template_rows": null,
            "height": null,
            "justify_content": null,
            "justify_items": null,
            "left": null,
            "margin": null,
            "max_height": null,
            "max_width": null,
            "min_height": null,
            "min_width": null,
            "object_fit": null,
            "object_position": null,
            "order": null,
            "overflow": null,
            "overflow_x": null,
            "overflow_y": null,
            "padding": null,
            "right": null,
            "top": null,
            "visibility": null,
            "width": null
          }
        },
        "36a1a78ebc2743d4850cdd686a015611": {
          "model_module": "@jupyter-widgets/controls",
          "model_name": "ProgressStyleModel",
          "model_module_version": "1.5.0",
          "state": {
            "_model_module": "@jupyter-widgets/controls",
            "_model_module_version": "1.5.0",
            "_model_name": "ProgressStyleModel",
            "_view_count": null,
            "_view_module": "@jupyter-widgets/base",
            "_view_module_version": "1.2.0",
            "_view_name": "StyleView",
            "bar_color": null,
            "description_width": ""
          }
        },
        "ee43e37b232b4066a9dc24d82a963b5b": {
          "model_module": "@jupyter-widgets/base",
          "model_name": "LayoutModel",
          "model_module_version": "1.2.0",
          "state": {
            "_model_module": "@jupyter-widgets/base",
            "_model_module_version": "1.2.0",
            "_model_name": "LayoutModel",
            "_view_count": null,
            "_view_module": "@jupyter-widgets/base",
            "_view_module_version": "1.2.0",
            "_view_name": "LayoutView",
            "align_content": null,
            "align_items": null,
            "align_self": null,
            "border": null,
            "bottom": null,
            "display": null,
            "flex": null,
            "flex_flow": null,
            "grid_area": null,
            "grid_auto_columns": null,
            "grid_auto_flow": null,
            "grid_auto_rows": null,
            "grid_column": null,
            "grid_gap": null,
            "grid_row": null,
            "grid_template_areas": null,
            "grid_template_columns": null,
            "grid_template_rows": null,
            "height": null,
            "justify_content": null,
            "justify_items": null,
            "left": null,
            "margin": null,
            "max_height": null,
            "max_width": null,
            "min_height": null,
            "min_width": null,
            "object_fit": null,
            "object_position": null,
            "order": null,
            "overflow": null,
            "overflow_x": null,
            "overflow_y": null,
            "padding": null,
            "right": null,
            "top": null,
            "visibility": null,
            "width": null
          }
        },
        "a89c68cfadaf4675aeb2a15f2e64aef4": {
          "model_module": "@jupyter-widgets/controls",
          "model_name": "DescriptionStyleModel",
          "model_module_version": "1.5.0",
          "state": {
            "_model_module": "@jupyter-widgets/controls",
            "_model_module_version": "1.5.0",
            "_model_name": "DescriptionStyleModel",
            "_view_count": null,
            "_view_module": "@jupyter-widgets/base",
            "_view_module_version": "1.2.0",
            "_view_name": "StyleView",
            "description_width": ""
          }
        },
        "50c9989efff743268620c4fe396acfd5": {
          "model_module": "@jupyter-widgets/controls",
          "model_name": "HBoxModel",
          "model_module_version": "1.5.0",
          "state": {
            "_dom_classes": [],
            "_model_module": "@jupyter-widgets/controls",
            "_model_module_version": "1.5.0",
            "_model_name": "HBoxModel",
            "_view_count": null,
            "_view_module": "@jupyter-widgets/controls",
            "_view_module_version": "1.5.0",
            "_view_name": "HBoxView",
            "box_style": "",
            "children": [
              "IPY_MODEL_4b2fb82d7ab94e9590036669002a6940",
              "IPY_MODEL_e7a159a43a664a709741cf8746116ac5",
              "IPY_MODEL_e9081b0c8807414dbc07cfadaaf1414f"
            ],
            "layout": "IPY_MODEL_cd237f187a6e4db0a235d4fdc3c5b4f5"
          }
        },
        "4b2fb82d7ab94e9590036669002a6940": {
          "model_module": "@jupyter-widgets/controls",
          "model_name": "HTMLModel",
          "model_module_version": "1.5.0",
          "state": {
            "_dom_classes": [],
            "_model_module": "@jupyter-widgets/controls",
            "_model_module_version": "1.5.0",
            "_model_name": "HTMLModel",
            "_view_count": null,
            "_view_module": "@jupyter-widgets/controls",
            "_view_module_version": "1.5.0",
            "_view_name": "HTMLView",
            "description": "",
            "description_tooltip": null,
            "layout": "IPY_MODEL_d1ef3a5e084f48cba4377920453ab99e",
            "placeholder": "​",
            "style": "IPY_MODEL_d18326ddd48d438f8253c9d4b7783cd0",
            "value": "100%"
          }
        },
        "e7a159a43a664a709741cf8746116ac5": {
          "model_module": "@jupyter-widgets/controls",
          "model_name": "FloatProgressModel",
          "model_module_version": "1.5.0",
          "state": {
            "_dom_classes": [],
            "_model_module": "@jupyter-widgets/controls",
            "_model_module_version": "1.5.0",
            "_model_name": "FloatProgressModel",
            "_view_count": null,
            "_view_module": "@jupyter-widgets/controls",
            "_view_module_version": "1.5.0",
            "_view_name": "ProgressView",
            "bar_style": "success",
            "description": "",
            "description_tooltip": null,
            "layout": "IPY_MODEL_6392eddeb9bd441f985d59755436b129",
            "max": 1,
            "min": 0,
            "orientation": "horizontal",
            "style": "IPY_MODEL_c07bf225525d41d69e8e657c15298521",
            "value": 1
          }
        },
        "e9081b0c8807414dbc07cfadaaf1414f": {
          "model_module": "@jupyter-widgets/controls",
          "model_name": "HTMLModel",
          "model_module_version": "1.5.0",
          "state": {
            "_dom_classes": [],
            "_model_module": "@jupyter-widgets/controls",
            "_model_module_version": "1.5.0",
            "_model_name": "HTMLModel",
            "_view_count": null,
            "_view_module": "@jupyter-widgets/controls",
            "_view_module_version": "1.5.0",
            "_view_name": "HTMLView",
            "description": "",
            "description_tooltip": null,
            "layout": "IPY_MODEL_8d73b5d33d7d4185868f7e7b5ced45cf",
            "placeholder": "​",
            "style": "IPY_MODEL_444bfc3684cc48fd9f0a06abf41cccd2",
            "value": " 1/1 [00:05&lt;00:00,  5.91s/it]"
          }
        },
        "cd237f187a6e4db0a235d4fdc3c5b4f5": {
          "model_module": "@jupyter-widgets/base",
          "model_name": "LayoutModel",
          "model_module_version": "1.2.0",
          "state": {
            "_model_module": "@jupyter-widgets/base",
            "_model_module_version": "1.2.0",
            "_model_name": "LayoutModel",
            "_view_count": null,
            "_view_module": "@jupyter-widgets/base",
            "_view_module_version": "1.2.0",
            "_view_name": "LayoutView",
            "align_content": null,
            "align_items": null,
            "align_self": null,
            "border": null,
            "bottom": null,
            "display": null,
            "flex": null,
            "flex_flow": null,
            "grid_area": null,
            "grid_auto_columns": null,
            "grid_auto_flow": null,
            "grid_auto_rows": null,
            "grid_column": null,
            "grid_gap": null,
            "grid_row": null,
            "grid_template_areas": null,
            "grid_template_columns": null,
            "grid_template_rows": null,
            "height": null,
            "justify_content": null,
            "justify_items": null,
            "left": null,
            "margin": null,
            "max_height": null,
            "max_width": null,
            "min_height": null,
            "min_width": null,
            "object_fit": null,
            "object_position": null,
            "order": null,
            "overflow": null,
            "overflow_x": null,
            "overflow_y": null,
            "padding": null,
            "right": null,
            "top": null,
            "visibility": null,
            "width": null
          }
        },
        "d1ef3a5e084f48cba4377920453ab99e": {
          "model_module": "@jupyter-widgets/base",
          "model_name": "LayoutModel",
          "model_module_version": "1.2.0",
          "state": {
            "_model_module": "@jupyter-widgets/base",
            "_model_module_version": "1.2.0",
            "_model_name": "LayoutModel",
            "_view_count": null,
            "_view_module": "@jupyter-widgets/base",
            "_view_module_version": "1.2.0",
            "_view_name": "LayoutView",
            "align_content": null,
            "align_items": null,
            "align_self": null,
            "border": null,
            "bottom": null,
            "display": null,
            "flex": null,
            "flex_flow": null,
            "grid_area": null,
            "grid_auto_columns": null,
            "grid_auto_flow": null,
            "grid_auto_rows": null,
            "grid_column": null,
            "grid_gap": null,
            "grid_row": null,
            "grid_template_areas": null,
            "grid_template_columns": null,
            "grid_template_rows": null,
            "height": null,
            "justify_content": null,
            "justify_items": null,
            "left": null,
            "margin": null,
            "max_height": null,
            "max_width": null,
            "min_height": null,
            "min_width": null,
            "object_fit": null,
            "object_position": null,
            "order": null,
            "overflow": null,
            "overflow_x": null,
            "overflow_y": null,
            "padding": null,
            "right": null,
            "top": null,
            "visibility": null,
            "width": null
          }
        },
        "d18326ddd48d438f8253c9d4b7783cd0": {
          "model_module": "@jupyter-widgets/controls",
          "model_name": "DescriptionStyleModel",
          "model_module_version": "1.5.0",
          "state": {
            "_model_module": "@jupyter-widgets/controls",
            "_model_module_version": "1.5.0",
            "_model_name": "DescriptionStyleModel",
            "_view_count": null,
            "_view_module": "@jupyter-widgets/base",
            "_view_module_version": "1.2.0",
            "_view_name": "StyleView",
            "description_width": ""
          }
        },
        "6392eddeb9bd441f985d59755436b129": {
          "model_module": "@jupyter-widgets/base",
          "model_name": "LayoutModel",
          "model_module_version": "1.2.0",
          "state": {
            "_model_module": "@jupyter-widgets/base",
            "_model_module_version": "1.2.0",
            "_model_name": "LayoutModel",
            "_view_count": null,
            "_view_module": "@jupyter-widgets/base",
            "_view_module_version": "1.2.0",
            "_view_name": "LayoutView",
            "align_content": null,
            "align_items": null,
            "align_self": null,
            "border": null,
            "bottom": null,
            "display": null,
            "flex": null,
            "flex_flow": null,
            "grid_area": null,
            "grid_auto_columns": null,
            "grid_auto_flow": null,
            "grid_auto_rows": null,
            "grid_column": null,
            "grid_gap": null,
            "grid_row": null,
            "grid_template_areas": null,
            "grid_template_columns": null,
            "grid_template_rows": null,
            "height": null,
            "justify_content": null,
            "justify_items": null,
            "left": null,
            "margin": null,
            "max_height": null,
            "max_width": null,
            "min_height": null,
            "min_width": null,
            "object_fit": null,
            "object_position": null,
            "order": null,
            "overflow": null,
            "overflow_x": null,
            "overflow_y": null,
            "padding": null,
            "right": null,
            "top": null,
            "visibility": null,
            "width": null
          }
        },
        "c07bf225525d41d69e8e657c15298521": {
          "model_module": "@jupyter-widgets/controls",
          "model_name": "ProgressStyleModel",
          "model_module_version": "1.5.0",
          "state": {
            "_model_module": "@jupyter-widgets/controls",
            "_model_module_version": "1.5.0",
            "_model_name": "ProgressStyleModel",
            "_view_count": null,
            "_view_module": "@jupyter-widgets/base",
            "_view_module_version": "1.2.0",
            "_view_name": "StyleView",
            "bar_color": null,
            "description_width": ""
          }
        },
        "8d73b5d33d7d4185868f7e7b5ced45cf": {
          "model_module": "@jupyter-widgets/base",
          "model_name": "LayoutModel",
          "model_module_version": "1.2.0",
          "state": {
            "_model_module": "@jupyter-widgets/base",
            "_model_module_version": "1.2.0",
            "_model_name": "LayoutModel",
            "_view_count": null,
            "_view_module": "@jupyter-widgets/base",
            "_view_module_version": "1.2.0",
            "_view_name": "LayoutView",
            "align_content": null,
            "align_items": null,
            "align_self": null,
            "border": null,
            "bottom": null,
            "display": null,
            "flex": null,
            "flex_flow": null,
            "grid_area": null,
            "grid_auto_columns": null,
            "grid_auto_flow": null,
            "grid_auto_rows": null,
            "grid_column": null,
            "grid_gap": null,
            "grid_row": null,
            "grid_template_areas": null,
            "grid_template_columns": null,
            "grid_template_rows": null,
            "height": null,
            "justify_content": null,
            "justify_items": null,
            "left": null,
            "margin": null,
            "max_height": null,
            "max_width": null,
            "min_height": null,
            "min_width": null,
            "object_fit": null,
            "object_position": null,
            "order": null,
            "overflow": null,
            "overflow_x": null,
            "overflow_y": null,
            "padding": null,
            "right": null,
            "top": null,
            "visibility": null,
            "width": null
          }
        },
        "444bfc3684cc48fd9f0a06abf41cccd2": {
          "model_module": "@jupyter-widgets/controls",
          "model_name": "DescriptionStyleModel",
          "model_module_version": "1.5.0",
          "state": {
            "_model_module": "@jupyter-widgets/controls",
            "_model_module_version": "1.5.0",
            "_model_name": "DescriptionStyleModel",
            "_view_count": null,
            "_view_module": "@jupyter-widgets/base",
            "_view_module_version": "1.2.0",
            "_view_name": "StyleView",
            "description_width": ""
          }
        },
        "6e1d62e2d8624e3cb68869e892dfcbb5": {
          "model_module": "@jupyter-widgets/controls",
          "model_name": "HBoxModel",
          "model_module_version": "1.5.0",
          "state": {
            "_dom_classes": [],
            "_model_module": "@jupyter-widgets/controls",
            "_model_module_version": "1.5.0",
            "_model_name": "HBoxModel",
            "_view_count": null,
            "_view_module": "@jupyter-widgets/controls",
            "_view_module_version": "1.5.0",
            "_view_name": "HBoxView",
            "box_style": "",
            "children": [
              "IPY_MODEL_153d1db9deba4ba284188dedb3d2b0b2",
              "IPY_MODEL_e84ad517623f48e7b33b6557b4ceac30",
              "IPY_MODEL_2841ed5ecc89411d8c90516802224a44"
            ],
            "layout": "IPY_MODEL_894d57026d6a496ba1ad8e69777f5f69"
          }
        },
        "153d1db9deba4ba284188dedb3d2b0b2": {
          "model_module": "@jupyter-widgets/controls",
          "model_name": "HTMLModel",
          "model_module_version": "1.5.0",
          "state": {
            "_dom_classes": [],
            "_model_module": "@jupyter-widgets/controls",
            "_model_module_version": "1.5.0",
            "_model_name": "HTMLModel",
            "_view_count": null,
            "_view_module": "@jupyter-widgets/controls",
            "_view_module_version": "1.5.0",
            "_view_name": "HTMLView",
            "description": "",
            "description_tooltip": null,
            "layout": "IPY_MODEL_9487bb723a6c4f90a65f6740ed5dffcf",
            "placeholder": "​",
            "style": "IPY_MODEL_277834a2042844bf9e6e0faa85dabb12",
            "value": "100%"
          }
        },
        "e84ad517623f48e7b33b6557b4ceac30": {
          "model_module": "@jupyter-widgets/controls",
          "model_name": "FloatProgressModel",
          "model_module_version": "1.5.0",
          "state": {
            "_dom_classes": [],
            "_model_module": "@jupyter-widgets/controls",
            "_model_module_version": "1.5.0",
            "_model_name": "FloatProgressModel",
            "_view_count": null,
            "_view_module": "@jupyter-widgets/controls",
            "_view_module_version": "1.5.0",
            "_view_name": "ProgressView",
            "bar_style": "success",
            "description": "",
            "description_tooltip": null,
            "layout": "IPY_MODEL_7d60cd6112c24cda8b6a26e8abd1b6a3",
            "max": 3,
            "min": 0,
            "orientation": "horizontal",
            "style": "IPY_MODEL_6483f3bb7c29452cafea185cd812e724",
            "value": 3
          }
        },
        "2841ed5ecc89411d8c90516802224a44": {
          "model_module": "@jupyter-widgets/controls",
          "model_name": "HTMLModel",
          "model_module_version": "1.5.0",
          "state": {
            "_dom_classes": [],
            "_model_module": "@jupyter-widgets/controls",
            "_model_module_version": "1.5.0",
            "_model_name": "HTMLModel",
            "_view_count": null,
            "_view_module": "@jupyter-widgets/controls",
            "_view_module_version": "1.5.0",
            "_view_name": "HTMLView",
            "description": "",
            "description_tooltip": null,
            "layout": "IPY_MODEL_257d23c7544a4cf4b82e7335f58f682d",
            "placeholder": "​",
            "style": "IPY_MODEL_b16679924c6e439a957f6dbb1d8b0ca0",
            "value": " 3/3 [00:01&lt;00:00,  1.97it/s]"
          }
        },
        "894d57026d6a496ba1ad8e69777f5f69": {
          "model_module": "@jupyter-widgets/base",
          "model_name": "LayoutModel",
          "model_module_version": "1.2.0",
          "state": {
            "_model_module": "@jupyter-widgets/base",
            "_model_module_version": "1.2.0",
            "_model_name": "LayoutModel",
            "_view_count": null,
            "_view_module": "@jupyter-widgets/base",
            "_view_module_version": "1.2.0",
            "_view_name": "LayoutView",
            "align_content": null,
            "align_items": null,
            "align_self": null,
            "border": null,
            "bottom": null,
            "display": null,
            "flex": null,
            "flex_flow": null,
            "grid_area": null,
            "grid_auto_columns": null,
            "grid_auto_flow": null,
            "grid_auto_rows": null,
            "grid_column": null,
            "grid_gap": null,
            "grid_row": null,
            "grid_template_areas": null,
            "grid_template_columns": null,
            "grid_template_rows": null,
            "height": null,
            "justify_content": null,
            "justify_items": null,
            "left": null,
            "margin": null,
            "max_height": null,
            "max_width": null,
            "min_height": null,
            "min_width": null,
            "object_fit": null,
            "object_position": null,
            "order": null,
            "overflow": null,
            "overflow_x": null,
            "overflow_y": null,
            "padding": null,
            "right": null,
            "top": null,
            "visibility": null,
            "width": null
          }
        },
        "9487bb723a6c4f90a65f6740ed5dffcf": {
          "model_module": "@jupyter-widgets/base",
          "model_name": "LayoutModel",
          "model_module_version": "1.2.0",
          "state": {
            "_model_module": "@jupyter-widgets/base",
            "_model_module_version": "1.2.0",
            "_model_name": "LayoutModel",
            "_view_count": null,
            "_view_module": "@jupyter-widgets/base",
            "_view_module_version": "1.2.0",
            "_view_name": "LayoutView",
            "align_content": null,
            "align_items": null,
            "align_self": null,
            "border": null,
            "bottom": null,
            "display": null,
            "flex": null,
            "flex_flow": null,
            "grid_area": null,
            "grid_auto_columns": null,
            "grid_auto_flow": null,
            "grid_auto_rows": null,
            "grid_column": null,
            "grid_gap": null,
            "grid_row": null,
            "grid_template_areas": null,
            "grid_template_columns": null,
            "grid_template_rows": null,
            "height": null,
            "justify_content": null,
            "justify_items": null,
            "left": null,
            "margin": null,
            "max_height": null,
            "max_width": null,
            "min_height": null,
            "min_width": null,
            "object_fit": null,
            "object_position": null,
            "order": null,
            "overflow": null,
            "overflow_x": null,
            "overflow_y": null,
            "padding": null,
            "right": null,
            "top": null,
            "visibility": null,
            "width": null
          }
        },
        "277834a2042844bf9e6e0faa85dabb12": {
          "model_module": "@jupyter-widgets/controls",
          "model_name": "DescriptionStyleModel",
          "model_module_version": "1.5.0",
          "state": {
            "_model_module": "@jupyter-widgets/controls",
            "_model_module_version": "1.5.0",
            "_model_name": "DescriptionStyleModel",
            "_view_count": null,
            "_view_module": "@jupyter-widgets/base",
            "_view_module_version": "1.2.0",
            "_view_name": "StyleView",
            "description_width": ""
          }
        },
        "7d60cd6112c24cda8b6a26e8abd1b6a3": {
          "model_module": "@jupyter-widgets/base",
          "model_name": "LayoutModel",
          "model_module_version": "1.2.0",
          "state": {
            "_model_module": "@jupyter-widgets/base",
            "_model_module_version": "1.2.0",
            "_model_name": "LayoutModel",
            "_view_count": null,
            "_view_module": "@jupyter-widgets/base",
            "_view_module_version": "1.2.0",
            "_view_name": "LayoutView",
            "align_content": null,
            "align_items": null,
            "align_self": null,
            "border": null,
            "bottom": null,
            "display": null,
            "flex": null,
            "flex_flow": null,
            "grid_area": null,
            "grid_auto_columns": null,
            "grid_auto_flow": null,
            "grid_auto_rows": null,
            "grid_column": null,
            "grid_gap": null,
            "grid_row": null,
            "grid_template_areas": null,
            "grid_template_columns": null,
            "grid_template_rows": null,
            "height": null,
            "justify_content": null,
            "justify_items": null,
            "left": null,
            "margin": null,
            "max_height": null,
            "max_width": null,
            "min_height": null,
            "min_width": null,
            "object_fit": null,
            "object_position": null,
            "order": null,
            "overflow": null,
            "overflow_x": null,
            "overflow_y": null,
            "padding": null,
            "right": null,
            "top": null,
            "visibility": null,
            "width": null
          }
        },
        "6483f3bb7c29452cafea185cd812e724": {
          "model_module": "@jupyter-widgets/controls",
          "model_name": "ProgressStyleModel",
          "model_module_version": "1.5.0",
          "state": {
            "_model_module": "@jupyter-widgets/controls",
            "_model_module_version": "1.5.0",
            "_model_name": "ProgressStyleModel",
            "_view_count": null,
            "_view_module": "@jupyter-widgets/base",
            "_view_module_version": "1.2.0",
            "_view_name": "StyleView",
            "bar_color": null,
            "description_width": ""
          }
        },
        "257d23c7544a4cf4b82e7335f58f682d": {
          "model_module": "@jupyter-widgets/base",
          "model_name": "LayoutModel",
          "model_module_version": "1.2.0",
          "state": {
            "_model_module": "@jupyter-widgets/base",
            "_model_module_version": "1.2.0",
            "_model_name": "LayoutModel",
            "_view_count": null,
            "_view_module": "@jupyter-widgets/base",
            "_view_module_version": "1.2.0",
            "_view_name": "LayoutView",
            "align_content": null,
            "align_items": null,
            "align_self": null,
            "border": null,
            "bottom": null,
            "display": null,
            "flex": null,
            "flex_flow": null,
            "grid_area": null,
            "grid_auto_columns": null,
            "grid_auto_flow": null,
            "grid_auto_rows": null,
            "grid_column": null,
            "grid_gap": null,
            "grid_row": null,
            "grid_template_areas": null,
            "grid_template_columns": null,
            "grid_template_rows": null,
            "height": null,
            "justify_content": null,
            "justify_items": null,
            "left": null,
            "margin": null,
            "max_height": null,
            "max_width": null,
            "min_height": null,
            "min_width": null,
            "object_fit": null,
            "object_position": null,
            "order": null,
            "overflow": null,
            "overflow_x": null,
            "overflow_y": null,
            "padding": null,
            "right": null,
            "top": null,
            "visibility": null,
            "width": null
          }
        },
        "b16679924c6e439a957f6dbb1d8b0ca0": {
          "model_module": "@jupyter-widgets/controls",
          "model_name": "DescriptionStyleModel",
          "model_module_version": "1.5.0",
          "state": {
            "_model_module": "@jupyter-widgets/controls",
            "_model_module_version": "1.5.0",
            "_model_name": "DescriptionStyleModel",
            "_view_count": null,
            "_view_module": "@jupyter-widgets/base",
            "_view_module_version": "1.2.0",
            "_view_name": "StyleView",
            "description_width": ""
          }
        }
      }
    }
  },
  "nbformat": 4,
  "nbformat_minor": 0
}